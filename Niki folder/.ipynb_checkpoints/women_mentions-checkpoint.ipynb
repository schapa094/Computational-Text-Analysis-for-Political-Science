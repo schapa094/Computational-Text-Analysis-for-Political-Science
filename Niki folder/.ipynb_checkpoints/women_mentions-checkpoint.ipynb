{
 "cells": [
  {
   "cell_type": "code",
   "execution_count": null,
   "metadata": {
    "collapsed": true
   },
   "outputs": [],
   "source": [
    "#we want to start with a single string object - once we write sth we like, we scale up \n",
    "s1=\"Provides for the enforcement of all provisions of law that impose sanctions against countries engaged in gross violations of human rights and that support terrorism against Iraq. Calls on the President to seek multilateral cooperation to: (1) deny dangerous technologies to Iraq; and\"\n",
    "print(s1)"
   ]
  },
  {
   "cell_type": "code",
   "execution_count": null,
   "metadata": {
    "collapsed": true
   },
   "outputs": [],
   "source": [
    "# we define a list of women-related words - we put in Iraq. to make sure the test works (we will drop it later)\n",
    "female_dict=[\"woman\",\"women\",\"female\",\"girl\",\"girls\",\"Iraq.\"]"
   ]
  },
  {
   "cell_type": "code",
   "execution_count": null,
   "metadata": {
    "collapsed": true
   },
   "outputs": [],
   "source": [
    "# empty list for all women-related things mentions\n",
    "all_women=[]\n",
    "\n",
    "# we will loop over our femal dict list -> each time, the list comprehension will loop over s1 and add to all_women\n",
    "# all instances in which that particular word from female dictionary was found.  Note that .extend takes the elements \n",
    "# of a new list and adds them to an existing list as individual elements, not as new list-element (producing nested lists)\n",
    "# as .append would - experiment with .append! \n",
    "\n",
    "for word in female_dict:\n",
    "    all_women.extend([x for x in s1.split() if x==word])"
   ]
  },
  {
   "cell_type": "code",
   "execution_count": null,
   "metadata": {
    "collapsed": true
   },
   "outputs": [],
   "source": [
    "print(\"I found \", len(all_women), \"cases of women mentioned: \", all_women)"
   ]
  },
  {
   "cell_type": "code",
   "execution_count": null,
   "metadata": {
    "collapsed": true
   },
   "outputs": [],
   "source": [
    "# now that we know this sort of works, let's fine-tune, specifically, let's clean up and lower text\n",
    "# I will not throw out stop words since for this example I do not care that text contains them\n",
    "\n",
    "# remember you need regular expressions loaded for some of the commands!\n",
    "\n",
    "import re\n",
    "\n",
    "def clean_sanctions(sometextasargument):\n",
    "    # note that whatever we pass to function as argument when invoked will become assigned to object sometextasargument, \n",
    "    # will then be assigned to object text which will keep changing until we assign it to object sometextasoutput\n",
    "    text=sometextasargument.replace('\\n\\n','')\n",
    "    text=text.lower()\n",
    "    text= re.sub('[^A-Za-z0-9]+', ' ', text)\n",
    "    text=re.sub(r'[0-9]+', \" \", text)     \n",
    "    sometextasoutput=text\n",
    "    # finally, we ask the function returns what it did:  \n",
    "    return (sometextasoutput)"
   ]
  },
  {
   "cell_type": "code",
   "execution_count": null,
   "metadata": {
    "collapsed": true
   },
   "outputs": [],
   "source": [
    "# let's check what fn returns by passing to it the string object s1\n",
    "# a remark on the function - I could have used \"text\" throughout so no \"sometextasargument\", \"sometextasoutput\"\n",
    "# to the same effect - make sure you see that this works too\n",
    "# note that unless you tell the fn what you want returned, it will perform the things you said and return...nothing! so \"return!\""
   ]
  },
  {
   "cell_type": "code",
   "execution_count": null,
   "metadata": {
    "collapsed": true
   },
   "outputs": [],
   "source": [
    "print(clean_sanctions(s1))"
   ]
  },
  {
   "cell_type": "code",
   "execution_count": null,
   "metadata": {
    "collapsed": true
   },
   "outputs": [],
   "source": [
    "# note that now I should specify my dictionary list again so that it contains only lower case words with no punctuation:\n",
    "\n",
    "female_dict=[\"woman\",\"women\",\"female\",\"girl\",\"girls\",\"iraq\"]\n",
    "\n",
    "all_women=[]\n",
    "\n",
    "# note also that now I split the output of the function, clean_sanctions(s1), and not the original string s1!\n",
    "\n",
    "for word in female_dict:\n",
    "    all_women.extend([x for x in clean_sanctions(s1).split() if x==word])\n",
    "print(\"I found \", len(all_women), \"cases of women mentioned: \", all_women)\n",
    "\n",
    "#you will notice that now I find more - because I cleaned up the text beforehand"
   ]
  },
  {
   "cell_type": "code",
   "execution_count": null,
   "metadata": {
    "collapsed": true
   },
   "outputs": [],
   "source": [
    "import csv\n",
    "\n",
    "tsv_file = open(\"/Users/ash/Downloads/sascat_excerpt.tsv\")\n",
    "read_tsv = csv.reader(tsv_file, delimiter=\"\\t\")\n",
    "all_lines=[]\n",
    "for line in read_tsv:\n",
    "    print(line)\n",
    "    all_lines.append(line)\n",
    "tsv_file.close() # we see here each row is now saved as a list, in a list: all_lines"
   ]
  },
  {
   "cell_type": "code",
   "execution_count": null,
   "metadata": {
    "collapsed": true
   },
   "outputs": [],
   "source": [
    "#let's look at where text is, row 2, cell 11:\n",
    "\n",
    "all_lines[1][10]"
   ]
  },
  {
   "cell_type": "code",
   "execution_count": null,
   "metadata": {
    "collapsed": true
   },
   "outputs": [],
   "source": [
    "all_lines[0][10]# we do not need top row - it has datanames (after pop, all_lines[0][10] will produce text above, formerly all_lines[1][10])\n",
    "all_lines.pop(0)"
   ]
  },
  {
   "cell_type": "code",
   "execution_count": null,
   "metadata": {
    "collapsed": true
   },
   "outputs": [],
   "source": [
    "#let's open a new file, then a loop, then write each line as we process the relevant cell and close\n",
    "#f1 = open(\"sascat_women.txt\",\"w\",encoding=\"utf8\") -> f1.write(\"something\") in a loop, with lines and tabs,\n",
    "#I will also write a new function:\n",
    "#note where argument appears\n",
    "# and then f1.close(), let's try"
   ]
  },
  {
   "cell_type": "code",
   "execution_count": null,
   "metadata": {
    "collapsed": true
   },
   "outputs": [],
   "source": [
    "#and note that I used y in function now to avoid clash with x I use in the bigger loop\n",
    "#and note that what I want returned is a string of the number of times mentioned and the list with mentions\n",
    "\n",
    "def women_mentions(argument):\n",
    "    female_dict=[\"woman\",\"women\",\"female\",\"girl\",\"girls\"]\n",
    "    all_women=[]\n",
    "    for word in female_dict:\n",
    "        all_women.extend([y for y in clean_sanctions(argument).split() if y==word])\n",
    "    return (str(len(all_women)),all_women)"
   ]
  },
  {
   "cell_type": "code",
   "execution_count": null,
   "metadata": {
    "collapsed": true
   },
   "outputs": [],
   "source": [
    "#good to check\n",
    "print(women_mentions(all_lines[0][10]))"
   ]
  },
  {
   "cell_type": "code",
   "execution_count": null,
   "metadata": {
    "collapsed": true
   },
   "outputs": [],
   "source": [
    "f1 = open(\"sascat_women.txt\",\"w\",encoding=\"utf8\")\n",
    "\n",
    "# remember all_lines is the big list and now x will be the nested list (row) on each iteration\n",
    "# we need to save: id-snippet identifier, and the product of the search for women in 11th column\n",
    "\n",
    "for x in all_lines:\n",
    "    f1.write(x[0]+\"\\t\"+str(women_mentions(x[10]))+\"\\n\")\n",
    "\n",
    "f1.close()"
   ]
  },
  {
   "cell_type": "code",
   "execution_count": null,
   "metadata": {
    "collapsed": true
   },
   "outputs": [],
   "source": [
    "#ok so we are done.  Note that file has no variable names, you can change script to add this as first row of file\n",
    "#when writing or you can add manually later\n",
    "#note that file will have an extra, blank new line at the end - we always end with +\"\\n\" - this is no big deal\n",
    "#it can be avoided if you check for wether you are near the end of your list - but too much work for paltry reward\n",
    "\n"
   ]
  }
 ],
 "metadata": {
  "kernelspec": {
   "display_name": "Python 3",
   "language": "python",
   "name": "python3"
  },
  "language_info": {
   "codemirror_mode": {
    "name": "ipython",
    "version": 3
   },
   "file_extension": ".py",
   "mimetype": "text/x-python",
   "name": "python",
   "nbconvert_exporter": "python",
   "pygments_lexer": "ipython3",
   "version": "3.6.8"
  }
 },
 "nbformat": 4,
 "nbformat_minor": 4
}
