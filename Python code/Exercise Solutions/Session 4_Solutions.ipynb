{
 "cells": [
  {
   "cell_type": "markdown",
   "metadata": {},
   "source": [
    "# Welcome to Session 4"
   ]
  },
  {
   "cell_type": "markdown",
   "metadata": {},
   "source": [
    "## Session Outline\n",
    "\n",
    "- loading data in different ways\n",
    "- manipulating data structures\n",
    "- removing stopwords\n",
    "- Building a cleaning Pipeline"
   ]
  },
  {
   "cell_type": "markdown",
   "metadata": {},
   "source": [
    "# Loading Data"
   ]
  },
  {
   "cell_type": "markdown",
   "metadata": {},
   "source": [
    "### What is the difference between\n",
    "- read()\n",
    "- readlines()\n",
    "- readline()"
   ]
  },
  {
   "cell_type": "code",
   "execution_count": 1,
   "metadata": {},
   "outputs": [
    {
     "data": {
      "text/plain": [
       "'I am happy to join with you today in what will go down in history as the greatest demonstration for freedom in the history of our nation.\\n\\nFive score years ago, a great American, in whose symbolic shadow we stand today, signed the Emancipation Proclamation. This momentous decree came as a great beacon light of hope to millions of Negro slaves who had been seared in the flames of withering injustice. It came as a joyous daybreak to end the long night of their captivity.\\n\\nBut one hundred years later, the Negro still is not free. One hundred years later, the life of the Negro is still sadly crippled by the manacles of segregation and the chains of discrimination. One hundred years later, the Negro lives on a lonely island of poverty in the midst of a vast ocean of material prosperity. One hundred years later, the Negro is still languished in the corners of American society and finds himself an exile in his own land. And so we\\'ve come here today to dramatize a shameful condition.\\n\\nIn a sense we\\'ve come to our nation\\'s capital to cash a check. When the architects of our republic wrote the magnificent words of the Constitution and the Declaration of Independence, they were signing a promissory note to which every American was to fall heir. This note was a promise that all men, yes, black men as well as white men, would be guaranteed the \"unalienable Rights\" of \"Life, Liberty and the pursuit of Happiness.\" It is obvious today that America has defaulted on this promissory note, insofar as her citizens of color are concerned. Instead of honoring this sacred obligation, America has given the Negro people a bad check, a check which has come back marked \"insufficient funds.\"\\n\\nBut we refuse to believe that the bank of justice is bankrupt. We refuse to believe that there are insufficient funds in the great vaults of opportunity of this nation. And so, we\\'ve come to cash this check, a check that will give us upon demand the riches of freedom and the security of justice.\\n\\nWe have also come to this hallowed spot to remind America of the fierce urgency of Now. This is no time to engage in the luxury of cooling off or to take the tranquilizing drug of gradualism. Now is the time to make real the promises of democracy. Now is the time to rise from the dark and desolate valley of segregation to the sunlit path of racial justice. Now is the time to lift our nation from the quicksands of racial injustice to the solid rock of brotherhood. Now is the time to make justice a reality for all of God\\'s children.\\n\\nIt would be fatal for the nation to overlook the urgency of the moment. This sweltering summer of the Negro\\'s legitimate discontent will not pass until there is an invigorating autumn of freedom and equality. Nineteen sixty-three is not an end, but a beginning. And those who hope that the Negro needed to blow off steam and will now be content will have a rude awakening if the nation returns to business as usual. And there will be neither rest nor tranquility in America until the Negro is granted his citizenship rights. The whirlwinds of revolt will continue to shake the foundations of our nation until the bright day of justice emerges.\\n\\nBut there is something that I must say to my people, who stand on the warm threshold which leads into the palace of justice: In the process of gaining our rightful place, we must not be guilty of wrongful deeds. Let us not seek to satisfy our thirst for freedom by drinking from the cup of bitterness and hatred. We must forever conduct our struggle on the high plane of dignity and discipline. We must not allow our creative protest to degenerate into physical violence. Again and again, we must rise to the majestic heights of meeting physical force with soul force.\\n\\nThe marvelous new militancy which has engulfed the Negro community must not lead us to a distrust of all white people, for many of our white brothers, as evidenced by their presence here today, have come to realize that their destiny is tied up with our destiny. And they have come to realize that their freedom is inextricably bound to our freedom.\\n\\nWe cannot walk alone.\\n\\nAnd as we walk, we must make the pledge that we shall always march ahead.\\n\\nWe cannot turn back.\\n\\nThere are those who are asking the devotees of civil rights, \"When will you be satisfied?\" We can never be satisfied as long as the Negro is the victim of the unspeakable horrors of police brutality. We can never be satisfied as long as our bodies, heavy with the fatigue of travel, cannot gain lodging in the motels of the highways and the hotels of the cities. **We cannot be satisfied as long as the negro\\'s basic mobility is from a smaller ghetto to a larger one. We can never be satisfied as long as our children are stripped of their self-hood and robbed of their dignity by signs stating: \"For Whites Only.\"** We cannot be satisfied as long as a Negro in Mississippi cannot vote and a Negro in New York believes he has nothing for which to vote. No, no, we are not satisfied, and we will not be satisfied until \"justice rolls down like waters, and righteousness like a mighty stream.\"1\\n\\nI am not unmindful that some of you have come here out of great trials and tribulations. Some of you have come fresh from narrow jail cells. And some of you have come from areas where your quest -- quest for freedom left you battered by the storms of persecution and staggered by the winds of police brutality. You have been the veterans of creative suffering. Continue to work with the faith that unearned suffering is redemptive. Go back to Mississippi, go back to Alabama, go back to South Carolina, go back to Georgia, go back to Louisiana, go back to the slums and ghettos of our northern cities, knowing that somehow this situation can and will be changed.\\n\\nLet us not wallow in the valley of despair, I say to you today, my friends.\\n\\nAnd so even though we face the difficulties of today and tomorrow, I still have a dream. It is a dream deeply rooted in the American dream.\\n\\nI have a dream that one day this nation will rise up and live out the true meaning of its creed: \"We hold these truths to be self-evident, that all men are created equal.\"\\n\\nI have a dream that one day on the red hills of Georgia, the sons of former slaves and the sons of former slave owners will be able to sit down together at the table of brotherhood.\\n\\nI have a dream that one day even the state of Mississippi, a state sweltering with the heat of injustice, sweltering with the heat of oppression, will be transformed into an oasis of freedom and justice.\\n\\nI have a dream that my four little children will one day live in a nation where they will not be judged by the color of their skin but by the content of their character.\\n\\nI have a dream today!\\n\\nI have a dream that one day, down in Alabama, with its vicious racists, with its governor having his lips dripping with the words of \"interposition\" and \"nullification\" -- one day right there in Alabama little black boys and black girls will be able to join hands with little white boys and white girls as sisters and brothers.\\n\\nI have a dream today!\\n\\nI have a dream that one day every valley shall be exalted, and every hill and mountain shall be made low, the rough places will be made plain, and the crooked places will be made straight; \"and the glory of the Lord shall be revealed and all flesh shall see it together.\"2\\n\\nThis is our hope, and this is the faith that I go back to the South with.\\n\\nWith this faith, we will be able to hew out of the mountain of despair a stone of hope. With this faith, we will be able to transform the jangling discords of our nation into a beautiful symphony of brotherhood. With this faith, we will be able to work together, to pray together, to struggle together, to go to jail together, to stand up for freedom together, knowing that we will be free one day.\\n\\nAnd this will be the day -- this will be the day when all of God\\'s children will be able to sing with new meaning:\\n\\nMy country \\'tis of thee, sweet land of liberty, of thee I sing. Land where my fathers died, land of the Pilgrim\\'s pride,    From every mountainside, let freedom ring!\\n\\nAnd if America is to be a great nation, this must become true.\\n\\nAnd so let freedom ring from the prodigious hilltops of New Hampshire.\\n\\nLet freedom ring from the mighty mountains of New York.\\n\\nLet freedom ring from the heightening Alleghenies of Pennsylvania.\\n\\nLet freedom ring from the snow-capped Rockies of Colorado.\\n\\nLet freedom ring from the curvaceous slopes of California.\\n\\nBut not only that:\\n\\nLet freedom ring from Stone Mountain of Georgia.\\n\\nLet freedom ring from Lookout Mountain of Tennessee.\\n\\nLet freedom ring from every hill and molehill of Mississippi.\\n\\nFrom every mountainside, let freedom ring\\n\\nAnd when this happens, and when we allow freedom ring, when we let it ring from every village and every hamlet, from every state and every city, we will be able to speed up that day when all of God\\'s children, black men and white men, Jews and Gentiles, Protestants and Catholics, will be able to join hands and sing in the words of the old Negro spiritual:\\n\\nFree at last! Free at last!\\n\\nThank God Almighty, we are free at last!3'"
      ]
     },
     "execution_count": 1,
     "metadata": {},
     "output_type": "execute_result"
    }
   ],
   "source": [
    "file1 = open('/Users/Ashrakat/Dropbox/University/Oxford/Jobs/Teaching/Text Analysis/code/Basics-of-Text-Analysis-for-Political-Science/Data/ihaveadream.txt', 'r')\n",
    "file=file1.read()\n",
    "file\n"
   ]
  },
  {
   "cell_type": "code",
   "execution_count": 2,
   "metadata": {},
   "outputs": [
    {
     "data": {
      "text/plain": [
       "'I am happy to join with you today in what will go down in history as the greatest demonstration for freedom in the history of our nation.\\n'"
      ]
     },
     "execution_count": 2,
     "metadata": {},
     "output_type": "execute_result"
    }
   ],
   "source": [
    "file1 = open('/Users/Ashrakat/Dropbox/University/Oxford/Jobs/Teaching/Text Analysis/code/Basics-of-Text-Analysis-for-Political-Science/Data/ihaveadream.txt', 'r')\n",
    "file1.readline()"
   ]
  },
  {
   "cell_type": "code",
   "execution_count": 3,
   "metadata": {},
   "outputs": [
    {
     "data": {
      "text/plain": [
       "['\\n',\n",
       " 'Five score years ago, a great American, in whose symbolic shadow we stand today, signed the Emancipation Proclamation. This momentous decree came as a great beacon light of hope to millions of Negro slaves who had been seared in the flames of withering injustice. It came as a joyous daybreak to end the long night of their captivity.\\n',\n",
       " '\\n',\n",
       " \"But one hundred years later, the Negro still is not free. One hundred years later, the life of the Negro is still sadly crippled by the manacles of segregation and the chains of discrimination. One hundred years later, the Negro lives on a lonely island of poverty in the midst of a vast ocean of material prosperity. One hundred years later, the Negro is still languished in the corners of American society and finds himself an exile in his own land. And so we've come here today to dramatize a shameful condition.\\n\",\n",
       " '\\n',\n",
       " 'In a sense we\\'ve come to our nation\\'s capital to cash a check. When the architects of our republic wrote the magnificent words of the Constitution and the Declaration of Independence, they were signing a promissory note to which every American was to fall heir. This note was a promise that all men, yes, black men as well as white men, would be guaranteed the \"unalienable Rights\" of \"Life, Liberty and the pursuit of Happiness.\" It is obvious today that America has defaulted on this promissory note, insofar as her citizens of color are concerned. Instead of honoring this sacred obligation, America has given the Negro people a bad check, a check which has come back marked \"insufficient funds.\"\\n',\n",
       " '\\n',\n",
       " \"But we refuse to believe that the bank of justice is bankrupt. We refuse to believe that there are insufficient funds in the great vaults of opportunity of this nation. And so, we've come to cash this check, a check that will give us upon demand the riches of freedom and the security of justice.\\n\",\n",
       " '\\n',\n",
       " \"We have also come to this hallowed spot to remind America of the fierce urgency of Now. This is no time to engage in the luxury of cooling off or to take the tranquilizing drug of gradualism. Now is the time to make real the promises of democracy. Now is the time to rise from the dark and desolate valley of segregation to the sunlit path of racial justice. Now is the time to lift our nation from the quicksands of racial injustice to the solid rock of brotherhood. Now is the time to make justice a reality for all of God's children.\\n\",\n",
       " '\\n',\n",
       " \"It would be fatal for the nation to overlook the urgency of the moment. This sweltering summer of the Negro's legitimate discontent will not pass until there is an invigorating autumn of freedom and equality. Nineteen sixty-three is not an end, but a beginning. And those who hope that the Negro needed to blow off steam and will now be content will have a rude awakening if the nation returns to business as usual. And there will be neither rest nor tranquility in America until the Negro is granted his citizenship rights. The whirlwinds of revolt will continue to shake the foundations of our nation until the bright day of justice emerges.\\n\",\n",
       " '\\n',\n",
       " 'But there is something that I must say to my people, who stand on the warm threshold which leads into the palace of justice: In the process of gaining our rightful place, we must not be guilty of wrongful deeds. Let us not seek to satisfy our thirst for freedom by drinking from the cup of bitterness and hatred. We must forever conduct our struggle on the high plane of dignity and discipline. We must not allow our creative protest to degenerate into physical violence. Again and again, we must rise to the majestic heights of meeting physical force with soul force.\\n',\n",
       " '\\n',\n",
       " 'The marvelous new militancy which has engulfed the Negro community must not lead us to a distrust of all white people, for many of our white brothers, as evidenced by their presence here today, have come to realize that their destiny is tied up with our destiny. And they have come to realize that their freedom is inextricably bound to our freedom.\\n',\n",
       " '\\n',\n",
       " 'We cannot walk alone.\\n',\n",
       " '\\n',\n",
       " 'And as we walk, we must make the pledge that we shall always march ahead.\\n',\n",
       " '\\n',\n",
       " 'We cannot turn back.\\n',\n",
       " '\\n',\n",
       " 'There are those who are asking the devotees of civil rights, \"When will you be satisfied?\" We can never be satisfied as long as the Negro is the victim of the unspeakable horrors of police brutality. We can never be satisfied as long as our bodies, heavy with the fatigue of travel, cannot gain lodging in the motels of the highways and the hotels of the cities. **We cannot be satisfied as long as the negro\\'s basic mobility is from a smaller ghetto to a larger one. We can never be satisfied as long as our children are stripped of their self-hood and robbed of their dignity by signs stating: \"For Whites Only.\"** We cannot be satisfied as long as a Negro in Mississippi cannot vote and a Negro in New York believes he has nothing for which to vote. No, no, we are not satisfied, and we will not be satisfied until \"justice rolls down like waters, and righteousness like a mighty stream.\"1\\n',\n",
       " '\\n',\n",
       " 'I am not unmindful that some of you have come here out of great trials and tribulations. Some of you have come fresh from narrow jail cells. And some of you have come from areas where your quest -- quest for freedom left you battered by the storms of persecution and staggered by the winds of police brutality. You have been the veterans of creative suffering. Continue to work with the faith that unearned suffering is redemptive. Go back to Mississippi, go back to Alabama, go back to South Carolina, go back to Georgia, go back to Louisiana, go back to the slums and ghettos of our northern cities, knowing that somehow this situation can and will be changed.\\n',\n",
       " '\\n',\n",
       " 'Let us not wallow in the valley of despair, I say to you today, my friends.\\n',\n",
       " '\\n',\n",
       " 'And so even though we face the difficulties of today and tomorrow, I still have a dream. It is a dream deeply rooted in the American dream.\\n',\n",
       " '\\n',\n",
       " 'I have a dream that one day this nation will rise up and live out the true meaning of its creed: \"We hold these truths to be self-evident, that all men are created equal.\"\\n',\n",
       " '\\n',\n",
       " 'I have a dream that one day on the red hills of Georgia, the sons of former slaves and the sons of former slave owners will be able to sit down together at the table of brotherhood.\\n',\n",
       " '\\n',\n",
       " 'I have a dream that one day even the state of Mississippi, a state sweltering with the heat of injustice, sweltering with the heat of oppression, will be transformed into an oasis of freedom and justice.\\n',\n",
       " '\\n',\n",
       " 'I have a dream that my four little children will one day live in a nation where they will not be judged by the color of their skin but by the content of their character.\\n',\n",
       " '\\n',\n",
       " 'I have a dream today!\\n',\n",
       " '\\n',\n",
       " 'I have a dream that one day, down in Alabama, with its vicious racists, with its governor having his lips dripping with the words of \"interposition\" and \"nullification\" -- one day right there in Alabama little black boys and black girls will be able to join hands with little white boys and white girls as sisters and brothers.\\n',\n",
       " '\\n',\n",
       " 'I have a dream today!\\n',\n",
       " '\\n',\n",
       " 'I have a dream that one day every valley shall be exalted, and every hill and mountain shall be made low, the rough places will be made plain, and the crooked places will be made straight; \"and the glory of the Lord shall be revealed and all flesh shall see it together.\"2\\n',\n",
       " '\\n',\n",
       " 'This is our hope, and this is the faith that I go back to the South with.\\n',\n",
       " '\\n',\n",
       " 'With this faith, we will be able to hew out of the mountain of despair a stone of hope. With this faith, we will be able to transform the jangling discords of our nation into a beautiful symphony of brotherhood. With this faith, we will be able to work together, to pray together, to struggle together, to go to jail together, to stand up for freedom together, knowing that we will be free one day.\\n',\n",
       " '\\n',\n",
       " \"And this will be the day -- this will be the day when all of God's children will be able to sing with new meaning:\\n\",\n",
       " '\\n',\n",
       " \"My country 'tis of thee, sweet land of liberty, of thee I sing. Land where my fathers died, land of the Pilgrim's pride,    From every mountainside, let freedom ring!\\n\",\n",
       " '\\n',\n",
       " 'And if America is to be a great nation, this must become true.\\n',\n",
       " '\\n',\n",
       " 'And so let freedom ring from the prodigious hilltops of New Hampshire.\\n',\n",
       " '\\n',\n",
       " 'Let freedom ring from the mighty mountains of New York.\\n',\n",
       " '\\n',\n",
       " 'Let freedom ring from the heightening Alleghenies of Pennsylvania.\\n',\n",
       " '\\n',\n",
       " 'Let freedom ring from the snow-capped Rockies of Colorado.\\n',\n",
       " '\\n',\n",
       " 'Let freedom ring from the curvaceous slopes of California.\\n',\n",
       " '\\n',\n",
       " 'But not only that:\\n',\n",
       " '\\n',\n",
       " 'Let freedom ring from Stone Mountain of Georgia.\\n',\n",
       " '\\n',\n",
       " 'Let freedom ring from Lookout Mountain of Tennessee.\\n',\n",
       " '\\n',\n",
       " 'Let freedom ring from every hill and molehill of Mississippi.\\n',\n",
       " '\\n',\n",
       " 'From every mountainside, let freedom ring\\n',\n",
       " '\\n',\n",
       " \"And when this happens, and when we allow freedom ring, when we let it ring from every village and every hamlet, from every state and every city, we will be able to speed up that day when all of God's children, black men and white men, Jews and Gentiles, Protestants and Catholics, will be able to join hands and sing in the words of the old Negro spiritual:\\n\",\n",
       " '\\n',\n",
       " 'Free at last! Free at last!\\n',\n",
       " '\\n',\n",
       " 'Thank God Almighty, we are free at last!3']"
      ]
     },
     "execution_count": 3,
     "metadata": {},
     "output_type": "execute_result"
    }
   ],
   "source": [
    "file1.readlines()"
   ]
  },
  {
   "cell_type": "markdown",
   "metadata": {},
   "source": [
    "## Context manager\n",
    "\n",
    "use this instead open and close\n",
    "\n"
   ]
  },
  {
   "cell_type": "code",
   "execution_count": 4,
   "metadata": {},
   "outputs": [
    {
     "name": "stdout",
     "output_type": "stream",
     "text": [
      "I am happy to join with you today in what will go down in history as the greatest demonstration for freedom in the history of our nation.\n",
      "\n",
      "Five score years ago, a great American, in whose symbolic shadow we stand today, signed the Emancipation Proclamation. This momentous decree came as a great beacon light of hope to millions of Negro slaves who had been seared in the flames of withering injustice. It came as a joyous daybreak to end the long night of their captivity.\n",
      "\n",
      "But one hundred years later, the Negro still is not free. One hundred years later, the life of the Negro is still sadly crippled by the manacles of segregation and the chains of discrimination. One hundred years later, the Negro lives on a lonely island of poverty in the midst of a vast ocean of material prosperity. One hundred years later, the Negro is still languished in the corners of American society and finds himself an exile in his own land. And so we've come here today to dramatize a shameful condition.\n",
      "\n",
      "In a sense we've come to our nation's capital to cash a check. When the architects of our republic wrote the magnificent words of the Constitution and the Declaration of Independence, they were signing a promissory note to which every American was to fall heir. This note was a promise that all men, yes, black men as well as white men, would be guaranteed the \"unalienable Rights\" of \"Life, Liberty and the pursuit of Happiness.\" It is obvious today that America has defaulted on this promissory note, insofar as her citizens of color are concerned. Instead of honoring this sacred obligation, America has given the Negro people a bad check, a check which has come back marked \"insufficient funds.\"\n",
      "\n",
      "But we refuse to believe that the bank of justice is bankrupt. We refuse to believe that there are insufficient funds in the great vaults of opportunity of this nation. And so, we've come to cash this check, a check that will give us upon demand the riches of freedom and the security of justice.\n",
      "\n",
      "We have also come to this hallowed spot to remind America of the fierce urgency of Now. This is no time to engage in the luxury of cooling off or to take the tranquilizing drug of gradualism. Now is the time to make real the promises of democracy. Now is the time to rise from the dark and desolate valley of segregation to the sunlit path of racial justice. Now is the time to lift our nation from the quicksands of racial injustice to the solid rock of brotherhood. Now is the time to make justice a reality for all of God's children.\n",
      "\n",
      "It would be fatal for the nation to overlook the urgency of the moment. This sweltering summer of the Negro's legitimate discontent will not pass until there is an invigorating autumn of freedom and equality. Nineteen sixty-three is not an end, but a beginning. And those who hope that the Negro needed to blow off steam and will now be content will have a rude awakening if the nation returns to business as usual. And there will be neither rest nor tranquility in America until the Negro is granted his citizenship rights. The whirlwinds of revolt will continue to shake the foundations of our nation until the bright day of justice emerges.\n",
      "\n",
      "But there is something that I must say to my people, who stand on the warm threshold which leads into the palace of justice: In the process of gaining our rightful place, we must not be guilty of wrongful deeds. Let us not seek to satisfy our thirst for freedom by drinking from the cup of bitterness and hatred. We must forever conduct our struggle on the high plane of dignity and discipline. We must not allow our creative protest to degenerate into physical violence. Again and again, we must rise to the majestic heights of meeting physical force with soul force.\n",
      "\n",
      "The marvelous new militancy which has engulfed the Negro community must not lead us to a distrust of all white people, for many of our white brothers, as evidenced by their presence here today, have come to realize that their destiny is tied up with our destiny. And they have come to realize that their freedom is inextricably bound to our freedom.\n",
      "\n",
      "We cannot walk alone.\n",
      "\n",
      "And as we walk, we must make the pledge that we shall always march ahead.\n",
      "\n",
      "We cannot turn back.\n",
      "\n",
      "There are those who are asking the devotees of civil rights, \"When will you be satisfied?\" We can never be satisfied as long as the Negro is the victim of the unspeakable horrors of police brutality. We can never be satisfied as long as our bodies, heavy with the fatigue of travel, cannot gain lodging in the motels of the highways and the hotels of the cities. **We cannot be satisfied as long as the negro's basic mobility is from a smaller ghetto to a larger one. We can never be satisfied as long as our children are stripped of their self-hood and robbed of their dignity by signs stating: \"For Whites Only.\"** We cannot be satisfied as long as a Negro in Mississippi cannot vote and a Negro in New York believes he has nothing for which to vote. No, no, we are not satisfied, and we will not be satisfied until \"justice rolls down like waters, and righteousness like a mighty stream.\"1\n",
      "\n",
      "I am not unmindful that some of you have come here out of great trials and tribulations. Some of you have come fresh from narrow jail cells. And some of you have come from areas where your quest -- quest for freedom left you battered by the storms of persecution and staggered by the winds of police brutality. You have been the veterans of creative suffering. Continue to work with the faith that unearned suffering is redemptive. Go back to Mississippi, go back to Alabama, go back to South Carolina, go back to Georgia, go back to Louisiana, go back to the slums and ghettos of our northern cities, knowing that somehow this situation can and will be changed.\n",
      "\n",
      "Let us not wallow in the valley of despair, I say to you today, my friends.\n",
      "\n",
      "And so even though we face the difficulties of today and tomorrow, I still have a dream. It is a dream deeply rooted in the American dream.\n",
      "\n",
      "I have a dream that one day this nation will rise up and live out the true meaning of its creed: \"We hold these truths to be self-evident, that all men are created equal.\"\n",
      "\n",
      "I have a dream that one day on the red hills of Georgia, the sons of former slaves and the sons of former slave owners will be able to sit down together at the table of brotherhood.\n",
      "\n",
      "I have a dream that one day even the state of Mississippi, a state sweltering with the heat of injustice, sweltering with the heat of oppression, will be transformed into an oasis of freedom and justice.\n",
      "\n",
      "I have a dream that my four little children will one day live in a nation where they will not be judged by the color of their skin but by the content of their character.\n",
      "\n",
      "I have a dream today!\n",
      "\n",
      "I have a dream that one day, down in Alabama, with its vicious racists, with its governor having his lips dripping with the words of \"interposition\" and \"nullification\" -- one day right there in Alabama little black boys and black girls will be able to join hands with little white boys and white girls as sisters and brothers.\n",
      "\n",
      "I have a dream today!\n",
      "\n",
      "I have a dream that one day every valley shall be exalted, and every hill and mountain shall be made low, the rough places will be made plain, and the crooked places will be made straight; \"and the glory of the Lord shall be revealed and all flesh shall see it together.\"2\n",
      "\n",
      "This is our hope, and this is the faith that I go back to the South with.\n",
      "\n",
      "With this faith, we will be able to hew out of the mountain of despair a stone of hope. With this faith, we will be able to transform the jangling discords of our nation into a beautiful symphony of brotherhood. With this faith, we will be able to work together, to pray together, to struggle together, to go to jail together, to stand up for freedom together, knowing that we will be free one day.\n",
      "\n",
      "And this will be the day -- this will be the day when all of God's children will be able to sing with new meaning:\n",
      "\n",
      "My country 'tis of thee, sweet land of liberty, of thee I sing. Land where my fathers died, land of the Pilgrim's pride,    From every mountainside, let freedom ring!\n",
      "\n",
      "And if America is to be a great nation, this must become true.\n",
      "\n",
      "And so let freedom ring from the prodigious hilltops of New Hampshire.\n",
      "\n",
      "Let freedom ring from the mighty mountains of New York.\n",
      "\n",
      "Let freedom ring from the heightening Alleghenies of Pennsylvania.\n",
      "\n",
      "Let freedom ring from the snow-capped Rockies of Colorado.\n",
      "\n",
      "Let freedom ring from the curvaceous slopes of California.\n",
      "\n",
      "But not only that:\n",
      "\n",
      "Let freedom ring from Stone Mountain of Georgia.\n",
      "\n",
      "Let freedom ring from Lookout Mountain of Tennessee.\n",
      "\n",
      "Let freedom ring from every hill and molehill of Mississippi.\n",
      "\n",
      "From every mountainside, let freedom ring\n",
      "\n",
      "And when this happens, and when we allow freedom ring, when we let it ring from every village and every hamlet, from every state and every city, we will be able to speed up that day when all of God's children, black men and white men, Jews and Gentiles, Protestants and Catholics, will be able to join hands and sing in the words of the old Negro spiritual:\n",
      "\n",
      "Free at last! Free at last!\n",
      "\n",
      "Thank God Almighty, we are free at last!3\n"
     ]
    }
   ],
   "source": [
    "filepath = \"/Users/Ashrakat/Dropbox/University/Oxford/Jobs/Teaching/Text Analysis/code/Basics-of-Text-Analysis-for-Political-Science/Data/ihaveadream.txt\"\n",
    "\n",
    "with open(filepath, \"r\") as infile:\n",
    "    content = infile.read()\n",
    "    \n",
    "print(content)"
   ]
  },
  {
   "cell_type": "markdown",
   "metadata": {},
   "source": [
    "### Lets try opening another file"
   ]
  },
  {
   "cell_type": "code",
   "execution_count": 5,
   "metadata": {},
   "outputs": [
    {
     "name": "stdout",
     "output_type": "stream",
     "text": [
      "\"http://de.sputniknews.compolitik/20160107306965193-Lindner-Merkel-Migrationspolitik-Chaos-Einwanderungsgesetz\"\t\"http://web.archive.org/web/20170227192503/https://de.sputniknews.com/amp/politik/20160107306965193-Lindner-Merkel-Migrationspolitik-Chaos-Einwanderungsgesetz/\"\t20160107\t\"FDP-Chef Lindner: Merkels Flüchtlingspolitik führt Europa ins Chaos\"\t\"Der Satz „Wir schaffen das“ der Bundeskanzlerin ersetze kein Regierungshandeln, so Lindner. Seiner Meinung nach ist ein „rationales, humanitäres, europäisch abgestimmtes Einwanderungsgesetz“ nötig, welches eine systematisierte Registrierung von Flüchtlingen und deren legale Integration ermöglichen würde. Die CDU/CSU-Politiker hatten von Merkel wiederholt gefordert, den Migranten-Zustrom zu begrenzen. Doch die Kanzlerin hat sich bislang geweigert, eine Obergrenze für Flüchtlinge festzulegen, was die Grenzschließung für neu ankommende Migranten bedeuten würde.\"\t\"OVER-THRESHOLD\"\t\"flüchtlingen migranten flüchtlinge\"\t70\t0.572646110198091\n",
      "\n",
      "\"http://de.sputniknews.com/panorama/20150210/301052523.html\"\t\"http://web.archive.org/web/20150315163311/http://de.sputniknews.com/panorama/20150210/301052523.html\"\t20150210\t\"Experte: Rund 1,3 Millionen wehrpflichtige Ukrainer nach Russland geflüchtet\"\t\"In letzter Zeit sei knapp einer halben Million ukrainischer Bürger der Flüchtlingsstatus zuerkannt beziehungsweise befristetes Asyl gewährt worden. „Russland hat keine Pläne, die Grenze für andere zu schließen.“ Zugleich räumte Patruschew erhebliche Probleme bei der Unterbringung immer wieder eintreffender Flüchtlinge ein.\"\t\"OVER-THRESHOLD\"\t\"flüchtlingsstatus asyl flüchtlinge\"\t43\t0.549349509077681\n",
      "\n",
      "\"http://de.sputniknews.compolitik/20181117322994742-deutschland-spd-nahles-hartz-iv\"\t\"http://web.archive.org/web/20181117160304/https://de.sputniknews.com/amp/politik/20181117322994742-deutschland-spd-nahles-hartz-iv/\"\t20181117\t\"So präzisiert Nahles ihre Idee für Hartz IV-Alternative\"\t\"{                    \\\"vars\\\": {                        \\\"counterId\\\": \\\"27090206\\\"                    }                }                                    {                            \\\"requests\\\": {                                \\\"pageview\\\": \\\"http://web.archive.org/web/20181117160304/https://counter.yadro.ru/hit;RS_Total/Sputniki_Total/Sputniknews?u${ampdocUrl};r${documentReferrer};s${screenWidth}*${screenHeight}*32;h${title};${random}\\\"                            },                            \\\"triggers\\\": {                                \\\"track pageview\\\": {                                    \\\"on\\\": \\\"visible\\\",                                    \\\"request\\\": \\\"pageview\\\"                                }                            }                        }                    Alle NachrichtenPolitik                        ©                    REUTERS/ Hannibal HanschkeSo präzisiert Nahles ihre Idee für Hartz IV-Alternative12:51 17.11.2018(aktualisiert  13:05 17.11.2018) Zum KurzlinkDie SPD-Parteichefin Andrea Nahles hat in einem Gastbeitrag für die „Frankfurter Allgemeine Zeitung“ eine Ablösung des Hartz-IV-Systems durch höhere Mindestlöhne, Zuschüsse zu Sozialabgaben und Steuerboni gefordert.Beim Debattencamp in Berlin vor einer Woche kündigte Nahles einen Komplettumbau des Sozialstaates sowie die Abschaffung von Hartz IV an, dessen monatlicher Satz 416 Euro beträgt. Nun konkretisiert sie ihre Vorstellungen: Viel weniger Menschen als heute sollen auf Grundsicherung angewiesen sein – es sei immer günstiger, Arbeit anstatt Arbeitslosigkeit zu finanzieren.>>>Weitere Sputnik-Artikel: EXKLUSIV: „Mein Schmerzpunkt“ – Ex-Partei-Chef übt Kritik an Politik der Grünen<<<                        ©                    AFP 2018/ DPA/ Arne Dedert„So verhindert Politik bedingungsloses Grundeinkommen“: Ex-Grünen-Chef – EXKLUSIVVor allem die Zahl von zwei Millionen Kindern, die in Hartz-IV-Haushalten lebten, müsse verringert werden. „Diese Erfahrung, ein ‚Hartz-IV-Kind‘ zu sein, prägt fürs Leben. Wir brauchen daher eine eigenständige Kindergrundsicherung, die Kinder aus der Sozialhilfe holt und Teilhabe schafft“, zitieren Nahles deutsche Medien.Ein besseres Wohngeld könne zudem verhindern, „dass Menschen angesichts explodierender Mieten in die Grundsicherung getrieben werden“. Nahles kritisierte außerdem das in der SPD-Kanzlerschaft vom Altkanzler Gerhard Schröder eingeführte System der Zusammenlegung von Arbeitslosen- und Sozialhilfe und forderte weniger Bürokratie und Härte.>>>Weitere Sputnik-Artikel: Schon wieder Bulgarien – Illegale Migration durch tausendfachen Verkauf von EU-Pässen<<<                        ©                    AP Photo/ Martin Meissner„Wir werden Hartz IV hinter uns lassen“: Nahles verspricht Komplettumbau des Sozialstaates„Zum Symbol für das Misstrauen des Staates gegenüber den Grundsicherungsbeziehern sind die Sanktionen geworden. Sie wirken, als würde den Leistungsbeziehern von vornherein unterstellt, betrügen zu wollen“.Der Bundeswirtschaftsminister, Peter Altmaier, wies die SPD-Forderungen nach einer Hartz-IV-Abschaffung in einem Gespräch mit der Zeitung „Die Welt“ zurück.„Wir dürfen und werden Hartz IV nicht abschaffen. Solche Vorschläge sind hoch gefährlich und schaden der Zukunft unseres Landes“, zitieren deutsche Medien den CDU-Politiker.Diskussion\"\t\"OVER-THRESHOLD\"\t\"migration\"\t884\t0.549179266004771\n",
      "\n",
      "\"http://de.sputniknews.compolitik/20181109322907058-trump-usa-asyl\"\t\"http://web.archive.org/web/20181123020955/https://de.sputniknews.com/amp/politik/20181109322907058-trump-usa-asyl/\"\t20181109\t\"Trump beschränkt drastisch Asylgewährung für illegale Migranten\"\t\"{                    \\\"vars\\\": {                        \\\"counterId\\\": \\\"27090206\\\"                    }                }                                    {                            \\\"requests\\\": {                                \\\"pageview\\\": \\\"http://web.archive.org/web/20181123020955/https://counter.yadro.ru/hit;RS_Total/Sputniki_Total/Sputniknews?u${ampdocUrl};r${documentReferrer};s${screenWidth}*${screenHeight}*32;h${title};${random}\\\"                            },                            \\\"triggers\\\": {                                \\\"track pageview\\\": {                                    \\\"on\\\": \\\"visible\\\",                                    \\\"request\\\": \\\"pageview\\\"                                }                            }                        }                    Alle NachrichtenPolitik                        ©                    REUTERS/ Jose CabezasTrump beschränkt drastisch Asylgewährung für illegale Migranten15:43 09.11.2018(aktualisiert  17:36 09.11.2018) Zum KurzlinkUS-Präsident Donald Trump hat die Asylgewährung für illegale Migranten drastisch eingeschränkt. Das teilte der Staatschef vor der Presse mit.Wie Trump vor Journalisten sagte, hat er „gerade“ ein entsprechendes Dekret unterzeichnet. Demnach sollen nur noch Menschen Asyl beantragen können, die an einem offiziellen Grenzübergang in die USA einreisen. Illegal Eingereiste würden kein Asyl beantragen dürfen.>>> Weitere Sputnik-Artikel: Trump erklärt, warum USA Migranten brauchen                        ©                    REUTERS/ Leah MillisTrump droht mit Schließung der Grenze zu MexikoDie Verweigerung des Rechts auf einen Asylantrag für illegale Migranten sei zeitweilig und betreffe die Ausländer, die die südliche US-Grenze zu Mexiko gesetzwidrig überschreiten würden, geht aus Trumps Proklamation hervor.„Ich treffe befristete Maßnahmen zum Einreisestopp für Ausländer, um das Problem der großen Anzahl von Migranten zu lösen, die über Mexiko kommen, um in unser Land ohne richtige Dokumente einzureisen“.>>> Weitere Sputnik-Artikel: Bundestag beschließt Verschärfung des Asylgesetzes                        ©                    AFP 2018/ GERARD JULIENMauer reloaded: EU-Staaten errichten sechs neue „Berliner Mauern“Ein Einwanderer könne dennoch Asyl beantragen, wenn er sich an die US-Grenzbehörden wende, statt zu versuchen, in die USA illegal zu gelangen.Laut Trump haben die ankommenden Migranten in der Regel keine legalen Gründe, Asyl zu beantragen. Die Ankunft von einer großen Anzahl von Ausländern werde das US-Immigrationssystem überlasten und zur „Freilassung\\\" von Tausenden Ausländern innerhalb der USA“ führen.Zuvor hatte das US-Verteidigungsministerium seine Bereitschaft erklärt, bis zu 7000 Militärangehörige an der Grenze zwischen den USA und Mexiko zu stationieren. Trump verkündete, bis zu 15.000 Soldaten an die Grenze zu schicken, wo sich bereits 2100 Mitglieder der Nationalgarde der Vereinigten Staaten befinden.>>> Weitere Sputnik-Artikel: „Kein Menschenrecht auf Migration“: Österreich verlässt UN-Migrationspakt                        ©                    REUTERS/ Carlos Garcia RawlinsMigranten vs. US-Armee: Wer sind die Drahtzieher der Flüchtlingskarawane?Die Maßnahmen werden getroffen, weil eine Karawane mit Tausenden Menschen aus zentralamerikanischen Ländern sich den USA über das Territorium von Mexiko nähert. Weitere zwei Migrantengruppen bewegen sich aus Salvador in Richtung USA.Nach Informationen der Nachrichtenagentur France-Presse bezeichnete die Bürgerrechtsorganisation American Civil Liberties Union die Pläne für eine Verschärfung des Asylrechts am Donnerstag als „illegal“. Das US-Recht erlaube Menschen einen Asylantrag unabhängig davon zu stellen, ob sie sich an einem Grenzübergang befinden oder nicht. Dies könne nicht durch ein Dekret „umgangen“ werden.Diskussion\"\t\"OVER-THRESHOLD\"\t\"einwanderer migranten asyl\"\t998\t0.548636683559343\n",
      "\n",
      "\"http://de.sputniknews.compolitik/20160306308285650-oesterreich-draengt-auf-deutsches-fluechtlingskontingent\"\t\"http://web.archive.org/web/20181126055753/https://de.sputniknews.com/amp/politik/20160306308285650-oesterreich-draengt-auf-deutsches-fluechtlingskontingent/\"\t20160306\t\"Österreich drängt auf deutsches Flüchtlingskontingent\"\t\"{                    \\\"vars\\\": {                        \\\"counterId\\\": \\\"27090206\\\"                    }                }                                    {                            \\\"requests\\\": {                                \\\"pageview\\\": \\\"http://web.archive.org/web/20181126055753/https://counter.yadro.ru/hit;RS_Total/Sputniki_Total/Sputniknews?u${ampdocUrl};r${documentReferrer};s${screenWidth}*${screenHeight}*32;h${title};${random}\\\"                            },                            \\\"triggers\\\": {                                \\\"track pageview\\\": {                                    \\\"on\\\": \\\"visible\\\",                                    \\\"request\\\": \\\"pageview\\\"                                }                            }                        }                    Alle NachrichtenPolitik                        ©                    AP Photo/ Boris Grdanoski Österreich drängt auf deutsches Flüchtlingskontingent09:56 06.03.2016(aktualisiert  09:57 06.03.2016) Zum KurzlinkDer österreichische Bundeskanzler Werner Faymann hat von Deutschland gefordert, eine Flüchtlingsquote von 400.000 Personen im Jahr einzuführen. Wenn alle EU-Länder dem Beispiel Österreichs folgen würden, könnte die EU, so Faymann, zwei Millionen Flüchtlinge aufnehmen.Im Jahr 2015 hatten etwa 90.000 Menschen in Österreich Asyl beantragt. 2016 will die Regierung die Zahl der positiv beschiedenen Asylanträge auf 37.500 beschränken.                        ©                    AFP 2018/ JOHN MACDOUGALLBundeskanzler Faymann: Merkel sollte Tageskontingente für Flüchtlinge einführen„Deutschland muss endlich Klarheit schaffen, sonst werden weiterhin Flüchtlinge Richtung Deutschland losziehen … Nimmt man den österreichischen Richtwert her, könnte Deutschland rund 400.000 Flüchtlinge als Kontingent nennen“, sagte Faymann im Gespräch mit der Zeitung Kurier.Im Jahr 2015 sind nach Angaben der Agentur Frontex rund 1,8 Million Migranten nach Europa gekommen. Experten zufolge handelt es sich um die größte Flüchtlingskrise seit dem Zweiten Weltkrieg.Diskussion\"\t\"OVER-THRESHOLD\"\t\"asyl flüchtlinge migranten asylanträge flüchtlingskrise\"\t699\t0.547926894577753\n",
      "\n"
     ]
    }
   ],
   "source": [
    "\n",
    "sputnik = open('/Users/Ashrakat/Dropbox/University/Oxford/Jobs/Teaching/Text Analysis/code/Basics-of-Text-Analysis-for-Political-Science/Data/sputnikgerman20.tsv', \"r\") #open files\n",
    "lines_sputnik = sputnik.readlines() # a lst of strings, each string refers to one line in the file\n",
    "for i in range(5): #read line by line\n",
    "    print(lines_sputnik[i])\n",
    "sputnik.close()"
   ]
  },
  {
   "cell_type": "markdown",
   "metadata": {},
   "source": [
    "## Other ways to load data: CSV library\n",
    "\n",
    "\n",
    "Good for csv and tsv files\n"
   ]
  },
  {
   "cell_type": "code",
   "execution_count": 6,
   "metadata": {},
   "outputs": [
    {
     "data": {
      "text/plain": [
       "<_csv.reader at 0x10bfb2e48>"
      ]
     },
     "execution_count": 6,
     "metadata": {},
     "output_type": "execute_result"
    }
   ],
   "source": [
    "\n",
    "import csv\n",
    "\n",
    "tsv_file = open(\"/Users/Ashrakat/Dropbox/University/Oxford/Jobs/Teaching/Text Analysis/code/Basics-of-Text-Analysis-for-Political-Science/Data/sputnikgerman20.tsv\")\n",
    "read_tsv = csv.reader(tsv_file, delimiter=\"\\t\")\n",
    "read_tsv"
   ]
  },
  {
   "cell_type": "code",
   "execution_count": 7,
   "metadata": {},
   "outputs": [
    {
     "name": "stdout",
     "output_type": "stream",
     "text": [
      "['http://de.sputniknews.compolitik/20160107306965193-Lindner-Merkel-Migrationspolitik-Chaos-Einwanderungsgesetz', 'http://web.archive.org/web/20170227192503/https://de.sputniknews.com/amp/politik/20160107306965193-Lindner-Merkel-Migrationspolitik-Chaos-Einwanderungsgesetz/', '20160107', 'FDP-Chef Lindner: Merkels Flüchtlingspolitik führt Europa ins Chaos', 'Der Satz „Wir schaffen das“ der Bundeskanzlerin ersetze kein Regierungshandeln, so Lindner. Seiner Meinung nach ist ein „rationales, humanitäres, europäisch abgestimmtes Einwanderungsgesetz“ nötig, welches eine systematisierte Registrierung von Flüchtlingen und deren legale Integration ermöglichen würde. Die CDU/CSU-Politiker hatten von Merkel wiederholt gefordert, den Migranten-Zustrom zu begrenzen. Doch die Kanzlerin hat sich bislang geweigert, eine Obergrenze für Flüchtlinge festzulegen, was die Grenzschließung für neu ankommende Migranten bedeuten würde.', 'OVER-THRESHOLD', 'flüchtlingen migranten flüchtlinge', '70', '0.572646110198091']\n",
      "['http://de.sputniknews.com/panorama/20150210/301052523.html', 'http://web.archive.org/web/20150315163311/http://de.sputniknews.com/panorama/20150210/301052523.html', '20150210', 'Experte: Rund 1,3 Millionen wehrpflichtige Ukrainer nach Russland geflüchtet', 'In letzter Zeit sei knapp einer halben Million ukrainischer Bürger der Flüchtlingsstatus zuerkannt beziehungsweise befristetes Asyl gewährt worden. „Russland hat keine Pläne, die Grenze für andere zu schließen.“ Zugleich räumte Patruschew erhebliche Probleme bei der Unterbringung immer wieder eintreffender Flüchtlinge ein.', 'OVER-THRESHOLD', 'flüchtlingsstatus asyl flüchtlinge', '43', '0.549349509077681']\n",
      "['http://de.sputniknews.compolitik/20181117322994742-deutschland-spd-nahles-hartz-iv', 'http://web.archive.org/web/20181117160304/https://de.sputniknews.com/amp/politik/20181117322994742-deutschland-spd-nahles-hartz-iv/', '20181117', 'So präzisiert Nahles ihre Idee für Hartz IV-Alternative', '{                    \\\\vars\\\\\": {                        \\\\\"counterId\\\\\": \\\\\"27090206\\\\\"                    }                }                                    {                            \\\\\"requests\\\\\": {                                \\\\\"pageview\\\\\": \\\\\"http://web.archive.org/web/20181117160304/https://counter.yadro.ru/hit;RS_Total/Sputniki_Total/Sputniknews?u${ampdocUrl};r${documentReferrer};s${screenWidth}*${screenHeight}*32;h${title};${random}\\\\\"                            },                            \\\\\"triggers\\\\\": {                                \\\\\"track pageview\\\\\": {                                    \\\\\"on\\\\\": \\\\\"visible\\\\\",                                    \\\\\"request\\\\\": \\\\\"pageview\\\\\"                                }                            }                        }                    Alle NachrichtenPolitik                        ©                    REUTERS/ Hannibal HanschkeSo präzisiert Nahles ihre Idee für Hartz IV-Alternative12:51 17.11.2018(aktualisiert  13:05 17.11.2018) Zum KurzlinkDie SPD-Parteichefin Andrea Nahles hat in einem Gastbeitrag für die „Frankfurter Allgemeine Zeitung“ eine Ablösung des Hartz-IV-Systems durch höhere Mindestlöhne, Zuschüsse zu Sozialabgaben und Steuerboni gefordert.Beim Debattencamp in\\xa0Berlin vor einer Woche kündigte Nahles einen Komplettumbau des Sozialstaates sowie die Abschaffung von Hartz IV an, dessen monatlicher Satz 416 Euro beträgt. Nun konkretisiert sie ihre Vorstellungen: Viel weniger Menschen als heute sollen auf Grundsicherung angewiesen sein – es sei immer günstiger, Arbeit anstatt Arbeitslosigkeit zu finanzieren.>>>Weitere Sputnik-Artikel: EXKLUSIV: „Mein Schmerzpunkt“ – Ex-Partei-Chef übt Kritik an Politik der Grünen<<<                        ©                    AFP 2018/ DPA/ Arne Dedert„So verhindert Politik bedingungsloses Grundeinkommen“: Ex-Grünen-Chef – EXKLUSIVVor allem die Zahl von zwei Millionen Kindern, die in Hartz-IV-Haushalten lebten, müsse verringert werden. „Diese Erfahrung, ein ‚Hartz-IV-Kind‘ zu sein, prägt fürs Leben. Wir brauchen daher eine eigenständige Kindergrundsicherung, die Kinder aus der Sozialhilfe holt und Teilhabe schafft“, zitieren Nahles deutsche Medien.Ein besseres Wohngeld könne zudem verhindern, „dass Menschen angesichts explodierender Mieten in\\xa0die Grundsicherung getrieben werden“. Nahles kritisierte außerdem das in\\xa0der SPD-Kanzlerschaft vom Altkanzler Gerhard Schröder eingeführte System der Zusammenlegung von Arbeitslosen- und Sozialhilfe und forderte weniger Bürokratie und Härte.>>>Weitere Sputnik-Artikel: Schon wieder Bulgarien – Illegale Migration durch tausendfachen Verkauf von EU-Pässen<<<                        ©                    AP Photo/ Martin Meissner„Wir werden Hartz IV hinter uns lassen“: Nahles verspricht Komplettumbau des Sozialstaates„Zum Symbol für das Misstrauen des Staates gegenüber den Grundsicherungsbeziehern sind die Sanktionen geworden. Sie wirken, als würde den Leistungsbeziehern von vornherein unterstellt, betrügen zu wollen“.Der Bundeswirtschaftsminister, Peter Altmaier, wies die SPD-Forderungen nach einer Hartz-IV-Abschaffung in\\xa0einem Gespräch mit der Zeitung „Die Welt“ zurück.„Wir dürfen und werden Hartz IV nicht abschaffen. Solche Vorschläge sind hoch gefährlich und schaden der Zukunft unseres Landes“, zitieren deutsche Medien den CDU-Politiker.Diskussion\"', 'OVER-THRESHOLD', 'migration', '884', '0.549179266004771']\n",
      "['http://de.sputniknews.compolitik/20181109322907058-trump-usa-asyl', 'http://web.archive.org/web/20181123020955/https://de.sputniknews.com/amp/politik/20181109322907058-trump-usa-asyl/', '20181109', 'Trump beschränkt drastisch Asylgewährung für illegale Migranten', '{                    \\\\vars\\\\\": {                        \\\\\"counterId\\\\\": \\\\\"27090206\\\\\"                    }                }                                    {                            \\\\\"requests\\\\\": {                                \\\\\"pageview\\\\\": \\\\\"http://web.archive.org/web/20181123020955/https://counter.yadro.ru/hit;RS_Total/Sputniki_Total/Sputniknews?u${ampdocUrl};r${documentReferrer};s${screenWidth}*${screenHeight}*32;h${title};${random}\\\\\"                            },                            \\\\\"triggers\\\\\": {                                \\\\\"track pageview\\\\\": {                                    \\\\\"on\\\\\": \\\\\"visible\\\\\",                                    \\\\\"request\\\\\": \\\\\"pageview\\\\\"                                }                            }                        }                    Alle NachrichtenPolitik                        ©                    REUTERS/ Jose CabezasTrump beschränkt drastisch Asylgewährung für illegale Migranten15:43 09.11.2018(aktualisiert  17:36 09.11.2018) Zum KurzlinkUS-Präsident Donald Trump hat die Asylgewährung für illegale Migranten drastisch eingeschränkt. Das teilte der Staatschef vor der Presse mit.Wie Trump vor Journalisten sagte, hat er „gerade“ ein entsprechendes Dekret unterzeichnet. Demnach sollen nur noch Menschen Asyl beantragen können, die an einem offiziellen Grenzübergang in\\xa0die USA einreisen. Illegal Eingereiste würden kein Asyl beantragen dürfen.>>> Weitere Sputnik-Artikel: Trump erklärt, warum USA Migranten brauchen                        ©                    REUTERS/ Leah MillisTrump droht mit Schließung der Grenze zu MexikoDie Verweigerung des Rechts auf einen Asylantrag für illegale Migranten sei zeitweilig und betreffe die Ausländer, die die südliche US-Grenze zu Mexiko gesetzwidrig überschreiten würden, geht aus Trumps Proklamation hervor.„Ich treffe befristete Maßnahmen zum Einreisestopp für Ausländer, um das Problem der großen Anzahl von Migranten zu lösen, die über Mexiko kommen, um in\\xa0unser Land ohne richtige Dokumente einzureisen“.>>> Weitere Sputnik-Artikel: Bundestag beschließt Verschärfung des Asylgesetzes                        ©                    AFP 2018/ GERARD JULIENMauer reloaded: EU-Staaten errichten sechs neue „Berliner Mauern“Ein Einwanderer könne dennoch Asyl beantragen, wenn er sich an die US-Grenzbehörden wende, statt zu versuchen, in\\xa0die USA illegal zu gelangen.Laut Trump haben die ankommenden Migranten in\\xa0der Regel keine legalen Gründe, Asyl zu beantragen. Die Ankunft von einer großen Anzahl von Ausländern werde das US-Immigrationssystem überlasten und zur „Freilassung\\\\\" von Tausenden Ausländern innerhalb der USA“ führen.Zuvor hatte das US-Verteidigungsministerium seine Bereitschaft erklärt, bis zu 7000 Militärangehörige an der Grenze zwischen den USA und Mexiko zu stationieren. Trump verkündete, bis zu 15.000 Soldaten an die Grenze zu schicken, wo sich bereits 2100 Mitglieder der Nationalgarde der Vereinigten Staaten befinden.>>> Weitere Sputnik-Artikel: „Kein Menschenrecht auf Migration“: Österreich verlässt UN-Migrationspakt                        ©                    REUTERS/ Carlos Garcia RawlinsMigranten vs. US-Armee: Wer sind die Drahtzieher der Flüchtlingskarawane?Die Maßnahmen werden getroffen, weil eine Karawane mit Tausenden Menschen aus zentralamerikanischen Ländern sich den USA über das Territorium von Mexiko nähert. Weitere zwei Migrantengruppen bewegen sich aus Salvador in\\xa0Richtung USA.Nach Informationen der Nachrichtenagentur France-Presse bezeichnete die Bürgerrechtsorganisation American Civil Liberties Union die Pläne für eine Verschärfung des Asylrechts am Donnerstag als „illegal“. Das US-Recht erlaube Menschen einen Asylantrag unabhängig davon zu stellen, ob sie sich an einem Grenzübergang befinden oder nicht. Dies könne nicht durch ein Dekret „umgangen“ werden.Diskussion\"', 'OVER-THRESHOLD', 'einwanderer migranten asyl', '998', '0.548636683559343']\n",
      "['http://de.sputniknews.compolitik/20160306308285650-oesterreich-draengt-auf-deutsches-fluechtlingskontingent', 'http://web.archive.org/web/20181126055753/https://de.sputniknews.com/amp/politik/20160306308285650-oesterreich-draengt-auf-deutsches-fluechtlingskontingent/', '20160306', 'Österreich drängt auf deutsches Flüchtlingskontingent', '{                    \\\\vars\\\\\": {                        \\\\\"counterId\\\\\": \\\\\"27090206\\\\\"                    }                }                                    {                            \\\\\"requests\\\\\": {                                \\\\\"pageview\\\\\": \\\\\"http://web.archive.org/web/20181126055753/https://counter.yadro.ru/hit;RS_Total/Sputniki_Total/Sputniknews?u${ampdocUrl};r${documentReferrer};s${screenWidth}*${screenHeight}*32;h${title};${random}\\\\\"                            },                            \\\\\"triggers\\\\\": {                                \\\\\"track pageview\\\\\": {                                    \\\\\"on\\\\\": \\\\\"visible\\\\\",                                    \\\\\"request\\\\\": \\\\\"pageview\\\\\"                                }                            }                        }                    Alle NachrichtenPolitik                        ©                    AP Photo/ Boris Grdanoski Österreich drängt auf deutsches Flüchtlingskontingent09:56 06.03.2016(aktualisiert  09:57 06.03.2016) Zum KurzlinkDer österreichische Bundeskanzler Werner Faymann hat von Deutschland gefordert, eine Flüchtlingsquote von 400.000 Personen im Jahr einzuführen. Wenn alle EU-Länder dem Beispiel Österreichs folgen würden, könnte die EU, so Faymann, zwei Millionen Flüchtlinge aufnehmen.Im Jahr 2015 hatten etwa 90.000 Menschen in Österreich Asyl beantragt. 2016 will die Regierung die Zahl der positiv beschiedenen Asylanträge auf 37.500 beschränken.                        ©                    AFP 2018/ JOHN MACDOUGALLBundeskanzler Faymann: Merkel sollte Tageskontingente für Flüchtlinge einführen„Deutschland muss endlich Klarheit schaffen, sonst werden weiterhin Flüchtlinge Richtung Deutschland losziehen … Nimmt man den österreichischen Richtwert her, könnte Deutschland rund 400.000 Flüchtlinge als Kontingent nennen“, sagte Faymann im Gespräch mit der Zeitung Kurier.Im Jahr 2015 sind nach Angaben der Agentur Frontex rund 1,8 Million Migranten nach Europa gekommen. Experten zufolge handelt es sich um die größte Flüchtlingskrise seit dem Zweiten Weltkrieg.Diskussion\"', 'OVER-THRESHOLD', 'asyl flüchtlinge migranten asylanträge flüchtlingskrise', '699', '0.547926894577753']\n",
      "['http://de.sputniknews.compolitik/20151016304983995-warschau-gegen-merkels-fluechtlingsquote', 'http://web.archive.org/web/20181123212339/https://de.sputniknews.com/amp/politik/20151016304983995-warschau-gegen-merkels-fluechtlingsquote/', '20151016', 'Migrationskrise: Warschau wehrt sich gegen Merkels Flüchtlingsquote', '{                    \\\\vars\\\\\": {                        \\\\\"counterId\\\\\": \\\\\"27090206\\\\\"                    }                }                                    {                            \\\\\"requests\\\\\": {                                \\\\\"pageview\\\\\": \\\\\"http://web.archive.org/web/20181123212339/https://counter.yadro.ru/hit;RS_Total/Sputniki_Total/Sputniknews?u${ampdocUrl};r${documentReferrer};s${screenWidth}*${screenHeight}*32;h${title};${random}\\\\\"                            },                            \\\\\"triggers\\\\\": {                                \\\\\"track pageview\\\\\": {                                    \\\\\"on\\\\\": \\\\\"visible\\\\\",                                    \\\\\"request\\\\\": \\\\\"pageview\\\\\"                                }                            }                        }                    Alle NachrichtenPolitik                        ©                    REUTERS/ Fabrizio Bensch/FilesMigrationskrise: Warschau wehrt sich gegen Merkels Flüchtlingsquote15:10 16.10.2015Zum KurzlinkPolen tritt scharf gegen die von Angela Merkel vorgeschlagene, permanente und verpflichtende Verteilungsquote von Flüchtlingen unter EU-Ländern auf und wird dabei nicht nachgeben, wie Polens Außenminister Grzegorz Schetyna gegenüber dem Radiosender RMF FM erklärte.                        ©                    AFP 2018/ Frederick FlorinFlüchtlingskrise: Merkel und Hollande werben gemeinsam für Solidarität in EU“Wir werden nicht nachgeben. Wir bilden eine entscheidende Mehrheit in\\xa0der EU”, unterstrich Schetyna.Dem Außenminister zufolge sei die Flüchtlingssituation ein Problem der deutschen Innenpolitik, „deswegen werden stets Versuche unternommen, ein besseres Bild und Image zu schaffen“. „Dies beeinflusst jedoch keinesfalls europäische Entscheidungen“, so Schetyna weiter.„Wenn Europa sagt, dass wir sie (Flüchtlinge – d. Red.) weiterhin unter uns aufteilen und uns Quoten neuer Migrationsströme aufzwingen werden, wird es eine Katastrophe geben. Wir werden dem nicht zustimmen“, erklärte Polens Minister.                        ©                    REUTERS/ Kai PfaffenbachFlüchtlingskrise: Osteuropäer lehnen sich gegen EU-Kurs aufSchetyna ist der Ansicht, dass Europa in\\xa0erster Linie „eine Entscheidung über den Schutz von Außengrenzen sowie über Verteilungszentren, die politische Migranten aus dem Nahen Osten registrieren müssen, treffen, nicht aber einen automatischen Verteilungsmechanismus einführen soll“. Letzteren bezeichnete der Minister als Unsinn.Allein bis zum September sind laut der EU-Grenzschutzagentur „Frontex“ rund 630.000 Flüchtlinge in\\xa0die EU gekommen. Die EU-Kommission spricht von der schlimmsten Migrationskrise seit dem Zweiten Weltkrieg.Diskussion\"', 'OVER-THRESHOLD', 'flüchtlingen migrationskrise migranten flüchtlinge', '805', '0.544957398675781']\n",
      "['http://de.sputniknews.comkarikatur/20151020305076281', 'http://web.archive.org/web/20181201153825/https://de.sputniknews.com/amp/karikatur/20151020305076281/', '20151020', 'Flüchtlingskrise: Ist Abriegeln eine Lösung?', '{                    \\\\vars\\\\\": {                        \\\\\"counterId\\\\\": \\\\\"27090206\\\\\"                    }                }                                    {                            \\\\\"requests\\\\\": {                                \\\\\"pageview\\\\\": \\\\\"http://web.archive.org/web/20181201153825/https://counter.yadro.ru/hit;RS_Total/Sputniki_Total/Sputniknews?u${ampdocUrl};r${documentReferrer};s${screenWidth}*${screenHeight}*32;h${title};${random}\\\\\"                            },                            \\\\\"triggers\\\\\": {                                \\\\\"track pageview\\\\\": {                                    \\\\\"on\\\\\": \\\\\"visible\\\\\",                                    \\\\\"request\\\\\": \\\\\"pageview\\\\\"                                }                            }                        }                    Alle NachrichtenKarikaturFlüchtlingskrise: Ist Abriegeln eine Lösung?18:18 20.10.2015Zum KurzlinkThemen: Migrationsproblem in EuropaCSU-Politiker Markus Söder hat kürzlich ins Gespräch gebracht, die deutsche Grenze mit Zäunen abzusichern. Wird Bundeskanzlerin Angela Merkel zum Schließen der Grenzen gezwungen sein? Hält eine strengere Asylpolitik Flüchtlinge auf? Lassen sich Menschen, die vor Fassbomben fliehen, von ein paar Zäunen stoppen? Fragen, Fragen, Fragen...Diskussion\"', 'OVER-THRESHOLD', 'migrationsproblem asylpolitik flüchtlinge', '522', '0.544157704714578']\n",
      "['http://de.sputniknews.com/german.ruvr.ru/news/2014_01_06/Gro-britannien-will-EU-Freizugigkeit-verhindern-2651', 'http://web.archive.org/web/20150726055154/http://de.sputniknews.com/german.ruvr.ru/news/2014_01_06/Gro-britannien-will-EU-Freizugigkeit-verhindern-2651/', '20140106', 'Großbritannien will EU-Freizügigkeit verhindern', 'Foto: EPA STIMME RUSSLANDS Die Regierung Großbritanniens habe vor, eine Revision der EU-Mitgliedschaftsbedingungen von der EU zu erlangen und die Sperrmaßnahmen gegenüber EU-Migranten zu verteidigen, sagte der britische Regierungschef David Cameron. Cameron zufolge wolle er die allgemeinen Grundsätze der EU nicht in Zweifel ziehen, halte allerdings das Recht der Migranten auf hohes Arbeitslosengeld und kostenlose Medizin in Großbritannien für unfair. Ab dem 1. Januar gilt für Rumänien und Bulgarien eine uneingeschränkte Freizügigkeit. Einschätzungen zufolge muss Großbritannien mit mindestens 300.000 Einwanderern rechnen.', 'OVER-THRESHOLD', 'migranten', '83', '0.544009923707647']\n",
      "['http://de.sputniknews.compolitik/20180813321937555-syrien-deutschland-fluechtlinge-rueckkehr-sanktionen', 'http://web.archive.org/web/20180813172522/https://de.sputniknews.com/amp/politik/20180813321937555-syrien-deutschland-fluechtlinge-rueckkehr-sanktionen/', '20180813', 'Rückkehr von Flüchtlingen: Syrischer Minister appelliert an Deutschland', 'Der syrische Minister für lokale Verwaltung und Umwelt Hussein Makhlouf hat über Journalisten Deutschland zur Aufhebung der Sanktionen gegen Damaskus aufgerufen. Dies soll laut dem Politiker die Rückkehr der syrischen Flüchtlinge in ihre Heimat fördern. „Ich möchte mich über Sie an die deutsche Regierung wenden und bitten, die einseitigen Sanktionen gegen Syrien aufzuheben“, sagte Makhlouf sich an einen deutschen Journalisten wendend auf einer Pressekonferenz. Mehr zum Thema >>> UN-Flüchtlingskommissar tritt gegen Rückkehr von Flüchtlingen nach Syrien auf  Makhlouf, der auch Chef des syrischen Koordinierungsausschusses für Rückkehr der Flüchtlinge ist, betonte, im Fall einer Aufhebung der Sanktionen werde die Rückkehr der Flüchtlinge beschleunigt. Dies würde den Wideraufbau des Landes fördern. Mehr zum Thema >>> Russland forciert Rückkehr von Syrien-Flüchtlingen Zuvor hatte das russische Zentrum für Aufnahme, Verteilung und Unterbringung beim russischen Verteidigungsministerium mitgeteilt, mehr als 1,7 Millionen Syrer hätten den Wunsch geäußert, aus neun Gastländern in\\xa0ihre Heimat zurückzukehren. Die meisten Heimkehrwilligen halten sich jetzt im Libanon, in\\xa0der Türkei und in\\xa0Deutschland auf.', 'OVER-THRESHOLD', 'flüchtlingen flüchtlinge', '163', '0.543706912424414']\n",
      "['http://de.sputniknews.compolitik/20170219314606917-usa-verschaerfen-asyl-recht', 'http://web.archive.org/web/20170324060955/https://de.sputniknews.com/amp/politik/20170219314606917-usa-verschaerfen-asyl-recht/', '20170219', 'USA verschärfen Asyl-Recht', 'Nach dem US-Gesetz „Immigration and Nationality Act“ muss ein Asylbewerber seine „begründete Angst“ vor Verfolgung aufgrund seiner Rasse, Religion, Nationalität, Mitgliedschaft in\\xa0einer bestimmten sozialen Gruppe oder politischer Meinung nachweisen. Der Kampf gegen illegale Migration war eines der Hauptthemen der Wahlkampagne des US-Präsidenten Donald Trump. Das von Trump Ende Januar unterzeichnete Terrorschutzgesetz, welches Bürgern aus sieben vorwiegend muslimischen Ländern die Einreise in\\xa0die USA zeitweilig verwehrt, löste landesweit\\xa0 und international heftige Kritik bis hin zu Massenprotesten aus. \\xa0', 'OVER-THRESHOLD', 'migration asylbewerber', '79', '0.543062751396791']\n",
      "['http://de.sputniknews.companorama/20151228306826925-daenemark-tritt-fuer-veraenderung-der-fluechtlingskonvention', 'http://web.archive.org/web/20181123231931/https://de.sputniknews.com/amp/panorama/20151228306826925-daenemark-tritt-fuer-veraenderung-der-fluechtlingskonvention/', '20151228', 'Dänemark will die Flüchtlingskonvention ändern', '{                    \\\\vars\\\\\": {                        \\\\\"counterId\\\\\": \\\\\"27090206\\\\\"                    }                }                                    {                            \\\\\"requests\\\\\": {                                \\\\\"pageview\\\\\": \\\\\"http://web.archive.org/web/20181123231931/https://counter.yadro.ru/hit;RS_Total/Sputniki_Total/Sputniknews?u${ampdocUrl};r${documentReferrer};s${screenWidth}*${screenHeight}*32;h${title};${random}\\\\\"                            },                            \\\\\"triggers\\\\\": {                                \\\\\"track pageview\\\\\": {                                    \\\\\"on\\\\\": \\\\\"visible\\\\\",                                    \\\\\"request\\\\\": \\\\\"pageview\\\\\"                                }                            }                        }                    Alle NachrichtenPanorama                        ©                    AP Photo/ Joachim LadefogdeDänemark will die Flüchtlingskonvention ändern14:44 28.12.2015(aktualisiert  16:32 28.12.2015) Zum KurzlinkDie Flüchtlingskrise hat Dänemark und Europa vor solche Herausforderungen gestellt, dass nun die UN-Flüchtlingskonvention von 1951 verändert werden muss, wie der dänische Regierungschef Lars Lökke Rasmussen dem Sender TV2 sagte.Wenn die Flüchtlingszahlen weiter ansteigen würden wie bisher, werde der Moment kommen, \\\\\"in dem wir über eine Anpassung der Spielregeln sprechen müssen\\\\\", sagte Rasmussen. Die Flüchtlingskonvention in\\xa0ihrer jetzigen Form entspreche nicht der heutigen globalisierten Welt.Die Konvention definiert den Begriff „Flüchtling“ und die Grundlagen, die für einen Asylantrag erforderlich sind. Einige Rechte, die Flüchtlinge genießen, gleichen denen der Bürger des Aufnahmestaates, andere – denen der Ausländer.                        ©                    REUTERS/ Michaela RehleDänemark besteht auf Konfiskationen: Flüchtlinge sollen Aufenthalt selber bezahlenAls die UN-Flüchtlingskonvention 1951 angenommen wurde, war Dänemark das erste Land, das sie unterzeichnet hat. Nun sei der Ministerpräsident der Auffassung, die von der Konvention auferlegten Verpflichtungen seien eine untragbare Bürde für Dänemark, schreibt die schwedische Zeitung Svenska Dagbladet.Eines der Probleme besteht laut Rasmussen darin, dass verschiedene Gruppen der Flüchtlinge verschiedene Regeln einhalten müssen. So gelten die verschärften Bedingungen für einen Familiennachzug nicht für alle. Die Fristen hängen davon ab, unter welchen Bedingungen das Asyl gewährt wurde.Die von Dänemark getroffenen Maßnahmen für die Reduzierung des Flüchtlingszustroms wirkten „inspirierend“ auf andere Staaten, so der dänische Ministerpräsident. Allerdings dürfe das Asylrecht als solches nicht abgeschafft werden. Dänemark habe nicht vor, alleine die Konvention außer Kraft zu setzen, Dänemark wolle gemeinsam mit anderen Staaten das System von innen verändern, erklärte Rasmussen. Eine der Forderungen könne sein, dass Flüchtlinge in\\xa0dem Land Asyl beantragen müssten, in\\xa0dem sie als erstes angekommen seien.                        ©                    AFP 2018/ Bulent KilicDänemark: Flüchtlinge mit mehr als 400 Euro werden zur Kasse gebetenMit Blick vor allem auf die syrischen Flüchtlinge fragte Ramussen: \\\\\"Wenn jemand, der Schutz vor Krieg sucht, zwei oder drei Jahre in\\xa0der Türkei gelebt hat, sollte er dann nach Europa gehen und dort Asyl beantragen?\\\\\" Die geltenden Regeln würden dies ermöglichen. \\\\\"Aber wir werden darüber eine Diskussion führen\\\\\", sagte er in\\xa0dem Fernsehinterview. In der Türkei leben nach Angaben Ankaras etwa zwei Millionen syrische Bürgerkriegsflüchtlinge.Das Wichtigste ist aus der Sicht des dänischen Politikers die Verständigung innerhalb Europas zu gewährleisten und eine einheitliche Sichtweise zu erarbeiten.„Dänemark kann nicht allein handeln, die anderen müssen auch teilnehmen. Ich kann doch ohne Zustimmung der anderen EU-Staaten das Ausweisungssystem nicht beschließen“, sagte Rasmussen.Diskussion\"', 'OVER-THRESHOLD', 'flüchtlingskrise asyl flüchtlinge', '981', '0.541940112273363']\n",
      "['http://de.sputniknews.compolitik/20160614310604740-maas-polygamie-verbot', 'http://web.archive.org/web/20171008021814/https://de.sputniknews.com/amp/politik/20160614310604740-maas-polygamie-verbot/', '20160614', 'Glaube darf nicht über Gesetz stehen: Bundesjustizminister will Polygamie verbieten', 'Bundesjustizminister Heiko Maas will Mehrfach-Ehen unter muslimischen Migranten in Deutschland grundsätzlich die Anerkennung verweigern. Auch eine Gesetzesverschärfung gegen Zwangsehen mit minderjährigen Kindern sei notwendig.  Der Bundesjustizminister will der Anerkennung dieser Praxis in\\xa0Deutschland nun ein Ende bereiten. „Jeder muss sich an Recht und Gesetz halten, egal ob er hier aufgewachsen oder neu bei uns ist“, so Maas gegenüber der „Bild“-Zeitung. „Niemand, der zu uns kommt, hat das Recht, seine kulturelle Verwurzelung oder seinen religiösen Glauben über unsere Gesetze zu stellen“, sagte Maas zu „Bild“. „Deshalb dürfen in\\xa0Deutschland keine Mehrfach-Ehen anerkannt werden.\\\\ Auch Zwangsehen mit minderjährigen Migranten müssen Maas zufolge in\\xa0Deutschland komplett verboten werden. Dazu sei eine Gesetzesverschärfung notwendig, um Kinder zu schützen. „Wir müssen das sehr sorgfältig prüfen. Zwangsehen dürfen wir nicht dulden, erst recht nicht, wenn minderjährige Mädchen betroffen sind“, so Maas.\"', 'OVER-THRESHOLD', 'migranten', '135', '0.539771426513455']\n",
      "['http://de.sputniknews.comgesellschaft/20181210323239903-menschenrechte-flucht-migration-pakt', 'http://web.archive.org/web/20181210233556/https://de.sputniknews.com/amp/gesellschaft/20181210323239903-menschenrechte-flucht-migration-pakt/', '20181210', 'Gibt es ein Menschenrecht auf Migration?', '{                    \\\\vars\\\\\": {                        \\\\\"counterId\\\\\": \\\\\"27090206\\\\\"                    }                }                                    {                            \\\\\"requests\\\\\": {                                \\\\\"pageview\\\\\": \\\\\"http://web.archive.org/web/20181210233556/https://counter.yadro.ru/hit;RS_Total/Sputniki_Total/Sputniknews?u${ampdocUrl};r${documentReferrer};s${screenWidth}*${screenHeight}*32;h${title};${random}\\\\\"                            },                            \\\\\"triggers\\\\\": {                                \\\\\"track pageview\\\\\": {                                    \\\\\"on\\\\\": \\\\\"visible\\\\\",                                    \\\\\"request\\\\\": \\\\\"pageview\\\\\"                                }                            }                        }                    Alle NachrichtenGesellschaft                        ©                    AP Photo/ Marko DrobnjakovicGibt es ein Menschenrecht auf Migration?20:01 10.12.2018Zum KurzlinkPaul LinkeMigration sei kein Menschenrecht, erklärte FPÖ-Chef Heinz-Christian Strache. Damit begründete er unter anderem den Rückzug Österreichs aus dem globalen Migrationspakt der Vereinten Nationen, der nun verabschiedet wurde. Hatte der österreichische Vizekanzler auch wirklich Recht? Zum 70. Jahrestag der UN-Menschenrechte klärt Sputnik auf.Am Montag feiert die Welt ein wichtiges Jubiläum. Die Menschenrechte werden 70 Jahre alt. Am 10. Dezember 1948 einigten sich die Mitglieder der Vereinten Nationen auf die „Allgemeine Erklärung der Menschenrechte“ (AEMR). Heute beziehen sich die meisten demokratischen Staaten auf dieses Dokument.Auch ein anderes Abkommen erblickte am Montag das Licht der Welt. Der sogenannte „Globale Pakt für eine sichere, geordnete und reguläre Migration“. Genau wie bei der Menschenrechtserklärung handelt es sich auch beim UN-Migrationspakt um eine\\xa0 „unverbindliche Vereinbarung“ der Vereinten Nationen. In Marrakesch haben am Montag 164 Staaten den umstrittenen Migrationspakt, an dem 192 Staaten beteiligt waren, offiziell verabschiedet. Die USA nahmen an den Verhandlungen gar nicht erst teil. Mehrere Regierungen lehnten das Papier in\\xa0den letzten Wochen ab. Darunter befinden sich Ungarn, Polen, Tschechien, Bulgarien, Australien, die Slowakei, Israel und Österreich.>>>Andere Sputnik-Artikel: Uno nimmt umstrittenen Migrationspakt an<<<FPÖ-Vize: „Migration ist kein Menschenrecht“Die österreichische Begründung für den Rückzug lautete unter anderem: „Migration ist und darf auch kein Menschenrecht werden“, sagte Vizekanzler Heinz-Christian Strache (FPÖ).                        ©                    AP Photo/ Olmo Calvo„Ein zynisches Spiel“ – Warum der Migrationspakt keine Lösung istDer Aussage stimmt auch Geschäftsmann und ÖVP-Mitglied, Freiherr Norbert van Handel, zu. Migration sei „natürlich“ kein Menschenrecht. „Wir haben eine ganz genaue Definition von Menschenrechten. Freie Meinung, Zugang zum ordentlichen Gericht.“ Auch Reisefreiheit sei zwar ein Menschenrecht, aber eine Reisefreiheit mit dem Ziel, sich in\\xa0einem Land auf Dauer niederzulassen, sei definitiv kein Menschenrecht, erklärte van Handel gegenüber Sputnik.Ob das auch so stimmt, wollte die Sputnik-Redaktion überprüfen. Als Migration versteht man zunächst allgemein eine „Abwanderung in\\xa0ein anderes Land, in\\xa0eine andere Gegend, an einen anderen Ort“, so die „Bedeutungsübersicht“ des Dudens. Damit stellt per Definition auch eine Flucht aus dem eigenen Land aus jedweden Gründen zunächst eine Migration dar.Asyl als MenschenrechtDie Allgemeine Erklärung der Menschenrechte besteht aus 30 Artikeln. Zwei davon beschäftigen sich direkt mit dem Begriff Migration. So der Artikel 13, der auf die Auswanderungsfreiheit eingeht. Dort heißt es dazu: „Jeder hat das Recht, jedes Land, einschließlich seines eigenen, zu verlassen und in\\xa0sein Land zurückzukehren.“Im Artikel 14, der das Menschenrecht auf Asyl beschreibt, heißt es: „Jeder hat das Recht, in\\xa0anderen Ländern vor Verfolgung Asyl zu suchen und zu genießen.“ Im Falle einer Strafverfolgung, „die tatsächlich auf Grund von Verbrechen nichtpolitischer Art oder auf Grund von Handlungen erfolgt, die gegen die Ziele und Grundsätze der Vereinten Nationen verstoßen“, könne jedoch dieses Recht nicht in\\xa0Anspruch genommen werden.So werde Migration zu einem Menschenrecht, spätestens wenn Menschenleben durch äußere Faktoren wie Krieg und andere Katastrophen in\\xa0Gefahr seien, bestätigt der Politikwissenschaftler von der Universität Wien, Prof. Dr. Otmar Höll, im Sputnik-Interview. „Wir haben die Genfer Flüchtlingskonvention, wir haben den Menschenrechtspakt, die in\\xa0diese Richtung weisen. Und tatsächlich sind sie völlig außer Streit zu stellen“, findet Höll.\\xa0 Er bemerkt zudem, dass Österreich seit einigen Monaten im UN-Menschenrechtsbeirat sitzt. Daher würden Straches Äußerungen und der Rückzug aus dem UN-Migrationspakt einen „Bruch mit der guten österreichischen Tradition“ bedeuten.Jedoch bezweifelt der Politologe, dass Migration zu einem Menschenrecht im völkerrechtlichen Sinn in\\xa0naher Zukunft werde könne. „Aber die Migration als solche wird man mit einer derartigen Ablehnung nicht anhalten können“, warnt Professor Höll.>>>Andere Sputnik-Artikel: Nachzug von Flüchtlingen in\\xa0Deutschland: Zahl der Visa weit unter Obergrenze<<<Flucht gleich Migration?Flüchtlinge würden nicht zu Migration gehören, behauptet gegenüber Sputnik der UNHCR-Pressereferent Martin Rentsch: „Per Definition fliehen sie vor Krieg, Folter und Menschenrechtsverletzungen. Das unterscheidet sie von Migranten.“                        ©                    AP Photo/ Emrah GurelAlleine alle Flüchtlinge in EU aufnehmen? – Berlin und Paris haben AngstDer Migrationsforscher von der Technischen Universität Dresden, Dr. Oliviero Angeli,\\xa0 definiert Flucht als „eine Form der Migration, aber nicht die einzige Form von Migration“. Es könne auch darüber diskutiert werden, wer unter dem Begriff Flüchtlinge allgemein verstanden werden kann, bemerkt Angeli. Die deutsche Regierung poche dabei sehr stark auf die Definition der Genfer Flüchtlingskonvention. Danach gilt als Flüchtling eine Person, die „aus der begründeten Furcht vor Verfolgung wegen ihrer Rasse, Religion, Nationalität, Zugehörigkeit zu einer bestimmten sozialen Gruppe oder wegen ihrer politischen Überzeugung sich außerhalb des Landes befindet, dessen Staatsangehörigkeit sie besitzt“.„Kein Recht, in\\xa0andere Länder einzuwandern“Die Frage nach der menschenrechtlichen Basis der Migration\\xa0 ist für Angeli „auf legaler Ebene relativ klar“: „Wir haben Rechte, uns innerhalb der Staaten frei zu bewegen oder aus den Staaten auszuwandern. Aber wir haben bis dato kein Recht, in\\xa0andere Länder einzuwandern. Aus moralischer Sicht kann man für dieses Recht eintreten, aber politisch ist es mittel- bis langfristig schwer umsetzbar“, erklärt der Migrationsforscher. Dass die UN-Menschenrechte bis heute keine rechtlich verbindliche Basis besitzen, schwäche die Position derjenigen, die sich für ein Recht auf Bewegungsfreiheit oder für ein Recht auf Einwanderung stark machen, betont Angeli. Dieses Recht müsse man erst in\\xa0der Menschenrechtskonvention stärker etablieren. „Doch dafür ist der politische Wille momentan nicht vorhanden“, so der Politikwissenschaftler Dr. Oliviero Angeli.Der „Globale Pakt für Migration“ wurde am Montag beim UN-Gipfeltreffen in\\xa0Marokko unterzeichnet. Das 34 Seiten umfassende Dokument soll dazu beitragen, Flucht und Migration besser zu organisieren.Das komplette Interview mit Dr. Oliviero Angeli zum Nachhören:Das komplette Interview mit Prof. Dr. Otmar Höll zum Nachhören:Diskussion\"', 'OVER-THRESHOLD', 'flüchtlingen asyl einwanderung flucht flüchtlinge flüchtling migration', '1461', '0.537197634217539']\n",
      "['http://de.sputniknews.compolitik/20151102305349847', 'http://web.archive.org/web/20181201040148/https://de.sputniknews.com/amp/politik/20151102305349847/', '20151102', 'Kabul nimmt abgelehnte Asylbewerber aus Deutschland auf', '{                    \\\\vars\\\\\": {                        \\\\\"counterId\\\\\": \\\\\"27090206\\\\\"                    }                }                                    {                            \\\\\"requests\\\\\": {                                \\\\\"pageview\\\\\": \\\\\"http://web.archive.org/web/20181201040148/https://counter.yadro.ru/hit;RS_Total/Sputniki_Total/Sputniknews?u${ampdocUrl};r${documentReferrer};s${screenWidth}*${screenHeight}*32;h${title};${random}\\\\\"                            },                            \\\\\"triggers\\\\\": {                                \\\\\"track pageview\\\\\": {                                    \\\\\"on\\\\\": \\\\\"visible\\\\\",                                    \\\\\"request\\\\\": \\\\\"pageview\\\\\"                                }                            }                        }                    Alle NachrichtenPolitik                        ©                    AP Photo/ Muhammed MuheisenKabul nimmt abgelehnte Asylbewerber aus Deutschland auf12:37 02.11.2015(aktualisiert  12:42 02.11.2015) Zum KurzlinkThemen: Migrationsproblem in EuropaDie afghanische Regierung hat erklärt, dass sie abgelehnte Asylbewerber aus Deutschland zurücknimmt, meldet Associated Press.Die Ankündigung der Bundesregierung, abgelehnte Asylbewerber aus Afghanistan künftig deutlich häufiger als bisher in\\xa0ihre Heimat abzuschieben, ist von der Regierung in\\xa0Kabul mit Erstaunen und Ablehnung kommentiert worden.                        ©                    AFP 2018/ Robert MichaelAufnahme der Flüchtlinge: „Trotz Finanzstärke – Probleme mentaler Art“ – SoziologeLaut dem afghanischen Minister für Flüchtlingsangelegenheiten, Sayed Hussain Alimi Balkhi weiß seine Regierung von einer solchen Entscheidung nichts. Er habe kürzlich erst einer deutschen Regierungsdelegation in\\xa0Genf gesagt, dass sich die Sicherheitslage in\\xa0Afghanistan verschlechtert habe.„Ich habe sie deshalb ausdrücklich darum gebeten, keine afghanischen Asylbewerber abzuschieben.“ Diese Bitte habe er auch im Gespräch mit dem deutschen Botschafter in\\xa0Afghanistan geäußert.                        ©                    REUTERS/ Kai PfaffenbachDeutschland: Über eine halbe Million Flüchtlinge bereits da - ZeitungDer Präsidentensprecher Safar Haschemi sagte, dass Afghanistan die Asylbewerber zuhause aufnehmen solle. Er fügte hinzu, dass Bundeskanzlerin Angela Merkel und der afghanische Präsident Ashraf Ghani diese Frage vor kurzem besprochen haben.Bis zu einer Million Flüchtlinge könnten in\\xa0diesem Jahr nach Deutschland kommen, wurde schon früher gemeldet. Nach den Angaben des afghanischen Ministeriums für Flüchtlinge und Repatriierung haben in\\xa0diesem Jahr 120.000 Menschen das Land verlassen.Diskussion\"', 'OVER-THRESHOLD', 'migrationsproblem asylbewerber flüchtlinge', '801', '0.536986114185067']\n",
      "['http://de.sputniknews.companorama/20170307314801061-EuGH-visa-urteil', 'http://web.archive.org/web/20170307115432/https://de.sputniknews.com/amp/panorama/20170307314801061-EuGH-visa-urteil/', '20170307', 'EuGH-Urteil: Keine \\\\humanitären Visa\\\\\" in EU-Auslandsbotschaften\"', 'Die Behörde argumentierte, dass sich die Familie länger als die mit einem Visum bewilligten 90 Tage in\\xa0Belgien aufhalten wollte\\xa0— schließlich wollten die Syrer dort Asylanträge stellen. Zudem seien EU-Staaten nicht verpflichtet, alle Menschen aufzunehmen, die eine katastrophale Situation durchlebten, hieß es. Der zuständige EuGH-Generalanwalt widersprach dieser Argumentation in\\xa0einem aufsehenerregenden Gutachten. Er schrieb, die Erteilung nationaler Visa werde von einer EU-Verordnung geregelt. Damit gelte auch die Grundrechtecharta der Union. Die wiederum schreibt das Recht auf Asyl fest und verbietet Folter und andere unmenschliche und entwürdigende Behandlung\\xa0— reale Gefahren für die syrische Familie, unterstrich der Gutachter. Damit müsse ein EU-Staat in\\xa0solchen Fällen Visa zur Einreise vergeben und Schutzsuchenden die Möglichkeit geben, in\\xa0Europa Asyl zu verlangen.', 'OVER-THRESHOLD', 'asylanträge asyl', '116', '0.536181733211913']\n",
      "['http://de.sputniknews.compolitik/20170207314424623-kalifornien-trump-krieg', 'http://web.archive.org/web/20170209143833/https://de.sputniknews.com/amp/politik/20170207314424623-kalifornien-trump-krieg/', '20170207', 'Kalifornien und Trump erklären einander den Krieg – WP', '„Das ist lächerlich“, so Trump über Kaliforniens Initiative, ein Asyl-Staat zu werden. „Wie Sie wissen, bin ich absolut gegen diese Asyl-Städte. Sie bringen Kriminalität und es gibt viele Probleme.“ Kalifornien sei in\\xa0vieler Hinsicht „außer Kontrolle geraten“, ist der US-Staatschef überzeugt. „Offenbar stimmen mir die Wähler zu, sonst hätten sie nicht für mich gestimmt.“  Wie WP unter Verweis auf die US-Bundespolizei FBI schreibt, ist die Kriminalität in\\xa0sogenannten „Asyl-Städten“ angeblich sogar niedriger als in\\xa0anderen Ortschaften. Was ist eine „Asyl-Stadt“? In den USA gibt es derzeit laut WP etwa 60 Städte mit speziellen Asyl-Gesetzen („Asyl-Städte“ bzw. „Sanctuary Cities“), darunter Los Angeles und New York. Die Gesetzeslage variiert von Stadt zu Stadt, doch im Allgemeinen beschützt sie illegale Einwanderer, die gewaltlose Verbrechen begangen haben, davor, von den Lokalregierungen an die Bundesbehörden übergeben zu werden. Das Verüben von Kavaliersdelikten durch Migranten führt demnach nicht zwingend zu bundesstaatlichem Gewahrsam. Stadtmitarbeiter und Strafverfolgungsbehörden einer sogenannten Asyl-Stadt dürfen zudem nicht nach dem Einwanderungsstatus eines Strafverdächtigen fragen. Gegner der Verordnung argumentieren, dass diese kriminelle Zuwanderer vor der Abschiebung bewahre.', 'OVER-THRESHOLD', 'migranten', '174', '0.536121189018493']\n",
      "['http://de.sputniknews.comgesellschaft/20180619321230321-menschenrechte-migranten-usa', 'http://web.archive.org/web/20181225062127/https://de.sputniknews.com/amp/gesellschaft/20180619321230321-menschenrechte-migranten-usa/', '20180619', 'Kinder von Eltern zu trennen ist skrupellos – UN-Menschenrechtskommissar rügt USA - VIDEO', '{                    \\\\vars\\\\\": {                        \\\\\"counterId\\\\\": \\\\\"27090206\\\\\"                    }                }                                    {                            \\\\\"requests\\\\\": {                                \\\\\"pageview\\\\\": \\\\\"http://web.archive.org/web/20181225062127/https://counter.yadro.ru/hit;RS_Total/Sputniki_Total/Sputniknews?u${ampdocUrl};r${documentReferrer};s${screenWidth}*${screenHeight}*32;h${title};${random}\\\\\"                            },                            \\\\\"triggers\\\\\": {                                \\\\\"track pageview\\\\\": {                                    \\\\\"on\\\\\": \\\\\"visible\\\\\",                                    \\\\\"request\\\\\": \\\\\"pageview\\\\\"                                }                            }                        }                    Alle NachrichtenGesellschaftKinder von Eltern zu trennen ist skrupellos – UN-Menschenrechtskommissar rügt USA - VIDEOВаш браузер не поддерживает данный формат видео                        ©                    Sputnik/ 14:53 19.06.2018(aktualisiert  18:57 19.06.2018) Zum KurzlinkDer Hochkommissar der Vereinten Nationen für Menschenrechte hat die USA für ihre Praxis gerügt, beim illegalen Grenzübertritt an der mexikanischen Grenze festgenommene Migranten von ihren Kindern zu trennen. Die Idee, Kinder für das Verhalten ihrer Eltern zu bestrafen und diese durch die Misshandlung der Kinder abzuschrecken, sei skrupellos.Der UN-Hochkommissar für Menschenrechte, Zeid Ra’ad Al Hussein, hat in\\xa0Genf die USA scharf angegriffen. Bezugnehmend auf die jüngst forcierte Praxis, an der mexikanisch-US-amerikanischen Grenze festgenommene illegale Einwanderer von ihren Kindern zu trennen, sprach Al Hussein von einer „grausamen Praxis“, die „irreparable Schäden mit lebenslangen Folgen“ nach sich ziehen könnte.\\xa0 Wörtlich sagte der Hochkommissar an die Adresse der US-Regierung: „Die Idee, dass ein Staat versucht, Eltern dadurch abzuschrecken, indem Kindern eine solche Misshandlung zugefügt wird, ist skrupellos.“>>Andere Sputnik-Artikel: Trump: „Menschen in\\xa0Deutschland wenden sich gegen ihre Regierung“Die im Video dokumentierte Passage der Erklärung von Zeid Ra’ad Al Hussein im Wortlaut:„In the United States, I am deeply concerned by\\xa0recently adopted policies which punish children for\\xa0that parent’s actions. In the past\\xa0six weeks, nearly 2,000 children have been forcibly separated from\\xa0their parents. The American Association of\\xa0Pediatrics [APP] has called this cruel practice \\'government-sanctioned child abuse\\' which may cause \\'irreparable harm\\' with \\'lifelong consequences\\'. The thought that any state would seek to\\xa0deter parents by\\xa0inflicting such abuse on\\xa0children is unconscionable. I call on\\xa0the United States to\\xa0immediately end the practice of\\xa0forcible separation of\\xa0these children, and I encourage the government to\\xa0at last ratify the [UN] Convention on\\xa0the Rights of\\xa0the Child, in\\xa0order to\\xa0ensure that the fundamental rights of\\xa0all children, whatever their administrative status, will be at\\xa0the centre of\\xa0all domestic laws and policies.”                        ©                    REUTERS/ Jorge Duenes„Migranten-Karawane“ trifft an Mexikos Grenze zu USA ein – VIDEO“Ich bin zutiefst besorgt über die aktuell in\\xa0den Vereinigten Staaten angewandte Praxis, Kinder für Handlungen ihrer Eltern zu bestrafen. In den vergangenen sechs Wochen wurden beinahe 2.000 Kinder gewaltsam von ihren Eltern getrennt. Die Amerikanische Vereinigung für Kinderheilkunde (APP) nennt diese grausame Praxis „staatlich sanktionierte Kindesmisshandlung, die irreparable Schäden mit lebenslangen Folgen hervorrufen könne“. Die Idee, dass ein Staat versucht, Eltern dadurch abzuschrecken, indem Kindern eine solche Misshandlung zugefügt wird, ist skrupellos. Ich rufe die Vereinigten Staaten auf, unverzüglich die Praxis der gewaltsamen Trennung dieser Kinder zu beenden, und ich ermutige die Regierung, endlich die UN-Konvention für die Rechte der Kinder zu ratifizieren, um sicherzustellen, dass die fundamentalen Rechte aller Kinder, gleich welchen administrativen Status, im Zentrum aller öffentlichen Gesetze und Politik stehen.“>>Andere Sputnik-Artikel: Trump will Migranten „von überall her“Diskussion\"', 'OVER-THRESHOLD', 'einwanderer migranten', '980', '0.533417092483392']\n",
      "['http://de.sputniknews.compolitik/20180914322316830-eu-ungarn-grenzen-kontrolle', 'http://web.archive.org/web/20180914185523/https://de.sputniknews.com/amp/politik/20180914322316830-eu-ungarn-grenzen-kontrolle/', '20180914', 'EU will Ungarn „Recht auf Kontrolle eigener Grenzen entziehen” – Orban', 'Das EU-Rechtsstaatsverfahren gegen Ungarn stellt nicht die „geringste Gefahr“ für das Land dar, wie Ungarns Ministerpräsident Viktor Orban in einem Interview mit dem Radiosender Kossuth erklärte. Am vergangenen Mittwoch hat das Europäische Parlament dem Antrag auf ein Strafverfahren gegen Ungarn wegen Verstößen gegen europäische Normen und Prinzipien der Rechtshoheit zugestimmt. Das Europaparlament behandelt erstmals ein Dokument, in\\xa0dem es um die Anwendung von Artikel 7 des EU-Vertrages gegen Ungarn geht. >>>Weitere Sputnik-Artikel: „Dafür würde ich aus dem Amt gejagt“ – Orban zu Merkels Flüchtlingspolitik  „Sie (die EU – Anm. d. Red.) haben einen Plan: Wenn sie Ungarn nicht zur Aufnahme von Flüchtlingen zwingen können, werden sie dem Land das Recht auf Kontrolle der eigenen Grenzen entziehen“, sagte Orban. In Brüssel werden die ungarischen Behörden vor allem für die Weigerung kritisiert, die Entscheidungen der Europäischen Union im Bereich Migrationspolitik zu erfüllen. Mitte Juli hatte die Europäische Kommission beim Europäischen Gerichtshof bereits eine Beschwerde gegen Ungarn eingereicht, da es die EU-Vorschriften zur Asylgewährung für Flüchtlinge nicht befolgt hatte. >>>Weitere Sputnik-Artikel: EU-Kommission reicht beim Europäischen Gerichtshof Klage gegen Ungarn ein', 'OVER-THRESHOLD', 'flüchtlingen flüchtlingspolitik flüchtlinge', '179', '0.532563413304608']\n",
      "['http://de.sputniknews.com/german.ruvr.ru/2013_11_06/Festung-Europa-von-Migranten-und-Fluchtlingen-3563', 'http://web.archive.org/web/20150722052852/http://de.sputniknews.com/german.ruvr.ru/2013_11_06/Festung-Europa-von-Migranten-und-Fluchtlingen-3563/', '20131106', 'Festung Europa - von Migranten und Flüchtlingen', 'Foto: Aziz Bozkurt STIMME RUSSLANDS Flüchtlinge im Hungerstreik vor dem Brandenburger Tor, Tote in Lampedusa, unerwünschte Asylanten in Hellersdorf und Schneeberg, von Abschiebung bedrohte Asylbewerber in Hamburg. Schottet Europa sich ab? Nimmt Deutschland genug Flüchtlinge auf? Auf diese und andere Fragen antwortet bei uns im Studio Aziz Bozkurt, Landesvorsitzender der AG Migration und Vielfalt in der SPD Berlin.', 'OVER-THRESHOLD', 'migration asylbewerber flüchtlinge', '61', '0.532312736405033']\n",
      "['http://de.sputniknews.companorama/20170715316608060-fluechtlinge-selbstanzeigen-terror', 'http://web.archive.org/web/20170715150527/https://de.sputniknews.com/amp/panorama/20170715316608060-fluechtlinge-selbstanzeigen-terror/', '20170715', 'Selbstanzeigen unter Flüchtlingen „wegen Terrors“ wuchern – aus bizarrem Grund', 'Mehr als 408.000 Asylanträge hat das Bundesamt für Migration und Flüchtlinge (BAMF) im ersten Halbjahr 2017 entschieden – rund 44 Prozent mehr als im gleichen Zeitraum des Vorjahres, berichtet die „Welt“. „Mit den Selbstanzeigen wegen Terrors in\\xa0laufenden Asylverfahren ist eine massive neue Belastung auf die Strafverfolgungsbehörden zugekommen“, so Stuttgarts Generalstaatsanwalt Achim Brauneisen.  Wie die „Welt“ schreibt, wollen viele Asylbewerber mit der Selbstbezichtigung einer Zwangsmitgliedschaft in\\xa0einer islamistischen Gruppierung der Abschiebung entgehen. Dabei würden sie auf den sogenannten subsidiären Schutz hoffen. Der subsidiäre Schutz ist dann gewährt, wenn die Rückkehr eines Asylbewerbers ins Heimatland zu gefährlich ist. Genauer gesagt, wenn ein Ausländer stichhaltige Gründe für die Annahme vorgebracht hat, dass ihm in\\xa0seinem Herkunftsland ein schwerer Schaden droht – beispielsweise Todesstrafe, Folter, unmenschliche oder erniedrigende Behandlung bzw. Bestrafung.', 'OVER-THRESHOLD', 'asylanträge migration asylbewerber flüchtlinge', '128', '0.53192302021476']\n"
     ]
    }
   ],
   "source": [
    "for row in read_tsv:\n",
    "    print(row)\n",
    "tsv_file.close() # we see here each row is now saved in a list"
   ]
  },
  {
   "cell_type": "markdown",
   "metadata": {},
   "source": [
    "what if I want to save this in a list to be able to access later.\n",
    "\n",
    "Here loops become handy"
   ]
  },
  {
   "cell_type": "code",
   "execution_count": 8,
   "metadata": {
    "collapsed": true
   },
   "outputs": [],
   "source": [
    "tsv_file = open(\"/Users/Ashrakat/Dropbox/University/Oxford/Jobs/Teaching/Text Analysis/code/Basics-of-Text-Analysis-for-Political-Science/Data/sputnikgerman20.tsv\")\n",
    "read_tsv = csv.reader(tsv_file, delimiter=\"\\t\")\n",
    "savelist = []\n",
    "for row in read_tsv:\n",
    "    savelist.append(row)\n",
    "tsv_file.close() # we see here each row is now saved in a list\n"
   ]
  },
  {
   "cell_type": "code",
   "execution_count": 9,
   "metadata": {},
   "outputs": [
    {
     "data": {
      "text/plain": [
       "[['http://de.sputniknews.compolitik/20160107306965193-Lindner-Merkel-Migrationspolitik-Chaos-Einwanderungsgesetz',\n",
       "  'http://web.archive.org/web/20170227192503/https://de.sputniknews.com/amp/politik/20160107306965193-Lindner-Merkel-Migrationspolitik-Chaos-Einwanderungsgesetz/',\n",
       "  '20160107',\n",
       "  'FDP-Chef Lindner: Merkels Flüchtlingspolitik führt Europa ins Chaos',\n",
       "  'Der Satz „Wir schaffen das“ der Bundeskanzlerin ersetze kein Regierungshandeln, so Lindner. Seiner Meinung nach ist ein „rationales, humanitäres, europäisch abgestimmtes Einwanderungsgesetz“ nötig, welches eine systematisierte Registrierung von Flüchtlingen und deren legale Integration ermöglichen würde. Die CDU/CSU-Politiker hatten von Merkel wiederholt gefordert, den Migranten-Zustrom zu begrenzen. Doch die Kanzlerin hat sich bislang geweigert, eine Obergrenze für Flüchtlinge festzulegen, was die Grenzschließung für neu ankommende Migranten bedeuten würde.',\n",
       "  'OVER-THRESHOLD',\n",
       "  'flüchtlingen migranten flüchtlinge',\n",
       "  '70',\n",
       "  '0.572646110198091'],\n",
       " ['http://de.sputniknews.com/panorama/20150210/301052523.html',\n",
       "  'http://web.archive.org/web/20150315163311/http://de.sputniknews.com/panorama/20150210/301052523.html',\n",
       "  '20150210',\n",
       "  'Experte: Rund 1,3 Millionen wehrpflichtige Ukrainer nach Russland geflüchtet',\n",
       "  'In letzter Zeit sei knapp einer halben Million ukrainischer Bürger der Flüchtlingsstatus zuerkannt beziehungsweise befristetes Asyl gewährt worden. „Russland hat keine Pläne, die Grenze für andere zu schließen.“ Zugleich räumte Patruschew erhebliche Probleme bei der Unterbringung immer wieder eintreffender Flüchtlinge ein.',\n",
       "  'OVER-THRESHOLD',\n",
       "  'flüchtlingsstatus asyl flüchtlinge',\n",
       "  '43',\n",
       "  '0.549349509077681'],\n",
       " ['http://de.sputniknews.compolitik/20181117322994742-deutschland-spd-nahles-hartz-iv',\n",
       "  'http://web.archive.org/web/20181117160304/https://de.sputniknews.com/amp/politik/20181117322994742-deutschland-spd-nahles-hartz-iv/',\n",
       "  '20181117',\n",
       "  'So präzisiert Nahles ihre Idee für Hartz IV-Alternative',\n",
       "  '{                    \\\\vars\\\\\": {                        \\\\\"counterId\\\\\": \\\\\"27090206\\\\\"                    }                }                                    {                            \\\\\"requests\\\\\": {                                \\\\\"pageview\\\\\": \\\\\"http://web.archive.org/web/20181117160304/https://counter.yadro.ru/hit;RS_Total/Sputniki_Total/Sputniknews?u${ampdocUrl};r${documentReferrer};s${screenWidth}*${screenHeight}*32;h${title};${random}\\\\\"                            },                            \\\\\"triggers\\\\\": {                                \\\\\"track pageview\\\\\": {                                    \\\\\"on\\\\\": \\\\\"visible\\\\\",                                    \\\\\"request\\\\\": \\\\\"pageview\\\\\"                                }                            }                        }                    Alle NachrichtenPolitik                        ©                    REUTERS/ Hannibal HanschkeSo präzisiert Nahles ihre Idee für Hartz IV-Alternative12:51 17.11.2018(aktualisiert  13:05 17.11.2018) Zum KurzlinkDie SPD-Parteichefin Andrea Nahles hat in einem Gastbeitrag für die „Frankfurter Allgemeine Zeitung“ eine Ablösung des Hartz-IV-Systems durch höhere Mindestlöhne, Zuschüsse zu Sozialabgaben und Steuerboni gefordert.Beim Debattencamp in\\xa0Berlin vor einer Woche kündigte Nahles einen Komplettumbau des Sozialstaates sowie die Abschaffung von Hartz IV an, dessen monatlicher Satz 416 Euro beträgt. Nun konkretisiert sie ihre Vorstellungen: Viel weniger Menschen als heute sollen auf Grundsicherung angewiesen sein – es sei immer günstiger, Arbeit anstatt Arbeitslosigkeit zu finanzieren.>>>Weitere Sputnik-Artikel: EXKLUSIV: „Mein Schmerzpunkt“ – Ex-Partei-Chef übt Kritik an Politik der Grünen<<<                        ©                    AFP 2018/ DPA/ Arne Dedert„So verhindert Politik bedingungsloses Grundeinkommen“: Ex-Grünen-Chef – EXKLUSIVVor allem die Zahl von zwei Millionen Kindern, die in Hartz-IV-Haushalten lebten, müsse verringert werden. „Diese Erfahrung, ein ‚Hartz-IV-Kind‘ zu sein, prägt fürs Leben. Wir brauchen daher eine eigenständige Kindergrundsicherung, die Kinder aus der Sozialhilfe holt und Teilhabe schafft“, zitieren Nahles deutsche Medien.Ein besseres Wohngeld könne zudem verhindern, „dass Menschen angesichts explodierender Mieten in\\xa0die Grundsicherung getrieben werden“. Nahles kritisierte außerdem das in\\xa0der SPD-Kanzlerschaft vom Altkanzler Gerhard Schröder eingeführte System der Zusammenlegung von Arbeitslosen- und Sozialhilfe und forderte weniger Bürokratie und Härte.>>>Weitere Sputnik-Artikel: Schon wieder Bulgarien – Illegale Migration durch tausendfachen Verkauf von EU-Pässen<<<                        ©                    AP Photo/ Martin Meissner„Wir werden Hartz IV hinter uns lassen“: Nahles verspricht Komplettumbau des Sozialstaates„Zum Symbol für das Misstrauen des Staates gegenüber den Grundsicherungsbeziehern sind die Sanktionen geworden. Sie wirken, als würde den Leistungsbeziehern von vornherein unterstellt, betrügen zu wollen“.Der Bundeswirtschaftsminister, Peter Altmaier, wies die SPD-Forderungen nach einer Hartz-IV-Abschaffung in\\xa0einem Gespräch mit der Zeitung „Die Welt“ zurück.„Wir dürfen und werden Hartz IV nicht abschaffen. Solche Vorschläge sind hoch gefährlich und schaden der Zukunft unseres Landes“, zitieren deutsche Medien den CDU-Politiker.Diskussion\"',\n",
       "  'OVER-THRESHOLD',\n",
       "  'migration',\n",
       "  '884',\n",
       "  '0.549179266004771'],\n",
       " ['http://de.sputniknews.compolitik/20181109322907058-trump-usa-asyl',\n",
       "  'http://web.archive.org/web/20181123020955/https://de.sputniknews.com/amp/politik/20181109322907058-trump-usa-asyl/',\n",
       "  '20181109',\n",
       "  'Trump beschränkt drastisch Asylgewährung für illegale Migranten',\n",
       "  '{                    \\\\vars\\\\\": {                        \\\\\"counterId\\\\\": \\\\\"27090206\\\\\"                    }                }                                    {                            \\\\\"requests\\\\\": {                                \\\\\"pageview\\\\\": \\\\\"http://web.archive.org/web/20181123020955/https://counter.yadro.ru/hit;RS_Total/Sputniki_Total/Sputniknews?u${ampdocUrl};r${documentReferrer};s${screenWidth}*${screenHeight}*32;h${title};${random}\\\\\"                            },                            \\\\\"triggers\\\\\": {                                \\\\\"track pageview\\\\\": {                                    \\\\\"on\\\\\": \\\\\"visible\\\\\",                                    \\\\\"request\\\\\": \\\\\"pageview\\\\\"                                }                            }                        }                    Alle NachrichtenPolitik                        ©                    REUTERS/ Jose CabezasTrump beschränkt drastisch Asylgewährung für illegale Migranten15:43 09.11.2018(aktualisiert  17:36 09.11.2018) Zum KurzlinkUS-Präsident Donald Trump hat die Asylgewährung für illegale Migranten drastisch eingeschränkt. Das teilte der Staatschef vor der Presse mit.Wie Trump vor Journalisten sagte, hat er „gerade“ ein entsprechendes Dekret unterzeichnet. Demnach sollen nur noch Menschen Asyl beantragen können, die an einem offiziellen Grenzübergang in\\xa0die USA einreisen. Illegal Eingereiste würden kein Asyl beantragen dürfen.>>> Weitere Sputnik-Artikel: Trump erklärt, warum USA Migranten brauchen                        ©                    REUTERS/ Leah MillisTrump droht mit Schließung der Grenze zu MexikoDie Verweigerung des Rechts auf einen Asylantrag für illegale Migranten sei zeitweilig und betreffe die Ausländer, die die südliche US-Grenze zu Mexiko gesetzwidrig überschreiten würden, geht aus Trumps Proklamation hervor.„Ich treffe befristete Maßnahmen zum Einreisestopp für Ausländer, um das Problem der großen Anzahl von Migranten zu lösen, die über Mexiko kommen, um in\\xa0unser Land ohne richtige Dokumente einzureisen“.>>> Weitere Sputnik-Artikel: Bundestag beschließt Verschärfung des Asylgesetzes                        ©                    AFP 2018/ GERARD JULIENMauer reloaded: EU-Staaten errichten sechs neue „Berliner Mauern“Ein Einwanderer könne dennoch Asyl beantragen, wenn er sich an die US-Grenzbehörden wende, statt zu versuchen, in\\xa0die USA illegal zu gelangen.Laut Trump haben die ankommenden Migranten in\\xa0der Regel keine legalen Gründe, Asyl zu beantragen. Die Ankunft von einer großen Anzahl von Ausländern werde das US-Immigrationssystem überlasten und zur „Freilassung\\\\\" von Tausenden Ausländern innerhalb der USA“ führen.Zuvor hatte das US-Verteidigungsministerium seine Bereitschaft erklärt, bis zu 7000 Militärangehörige an der Grenze zwischen den USA und Mexiko zu stationieren. Trump verkündete, bis zu 15.000 Soldaten an die Grenze zu schicken, wo sich bereits 2100 Mitglieder der Nationalgarde der Vereinigten Staaten befinden.>>> Weitere Sputnik-Artikel: „Kein Menschenrecht auf Migration“: Österreich verlässt UN-Migrationspakt                        ©                    REUTERS/ Carlos Garcia RawlinsMigranten vs. US-Armee: Wer sind die Drahtzieher der Flüchtlingskarawane?Die Maßnahmen werden getroffen, weil eine Karawane mit Tausenden Menschen aus zentralamerikanischen Ländern sich den USA über das Territorium von Mexiko nähert. Weitere zwei Migrantengruppen bewegen sich aus Salvador in\\xa0Richtung USA.Nach Informationen der Nachrichtenagentur France-Presse bezeichnete die Bürgerrechtsorganisation American Civil Liberties Union die Pläne für eine Verschärfung des Asylrechts am Donnerstag als „illegal“. Das US-Recht erlaube Menschen einen Asylantrag unabhängig davon zu stellen, ob sie sich an einem Grenzübergang befinden oder nicht. Dies könne nicht durch ein Dekret „umgangen“ werden.Diskussion\"',\n",
       "  'OVER-THRESHOLD',\n",
       "  'einwanderer migranten asyl',\n",
       "  '998',\n",
       "  '0.548636683559343'],\n",
       " ['http://de.sputniknews.compolitik/20160306308285650-oesterreich-draengt-auf-deutsches-fluechtlingskontingent',\n",
       "  'http://web.archive.org/web/20181126055753/https://de.sputniknews.com/amp/politik/20160306308285650-oesterreich-draengt-auf-deutsches-fluechtlingskontingent/',\n",
       "  '20160306',\n",
       "  'Österreich drängt auf deutsches Flüchtlingskontingent',\n",
       "  '{                    \\\\vars\\\\\": {                        \\\\\"counterId\\\\\": \\\\\"27090206\\\\\"                    }                }                                    {                            \\\\\"requests\\\\\": {                                \\\\\"pageview\\\\\": \\\\\"http://web.archive.org/web/20181126055753/https://counter.yadro.ru/hit;RS_Total/Sputniki_Total/Sputniknews?u${ampdocUrl};r${documentReferrer};s${screenWidth}*${screenHeight}*32;h${title};${random}\\\\\"                            },                            \\\\\"triggers\\\\\": {                                \\\\\"track pageview\\\\\": {                                    \\\\\"on\\\\\": \\\\\"visible\\\\\",                                    \\\\\"request\\\\\": \\\\\"pageview\\\\\"                                }                            }                        }                    Alle NachrichtenPolitik                        ©                    AP Photo/ Boris Grdanoski Österreich drängt auf deutsches Flüchtlingskontingent09:56 06.03.2016(aktualisiert  09:57 06.03.2016) Zum KurzlinkDer österreichische Bundeskanzler Werner Faymann hat von Deutschland gefordert, eine Flüchtlingsquote von 400.000 Personen im Jahr einzuführen. Wenn alle EU-Länder dem Beispiel Österreichs folgen würden, könnte die EU, so Faymann, zwei Millionen Flüchtlinge aufnehmen.Im Jahr 2015 hatten etwa 90.000 Menschen in Österreich Asyl beantragt. 2016 will die Regierung die Zahl der positiv beschiedenen Asylanträge auf 37.500 beschränken.                        ©                    AFP 2018/ JOHN MACDOUGALLBundeskanzler Faymann: Merkel sollte Tageskontingente für Flüchtlinge einführen„Deutschland muss endlich Klarheit schaffen, sonst werden weiterhin Flüchtlinge Richtung Deutschland losziehen … Nimmt man den österreichischen Richtwert her, könnte Deutschland rund 400.000 Flüchtlinge als Kontingent nennen“, sagte Faymann im Gespräch mit der Zeitung Kurier.Im Jahr 2015 sind nach Angaben der Agentur Frontex rund 1,8 Million Migranten nach Europa gekommen. Experten zufolge handelt es sich um die größte Flüchtlingskrise seit dem Zweiten Weltkrieg.Diskussion\"',\n",
       "  'OVER-THRESHOLD',\n",
       "  'asyl flüchtlinge migranten asylanträge flüchtlingskrise',\n",
       "  '699',\n",
       "  '0.547926894577753'],\n",
       " ['http://de.sputniknews.compolitik/20151016304983995-warschau-gegen-merkels-fluechtlingsquote',\n",
       "  'http://web.archive.org/web/20181123212339/https://de.sputniknews.com/amp/politik/20151016304983995-warschau-gegen-merkels-fluechtlingsquote/',\n",
       "  '20151016',\n",
       "  'Migrationskrise: Warschau wehrt sich gegen Merkels Flüchtlingsquote',\n",
       "  '{                    \\\\vars\\\\\": {                        \\\\\"counterId\\\\\": \\\\\"27090206\\\\\"                    }                }                                    {                            \\\\\"requests\\\\\": {                                \\\\\"pageview\\\\\": \\\\\"http://web.archive.org/web/20181123212339/https://counter.yadro.ru/hit;RS_Total/Sputniki_Total/Sputniknews?u${ampdocUrl};r${documentReferrer};s${screenWidth}*${screenHeight}*32;h${title};${random}\\\\\"                            },                            \\\\\"triggers\\\\\": {                                \\\\\"track pageview\\\\\": {                                    \\\\\"on\\\\\": \\\\\"visible\\\\\",                                    \\\\\"request\\\\\": \\\\\"pageview\\\\\"                                }                            }                        }                    Alle NachrichtenPolitik                        ©                    REUTERS/ Fabrizio Bensch/FilesMigrationskrise: Warschau wehrt sich gegen Merkels Flüchtlingsquote15:10 16.10.2015Zum KurzlinkPolen tritt scharf gegen die von Angela Merkel vorgeschlagene, permanente und verpflichtende Verteilungsquote von Flüchtlingen unter EU-Ländern auf und wird dabei nicht nachgeben, wie Polens Außenminister Grzegorz Schetyna gegenüber dem Radiosender RMF FM erklärte.                        ©                    AFP 2018/ Frederick FlorinFlüchtlingskrise: Merkel und Hollande werben gemeinsam für Solidarität in EU“Wir werden nicht nachgeben. Wir bilden eine entscheidende Mehrheit in\\xa0der EU”, unterstrich Schetyna.Dem Außenminister zufolge sei die Flüchtlingssituation ein Problem der deutschen Innenpolitik, „deswegen werden stets Versuche unternommen, ein besseres Bild und Image zu schaffen“. „Dies beeinflusst jedoch keinesfalls europäische Entscheidungen“, so Schetyna weiter.„Wenn Europa sagt, dass wir sie (Flüchtlinge – d. Red.) weiterhin unter uns aufteilen und uns Quoten neuer Migrationsströme aufzwingen werden, wird es eine Katastrophe geben. Wir werden dem nicht zustimmen“, erklärte Polens Minister.                        ©                    REUTERS/ Kai PfaffenbachFlüchtlingskrise: Osteuropäer lehnen sich gegen EU-Kurs aufSchetyna ist der Ansicht, dass Europa in\\xa0erster Linie „eine Entscheidung über den Schutz von Außengrenzen sowie über Verteilungszentren, die politische Migranten aus dem Nahen Osten registrieren müssen, treffen, nicht aber einen automatischen Verteilungsmechanismus einführen soll“. Letzteren bezeichnete der Minister als Unsinn.Allein bis zum September sind laut der EU-Grenzschutzagentur „Frontex“ rund 630.000 Flüchtlinge in\\xa0die EU gekommen. Die EU-Kommission spricht von der schlimmsten Migrationskrise seit dem Zweiten Weltkrieg.Diskussion\"',\n",
       "  'OVER-THRESHOLD',\n",
       "  'flüchtlingen migrationskrise migranten flüchtlinge',\n",
       "  '805',\n",
       "  '0.544957398675781'],\n",
       " ['http://de.sputniknews.comkarikatur/20151020305076281',\n",
       "  'http://web.archive.org/web/20181201153825/https://de.sputniknews.com/amp/karikatur/20151020305076281/',\n",
       "  '20151020',\n",
       "  'Flüchtlingskrise: Ist Abriegeln eine Lösung?',\n",
       "  '{                    \\\\vars\\\\\": {                        \\\\\"counterId\\\\\": \\\\\"27090206\\\\\"                    }                }                                    {                            \\\\\"requests\\\\\": {                                \\\\\"pageview\\\\\": \\\\\"http://web.archive.org/web/20181201153825/https://counter.yadro.ru/hit;RS_Total/Sputniki_Total/Sputniknews?u${ampdocUrl};r${documentReferrer};s${screenWidth}*${screenHeight}*32;h${title};${random}\\\\\"                            },                            \\\\\"triggers\\\\\": {                                \\\\\"track pageview\\\\\": {                                    \\\\\"on\\\\\": \\\\\"visible\\\\\",                                    \\\\\"request\\\\\": \\\\\"pageview\\\\\"                                }                            }                        }                    Alle NachrichtenKarikaturFlüchtlingskrise: Ist Abriegeln eine Lösung?18:18 20.10.2015Zum KurzlinkThemen: Migrationsproblem in EuropaCSU-Politiker Markus Söder hat kürzlich ins Gespräch gebracht, die deutsche Grenze mit Zäunen abzusichern. Wird Bundeskanzlerin Angela Merkel zum Schließen der Grenzen gezwungen sein? Hält eine strengere Asylpolitik Flüchtlinge auf? Lassen sich Menschen, die vor Fassbomben fliehen, von ein paar Zäunen stoppen? Fragen, Fragen, Fragen...Diskussion\"',\n",
       "  'OVER-THRESHOLD',\n",
       "  'migrationsproblem asylpolitik flüchtlinge',\n",
       "  '522',\n",
       "  '0.544157704714578'],\n",
       " ['http://de.sputniknews.com/german.ruvr.ru/news/2014_01_06/Gro-britannien-will-EU-Freizugigkeit-verhindern-2651',\n",
       "  'http://web.archive.org/web/20150726055154/http://de.sputniknews.com/german.ruvr.ru/news/2014_01_06/Gro-britannien-will-EU-Freizugigkeit-verhindern-2651/',\n",
       "  '20140106',\n",
       "  'Großbritannien will EU-Freizügigkeit verhindern',\n",
       "  'Foto: EPA STIMME RUSSLANDS Die Regierung Großbritanniens habe vor, eine Revision der EU-Mitgliedschaftsbedingungen von der EU zu erlangen und die Sperrmaßnahmen gegenüber EU-Migranten zu verteidigen, sagte der britische Regierungschef David Cameron. Cameron zufolge wolle er die allgemeinen Grundsätze der EU nicht in Zweifel ziehen, halte allerdings das Recht der Migranten auf hohes Arbeitslosengeld und kostenlose Medizin in Großbritannien für unfair. Ab dem 1. Januar gilt für Rumänien und Bulgarien eine uneingeschränkte Freizügigkeit. Einschätzungen zufolge muss Großbritannien mit mindestens 300.000 Einwanderern rechnen.',\n",
       "  'OVER-THRESHOLD',\n",
       "  'migranten',\n",
       "  '83',\n",
       "  '0.544009923707647'],\n",
       " ['http://de.sputniknews.compolitik/20180813321937555-syrien-deutschland-fluechtlinge-rueckkehr-sanktionen',\n",
       "  'http://web.archive.org/web/20180813172522/https://de.sputniknews.com/amp/politik/20180813321937555-syrien-deutschland-fluechtlinge-rueckkehr-sanktionen/',\n",
       "  '20180813',\n",
       "  'Rückkehr von Flüchtlingen: Syrischer Minister appelliert an Deutschland',\n",
       "  'Der syrische Minister für lokale Verwaltung und Umwelt Hussein Makhlouf hat über Journalisten Deutschland zur Aufhebung der Sanktionen gegen Damaskus aufgerufen. Dies soll laut dem Politiker die Rückkehr der syrischen Flüchtlinge in ihre Heimat fördern. „Ich möchte mich über Sie an die deutsche Regierung wenden und bitten, die einseitigen Sanktionen gegen Syrien aufzuheben“, sagte Makhlouf sich an einen deutschen Journalisten wendend auf einer Pressekonferenz. Mehr zum Thema >>> UN-Flüchtlingskommissar tritt gegen Rückkehr von Flüchtlingen nach Syrien auf  Makhlouf, der auch Chef des syrischen Koordinierungsausschusses für Rückkehr der Flüchtlinge ist, betonte, im Fall einer Aufhebung der Sanktionen werde die Rückkehr der Flüchtlinge beschleunigt. Dies würde den Wideraufbau des Landes fördern. Mehr zum Thema >>> Russland forciert Rückkehr von Syrien-Flüchtlingen Zuvor hatte das russische Zentrum für Aufnahme, Verteilung und Unterbringung beim russischen Verteidigungsministerium mitgeteilt, mehr als 1,7 Millionen Syrer hätten den Wunsch geäußert, aus neun Gastländern in\\xa0ihre Heimat zurückzukehren. Die meisten Heimkehrwilligen halten sich jetzt im Libanon, in\\xa0der Türkei und in\\xa0Deutschland auf.',\n",
       "  'OVER-THRESHOLD',\n",
       "  'flüchtlingen flüchtlinge',\n",
       "  '163',\n",
       "  '0.543706912424414'],\n",
       " ['http://de.sputniknews.compolitik/20170219314606917-usa-verschaerfen-asyl-recht',\n",
       "  'http://web.archive.org/web/20170324060955/https://de.sputniknews.com/amp/politik/20170219314606917-usa-verschaerfen-asyl-recht/',\n",
       "  '20170219',\n",
       "  'USA verschärfen Asyl-Recht',\n",
       "  'Nach dem US-Gesetz „Immigration and Nationality Act“ muss ein Asylbewerber seine „begründete Angst“ vor Verfolgung aufgrund seiner Rasse, Religion, Nationalität, Mitgliedschaft in\\xa0einer bestimmten sozialen Gruppe oder politischer Meinung nachweisen. Der Kampf gegen illegale Migration war eines der Hauptthemen der Wahlkampagne des US-Präsidenten Donald Trump. Das von Trump Ende Januar unterzeichnete Terrorschutzgesetz, welches Bürgern aus sieben vorwiegend muslimischen Ländern die Einreise in\\xa0die USA zeitweilig verwehrt, löste landesweit\\xa0 und international heftige Kritik bis hin zu Massenprotesten aus. \\xa0',\n",
       "  'OVER-THRESHOLD',\n",
       "  'migration asylbewerber',\n",
       "  '79',\n",
       "  '0.543062751396791'],\n",
       " ['http://de.sputniknews.companorama/20151228306826925-daenemark-tritt-fuer-veraenderung-der-fluechtlingskonvention',\n",
       "  'http://web.archive.org/web/20181123231931/https://de.sputniknews.com/amp/panorama/20151228306826925-daenemark-tritt-fuer-veraenderung-der-fluechtlingskonvention/',\n",
       "  '20151228',\n",
       "  'Dänemark will die Flüchtlingskonvention ändern',\n",
       "  '{                    \\\\vars\\\\\": {                        \\\\\"counterId\\\\\": \\\\\"27090206\\\\\"                    }                }                                    {                            \\\\\"requests\\\\\": {                                \\\\\"pageview\\\\\": \\\\\"http://web.archive.org/web/20181123231931/https://counter.yadro.ru/hit;RS_Total/Sputniki_Total/Sputniknews?u${ampdocUrl};r${documentReferrer};s${screenWidth}*${screenHeight}*32;h${title};${random}\\\\\"                            },                            \\\\\"triggers\\\\\": {                                \\\\\"track pageview\\\\\": {                                    \\\\\"on\\\\\": \\\\\"visible\\\\\",                                    \\\\\"request\\\\\": \\\\\"pageview\\\\\"                                }                            }                        }                    Alle NachrichtenPanorama                        ©                    AP Photo/ Joachim LadefogdeDänemark will die Flüchtlingskonvention ändern14:44 28.12.2015(aktualisiert  16:32 28.12.2015) Zum KurzlinkDie Flüchtlingskrise hat Dänemark und Europa vor solche Herausforderungen gestellt, dass nun die UN-Flüchtlingskonvention von 1951 verändert werden muss, wie der dänische Regierungschef Lars Lökke Rasmussen dem Sender TV2 sagte.Wenn die Flüchtlingszahlen weiter ansteigen würden wie bisher, werde der Moment kommen, \\\\\"in dem wir über eine Anpassung der Spielregeln sprechen müssen\\\\\", sagte Rasmussen. Die Flüchtlingskonvention in\\xa0ihrer jetzigen Form entspreche nicht der heutigen globalisierten Welt.Die Konvention definiert den Begriff „Flüchtling“ und die Grundlagen, die für einen Asylantrag erforderlich sind. Einige Rechte, die Flüchtlinge genießen, gleichen denen der Bürger des Aufnahmestaates, andere – denen der Ausländer.                        ©                    REUTERS/ Michaela RehleDänemark besteht auf Konfiskationen: Flüchtlinge sollen Aufenthalt selber bezahlenAls die UN-Flüchtlingskonvention 1951 angenommen wurde, war Dänemark das erste Land, das sie unterzeichnet hat. Nun sei der Ministerpräsident der Auffassung, die von der Konvention auferlegten Verpflichtungen seien eine untragbare Bürde für Dänemark, schreibt die schwedische Zeitung Svenska Dagbladet.Eines der Probleme besteht laut Rasmussen darin, dass verschiedene Gruppen der Flüchtlinge verschiedene Regeln einhalten müssen. So gelten die verschärften Bedingungen für einen Familiennachzug nicht für alle. Die Fristen hängen davon ab, unter welchen Bedingungen das Asyl gewährt wurde.Die von Dänemark getroffenen Maßnahmen für die Reduzierung des Flüchtlingszustroms wirkten „inspirierend“ auf andere Staaten, so der dänische Ministerpräsident. Allerdings dürfe das Asylrecht als solches nicht abgeschafft werden. Dänemark habe nicht vor, alleine die Konvention außer Kraft zu setzen, Dänemark wolle gemeinsam mit anderen Staaten das System von innen verändern, erklärte Rasmussen. Eine der Forderungen könne sein, dass Flüchtlinge in\\xa0dem Land Asyl beantragen müssten, in\\xa0dem sie als erstes angekommen seien.                        ©                    AFP 2018/ Bulent KilicDänemark: Flüchtlinge mit mehr als 400 Euro werden zur Kasse gebetenMit Blick vor allem auf die syrischen Flüchtlinge fragte Ramussen: \\\\\"Wenn jemand, der Schutz vor Krieg sucht, zwei oder drei Jahre in\\xa0der Türkei gelebt hat, sollte er dann nach Europa gehen und dort Asyl beantragen?\\\\\" Die geltenden Regeln würden dies ermöglichen. \\\\\"Aber wir werden darüber eine Diskussion führen\\\\\", sagte er in\\xa0dem Fernsehinterview. In der Türkei leben nach Angaben Ankaras etwa zwei Millionen syrische Bürgerkriegsflüchtlinge.Das Wichtigste ist aus der Sicht des dänischen Politikers die Verständigung innerhalb Europas zu gewährleisten und eine einheitliche Sichtweise zu erarbeiten.„Dänemark kann nicht allein handeln, die anderen müssen auch teilnehmen. Ich kann doch ohne Zustimmung der anderen EU-Staaten das Ausweisungssystem nicht beschließen“, sagte Rasmussen.Diskussion\"',\n",
       "  'OVER-THRESHOLD',\n",
       "  'flüchtlingskrise asyl flüchtlinge',\n",
       "  '981',\n",
       "  '0.541940112273363'],\n",
       " ['http://de.sputniknews.compolitik/20160614310604740-maas-polygamie-verbot',\n",
       "  'http://web.archive.org/web/20171008021814/https://de.sputniknews.com/amp/politik/20160614310604740-maas-polygamie-verbot/',\n",
       "  '20160614',\n",
       "  'Glaube darf nicht über Gesetz stehen: Bundesjustizminister will Polygamie verbieten',\n",
       "  'Bundesjustizminister Heiko Maas will Mehrfach-Ehen unter muslimischen Migranten in Deutschland grundsätzlich die Anerkennung verweigern. Auch eine Gesetzesverschärfung gegen Zwangsehen mit minderjährigen Kindern sei notwendig.  Der Bundesjustizminister will der Anerkennung dieser Praxis in\\xa0Deutschland nun ein Ende bereiten. „Jeder muss sich an Recht und Gesetz halten, egal ob er hier aufgewachsen oder neu bei uns ist“, so Maas gegenüber der „Bild“-Zeitung. „Niemand, der zu uns kommt, hat das Recht, seine kulturelle Verwurzelung oder seinen religiösen Glauben über unsere Gesetze zu stellen“, sagte Maas zu „Bild“. „Deshalb dürfen in\\xa0Deutschland keine Mehrfach-Ehen anerkannt werden.\\\\ Auch Zwangsehen mit minderjährigen Migranten müssen Maas zufolge in\\xa0Deutschland komplett verboten werden. Dazu sei eine Gesetzesverschärfung notwendig, um Kinder zu schützen. „Wir müssen das sehr sorgfältig prüfen. Zwangsehen dürfen wir nicht dulden, erst recht nicht, wenn minderjährige Mädchen betroffen sind“, so Maas.\"',\n",
       "  'OVER-THRESHOLD',\n",
       "  'migranten',\n",
       "  '135',\n",
       "  '0.539771426513455'],\n",
       " ['http://de.sputniknews.comgesellschaft/20181210323239903-menschenrechte-flucht-migration-pakt',\n",
       "  'http://web.archive.org/web/20181210233556/https://de.sputniknews.com/amp/gesellschaft/20181210323239903-menschenrechte-flucht-migration-pakt/',\n",
       "  '20181210',\n",
       "  'Gibt es ein Menschenrecht auf Migration?',\n",
       "  '{                    \\\\vars\\\\\": {                        \\\\\"counterId\\\\\": \\\\\"27090206\\\\\"                    }                }                                    {                            \\\\\"requests\\\\\": {                                \\\\\"pageview\\\\\": \\\\\"http://web.archive.org/web/20181210233556/https://counter.yadro.ru/hit;RS_Total/Sputniki_Total/Sputniknews?u${ampdocUrl};r${documentReferrer};s${screenWidth}*${screenHeight}*32;h${title};${random}\\\\\"                            },                            \\\\\"triggers\\\\\": {                                \\\\\"track pageview\\\\\": {                                    \\\\\"on\\\\\": \\\\\"visible\\\\\",                                    \\\\\"request\\\\\": \\\\\"pageview\\\\\"                                }                            }                        }                    Alle NachrichtenGesellschaft                        ©                    AP Photo/ Marko DrobnjakovicGibt es ein Menschenrecht auf Migration?20:01 10.12.2018Zum KurzlinkPaul LinkeMigration sei kein Menschenrecht, erklärte FPÖ-Chef Heinz-Christian Strache. Damit begründete er unter anderem den Rückzug Österreichs aus dem globalen Migrationspakt der Vereinten Nationen, der nun verabschiedet wurde. Hatte der österreichische Vizekanzler auch wirklich Recht? Zum 70. Jahrestag der UN-Menschenrechte klärt Sputnik auf.Am Montag feiert die Welt ein wichtiges Jubiläum. Die Menschenrechte werden 70 Jahre alt. Am 10. Dezember 1948 einigten sich die Mitglieder der Vereinten Nationen auf die „Allgemeine Erklärung der Menschenrechte“ (AEMR). Heute beziehen sich die meisten demokratischen Staaten auf dieses Dokument.Auch ein anderes Abkommen erblickte am Montag das Licht der Welt. Der sogenannte „Globale Pakt für eine sichere, geordnete und reguläre Migration“. Genau wie bei der Menschenrechtserklärung handelt es sich auch beim UN-Migrationspakt um eine\\xa0 „unverbindliche Vereinbarung“ der Vereinten Nationen. In Marrakesch haben am Montag 164 Staaten den umstrittenen Migrationspakt, an dem 192 Staaten beteiligt waren, offiziell verabschiedet. Die USA nahmen an den Verhandlungen gar nicht erst teil. Mehrere Regierungen lehnten das Papier in\\xa0den letzten Wochen ab. Darunter befinden sich Ungarn, Polen, Tschechien, Bulgarien, Australien, die Slowakei, Israel und Österreich.>>>Andere Sputnik-Artikel: Uno nimmt umstrittenen Migrationspakt an<<<FPÖ-Vize: „Migration ist kein Menschenrecht“Die österreichische Begründung für den Rückzug lautete unter anderem: „Migration ist und darf auch kein Menschenrecht werden“, sagte Vizekanzler Heinz-Christian Strache (FPÖ).                        ©                    AP Photo/ Olmo Calvo„Ein zynisches Spiel“ – Warum der Migrationspakt keine Lösung istDer Aussage stimmt auch Geschäftsmann und ÖVP-Mitglied, Freiherr Norbert van Handel, zu. Migration sei „natürlich“ kein Menschenrecht. „Wir haben eine ganz genaue Definition von Menschenrechten. Freie Meinung, Zugang zum ordentlichen Gericht.“ Auch Reisefreiheit sei zwar ein Menschenrecht, aber eine Reisefreiheit mit dem Ziel, sich in\\xa0einem Land auf Dauer niederzulassen, sei definitiv kein Menschenrecht, erklärte van Handel gegenüber Sputnik.Ob das auch so stimmt, wollte die Sputnik-Redaktion überprüfen. Als Migration versteht man zunächst allgemein eine „Abwanderung in\\xa0ein anderes Land, in\\xa0eine andere Gegend, an einen anderen Ort“, so die „Bedeutungsübersicht“ des Dudens. Damit stellt per Definition auch eine Flucht aus dem eigenen Land aus jedweden Gründen zunächst eine Migration dar.Asyl als MenschenrechtDie Allgemeine Erklärung der Menschenrechte besteht aus 30 Artikeln. Zwei davon beschäftigen sich direkt mit dem Begriff Migration. So der Artikel 13, der auf die Auswanderungsfreiheit eingeht. Dort heißt es dazu: „Jeder hat das Recht, jedes Land, einschließlich seines eigenen, zu verlassen und in\\xa0sein Land zurückzukehren.“Im Artikel 14, der das Menschenrecht auf Asyl beschreibt, heißt es: „Jeder hat das Recht, in\\xa0anderen Ländern vor Verfolgung Asyl zu suchen und zu genießen.“ Im Falle einer Strafverfolgung, „die tatsächlich auf Grund von Verbrechen nichtpolitischer Art oder auf Grund von Handlungen erfolgt, die gegen die Ziele und Grundsätze der Vereinten Nationen verstoßen“, könne jedoch dieses Recht nicht in\\xa0Anspruch genommen werden.So werde Migration zu einem Menschenrecht, spätestens wenn Menschenleben durch äußere Faktoren wie Krieg und andere Katastrophen in\\xa0Gefahr seien, bestätigt der Politikwissenschaftler von der Universität Wien, Prof. Dr. Otmar Höll, im Sputnik-Interview. „Wir haben die Genfer Flüchtlingskonvention, wir haben den Menschenrechtspakt, die in\\xa0diese Richtung weisen. Und tatsächlich sind sie völlig außer Streit zu stellen“, findet Höll.\\xa0 Er bemerkt zudem, dass Österreich seit einigen Monaten im UN-Menschenrechtsbeirat sitzt. Daher würden Straches Äußerungen und der Rückzug aus dem UN-Migrationspakt einen „Bruch mit der guten österreichischen Tradition“ bedeuten.Jedoch bezweifelt der Politologe, dass Migration zu einem Menschenrecht im völkerrechtlichen Sinn in\\xa0naher Zukunft werde könne. „Aber die Migration als solche wird man mit einer derartigen Ablehnung nicht anhalten können“, warnt Professor Höll.>>>Andere Sputnik-Artikel: Nachzug von Flüchtlingen in\\xa0Deutschland: Zahl der Visa weit unter Obergrenze<<<Flucht gleich Migration?Flüchtlinge würden nicht zu Migration gehören, behauptet gegenüber Sputnik der UNHCR-Pressereferent Martin Rentsch: „Per Definition fliehen sie vor Krieg, Folter und Menschenrechtsverletzungen. Das unterscheidet sie von Migranten.“                        ©                    AP Photo/ Emrah GurelAlleine alle Flüchtlinge in EU aufnehmen? – Berlin und Paris haben AngstDer Migrationsforscher von der Technischen Universität Dresden, Dr. Oliviero Angeli,\\xa0 definiert Flucht als „eine Form der Migration, aber nicht die einzige Form von Migration“. Es könne auch darüber diskutiert werden, wer unter dem Begriff Flüchtlinge allgemein verstanden werden kann, bemerkt Angeli. Die deutsche Regierung poche dabei sehr stark auf die Definition der Genfer Flüchtlingskonvention. Danach gilt als Flüchtling eine Person, die „aus der begründeten Furcht vor Verfolgung wegen ihrer Rasse, Religion, Nationalität, Zugehörigkeit zu einer bestimmten sozialen Gruppe oder wegen ihrer politischen Überzeugung sich außerhalb des Landes befindet, dessen Staatsangehörigkeit sie besitzt“.„Kein Recht, in\\xa0andere Länder einzuwandern“Die Frage nach der menschenrechtlichen Basis der Migration\\xa0 ist für Angeli „auf legaler Ebene relativ klar“: „Wir haben Rechte, uns innerhalb der Staaten frei zu bewegen oder aus den Staaten auszuwandern. Aber wir haben bis dato kein Recht, in\\xa0andere Länder einzuwandern. Aus moralischer Sicht kann man für dieses Recht eintreten, aber politisch ist es mittel- bis langfristig schwer umsetzbar“, erklärt der Migrationsforscher. Dass die UN-Menschenrechte bis heute keine rechtlich verbindliche Basis besitzen, schwäche die Position derjenigen, die sich für ein Recht auf Bewegungsfreiheit oder für ein Recht auf Einwanderung stark machen, betont Angeli. Dieses Recht müsse man erst in\\xa0der Menschenrechtskonvention stärker etablieren. „Doch dafür ist der politische Wille momentan nicht vorhanden“, so der Politikwissenschaftler Dr. Oliviero Angeli.Der „Globale Pakt für Migration“ wurde am Montag beim UN-Gipfeltreffen in\\xa0Marokko unterzeichnet. Das 34 Seiten umfassende Dokument soll dazu beitragen, Flucht und Migration besser zu organisieren.Das komplette Interview mit Dr. Oliviero Angeli zum Nachhören:Das komplette Interview mit Prof. Dr. Otmar Höll zum Nachhören:Diskussion\"',\n",
       "  'OVER-THRESHOLD',\n",
       "  'flüchtlingen asyl einwanderung flucht flüchtlinge flüchtling migration',\n",
       "  '1461',\n",
       "  '0.537197634217539'],\n",
       " ['http://de.sputniknews.compolitik/20151102305349847',\n",
       "  'http://web.archive.org/web/20181201040148/https://de.sputniknews.com/amp/politik/20151102305349847/',\n",
       "  '20151102',\n",
       "  'Kabul nimmt abgelehnte Asylbewerber aus Deutschland auf',\n",
       "  '{                    \\\\vars\\\\\": {                        \\\\\"counterId\\\\\": \\\\\"27090206\\\\\"                    }                }                                    {                            \\\\\"requests\\\\\": {                                \\\\\"pageview\\\\\": \\\\\"http://web.archive.org/web/20181201040148/https://counter.yadro.ru/hit;RS_Total/Sputniki_Total/Sputniknews?u${ampdocUrl};r${documentReferrer};s${screenWidth}*${screenHeight}*32;h${title};${random}\\\\\"                            },                            \\\\\"triggers\\\\\": {                                \\\\\"track pageview\\\\\": {                                    \\\\\"on\\\\\": \\\\\"visible\\\\\",                                    \\\\\"request\\\\\": \\\\\"pageview\\\\\"                                }                            }                        }                    Alle NachrichtenPolitik                        ©                    AP Photo/ Muhammed MuheisenKabul nimmt abgelehnte Asylbewerber aus Deutschland auf12:37 02.11.2015(aktualisiert  12:42 02.11.2015) Zum KurzlinkThemen: Migrationsproblem in EuropaDie afghanische Regierung hat erklärt, dass sie abgelehnte Asylbewerber aus Deutschland zurücknimmt, meldet Associated Press.Die Ankündigung der Bundesregierung, abgelehnte Asylbewerber aus Afghanistan künftig deutlich häufiger als bisher in\\xa0ihre Heimat abzuschieben, ist von der Regierung in\\xa0Kabul mit Erstaunen und Ablehnung kommentiert worden.                        ©                    AFP 2018/ Robert MichaelAufnahme der Flüchtlinge: „Trotz Finanzstärke – Probleme mentaler Art“ – SoziologeLaut dem afghanischen Minister für Flüchtlingsangelegenheiten, Sayed Hussain Alimi Balkhi weiß seine Regierung von einer solchen Entscheidung nichts. Er habe kürzlich erst einer deutschen Regierungsdelegation in\\xa0Genf gesagt, dass sich die Sicherheitslage in\\xa0Afghanistan verschlechtert habe.„Ich habe sie deshalb ausdrücklich darum gebeten, keine afghanischen Asylbewerber abzuschieben.“ Diese Bitte habe er auch im Gespräch mit dem deutschen Botschafter in\\xa0Afghanistan geäußert.                        ©                    REUTERS/ Kai PfaffenbachDeutschland: Über eine halbe Million Flüchtlinge bereits da - ZeitungDer Präsidentensprecher Safar Haschemi sagte, dass Afghanistan die Asylbewerber zuhause aufnehmen solle. Er fügte hinzu, dass Bundeskanzlerin Angela Merkel und der afghanische Präsident Ashraf Ghani diese Frage vor kurzem besprochen haben.Bis zu einer Million Flüchtlinge könnten in\\xa0diesem Jahr nach Deutschland kommen, wurde schon früher gemeldet. Nach den Angaben des afghanischen Ministeriums für Flüchtlinge und Repatriierung haben in\\xa0diesem Jahr 120.000 Menschen das Land verlassen.Diskussion\"',\n",
       "  'OVER-THRESHOLD',\n",
       "  'migrationsproblem asylbewerber flüchtlinge',\n",
       "  '801',\n",
       "  '0.536986114185067'],\n",
       " ['http://de.sputniknews.companorama/20170307314801061-EuGH-visa-urteil',\n",
       "  'http://web.archive.org/web/20170307115432/https://de.sputniknews.com/amp/panorama/20170307314801061-EuGH-visa-urteil/',\n",
       "  '20170307',\n",
       "  'EuGH-Urteil: Keine \\\\humanitären Visa\\\\\" in EU-Auslandsbotschaften\"',\n",
       "  'Die Behörde argumentierte, dass sich die Familie länger als die mit einem Visum bewilligten 90 Tage in\\xa0Belgien aufhalten wollte\\xa0— schließlich wollten die Syrer dort Asylanträge stellen. Zudem seien EU-Staaten nicht verpflichtet, alle Menschen aufzunehmen, die eine katastrophale Situation durchlebten, hieß es. Der zuständige EuGH-Generalanwalt widersprach dieser Argumentation in\\xa0einem aufsehenerregenden Gutachten. Er schrieb, die Erteilung nationaler Visa werde von einer EU-Verordnung geregelt. Damit gelte auch die Grundrechtecharta der Union. Die wiederum schreibt das Recht auf Asyl fest und verbietet Folter und andere unmenschliche und entwürdigende Behandlung\\xa0— reale Gefahren für die syrische Familie, unterstrich der Gutachter. Damit müsse ein EU-Staat in\\xa0solchen Fällen Visa zur Einreise vergeben und Schutzsuchenden die Möglichkeit geben, in\\xa0Europa Asyl zu verlangen.',\n",
       "  'OVER-THRESHOLD',\n",
       "  'asylanträge asyl',\n",
       "  '116',\n",
       "  '0.536181733211913'],\n",
       " ['http://de.sputniknews.compolitik/20170207314424623-kalifornien-trump-krieg',\n",
       "  'http://web.archive.org/web/20170209143833/https://de.sputniknews.com/amp/politik/20170207314424623-kalifornien-trump-krieg/',\n",
       "  '20170207',\n",
       "  'Kalifornien und Trump erklären einander den Krieg – WP',\n",
       "  '„Das ist lächerlich“, so Trump über Kaliforniens Initiative, ein Asyl-Staat zu werden. „Wie Sie wissen, bin ich absolut gegen diese Asyl-Städte. Sie bringen Kriminalität und es gibt viele Probleme.“ Kalifornien sei in\\xa0vieler Hinsicht „außer Kontrolle geraten“, ist der US-Staatschef überzeugt. „Offenbar stimmen mir die Wähler zu, sonst hätten sie nicht für mich gestimmt.“  Wie WP unter Verweis auf die US-Bundespolizei FBI schreibt, ist die Kriminalität in\\xa0sogenannten „Asyl-Städten“ angeblich sogar niedriger als in\\xa0anderen Ortschaften. Was ist eine „Asyl-Stadt“? In den USA gibt es derzeit laut WP etwa 60 Städte mit speziellen Asyl-Gesetzen („Asyl-Städte“ bzw. „Sanctuary Cities“), darunter Los Angeles und New York. Die Gesetzeslage variiert von Stadt zu Stadt, doch im Allgemeinen beschützt sie illegale Einwanderer, die gewaltlose Verbrechen begangen haben, davor, von den Lokalregierungen an die Bundesbehörden übergeben zu werden. Das Verüben von Kavaliersdelikten durch Migranten führt demnach nicht zwingend zu bundesstaatlichem Gewahrsam. Stadtmitarbeiter und Strafverfolgungsbehörden einer sogenannten Asyl-Stadt dürfen zudem nicht nach dem Einwanderungsstatus eines Strafverdächtigen fragen. Gegner der Verordnung argumentieren, dass diese kriminelle Zuwanderer vor der Abschiebung bewahre.',\n",
       "  'OVER-THRESHOLD',\n",
       "  'migranten',\n",
       "  '174',\n",
       "  '0.536121189018493'],\n",
       " ['http://de.sputniknews.comgesellschaft/20180619321230321-menschenrechte-migranten-usa',\n",
       "  'http://web.archive.org/web/20181225062127/https://de.sputniknews.com/amp/gesellschaft/20180619321230321-menschenrechte-migranten-usa/',\n",
       "  '20180619',\n",
       "  'Kinder von Eltern zu trennen ist skrupellos – UN-Menschenrechtskommissar rügt USA - VIDEO',\n",
       "  '{                    \\\\vars\\\\\": {                        \\\\\"counterId\\\\\": \\\\\"27090206\\\\\"                    }                }                                    {                            \\\\\"requests\\\\\": {                                \\\\\"pageview\\\\\": \\\\\"http://web.archive.org/web/20181225062127/https://counter.yadro.ru/hit;RS_Total/Sputniki_Total/Sputniknews?u${ampdocUrl};r${documentReferrer};s${screenWidth}*${screenHeight}*32;h${title};${random}\\\\\"                            },                            \\\\\"triggers\\\\\": {                                \\\\\"track pageview\\\\\": {                                    \\\\\"on\\\\\": \\\\\"visible\\\\\",                                    \\\\\"request\\\\\": \\\\\"pageview\\\\\"                                }                            }                        }                    Alle NachrichtenGesellschaftKinder von Eltern zu trennen ist skrupellos – UN-Menschenrechtskommissar rügt USA - VIDEOВаш браузер не поддерживает данный формат видео                        ©                    Sputnik/ 14:53 19.06.2018(aktualisiert  18:57 19.06.2018) Zum KurzlinkDer Hochkommissar der Vereinten Nationen für Menschenrechte hat die USA für ihre Praxis gerügt, beim illegalen Grenzübertritt an der mexikanischen Grenze festgenommene Migranten von ihren Kindern zu trennen. Die Idee, Kinder für das Verhalten ihrer Eltern zu bestrafen und diese durch die Misshandlung der Kinder abzuschrecken, sei skrupellos.Der UN-Hochkommissar für Menschenrechte, Zeid Ra’ad Al Hussein, hat in\\xa0Genf die USA scharf angegriffen. Bezugnehmend auf die jüngst forcierte Praxis, an der mexikanisch-US-amerikanischen Grenze festgenommene illegale Einwanderer von ihren Kindern zu trennen, sprach Al Hussein von einer „grausamen Praxis“, die „irreparable Schäden mit lebenslangen Folgen“ nach sich ziehen könnte.\\xa0 Wörtlich sagte der Hochkommissar an die Adresse der US-Regierung: „Die Idee, dass ein Staat versucht, Eltern dadurch abzuschrecken, indem Kindern eine solche Misshandlung zugefügt wird, ist skrupellos.“>>Andere Sputnik-Artikel: Trump: „Menschen in\\xa0Deutschland wenden sich gegen ihre Regierung“Die im Video dokumentierte Passage der Erklärung von Zeid Ra’ad Al Hussein im Wortlaut:„In the United States, I am deeply concerned by\\xa0recently adopted policies which punish children for\\xa0that parent’s actions. In the past\\xa0six weeks, nearly 2,000 children have been forcibly separated from\\xa0their parents. The American Association of\\xa0Pediatrics [APP] has called this cruel practice \\'government-sanctioned child abuse\\' which may cause \\'irreparable harm\\' with \\'lifelong consequences\\'. The thought that any state would seek to\\xa0deter parents by\\xa0inflicting such abuse on\\xa0children is unconscionable. I call on\\xa0the United States to\\xa0immediately end the practice of\\xa0forcible separation of\\xa0these children, and I encourage the government to\\xa0at last ratify the [UN] Convention on\\xa0the Rights of\\xa0the Child, in\\xa0order to\\xa0ensure that the fundamental rights of\\xa0all children, whatever their administrative status, will be at\\xa0the centre of\\xa0all domestic laws and policies.”                        ©                    REUTERS/ Jorge Duenes„Migranten-Karawane“ trifft an Mexikos Grenze zu USA ein – VIDEO“Ich bin zutiefst besorgt über die aktuell in\\xa0den Vereinigten Staaten angewandte Praxis, Kinder für Handlungen ihrer Eltern zu bestrafen. In den vergangenen sechs Wochen wurden beinahe 2.000 Kinder gewaltsam von ihren Eltern getrennt. Die Amerikanische Vereinigung für Kinderheilkunde (APP) nennt diese grausame Praxis „staatlich sanktionierte Kindesmisshandlung, die irreparable Schäden mit lebenslangen Folgen hervorrufen könne“. Die Idee, dass ein Staat versucht, Eltern dadurch abzuschrecken, indem Kindern eine solche Misshandlung zugefügt wird, ist skrupellos. Ich rufe die Vereinigten Staaten auf, unverzüglich die Praxis der gewaltsamen Trennung dieser Kinder zu beenden, und ich ermutige die Regierung, endlich die UN-Konvention für die Rechte der Kinder zu ratifizieren, um sicherzustellen, dass die fundamentalen Rechte aller Kinder, gleich welchen administrativen Status, im Zentrum aller öffentlichen Gesetze und Politik stehen.“>>Andere Sputnik-Artikel: Trump will Migranten „von überall her“Diskussion\"',\n",
       "  'OVER-THRESHOLD',\n",
       "  'einwanderer migranten',\n",
       "  '980',\n",
       "  '0.533417092483392'],\n",
       " ['http://de.sputniknews.compolitik/20180914322316830-eu-ungarn-grenzen-kontrolle',\n",
       "  'http://web.archive.org/web/20180914185523/https://de.sputniknews.com/amp/politik/20180914322316830-eu-ungarn-grenzen-kontrolle/',\n",
       "  '20180914',\n",
       "  'EU will Ungarn „Recht auf Kontrolle eigener Grenzen entziehen” – Orban',\n",
       "  'Das EU-Rechtsstaatsverfahren gegen Ungarn stellt nicht die „geringste Gefahr“ für das Land dar, wie Ungarns Ministerpräsident Viktor Orban in einem Interview mit dem Radiosender Kossuth erklärte. Am vergangenen Mittwoch hat das Europäische Parlament dem Antrag auf ein Strafverfahren gegen Ungarn wegen Verstößen gegen europäische Normen und Prinzipien der Rechtshoheit zugestimmt. Das Europaparlament behandelt erstmals ein Dokument, in\\xa0dem es um die Anwendung von Artikel 7 des EU-Vertrages gegen Ungarn geht. >>>Weitere Sputnik-Artikel: „Dafür würde ich aus dem Amt gejagt“ – Orban zu Merkels Flüchtlingspolitik  „Sie (die EU – Anm. d. Red.) haben einen Plan: Wenn sie Ungarn nicht zur Aufnahme von Flüchtlingen zwingen können, werden sie dem Land das Recht auf Kontrolle der eigenen Grenzen entziehen“, sagte Orban. In Brüssel werden die ungarischen Behörden vor allem für die Weigerung kritisiert, die Entscheidungen der Europäischen Union im Bereich Migrationspolitik zu erfüllen. Mitte Juli hatte die Europäische Kommission beim Europäischen Gerichtshof bereits eine Beschwerde gegen Ungarn eingereicht, da es die EU-Vorschriften zur Asylgewährung für Flüchtlinge nicht befolgt hatte. >>>Weitere Sputnik-Artikel: EU-Kommission reicht beim Europäischen Gerichtshof Klage gegen Ungarn ein',\n",
       "  'OVER-THRESHOLD',\n",
       "  'flüchtlingen flüchtlingspolitik flüchtlinge',\n",
       "  '179',\n",
       "  '0.532563413304608'],\n",
       " ['http://de.sputniknews.com/german.ruvr.ru/2013_11_06/Festung-Europa-von-Migranten-und-Fluchtlingen-3563',\n",
       "  'http://web.archive.org/web/20150722052852/http://de.sputniknews.com/german.ruvr.ru/2013_11_06/Festung-Europa-von-Migranten-und-Fluchtlingen-3563/',\n",
       "  '20131106',\n",
       "  'Festung Europa - von Migranten und Flüchtlingen',\n",
       "  'Foto: Aziz Bozkurt STIMME RUSSLANDS Flüchtlinge im Hungerstreik vor dem Brandenburger Tor, Tote in Lampedusa, unerwünschte Asylanten in Hellersdorf und Schneeberg, von Abschiebung bedrohte Asylbewerber in Hamburg. Schottet Europa sich ab? Nimmt Deutschland genug Flüchtlinge auf? Auf diese und andere Fragen antwortet bei uns im Studio Aziz Bozkurt, Landesvorsitzender der AG Migration und Vielfalt in der SPD Berlin.',\n",
       "  'OVER-THRESHOLD',\n",
       "  'migration asylbewerber flüchtlinge',\n",
       "  '61',\n",
       "  '0.532312736405033'],\n",
       " ['http://de.sputniknews.companorama/20170715316608060-fluechtlinge-selbstanzeigen-terror',\n",
       "  'http://web.archive.org/web/20170715150527/https://de.sputniknews.com/amp/panorama/20170715316608060-fluechtlinge-selbstanzeigen-terror/',\n",
       "  '20170715',\n",
       "  'Selbstanzeigen unter Flüchtlingen „wegen Terrors“ wuchern – aus bizarrem Grund',\n",
       "  'Mehr als 408.000 Asylanträge hat das Bundesamt für Migration und Flüchtlinge (BAMF) im ersten Halbjahr 2017 entschieden – rund 44 Prozent mehr als im gleichen Zeitraum des Vorjahres, berichtet die „Welt“. „Mit den Selbstanzeigen wegen Terrors in\\xa0laufenden Asylverfahren ist eine massive neue Belastung auf die Strafverfolgungsbehörden zugekommen“, so Stuttgarts Generalstaatsanwalt Achim Brauneisen.  Wie die „Welt“ schreibt, wollen viele Asylbewerber mit der Selbstbezichtigung einer Zwangsmitgliedschaft in\\xa0einer islamistischen Gruppierung der Abschiebung entgehen. Dabei würden sie auf den sogenannten subsidiären Schutz hoffen. Der subsidiäre Schutz ist dann gewährt, wenn die Rückkehr eines Asylbewerbers ins Heimatland zu gefährlich ist. Genauer gesagt, wenn ein Ausländer stichhaltige Gründe für die Annahme vorgebracht hat, dass ihm in\\xa0seinem Herkunftsland ein schwerer Schaden droht – beispielsweise Todesstrafe, Folter, unmenschliche oder erniedrigende Behandlung bzw. Bestrafung.',\n",
       "  'OVER-THRESHOLD',\n",
       "  'asylanträge migration asylbewerber flüchtlinge',\n",
       "  '128',\n",
       "  '0.53192302021476']]"
      ]
     },
     "execution_count": 9,
     "metadata": {},
     "output_type": "execute_result"
    }
   ],
   "source": [
    "savelist # list of lists"
   ]
  },
  {
   "cell_type": "code",
   "execution_count": 10,
   "metadata": {},
   "outputs": [
    {
     "data": {
      "text/plain": [
       "['http://de.sputniknews.com/panorama/20150210/301052523.html',\n",
       " 'http://web.archive.org/web/20150315163311/http://de.sputniknews.com/panorama/20150210/301052523.html',\n",
       " '20150210',\n",
       " 'Experte: Rund 1,3 Millionen wehrpflichtige Ukrainer nach Russland geflüchtet',\n",
       " 'In letzter Zeit sei knapp einer halben Million ukrainischer Bürger der Flüchtlingsstatus zuerkannt beziehungsweise befristetes Asyl gewährt worden. „Russland hat keine Pläne, die Grenze für andere zu schließen.“ Zugleich räumte Patruschew erhebliche Probleme bei der Unterbringung immer wieder eintreffender Flüchtlinge ein.',\n",
       " 'OVER-THRESHOLD',\n",
       " 'flüchtlingsstatus asyl flüchtlinge',\n",
       " '43',\n",
       " '0.549349509077681']"
      ]
     },
     "execution_count": 10,
     "metadata": {},
     "output_type": "execute_result"
    }
   ],
   "source": [
    "#we can check the items of the list we created\n",
    "savelist[1]"
   ]
  },
  {
   "cell_type": "code",
   "execution_count": 11,
   "metadata": {},
   "outputs": [
    {
     "data": {
      "text/plain": [
       "'http://web.archive.org/web/20170227192503/https://de.sputniknews.com/amp/politik/20160107306965193-Lindner-Merkel-Migrationspolitik-Chaos-Einwanderungsgesetz/'"
      ]
     },
     "execution_count": 11,
     "metadata": {},
     "output_type": "execute_result"
    }
   ],
   "source": [
    "#access items from a list\n",
    "savelist[0][1]"
   ]
  },
  {
   "cell_type": "markdown",
   "metadata": {},
   "source": [
    "# Mini explanations: Outputting data"
   ]
  },
  {
   "cell_type": "markdown",
   "metadata": {},
   "source": [
    "## Lists"
   ]
  },
  {
   "cell_type": "code",
   "execution_count": 12,
   "metadata": {
    "collapsed": true
   },
   "outputs": [],
   "source": [
    "list2=[\"object2\",'object2']"
   ]
  },
  {
   "cell_type": "code",
   "execution_count": 13,
   "metadata": {
    "collapsed": true
   },
   "outputs": [],
   "source": [
    "import csv\n",
    "\n",
    "with open(\"out.csv\",\"w\") as f:\n",
    "    wr = csv.writer(f,delimiter=\"\\n\")\n",
    "    wr.writerow(list2)"
   ]
  },
  {
   "cell_type": "code",
   "execution_count": 14,
   "metadata": {
    "collapsed": true
   },
   "outputs": [],
   "source": [
    "with open(\"out2.csv\",\"w\") as f:\n",
    "    wr = csv.writer(f,delimiter=\"\\t\")\n",
    "    wr.writerow(list2)"
   ]
  },
  {
   "cell_type": "markdown",
   "metadata": {},
   "source": [
    "## Strings"
   ]
  },
  {
   "cell_type": "code",
   "execution_count": 15,
   "metadata": {},
   "outputs": [
    {
     "data": {
      "text/plain": [
       "'I am happy to join with you today in what will go down in history as the greatest demonstration for freedom in the history of our nation.\\n\\nFive score years ago, a great American, in whose symbolic shadow we stand today, signed the Emancipation Proclamation. This momentous decree came as a great beacon light of hope to millions of Negro slaves who had been seared in the flames of withering injustice. It came as a joyous daybreak to end the long night of their captivity.\\n\\nBut one hundred years later, the Negro still is not free. One hundred years later, the life of the Negro is still sadly crippled by the manacles of segregation and the chains of discrimination. One hundred years later, the Negro lives on a lonely island of poverty in the midst of a vast ocean of material prosperity. One hundred years later, the Negro is still languished in the corners of American society and finds himself an exile in his own land. And so we\\'ve come here today to dramatize a shameful condition.\\n\\nIn a sense we\\'ve come to our nation\\'s capital to cash a check. When the architects of our republic wrote the magnificent words of the Constitution and the Declaration of Independence, they were signing a promissory note to which every American was to fall heir. This note was a promise that all men, yes, black men as well as white men, would be guaranteed the \"unalienable Rights\" of \"Life, Liberty and the pursuit of Happiness.\" It is obvious today that America has defaulted on this promissory note, insofar as her citizens of color are concerned. Instead of honoring this sacred obligation, America has given the Negro people a bad check, a check which has come back marked \"insufficient funds.\"\\n\\nBut we refuse to believe that the bank of justice is bankrupt. We refuse to believe that there are insufficient funds in the great vaults of opportunity of this nation. And so, we\\'ve come to cash this check, a check that will give us upon demand the riches of freedom and the security of justice.\\n\\nWe have also come to this hallowed spot to remind America of the fierce urgency of Now. This is no time to engage in the luxury of cooling off or to take the tranquilizing drug of gradualism. Now is the time to make real the promises of democracy. Now is the time to rise from the dark and desolate valley of segregation to the sunlit path of racial justice. Now is the time to lift our nation from the quicksands of racial injustice to the solid rock of brotherhood. Now is the time to make justice a reality for all of God\\'s children.\\n\\nIt would be fatal for the nation to overlook the urgency of the moment. This sweltering summer of the Negro\\'s legitimate discontent will not pass until there is an invigorating autumn of freedom and equality. Nineteen sixty-three is not an end, but a beginning. And those who hope that the Negro needed to blow off steam and will now be content will have a rude awakening if the nation returns to business as usual. And there will be neither rest nor tranquility in America until the Negro is granted his citizenship rights. The whirlwinds of revolt will continue to shake the foundations of our nation until the bright day of justice emerges.\\n\\nBut there is something that I must say to my people, who stand on the warm threshold which leads into the palace of justice: In the process of gaining our rightful place, we must not be guilty of wrongful deeds. Let us not seek to satisfy our thirst for freedom by drinking from the cup of bitterness and hatred. We must forever conduct our struggle on the high plane of dignity and discipline. We must not allow our creative protest to degenerate into physical violence. Again and again, we must rise to the majestic heights of meeting physical force with soul force.\\n\\nThe marvelous new militancy which has engulfed the Negro community must not lead us to a distrust of all white people, for many of our white brothers, as evidenced by their presence here today, have come to realize that their destiny is tied up with our destiny. And they have come to realize that their freedom is inextricably bound to our freedom.\\n\\nWe cannot walk alone.\\n\\nAnd as we walk, we must make the pledge that we shall always march ahead.\\n\\nWe cannot turn back.\\n\\nThere are those who are asking the devotees of civil rights, \"When will you be satisfied?\" We can never be satisfied as long as the Negro is the victim of the unspeakable horrors of police brutality. We can never be satisfied as long as our bodies, heavy with the fatigue of travel, cannot gain lodging in the motels of the highways and the hotels of the cities. **We cannot be satisfied as long as the negro\\'s basic mobility is from a smaller ghetto to a larger one. We can never be satisfied as long as our children are stripped of their self-hood and robbed of their dignity by signs stating: \"For Whites Only.\"** We cannot be satisfied as long as a Negro in Mississippi cannot vote and a Negro in New York believes he has nothing for which to vote. No, no, we are not satisfied, and we will not be satisfied until \"justice rolls down like waters, and righteousness like a mighty stream.\"1\\n\\nI am not unmindful that some of you have come here out of great trials and tribulations. Some of you have come fresh from narrow jail cells. And some of you have come from areas where your quest -- quest for freedom left you battered by the storms of persecution and staggered by the winds of police brutality. You have been the veterans of creative suffering. Continue to work with the faith that unearned suffering is redemptive. Go back to Mississippi, go back to Alabama, go back to South Carolina, go back to Georgia, go back to Louisiana, go back to the slums and ghettos of our northern cities, knowing that somehow this situation can and will be changed.\\n\\nLet us not wallow in the valley of despair, I say to you today, my friends.\\n\\nAnd so even though we face the difficulties of today and tomorrow, I still have a dream. It is a dream deeply rooted in the American dream.\\n\\nI have a dream that one day this nation will rise up and live out the true meaning of its creed: \"We hold these truths to be self-evident, that all men are created equal.\"\\n\\nI have a dream that one day on the red hills of Georgia, the sons of former slaves and the sons of former slave owners will be able to sit down together at the table of brotherhood.\\n\\nI have a dream that one day even the state of Mississippi, a state sweltering with the heat of injustice, sweltering with the heat of oppression, will be transformed into an oasis of freedom and justice.\\n\\nI have a dream that my four little children will one day live in a nation where they will not be judged by the color of their skin but by the content of their character.\\n\\nI have a dream today!\\n\\nI have a dream that one day, down in Alabama, with its vicious racists, with its governor having his lips dripping with the words of \"interposition\" and \"nullification\" -- one day right there in Alabama little black boys and black girls will be able to join hands with little white boys and white girls as sisters and brothers.\\n\\nI have a dream today!\\n\\nI have a dream that one day every valley shall be exalted, and every hill and mountain shall be made low, the rough places will be made plain, and the crooked places will be made straight; \"and the glory of the Lord shall be revealed and all flesh shall see it together.\"2\\n\\nThis is our hope, and this is the faith that I go back to the South with.\\n\\nWith this faith, we will be able to hew out of the mountain of despair a stone of hope. With this faith, we will be able to transform the jangling discords of our nation into a beautiful symphony of brotherhood. With this faith, we will be able to work together, to pray together, to struggle together, to go to jail together, to stand up for freedom together, knowing that we will be free one day.\\n\\nAnd this will be the day -- this will be the day when all of God\\'s children will be able to sing with new meaning:\\n\\nMy country \\'tis of thee, sweet land of liberty, of thee I sing. Land where my fathers died, land of the Pilgrim\\'s pride,    From every mountainside, let freedom ring!\\n\\nAnd if America is to be a great nation, this must become true.\\n\\nAnd so let freedom ring from the prodigious hilltops of New Hampshire.\\n\\nLet freedom ring from the mighty mountains of New York.\\n\\nLet freedom ring from the heightening Alleghenies of Pennsylvania.\\n\\nLet freedom ring from the snow-capped Rockies of Colorado.\\n\\nLet freedom ring from the curvaceous slopes of California.\\n\\nBut not only that:\\n\\nLet freedom ring from Stone Mountain of Georgia.\\n\\nLet freedom ring from Lookout Mountain of Tennessee.\\n\\nLet freedom ring from every hill and molehill of Mississippi.\\n\\nFrom every mountainside, let freedom ring\\n\\nAnd when this happens, and when we allow freedom ring, when we let it ring from every village and every hamlet, from every state and every city, we will be able to speed up that day when all of God\\'s children, black men and white men, Jews and Gentiles, Protestants and Catholics, will be able to join hands and sing in the words of the old Negro spiritual:\\n\\nFree at last! Free at last!\\n\\nThank God Almighty, we are free at last!3'"
      ]
     },
     "execution_count": 15,
     "metadata": {},
     "output_type": "execute_result"
    }
   ],
   "source": [
    "filepath = \"/Users/Ashrakat/Dropbox/University/Oxford/Jobs/Teaching/Text Analysis/code/Basics-of-Text-Analysis-for-Political-Science/Data/ihaveadream.txt\"\n",
    "text=open(filepath)\n",
    "text=text.read()\n",
    "text"
   ]
  },
  {
   "cell_type": "code",
   "execution_count": 16,
   "metadata": {
    "collapsed": true
   },
   "outputs": [],
   "source": [
    "with open('text_test.txt', 'w+') as fh:\n",
    "    fh.write(text)"
   ]
  },
  {
   "cell_type": "markdown",
   "metadata": {},
   "source": [
    "# Glob Module - Load several texts"
   ]
  },
  {
   "cell_type": "code",
   "execution_count": 17,
   "metadata": {
    "collapsed": true
   },
   "outputs": [],
   "source": [
    "import glob"
   ]
  },
  {
   "cell_type": "markdown",
   "metadata": {},
   "source": [
    "### Lets print the filenames in a certain folder"
   ]
  },
  {
   "cell_type": "code",
   "execution_count": 18,
   "metadata": {},
   "outputs": [
    {
     "name": "stdout",
     "output_type": "stream",
     "text": [
      "/Users/Ashrakat/Downloads/Data Day 4/CleanedArticles\n",
      "/Users/Ashrakat/Downloads/Data Day 4/Ishouldberemoved.tsv\n",
      "/Users/Ashrakat/Downloads/Data Day 4/sputnik11.txt\n",
      "/Users/Ashrakat/Downloads/Data Day 4/text1.txt\n",
      "/Users/Ashrakat/Downloads/Data Day 4/text2.txt\n",
      "/Users/Ashrakat/Downloads/Data Day 4/text3.txt\n",
      "/Users/Ashrakat/Downloads/Data Day 4/text4.txt\n",
      "/Users/Ashrakat/Downloads/Data Day 4/text5.txt\n",
      "/Users/Ashrakat/Downloads/Data Day 4/text6.txt\n",
      "/Users/Ashrakat/Downloads/Data Day 4/text7.txt\n",
      "/Users/Ashrakat/Downloads/Data Day 4/text8.txt\n",
      "/Users/Ashrakat/Downloads/Data Day 4/text9.txt\n"
     ]
    }
   ],
   "source": [
    "\n",
    "for fname in glob.glob(\"/Users/Ashrakat/Downloads/Data Day 4/*\"):\n",
    "    print(fname)"
   ]
  },
  {
   "cell_type": "markdown",
   "metadata": {},
   "source": [
    "### how do we only filter txt files"
   ]
  },
  {
   "cell_type": "code",
   "execution_count": 19,
   "metadata": {},
   "outputs": [
    {
     "name": "stdout",
     "output_type": "stream",
     "text": [
      "/Users/Ashrakat/Downloads/Data Day 4/sputnik11.txt\n",
      "/Users/Ashrakat/Downloads/Data Day 4/text1.txt\n",
      "/Users/Ashrakat/Downloads/Data Day 4/text2.txt\n",
      "/Users/Ashrakat/Downloads/Data Day 4/text3.txt\n",
      "/Users/Ashrakat/Downloads/Data Day 4/text4.txt\n",
      "/Users/Ashrakat/Downloads/Data Day 4/text5.txt\n",
      "/Users/Ashrakat/Downloads/Data Day 4/text6.txt\n",
      "/Users/Ashrakat/Downloads/Data Day 4/text7.txt\n",
      "/Users/Ashrakat/Downloads/Data Day 4/text8.txt\n",
      "/Users/Ashrakat/Downloads/Data Day 4/text9.txt\n"
     ]
    }
   ],
   "source": [
    "for fname in glob.glob(\"/Users/Ashrakat/Downloads/Data Day 4/*.txt\"):\n",
    "    print(fname)"
   ]
  },
  {
   "cell_type": "markdown",
   "metadata": {},
   "source": [
    "### we want the files that have the same name"
   ]
  },
  {
   "cell_type": "code",
   "execution_count": 20,
   "metadata": {},
   "outputs": [
    {
     "name": "stdout",
     "output_type": "stream",
     "text": [
      "/Users/Ashrakat/Downloads/Data Day 4/text1.txt\n",
      "/Users/Ashrakat/Downloads/Data Day 4/text2.txt\n",
      "/Users/Ashrakat/Downloads/Data Day 4/text3.txt\n",
      "/Users/Ashrakat/Downloads/Data Day 4/text4.txt\n",
      "/Users/Ashrakat/Downloads/Data Day 4/text5.txt\n",
      "/Users/Ashrakat/Downloads/Data Day 4/text6.txt\n",
      "/Users/Ashrakat/Downloads/Data Day 4/text7.txt\n",
      "/Users/Ashrakat/Downloads/Data Day 4/text8.txt\n",
      "/Users/Ashrakat/Downloads/Data Day 4/text9.txt\n"
     ]
    }
   ],
   "source": [
    "for filename in glob.glob(\"/Users/Ashrakat/Downloads/Data Day 4/text?.txt\"):\n",
    "    print(filename)"
   ]
  },
  {
   "cell_type": "code",
   "execution_count": null,
   "metadata": {
    "collapsed": true
   },
   "outputs": [],
   "source": []
  },
  {
   "cell_type": "markdown",
   "metadata": {},
   "source": [
    "## OS Module\n",
    "\n",
    "Very powerful:\n",
    "\n",
    "1. can create and remove directories\n",
    "2. check if something is in a directory\n",
    "3. can rename files (os.rename())\n",
    "\n",
    "and much more\n"
   ]
  },
  {
   "cell_type": "markdown",
   "metadata": {},
   "source": [
    "## Windows users"
   ]
  },
  {
   "cell_type": "code",
   "execution_count": 21,
   "metadata": {},
   "outputs": [
    {
     "name": "stdout",
     "output_type": "stream",
     "text": [
      "/home/Documents\n"
     ]
    }
   ],
   "source": [
    "#for windows users to get a path\n",
    "# please use forward slashes\n",
    "\n",
    "import os\n",
    "path = '/home/./Documents'\n",
    "norm_path = os.path.normpath(path) \n",
    "print(norm_path)"
   ]
  },
  {
   "cell_type": "markdown",
   "metadata": {},
   "source": [
    "## Get my working directory"
   ]
  },
  {
   "cell_type": "code",
   "execution_count": 22,
   "metadata": {},
   "outputs": [
    {
     "name": "stdout",
     "output_type": "stream",
     "text": [
      "/Users/Ashrakat/Dropbox/University/Oxford/Jobs/Teaching/Text Analysis/code/Basics-of-Text-Analysis-for-Political-Science/Python code/Exercise Solutions\n"
     ]
    }
   ],
   "source": [
    "import os\n",
    "#which directory am I using right now\n",
    "print(os.getcwd())"
   ]
  },
  {
   "cell_type": "markdown",
   "metadata": {},
   "source": [
    "## Check if I am pointing at the correct file"
   ]
  },
  {
   "cell_type": "code",
   "execution_count": 23,
   "metadata": {},
   "outputs": [
    {
     "data": {
      "text/plain": [
       "'ihaveadream.txt'"
      ]
     },
     "execution_count": 23,
     "metadata": {},
     "output_type": "execute_result"
    }
   ],
   "source": [
    "# let's use a filepath for testing it out:\n",
    "filepath = \"../Basics-of-Text-Analysis-for-Political-Science/Data/ihaveadream.txt\"\n",
    "filepath\n",
    "\n",
    "os.path.basename(filepath)"
   ]
  },
  {
   "cell_type": "markdown",
   "metadata": {},
   "source": [
    "## Check what files are in my directory"
   ]
  },
  {
   "cell_type": "code",
   "execution_count": 24,
   "metadata": {},
   "outputs": [
    {
     "data": {
      "text/plain": [
       "['.DS_Store',\n",
       " 'CleanedArticles',\n",
       " 'Ishouldberemoved.tsv',\n",
       " 'sputnik11.txt',\n",
       " 'text1.txt',\n",
       " 'text2.txt',\n",
       " 'text3.txt',\n",
       " 'text4.txt',\n",
       " 'text5.txt',\n",
       " 'text6.txt',\n",
       " 'text7.txt',\n",
       " 'text8.txt',\n",
       " 'text9.txt']"
      ]
     },
     "execution_count": 24,
     "metadata": {},
     "output_type": "execute_result"
    }
   ],
   "source": [
    "os.listdir(\"/Users/Ashrakat/Downloads/Data Day 4\")\n"
   ]
  },
  {
   "cell_type": "code",
   "execution_count": null,
   "metadata": {
    "collapsed": true
   },
   "outputs": [],
   "source": []
  },
  {
   "cell_type": "code",
   "execution_count": null,
   "metadata": {
    "collapsed": true
   },
   "outputs": [],
   "source": []
  },
  {
   "cell_type": "markdown",
   "metadata": {},
   "source": [
    "# NLP Pipleline until now \n",
    "## we have been focusing on preliminary cleaning methods\n",
    "\n",
    "1. lowercase\n",
    "2. remove puntcuation\n",
    "3. remove numbers\n",
    "\n",
    "## today we learn more about stopwords\n",
    "- **stopwords**"
   ]
  },
  {
   "cell_type": "code",
   "execution_count": 25,
   "metadata": {},
   "outputs": [
    {
     "data": {
      "text/plain": [
       "'I am happy to join with you today in what will go down in history as the greatest demonstration for freedom in the history of our nation.\\n\\nFive score years ago, a great American, in whose symbolic shadow we stand today, signed the Emancipation Proclamation. This momentous decree came as a great beacon light of hope to millions of Negro slaves who had been seared in the flames of withering injustice. It came as a joyous daybreak to end the long night of their captivity.\\n\\nBut one hundred years later, the Negro still is not free. One hundred years later, the life of the Negro is still sadly crippled by the manacles of segregation and the chains of discrimination. One hundred years later, the Negro lives on a lonely island of poverty in the midst of a vast ocean of material prosperity. One hundred years later, the Negro is still languished in the corners of American society and finds himself an exile in his own land. And so we\\'ve come here today to dramatize a shameful condition.\\n\\nIn a sense we\\'ve come to our nation\\'s capital to cash a check. When the architects of our republic wrote the magnificent words of the Constitution and the Declaration of Independence, they were signing a promissory note to which every American was to fall heir. This note was a promise that all men, yes, black men as well as white men, would be guaranteed the \"unalienable Rights\" of \"Life, Liberty and the pursuit of Happiness.\" It is obvious today that America has defaulted on this promissory note, insofar as her citizens of color are concerned. Instead of honoring this sacred obligation, America has given the Negro people a bad check, a check which has come back marked \"insufficient funds.\"\\n\\nBut we refuse to believe that the bank of justice is bankrupt. We refuse to believe that there are insufficient funds in the great vaults of opportunity of this nation. And so, we\\'ve come to cash this check, a check that will give us upon demand the riches of freedom and the security of justice.\\n\\nWe have also come to this hallowed spot to remind America of the fierce urgency of Now. This is no time to engage in the luxury of cooling off or to take the tranquilizing drug of gradualism. Now is the time to make real the promises of democracy. Now is the time to rise from the dark and desolate valley of segregation to the sunlit path of racial justice. Now is the time to lift our nation from the quicksands of racial injustice to the solid rock of brotherhood. Now is the time to make justice a reality for all of God\\'s children.\\n\\nIt would be fatal for the nation to overlook the urgency of the moment. This sweltering summer of the Negro\\'s legitimate discontent will not pass until there is an invigorating autumn of freedom and equality. Nineteen sixty-three is not an end, but a beginning. And those who hope that the Negro needed to blow off steam and will now be content will have a rude awakening if the nation returns to business as usual. And there will be neither rest nor tranquility in America until the Negro is granted his citizenship rights. The whirlwinds of revolt will continue to shake the foundations of our nation until the bright day of justice emerges.\\n\\nBut there is something that I must say to my people, who stand on the warm threshold which leads into the palace of justice: In the process of gaining our rightful place, we must not be guilty of wrongful deeds. Let us not seek to satisfy our thirst for freedom by drinking from the cup of bitterness and hatred. We must forever conduct our struggle on the high plane of dignity and discipline. We must not allow our creative protest to degenerate into physical violence. Again and again, we must rise to the majestic heights of meeting physical force with soul force.\\n\\nThe marvelous new militancy which has engulfed the Negro community must not lead us to a distrust of all white people, for many of our white brothers, as evidenced by their presence here today, have come to realize that their destiny is tied up with our destiny. And they have come to realize that their freedom is inextricably bound to our freedom.\\n\\nWe cannot walk alone.\\n\\nAnd as we walk, we must make the pledge that we shall always march ahead.\\n\\nWe cannot turn back.\\n\\nThere are those who are asking the devotees of civil rights, \"When will you be satisfied?\" We can never be satisfied as long as the Negro is the victim of the unspeakable horrors of police brutality. We can never be satisfied as long as our bodies, heavy with the fatigue of travel, cannot gain lodging in the motels of the highways and the hotels of the cities. **We cannot be satisfied as long as the negro\\'s basic mobility is from a smaller ghetto to a larger one. We can never be satisfied as long as our children are stripped of their self-hood and robbed of their dignity by signs stating: \"For Whites Only.\"** We cannot be satisfied as long as a Negro in Mississippi cannot vote and a Negro in New York believes he has nothing for which to vote. No, no, we are not satisfied, and we will not be satisfied until \"justice rolls down like waters, and righteousness like a mighty stream.\"1\\n\\nI am not unmindful that some of you have come here out of great trials and tribulations. Some of you have come fresh from narrow jail cells. And some of you have come from areas where your quest -- quest for freedom left you battered by the storms of persecution and staggered by the winds of police brutality. You have been the veterans of creative suffering. Continue to work with the faith that unearned suffering is redemptive. Go back to Mississippi, go back to Alabama, go back to South Carolina, go back to Georgia, go back to Louisiana, go back to the slums and ghettos of our northern cities, knowing that somehow this situation can and will be changed.\\n\\nLet us not wallow in the valley of despair, I say to you today, my friends.\\n\\nAnd so even though we face the difficulties of today and tomorrow, I still have a dream. It is a dream deeply rooted in the American dream.\\n\\nI have a dream that one day this nation will rise up and live out the true meaning of its creed: \"We hold these truths to be self-evident, that all men are created equal.\"\\n\\nI have a dream that one day on the red hills of Georgia, the sons of former slaves and the sons of former slave owners will be able to sit down together at the table of brotherhood.\\n\\nI have a dream that one day even the state of Mississippi, a state sweltering with the heat of injustice, sweltering with the heat of oppression, will be transformed into an oasis of freedom and justice.\\n\\nI have a dream that my four little children will one day live in a nation where they will not be judged by the color of their skin but by the content of their character.\\n\\nI have a dream today!\\n\\nI have a dream that one day, down in Alabama, with its vicious racists, with its governor having his lips dripping with the words of \"interposition\" and \"nullification\" -- one day right there in Alabama little black boys and black girls will be able to join hands with little white boys and white girls as sisters and brothers.\\n\\nI have a dream today!\\n\\nI have a dream that one day every valley shall be exalted, and every hill and mountain shall be made low, the rough places will be made plain, and the crooked places will be made straight; \"and the glory of the Lord shall be revealed and all flesh shall see it together.\"2\\n\\nThis is our hope, and this is the faith that I go back to the South with.\\n\\nWith this faith, we will be able to hew out of the mountain of despair a stone of hope. With this faith, we will be able to transform the jangling discords of our nation into a beautiful symphony of brotherhood. With this faith, we will be able to work together, to pray together, to struggle together, to go to jail together, to stand up for freedom together, knowing that we will be free one day.\\n\\nAnd this will be the day -- this will be the day when all of God\\'s children will be able to sing with new meaning:\\n\\nMy country \\'tis of thee, sweet land of liberty, of thee I sing. Land where my fathers died, land of the Pilgrim\\'s pride,    From every mountainside, let freedom ring!\\n\\nAnd if America is to be a great nation, this must become true.\\n\\nAnd so let freedom ring from the prodigious hilltops of New Hampshire.\\n\\nLet freedom ring from the mighty mountains of New York.\\n\\nLet freedom ring from the heightening Alleghenies of Pennsylvania.\\n\\nLet freedom ring from the snow-capped Rockies of Colorado.\\n\\nLet freedom ring from the curvaceous slopes of California.\\n\\nBut not only that:\\n\\nLet freedom ring from Stone Mountain of Georgia.\\n\\nLet freedom ring from Lookout Mountain of Tennessee.\\n\\nLet freedom ring from every hill and molehill of Mississippi.\\n\\nFrom every mountainside, let freedom ring\\n\\nAnd when this happens, and when we allow freedom ring, when we let it ring from every village and every hamlet, from every state and every city, we will be able to speed up that day when all of God\\'s children, black men and white men, Jews and Gentiles, Protestants and Catholics, will be able to join hands and sing in the words of the old Negro spiritual:\\n\\nFree at last! Free at last!\\n\\nThank God Almighty, we are free at last!3'"
      ]
     },
     "execution_count": 25,
     "metadata": {},
     "output_type": "execute_result"
    }
   ],
   "source": [
    "file1 = open('/Users/Ashrakat/Dropbox/University/Oxford/Jobs/Teaching/Text Analysis/code/Basics-of-Text-Analysis-for-Political-Science/Data/ihaveadream.txt', 'r')\n",
    "file=file1.read()\n",
    "file"
   ]
  },
  {
   "cell_type": "code",
   "execution_count": 26,
   "metadata": {},
   "outputs": [
    {
     "data": {
      "text/plain": [
       "'I am happy to join with you today in what will go down in history as the greatest demonstration for freedom in the history of our nation.Five score years ago, a great American, in whose symbolic shadow we stand today, signed the Emancipation Proclamation. This momentous decree came as a great beacon light of hope to millions of Negro slaves who had been seared in the flames of withering injustice. It came as a joyous daybreak to end the long night of their captivity.But one hundred years later, the Negro still is not free. One hundred years later, the life of the Negro is still sadly crippled by the manacles of segregation and the chains of discrimination. One hundred years later, the Negro lives on a lonely island of poverty in the midst of a vast ocean of material prosperity. One hundred years later, the Negro is still languished in the corners of American society and finds himself an exile in his own land. And so we\\'ve come here today to dramatize a shameful condition.In a sense we\\'ve come to our nation\\'s capital to cash a check. When the architects of our republic wrote the magnificent words of the Constitution and the Declaration of Independence, they were signing a promissory note to which every American was to fall heir. This note was a promise that all men, yes, black men as well as white men, would be guaranteed the \"unalienable Rights\" of \"Life, Liberty and the pursuit of Happiness.\" It is obvious today that America has defaulted on this promissory note, insofar as her citizens of color are concerned. Instead of honoring this sacred obligation, America has given the Negro people a bad check, a check which has come back marked \"insufficient funds.\"But we refuse to believe that the bank of justice is bankrupt. We refuse to believe that there are insufficient funds in the great vaults of opportunity of this nation. And so, we\\'ve come to cash this check, a check that will give us upon demand the riches of freedom and the security of justice.We have also come to this hallowed spot to remind America of the fierce urgency of Now. This is no time to engage in the luxury of cooling off or to take the tranquilizing drug of gradualism. Now is the time to make real the promises of democracy. Now is the time to rise from the dark and desolate valley of segregation to the sunlit path of racial justice. Now is the time to lift our nation from the quicksands of racial injustice to the solid rock of brotherhood. Now is the time to make justice a reality for all of God\\'s children.It would be fatal for the nation to overlook the urgency of the moment. This sweltering summer of the Negro\\'s legitimate discontent will not pass until there is an invigorating autumn of freedom and equality. Nineteen sixty-three is not an end, but a beginning. And those who hope that the Negro needed to blow off steam and will now be content will have a rude awakening if the nation returns to business as usual. And there will be neither rest nor tranquility in America until the Negro is granted his citizenship rights. The whirlwinds of revolt will continue to shake the foundations of our nation until the bright day of justice emerges.But there is something that I must say to my people, who stand on the warm threshold which leads into the palace of justice: In the process of gaining our rightful place, we must not be guilty of wrongful deeds. Let us not seek to satisfy our thirst for freedom by drinking from the cup of bitterness and hatred. We must forever conduct our struggle on the high plane of dignity and discipline. We must not allow our creative protest to degenerate into physical violence. Again and again, we must rise to the majestic heights of meeting physical force with soul force.The marvelous new militancy which has engulfed the Negro community must not lead us to a distrust of all white people, for many of our white brothers, as evidenced by their presence here today, have come to realize that their destiny is tied up with our destiny. And they have come to realize that their freedom is inextricably bound to our freedom.We cannot walk alone.And as we walk, we must make the pledge that we shall always march ahead.We cannot turn back.There are those who are asking the devotees of civil rights, \"When will you be satisfied?\" We can never be satisfied as long as the Negro is the victim of the unspeakable horrors of police brutality. We can never be satisfied as long as our bodies, heavy with the fatigue of travel, cannot gain lodging in the motels of the highways and the hotels of the cities. **We cannot be satisfied as long as the negro\\'s basic mobility is from a smaller ghetto to a larger one. We can never be satisfied as long as our children are stripped of their self-hood and robbed of their dignity by signs stating: \"For Whites Only.\"** We cannot be satisfied as long as a Negro in Mississippi cannot vote and a Negro in New York believes he has nothing for which to vote. No, no, we are not satisfied, and we will not be satisfied until \"justice rolls down like waters, and righteousness like a mighty stream.\"1I am not unmindful that some of you have come here out of great trials and tribulations. Some of you have come fresh from narrow jail cells. And some of you have come from areas where your quest -- quest for freedom left you battered by the storms of persecution and staggered by the winds of police brutality. You have been the veterans of creative suffering. Continue to work with the faith that unearned suffering is redemptive. Go back to Mississippi, go back to Alabama, go back to South Carolina, go back to Georgia, go back to Louisiana, go back to the slums and ghettos of our northern cities, knowing that somehow this situation can and will be changed.Let us not wallow in the valley of despair, I say to you today, my friends.And so even though we face the difficulties of today and tomorrow, I still have a dream. It is a dream deeply rooted in the American dream.I have a dream that one day this nation will rise up and live out the true meaning of its creed: \"We hold these truths to be self-evident, that all men are created equal.\"I have a dream that one day on the red hills of Georgia, the sons of former slaves and the sons of former slave owners will be able to sit down together at the table of brotherhood.I have a dream that one day even the state of Mississippi, a state sweltering with the heat of injustice, sweltering with the heat of oppression, will be transformed into an oasis of freedom and justice.I have a dream that my four little children will one day live in a nation where they will not be judged by the color of their skin but by the content of their character.I have a dream today!I have a dream that one day, down in Alabama, with its vicious racists, with its governor having his lips dripping with the words of \"interposition\" and \"nullification\" -- one day right there in Alabama little black boys and black girls will be able to join hands with little white boys and white girls as sisters and brothers.I have a dream today!I have a dream that one day every valley shall be exalted, and every hill and mountain shall be made low, the rough places will be made plain, and the crooked places will be made straight; \"and the glory of the Lord shall be revealed and all flesh shall see it together.\"2This is our hope, and this is the faith that I go back to the South with.With this faith, we will be able to hew out of the mountain of despair a stone of hope. With this faith, we will be able to transform the jangling discords of our nation into a beautiful symphony of brotherhood. With this faith, we will be able to work together, to pray together, to struggle together, to go to jail together, to stand up for freedom together, knowing that we will be free one day.And this will be the day -- this will be the day when all of God\\'s children will be able to sing with new meaning:My country \\'tis of thee, sweet land of liberty, of thee I sing. Land where my fathers died, land of the Pilgrim\\'s pride,    From every mountainside, let freedom ring!And if America is to be a great nation, this must become true.And so let freedom ring from the prodigious hilltops of New Hampshire.Let freedom ring from the mighty mountains of New York.Let freedom ring from the heightening Alleghenies of Pennsylvania.Let freedom ring from the snow-capped Rockies of Colorado.Let freedom ring from the curvaceous slopes of California.But not only that:Let freedom ring from Stone Mountain of Georgia.Let freedom ring from Lookout Mountain of Tennessee.Let freedom ring from every hill and molehill of Mississippi.From every mountainside, let freedom ringAnd when this happens, and when we allow freedom ring, when we let it ring from every village and every hamlet, from every state and every city, we will be able to speed up that day when all of God\\'s children, black men and white men, Jews and Gentiles, Protestants and Catholics, will be able to join hands and sing in the words of the old Negro spiritual:Free at last! Free at last!Thank God Almighty, we are free at last!3'"
      ]
     },
     "execution_count": 26,
     "metadata": {},
     "output_type": "execute_result"
    }
   ],
   "source": [
    "#lets remove the stops \n",
    "file2=file.replace('\\n\\n','')\n",
    "file2"
   ]
  },
  {
   "cell_type": "code",
   "execution_count": 27,
   "metadata": {},
   "outputs": [
    {
     "data": {
      "text/plain": [
       "'i am happy to join with you today in what will go down in history as the greatest demonstration for freedom in the history of our nation.five score years ago, a great american, in whose symbolic shadow we stand today, signed the emancipation proclamation. this momentous decree came as a great beacon light of hope to millions of negro slaves who had been seared in the flames of withering injustice. it came as a joyous daybreak to end the long night of their captivity.but one hundred years later, the negro still is not free. one hundred years later, the life of the negro is still sadly crippled by the manacles of segregation and the chains of discrimination. one hundred years later, the negro lives on a lonely island of poverty in the midst of a vast ocean of material prosperity. one hundred years later, the negro is still languished in the corners of american society and finds himself an exile in his own land. and so we\\'ve come here today to dramatize a shameful condition.in a sense we\\'ve come to our nation\\'s capital to cash a check. when the architects of our republic wrote the magnificent words of the constitution and the declaration of independence, they were signing a promissory note to which every american was to fall heir. this note was a promise that all men, yes, black men as well as white men, would be guaranteed the \"unalienable rights\" of \"life, liberty and the pursuit of happiness.\" it is obvious today that america has defaulted on this promissory note, insofar as her citizens of color are concerned. instead of honoring this sacred obligation, america has given the negro people a bad check, a check which has come back marked \"insufficient funds.\"but we refuse to believe that the bank of justice is bankrupt. we refuse to believe that there are insufficient funds in the great vaults of opportunity of this nation. and so, we\\'ve come to cash this check, a check that will give us upon demand the riches of freedom and the security of justice.we have also come to this hallowed spot to remind america of the fierce urgency of now. this is no time to engage in the luxury of cooling off or to take the tranquilizing drug of gradualism. now is the time to make real the promises of democracy. now is the time to rise from the dark and desolate valley of segregation to the sunlit path of racial justice. now is the time to lift our nation from the quicksands of racial injustice to the solid rock of brotherhood. now is the time to make justice a reality for all of god\\'s children.it would be fatal for the nation to overlook the urgency of the moment. this sweltering summer of the negro\\'s legitimate discontent will not pass until there is an invigorating autumn of freedom and equality. nineteen sixty-three is not an end, but a beginning. and those who hope that the negro needed to blow off steam and will now be content will have a rude awakening if the nation returns to business as usual. and there will be neither rest nor tranquility in america until the negro is granted his citizenship rights. the whirlwinds of revolt will continue to shake the foundations of our nation until the bright day of justice emerges.but there is something that i must say to my people, who stand on the warm threshold which leads into the palace of justice: in the process of gaining our rightful place, we must not be guilty of wrongful deeds. let us not seek to satisfy our thirst for freedom by drinking from the cup of bitterness and hatred. we must forever conduct our struggle on the high plane of dignity and discipline. we must not allow our creative protest to degenerate into physical violence. again and again, we must rise to the majestic heights of meeting physical force with soul force.the marvelous new militancy which has engulfed the negro community must not lead us to a distrust of all white people, for many of our white brothers, as evidenced by their presence here today, have come to realize that their destiny is tied up with our destiny. and they have come to realize that their freedom is inextricably bound to our freedom.we cannot walk alone.and as we walk, we must make the pledge that we shall always march ahead.we cannot turn back.there are those who are asking the devotees of civil rights, \"when will you be satisfied?\" we can never be satisfied as long as the negro is the victim of the unspeakable horrors of police brutality. we can never be satisfied as long as our bodies, heavy with the fatigue of travel, cannot gain lodging in the motels of the highways and the hotels of the cities. **we cannot be satisfied as long as the negro\\'s basic mobility is from a smaller ghetto to a larger one. we can never be satisfied as long as our children are stripped of their self-hood and robbed of their dignity by signs stating: \"for whites only.\"** we cannot be satisfied as long as a negro in mississippi cannot vote and a negro in new york believes he has nothing for which to vote. no, no, we are not satisfied, and we will not be satisfied until \"justice rolls down like waters, and righteousness like a mighty stream.\"1i am not unmindful that some of you have come here out of great trials and tribulations. some of you have come fresh from narrow jail cells. and some of you have come from areas where your quest -- quest for freedom left you battered by the storms of persecution and staggered by the winds of police brutality. you have been the veterans of creative suffering. continue to work with the faith that unearned suffering is redemptive. go back to mississippi, go back to alabama, go back to south carolina, go back to georgia, go back to louisiana, go back to the slums and ghettos of our northern cities, knowing that somehow this situation can and will be changed.let us not wallow in the valley of despair, i say to you today, my friends.and so even though we face the difficulties of today and tomorrow, i still have a dream. it is a dream deeply rooted in the american dream.i have a dream that one day this nation will rise up and live out the true meaning of its creed: \"we hold these truths to be self-evident, that all men are created equal.\"i have a dream that one day on the red hills of georgia, the sons of former slaves and the sons of former slave owners will be able to sit down together at the table of brotherhood.i have a dream that one day even the state of mississippi, a state sweltering with the heat of injustice, sweltering with the heat of oppression, will be transformed into an oasis of freedom and justice.i have a dream that my four little children will one day live in a nation where they will not be judged by the color of their skin but by the content of their character.i have a dream today!i have a dream that one day, down in alabama, with its vicious racists, with its governor having his lips dripping with the words of \"interposition\" and \"nullification\" -- one day right there in alabama little black boys and black girls will be able to join hands with little white boys and white girls as sisters and brothers.i have a dream today!i have a dream that one day every valley shall be exalted, and every hill and mountain shall be made low, the rough places will be made plain, and the crooked places will be made straight; \"and the glory of the lord shall be revealed and all flesh shall see it together.\"2this is our hope, and this is the faith that i go back to the south with.with this faith, we will be able to hew out of the mountain of despair a stone of hope. with this faith, we will be able to transform the jangling discords of our nation into a beautiful symphony of brotherhood. with this faith, we will be able to work together, to pray together, to struggle together, to go to jail together, to stand up for freedom together, knowing that we will be free one day.and this will be the day -- this will be the day when all of god\\'s children will be able to sing with new meaning:my country \\'tis of thee, sweet land of liberty, of thee i sing. land where my fathers died, land of the pilgrim\\'s pride,    from every mountainside, let freedom ring!and if america is to be a great nation, this must become true.and so let freedom ring from the prodigious hilltops of new hampshire.let freedom ring from the mighty mountains of new york.let freedom ring from the heightening alleghenies of pennsylvania.let freedom ring from the snow-capped rockies of colorado.let freedom ring from the curvaceous slopes of california.but not only that:let freedom ring from stone mountain of georgia.let freedom ring from lookout mountain of tennessee.let freedom ring from every hill and molehill of mississippi.from every mountainside, let freedom ringand when this happens, and when we allow freedom ring, when we let it ring from every village and every hamlet, from every state and every city, we will be able to speed up that day when all of god\\'s children, black men and white men, jews and gentiles, protestants and catholics, will be able to join hands and sing in the words of the old negro spiritual:free at last! free at last!thank god almighty, we are free at last!3'"
      ]
     },
     "execution_count": 27,
     "metadata": {},
     "output_type": "execute_result"
    }
   ],
   "source": [
    "#lower case\n",
    "file3=file2.lower()\n",
    "file3"
   ]
  },
  {
   "cell_type": "code",
   "execution_count": 28,
   "metadata": {},
   "outputs": [
    {
     "data": {
      "text/plain": [
       "'i am happy to join with you today in what will go down in history as the greatest demonstration for freedom in the history of our nation five score years ago a great american in whose symbolic shadow we stand today signed the emancipation proclamation this momentous decree came as a great beacon light of hope to millions of negro slaves who had been seared in the flames of withering injustice it came as a joyous daybreak to end the long night of their captivity but one hundred years later the negro still is not free one hundred years later the life of the negro is still sadly crippled by the manacles of segregation and the chains of discrimination one hundred years later the negro lives on a lonely island of poverty in the midst of a vast ocean of material prosperity one hundred years later the negro is still languished in the corners of american society and finds himself an exile in his own land and so we ve come here today to dramatize a shameful condition in a sense we ve come to our nation s capital to cash a check when the architects of our republic wrote the magnificent words of the constitution and the declaration of independence they were signing a promissory note to which every american was to fall heir this note was a promise that all men yes black men as well as white men would be guaranteed the unalienable rights of life liberty and the pursuit of happiness it is obvious today that america has defaulted on this promissory note insofar as her citizens of color are concerned instead of honoring this sacred obligation america has given the negro people a bad check a check which has come back marked insufficient funds but we refuse to believe that the bank of justice is bankrupt we refuse to believe that there are insufficient funds in the great vaults of opportunity of this nation and so we ve come to cash this check a check that will give us upon demand the riches of freedom and the security of justice we have also come to this hallowed spot to remind america of the fierce urgency of now this is no time to engage in the luxury of cooling off or to take the tranquilizing drug of gradualism now is the time to make real the promises of democracy now is the time to rise from the dark and desolate valley of segregation to the sunlit path of racial justice now is the time to lift our nation from the quicksands of racial injustice to the solid rock of brotherhood now is the time to make justice a reality for all of god s children it would be fatal for the nation to overlook the urgency of the moment this sweltering summer of the negro s legitimate discontent will not pass until there is an invigorating autumn of freedom and equality nineteen sixty three is not an end but a beginning and those who hope that the negro needed to blow off steam and will now be content will have a rude awakening if the nation returns to business as usual and there will be neither rest nor tranquility in america until the negro is granted his citizenship rights the whirlwinds of revolt will continue to shake the foundations of our nation until the bright day of justice emerges but there is something that i must say to my people who stand on the warm threshold which leads into the palace of justice in the process of gaining our rightful place we must not be guilty of wrongful deeds let us not seek to satisfy our thirst for freedom by drinking from the cup of bitterness and hatred we must forever conduct our struggle on the high plane of dignity and discipline we must not allow our creative protest to degenerate into physical violence again and again we must rise to the majestic heights of meeting physical force with soul force the marvelous new militancy which has engulfed the negro community must not lead us to a distrust of all white people for many of our white brothers as evidenced by their presence here today have come to realize that their destiny is tied up with our destiny and they have come to realize that their freedom is inextricably bound to our freedom we cannot walk alone and as we walk we must make the pledge that we shall always march ahead we cannot turn back there are those who are asking the devotees of civil rights when will you be satisfied we can never be satisfied as long as the negro is the victim of the unspeakable horrors of police brutality we can never be satisfied as long as our bodies heavy with the fatigue of travel cannot gain lodging in the motels of the highways and the hotels of the cities we cannot be satisfied as long as the negro s basic mobility is from a smaller ghetto to a larger one we can never be satisfied as long as our children are stripped of their self hood and robbed of their dignity by signs stating for whites only we cannot be satisfied as long as a negro in mississippi cannot vote and a negro in new york believes he has nothing for which to vote no no we are not satisfied and we will not be satisfied until justice rolls down like waters and righteousness like a mighty stream 1i am not unmindful that some of you have come here out of great trials and tribulations some of you have come fresh from narrow jail cells and some of you have come from areas where your quest quest for freedom left you battered by the storms of persecution and staggered by the winds of police brutality you have been the veterans of creative suffering continue to work with the faith that unearned suffering is redemptive go back to mississippi go back to alabama go back to south carolina go back to georgia go back to louisiana go back to the slums and ghettos of our northern cities knowing that somehow this situation can and will be changed let us not wallow in the valley of despair i say to you today my friends and so even though we face the difficulties of today and tomorrow i still have a dream it is a dream deeply rooted in the american dream i have a dream that one day this nation will rise up and live out the true meaning of its creed we hold these truths to be self evident that all men are created equal i have a dream that one day on the red hills of georgia the sons of former slaves and the sons of former slave owners will be able to sit down together at the table of brotherhood i have a dream that one day even the state of mississippi a state sweltering with the heat of injustice sweltering with the heat of oppression will be transformed into an oasis of freedom and justice i have a dream that my four little children will one day live in a nation where they will not be judged by the color of their skin but by the content of their character i have a dream today i have a dream that one day down in alabama with its vicious racists with its governor having his lips dripping with the words of interposition and nullification one day right there in alabama little black boys and black girls will be able to join hands with little white boys and white girls as sisters and brothers i have a dream today i have a dream that one day every valley shall be exalted and every hill and mountain shall be made low the rough places will be made plain and the crooked places will be made straight and the glory of the lord shall be revealed and all flesh shall see it together 2this is our hope and this is the faith that i go back to the south with with this faith we will be able to hew out of the mountain of despair a stone of hope with this faith we will be able to transform the jangling discords of our nation into a beautiful symphony of brotherhood with this faith we will be able to work together to pray together to struggle together to go to jail together to stand up for freedom together knowing that we will be free one day and this will be the day this will be the day when all of god s children will be able to sing with new meaning my country tis of thee sweet land of liberty of thee i sing land where my fathers died land of the pilgrim s pride from every mountainside let freedom ring and if america is to be a great nation this must become true and so let freedom ring from the prodigious hilltops of new hampshire let freedom ring from the mighty mountains of new york let freedom ring from the heightening alleghenies of pennsylvania let freedom ring from the snow capped rockies of colorado let freedom ring from the curvaceous slopes of california but not only that let freedom ring from stone mountain of georgia let freedom ring from lookout mountain of tennessee let freedom ring from every hill and molehill of mississippi from every mountainside let freedom ringand when this happens and when we allow freedom ring when we let it ring from every village and every hamlet from every state and every city we will be able to speed up that day when all of god s children black men and white men jews and gentiles protestants and catholics will be able to join hands and sing in the words of the old negro spiritual free at last free at last thank god almighty we are free at last 3'"
      ]
     },
     "execution_count": 28,
     "metadata": {},
     "output_type": "execute_result"
    }
   ],
   "source": [
    "#remove punctuation\n",
    "import re\n",
    "file4 = re.sub('[^A-Za-z0-9]+', ' ', file3)\n",
    "file4"
   ]
  },
  {
   "cell_type": "code",
   "execution_count": 29,
   "metadata": {},
   "outputs": [
    {
     "data": {
      "text/plain": [
       "'i am happy to join with you today in what will go down in history as the greatest demonstration for freedom in the history of our nation five score years ago a great american in whose symbolic shadow we stand today signed the emancipation proclamation this momentous decree came as a great beacon light of hope to millions of negro slaves who had been seared in the flames of withering injustice it came as a joyous daybreak to end the long night of their captivity but one hundred years later the negro still is not free one hundred years later the life of the negro is still sadly crippled by the manacles of segregation and the chains of discrimination one hundred years later the negro lives on a lonely island of poverty in the midst of a vast ocean of material prosperity one hundred years later the negro is still languished in the corners of american society and finds himself an exile in his own land and so we ve come here today to dramatize a shameful condition in a sense we ve come to our nation s capital to cash a check when the architects of our republic wrote the magnificent words of the constitution and the declaration of independence they were signing a promissory note to which every american was to fall heir this note was a promise that all men yes black men as well as white men would be guaranteed the unalienable rights of life liberty and the pursuit of happiness it is obvious today that america has defaulted on this promissory note insofar as her citizens of color are concerned instead of honoring this sacred obligation america has given the negro people a bad check a check which has come back marked insufficient funds but we refuse to believe that the bank of justice is bankrupt we refuse to believe that there are insufficient funds in the great vaults of opportunity of this nation and so we ve come to cash this check a check that will give us upon demand the riches of freedom and the security of justice we have also come to this hallowed spot to remind america of the fierce urgency of now this is no time to engage in the luxury of cooling off or to take the tranquilizing drug of gradualism now is the time to make real the promises of democracy now is the time to rise from the dark and desolate valley of segregation to the sunlit path of racial justice now is the time to lift our nation from the quicksands of racial injustice to the solid rock of brotherhood now is the time to make justice a reality for all of god s children it would be fatal for the nation to overlook the urgency of the moment this sweltering summer of the negro s legitimate discontent will not pass until there is an invigorating autumn of freedom and equality nineteen sixty three is not an end but a beginning and those who hope that the negro needed to blow off steam and will now be content will have a rude awakening if the nation returns to business as usual and there will be neither rest nor tranquility in america until the negro is granted his citizenship rights the whirlwinds of revolt will continue to shake the foundations of our nation until the bright day of justice emerges but there is something that i must say to my people who stand on the warm threshold which leads into the palace of justice in the process of gaining our rightful place we must not be guilty of wrongful deeds let us not seek to satisfy our thirst for freedom by drinking from the cup of bitterness and hatred we must forever conduct our struggle on the high plane of dignity and discipline we must not allow our creative protest to degenerate into physical violence again and again we must rise to the majestic heights of meeting physical force with soul force the marvelous new militancy which has engulfed the negro community must not lead us to a distrust of all white people for many of our white brothers as evidenced by their presence here today have come to realize that their destiny is tied up with our destiny and they have come to realize that their freedom is inextricably bound to our freedom we cannot walk alone and as we walk we must make the pledge that we shall always march ahead we cannot turn back there are those who are asking the devotees of civil rights when will you be satisfied we can never be satisfied as long as the negro is the victim of the unspeakable horrors of police brutality we can never be satisfied as long as our bodies heavy with the fatigue of travel cannot gain lodging in the motels of the highways and the hotels of the cities we cannot be satisfied as long as the negro s basic mobility is from a smaller ghetto to a larger one we can never be satisfied as long as our children are stripped of their self hood and robbed of their dignity by signs stating for whites only we cannot be satisfied as long as a negro in mississippi cannot vote and a negro in new york believes he has nothing for which to vote no no we are not satisfied and we will not be satisfied until justice rolls down like waters and righteousness like a mighty stream  i am not unmindful that some of you have come here out of great trials and tribulations some of you have come fresh from narrow jail cells and some of you have come from areas where your quest quest for freedom left you battered by the storms of persecution and staggered by the winds of police brutality you have been the veterans of creative suffering continue to work with the faith that unearned suffering is redemptive go back to mississippi go back to alabama go back to south carolina go back to georgia go back to louisiana go back to the slums and ghettos of our northern cities knowing that somehow this situation can and will be changed let us not wallow in the valley of despair i say to you today my friends and so even though we face the difficulties of today and tomorrow i still have a dream it is a dream deeply rooted in the american dream i have a dream that one day this nation will rise up and live out the true meaning of its creed we hold these truths to be self evident that all men are created equal i have a dream that one day on the red hills of georgia the sons of former slaves and the sons of former slave owners will be able to sit down together at the table of brotherhood i have a dream that one day even the state of mississippi a state sweltering with the heat of injustice sweltering with the heat of oppression will be transformed into an oasis of freedom and justice i have a dream that my four little children will one day live in a nation where they will not be judged by the color of their skin but by the content of their character i have a dream today i have a dream that one day down in alabama with its vicious racists with its governor having his lips dripping with the words of interposition and nullification one day right there in alabama little black boys and black girls will be able to join hands with little white boys and white girls as sisters and brothers i have a dream today i have a dream that one day every valley shall be exalted and every hill and mountain shall be made low the rough places will be made plain and the crooked places will be made straight and the glory of the lord shall be revealed and all flesh shall see it together  this is our hope and this is the faith that i go back to the south with with this faith we will be able to hew out of the mountain of despair a stone of hope with this faith we will be able to transform the jangling discords of our nation into a beautiful symphony of brotherhood with this faith we will be able to work together to pray together to struggle together to go to jail together to stand up for freedom together knowing that we will be free one day and this will be the day this will be the day when all of god s children will be able to sing with new meaning my country tis of thee sweet land of liberty of thee i sing land where my fathers died land of the pilgrim s pride from every mountainside let freedom ring and if america is to be a great nation this must become true and so let freedom ring from the prodigious hilltops of new hampshire let freedom ring from the mighty mountains of new york let freedom ring from the heightening alleghenies of pennsylvania let freedom ring from the snow capped rockies of colorado let freedom ring from the curvaceous slopes of california but not only that let freedom ring from stone mountain of georgia let freedom ring from lookout mountain of tennessee let freedom ring from every hill and molehill of mississippi from every mountainside let freedom ringand when this happens and when we allow freedom ring when we let it ring from every village and every hamlet from every state and every city we will be able to speed up that day when all of god s children black men and white men jews and gentiles protestants and catholics will be able to join hands and sing in the words of the old negro spiritual free at last free at last thank god almighty we are free at last  '"
      ]
     },
     "execution_count": 29,
     "metadata": {},
     "output_type": "execute_result"
    }
   ],
   "source": [
    "#remove numbers\n",
    "file5 = re.sub(r'[0-9]+', \" \", file4)\n",
    "file5"
   ]
  },
  {
   "cell_type": "markdown",
   "metadata": {},
   "source": [
    "# Stopwords"
   ]
  },
  {
   "cell_type": "markdown",
   "metadata": {},
   "source": [
    "### What is NLTK? Why is it useful?\n",
    "\n",
    "\n",
    "Natural Language Toolkit. <br\\>\n",
    "Suit of libraries that help with tasks of Text Processing.<br\\>\n",
    "Can do different things, tokenize, lemmatize etc. more about that next week<br\\>\n",
    "\n",
    "\n",
    "*Stop Words:* A stop word is a commonly used word (such as “the”, “a”, “an”, “in”). \n",
    "Stopwords are words that do not add much meaning to a sentence. Commonly search engines has been programmed to ignore.\n",
    "\n",
    "\n"
   ]
  },
  {
   "cell_type": "code",
   "execution_count": 30,
   "metadata": {},
   "outputs": [
    {
     "name": "stdout",
     "output_type": "stream",
     "text": [
      "['i', 'me', 'my', 'myself', 'we', 'our', 'ours', 'ourselves', 'you', \"you're\", \"you've\", \"you'll\", \"you'd\", 'your', 'yours', 'yourself', 'yourselves', 'he', 'him', 'his', 'himself', 'she', \"she's\", 'her', 'hers', 'herself', 'it', \"it's\", 'its', 'itself', 'they', 'them', 'their', 'theirs', 'themselves', 'what', 'which', 'who', 'whom', 'this', 'that', \"that'll\", 'these', 'those', 'am', 'is', 'are', 'was', 'were', 'be', 'been', 'being', 'have', 'has', 'had', 'having', 'do', 'does', 'did', 'doing', 'a', 'an', 'the', 'and', 'but', 'if', 'or', 'because', 'as', 'until', 'while', 'of', 'at', 'by', 'for', 'with', 'about', 'against', 'between', 'into', 'through', 'during', 'before', 'after', 'above', 'below', 'to', 'from', 'up', 'down', 'in', 'out', 'on', 'off', 'over', 'under', 'again', 'further', 'then', 'once', 'here', 'there', 'when', 'where', 'why', 'how', 'all', 'any', 'both', 'each', 'few', 'more', 'most', 'other', 'some', 'such', 'no', 'nor', 'not', 'only', 'own', 'same', 'so', 'than', 'too', 'very', 's', 't', 'can', 'will', 'just', 'don', \"don't\", 'should', \"should've\", 'now', 'd', 'll', 'm', 'o', 're', 've', 'y', 'ain', 'aren', \"aren't\", 'couldn', \"couldn't\", 'didn', \"didn't\", 'doesn', \"doesn't\", 'hadn', \"hadn't\", 'hasn', \"hasn't\", 'haven', \"haven't\", 'isn', \"isn't\", 'ma', 'mightn', \"mightn't\", 'mustn', \"mustn't\", 'needn', \"needn't\", 'shan', \"shan't\", 'shouldn', \"shouldn't\", 'wasn', \"wasn't\", 'weren', \"weren't\", 'won', \"won't\", 'wouldn', \"wouldn't\"]\n"
     ]
    }
   ],
   "source": [
    "from nltk.corpus import stopwords\n",
    "english=stopwords.words('english')\n",
    "print(english)"
   ]
  },
  {
   "cell_type": "code",
   "execution_count": 31,
   "metadata": {},
   "outputs": [
    {
     "name": "stdout",
     "output_type": "stream",
     "text": [
      "['de', 'la', 'que', 'el', 'en', 'y', 'a', 'los', 'del', 'se', 'las', 'por', 'un', 'para', 'con', 'no', 'una', 'su', 'al', 'lo', 'como', 'más', 'pero', 'sus', 'le', 'ya', 'o', 'este', 'sí', 'porque', 'esta', 'entre', 'cuando', 'muy', 'sin', 'sobre', 'también', 'me', 'hasta', 'hay', 'donde', 'quien', 'desde', 'todo', 'nos', 'durante', 'todos', 'uno', 'les', 'ni', 'contra', 'otros', 'ese', 'eso', 'ante', 'ellos', 'e', 'esto', 'mí', 'antes', 'algunos', 'qué', 'unos', 'yo', 'otro', 'otras', 'otra', 'él', 'tanto', 'esa', 'estos', 'mucho', 'quienes', 'nada', 'muchos', 'cual', 'poco', 'ella', 'estar', 'estas', 'algunas', 'algo', 'nosotros', 'mi', 'mis', 'tú', 'te', 'ti', 'tu', 'tus', 'ellas', 'nosotras', 'vosotros', 'vosotras', 'os', 'mío', 'mía', 'míos', 'mías', 'tuyo', 'tuya', 'tuyos', 'tuyas', 'suyo', 'suya', 'suyos', 'suyas', 'nuestro', 'nuestra', 'nuestros', 'nuestras', 'vuestro', 'vuestra', 'vuestros', 'vuestras', 'esos', 'esas', 'estoy', 'estás', 'está', 'estamos', 'estáis', 'están', 'esté', 'estés', 'estemos', 'estéis', 'estén', 'estaré', 'estarás', 'estará', 'estaremos', 'estaréis', 'estarán', 'estaría', 'estarías', 'estaríamos', 'estaríais', 'estarían', 'estaba', 'estabas', 'estábamos', 'estabais', 'estaban', 'estuve', 'estuviste', 'estuvo', 'estuvimos', 'estuvisteis', 'estuvieron', 'estuviera', 'estuvieras', 'estuviéramos', 'estuvierais', 'estuvieran', 'estuviese', 'estuvieses', 'estuviésemos', 'estuvieseis', 'estuviesen', 'estando', 'estado', 'estada', 'estados', 'estadas', 'estad', 'he', 'has', 'ha', 'hemos', 'habéis', 'han', 'haya', 'hayas', 'hayamos', 'hayáis', 'hayan', 'habré', 'habrás', 'habrá', 'habremos', 'habréis', 'habrán', 'habría', 'habrías', 'habríamos', 'habríais', 'habrían', 'había', 'habías', 'habíamos', 'habíais', 'habían', 'hube', 'hubiste', 'hubo', 'hubimos', 'hubisteis', 'hubieron', 'hubiera', 'hubieras', 'hubiéramos', 'hubierais', 'hubieran', 'hubiese', 'hubieses', 'hubiésemos', 'hubieseis', 'hubiesen', 'habiendo', 'habido', 'habida', 'habidos', 'habidas', 'soy', 'eres', 'es', 'somos', 'sois', 'son', 'sea', 'seas', 'seamos', 'seáis', 'sean', 'seré', 'serás', 'será', 'seremos', 'seréis', 'serán', 'sería', 'serías', 'seríamos', 'seríais', 'serían', 'era', 'eras', 'éramos', 'erais', 'eran', 'fui', 'fuiste', 'fue', 'fuimos', 'fuisteis', 'fueron', 'fuera', 'fueras', 'fuéramos', 'fuerais', 'fueran', 'fuese', 'fueses', 'fuésemos', 'fueseis', 'fuesen', 'sintiendo', 'sentido', 'sentida', 'sentidos', 'sentidas', 'siente', 'sentid', 'tengo', 'tienes', 'tiene', 'tenemos', 'tenéis', 'tienen', 'tenga', 'tengas', 'tengamos', 'tengáis', 'tengan', 'tendré', 'tendrás', 'tendrá', 'tendremos', 'tendréis', 'tendrán', 'tendría', 'tendrías', 'tendríamos', 'tendríais', 'tendrían', 'tenía', 'tenías', 'teníamos', 'teníais', 'tenían', 'tuve', 'tuviste', 'tuvo', 'tuvimos', 'tuvisteis', 'tuvieron', 'tuviera', 'tuvieras', 'tuviéramos', 'tuvierais', 'tuvieran', 'tuviese', 'tuvieses', 'tuviésemos', 'tuvieseis', 'tuviesen', 'teniendo', 'tenido', 'tenida', 'tenidos', 'tenidas', 'tened']\n"
     ]
    }
   ],
   "source": [
    "spanish=stopwords.words('spanish')\n",
    "print(spanish)"
   ]
  },
  {
   "cell_type": "code",
   "execution_count": 32,
   "metadata": {},
   "outputs": [
    {
     "name": "stdout",
     "output_type": "stream",
     "text": [
      "['aber', 'alle', 'allem', 'allen', 'aller', 'alles', 'als', 'also', 'am', 'an', 'ander', 'andere', 'anderem', 'anderen', 'anderer', 'anderes', 'anderm', 'andern', 'anderr', 'anders', 'auch', 'auf', 'aus', 'bei', 'bin', 'bis', 'bist', 'da', 'damit', 'dann', 'der', 'den', 'des', 'dem', 'die', 'das', 'dass', 'daß', 'derselbe', 'derselben', 'denselben', 'desselben', 'demselben', 'dieselbe', 'dieselben', 'dasselbe', 'dazu', 'dein', 'deine', 'deinem', 'deinen', 'deiner', 'deines', 'denn', 'derer', 'dessen', 'dich', 'dir', 'du', 'dies', 'diese', 'diesem', 'diesen', 'dieser', 'dieses', 'doch', 'dort', 'durch', 'ein', 'eine', 'einem', 'einen', 'einer', 'eines', 'einig', 'einige', 'einigem', 'einigen', 'einiger', 'einiges', 'einmal', 'er', 'ihn', 'ihm', 'es', 'etwas', 'euer', 'eure', 'eurem', 'euren', 'eurer', 'eures', 'für', 'gegen', 'gewesen', 'hab', 'habe', 'haben', 'hat', 'hatte', 'hatten', 'hier', 'hin', 'hinter', 'ich', 'mich', 'mir', 'ihr', 'ihre', 'ihrem', 'ihren', 'ihrer', 'ihres', 'euch', 'im', 'in', 'indem', 'ins', 'ist', 'jede', 'jedem', 'jeden', 'jeder', 'jedes', 'jene', 'jenem', 'jenen', 'jener', 'jenes', 'jetzt', 'kann', 'kein', 'keine', 'keinem', 'keinen', 'keiner', 'keines', 'können', 'könnte', 'machen', 'man', 'manche', 'manchem', 'manchen', 'mancher', 'manches', 'mein', 'meine', 'meinem', 'meinen', 'meiner', 'meines', 'mit', 'muss', 'musste', 'nach', 'nicht', 'nichts', 'noch', 'nun', 'nur', 'ob', 'oder', 'ohne', 'sehr', 'sein', 'seine', 'seinem', 'seinen', 'seiner', 'seines', 'selbst', 'sich', 'sie', 'ihnen', 'sind', 'so', 'solche', 'solchem', 'solchen', 'solcher', 'solches', 'soll', 'sollte', 'sondern', 'sonst', 'über', 'um', 'und', 'uns', 'unsere', 'unserem', 'unseren', 'unser', 'unseres', 'unter', 'viel', 'vom', 'von', 'vor', 'während', 'war', 'waren', 'warst', 'was', 'weg', 'weil', 'weiter', 'welche', 'welchem', 'welchen', 'welcher', 'welches', 'wenn', 'werde', 'werden', 'wie', 'wieder', 'will', 'wir', 'wird', 'wirst', 'wo', 'wollen', 'wollte', 'würde', 'würden', 'zu', 'zum', 'zur', 'zwar', 'zwischen']\n"
     ]
    }
   ],
   "source": [
    "german=stopwords.words('german')\n",
    "print(german)"
   ]
  },
  {
   "cell_type": "code",
   "execution_count": 33,
   "metadata": {},
   "outputs": [
    {
     "name": "stdout",
     "output_type": "stream",
     "text": [
      "['إذ', 'إذا', 'إذما', 'إذن', 'أف', 'أقل', 'أكثر', 'ألا', 'إلا', 'التي', 'الذي', 'الذين', 'اللاتي', 'اللائي', 'اللتان', 'اللتيا', 'اللتين', 'اللذان', 'اللذين', 'اللواتي', 'إلى', 'إليك', 'إليكم', 'إليكما', 'إليكن', 'أم', 'أما', 'أما', 'إما', 'أن', 'إن', 'إنا', 'أنا', 'أنت', 'أنتم', 'أنتما', 'أنتن', 'إنما', 'إنه', 'أنى', 'أنى', 'آه', 'آها', 'أو', 'أولاء', 'أولئك', 'أوه', 'آي', 'أي', 'أيها', 'إي', 'أين', 'أين', 'أينما', 'إيه', 'بخ', 'بس', 'بعد', 'بعض', 'بك', 'بكم', 'بكم', 'بكما', 'بكن', 'بل', 'بلى', 'بما', 'بماذا', 'بمن', 'بنا', 'به', 'بها', 'بهم', 'بهما', 'بهن', 'بي', 'بين', 'بيد', 'تلك', 'تلكم', 'تلكما', 'ته', 'تي', 'تين', 'تينك', 'ثم', 'ثمة', 'حاشا', 'حبذا', 'حتى', 'حيث', 'حيثما', 'حين', 'خلا', 'دون', 'ذا', 'ذات', 'ذاك', 'ذان', 'ذانك', 'ذلك', 'ذلكم', 'ذلكما', 'ذلكن', 'ذه', 'ذو', 'ذوا', 'ذواتا', 'ذواتي', 'ذي', 'ذين', 'ذينك', 'ريث', 'سوف', 'سوى', 'شتان', 'عدا', 'عسى', 'عل', 'على', 'عليك', 'عليه', 'عما', 'عن', 'عند', 'غير', 'فإذا', 'فإن', 'فلا', 'فمن', 'في', 'فيم', 'فيما', 'فيه', 'فيها', 'قد', 'كأن', 'كأنما', 'كأي', 'كأين', 'كذا', 'كذلك', 'كل', 'كلا', 'كلاهما', 'كلتا', 'كلما', 'كليكما', 'كليهما', 'كم', 'كم', 'كما', 'كي', 'كيت', 'كيف', 'كيفما', 'لا', 'لاسيما', 'لدى', 'لست', 'لستم', 'لستما', 'لستن', 'لسن', 'لسنا', 'لعل', 'لك', 'لكم', 'لكما', 'لكن', 'لكنما', 'لكي', 'لكيلا', 'لم', 'لما', 'لن', 'لنا', 'له', 'لها', 'لهم', 'لهما', 'لهن', 'لو', 'لولا', 'لوما', 'لي', 'لئن', 'ليت', 'ليس', 'ليسا', 'ليست', 'ليستا', 'ليسوا', 'ما', 'ماذا', 'متى', 'مذ', 'مع', 'مما', 'ممن', 'من', 'منه', 'منها', 'منذ', 'مه', 'مهما', 'نحن', 'نحو', 'نعم', 'ها', 'هاتان', 'هاته', 'هاتي', 'هاتين', 'هاك', 'هاهنا', 'هذا', 'هذان', 'هذه', 'هذي', 'هذين', 'هكذا', 'هل', 'هلا', 'هم', 'هما', 'هن', 'هنا', 'هناك', 'هنالك', 'هو', 'هؤلاء', 'هي', 'هيا', 'هيت', 'هيهات', 'والذي', 'والذين', 'وإذ', 'وإذا', 'وإن', 'ولا', 'ولكن', 'ولو', 'وما', 'ومن', 'وهو', 'يا']\n"
     ]
    }
   ],
   "source": [
    "arabic=stopwords.words('arabic')\n",
    "print(arabic)"
   ]
  },
  {
   "cell_type": "code",
   "execution_count": 34,
   "metadata": {},
   "outputs": [
    {
     "data": {
      "text/plain": [
       "['happy',\n",
       " 'join',\n",
       " 'today',\n",
       " 'go',\n",
       " 'history',\n",
       " 'greatest',\n",
       " 'demonstration',\n",
       " 'freedom',\n",
       " 'history',\n",
       " 'nation',\n",
       " 'five',\n",
       " 'score',\n",
       " 'years',\n",
       " 'ago',\n",
       " 'great',\n",
       " 'american',\n",
       " 'whose',\n",
       " 'symbolic',\n",
       " 'shadow',\n",
       " 'stand',\n",
       " 'today',\n",
       " 'signed',\n",
       " 'emancipation',\n",
       " 'proclamation',\n",
       " 'momentous',\n",
       " 'decree',\n",
       " 'came',\n",
       " 'great',\n",
       " 'beacon',\n",
       " 'light',\n",
       " 'hope',\n",
       " 'millions',\n",
       " 'negro',\n",
       " 'slaves',\n",
       " 'seared',\n",
       " 'flames',\n",
       " 'withering',\n",
       " 'injustice',\n",
       " 'came',\n",
       " 'joyous',\n",
       " 'daybreak',\n",
       " 'end',\n",
       " 'long',\n",
       " 'night',\n",
       " 'captivity',\n",
       " 'one',\n",
       " 'hundred',\n",
       " 'years',\n",
       " 'later',\n",
       " 'negro',\n",
       " 'still',\n",
       " 'free',\n",
       " 'one',\n",
       " 'hundred',\n",
       " 'years',\n",
       " 'later',\n",
       " 'life',\n",
       " 'negro',\n",
       " 'still',\n",
       " 'sadly',\n",
       " 'crippled',\n",
       " 'manacles',\n",
       " 'segregation',\n",
       " 'chains',\n",
       " 'discrimination',\n",
       " 'one',\n",
       " 'hundred',\n",
       " 'years',\n",
       " 'later',\n",
       " 'negro',\n",
       " 'lives',\n",
       " 'lonely',\n",
       " 'island',\n",
       " 'poverty',\n",
       " 'midst',\n",
       " 'vast',\n",
       " 'ocean',\n",
       " 'material',\n",
       " 'prosperity',\n",
       " 'one',\n",
       " 'hundred',\n",
       " 'years',\n",
       " 'later',\n",
       " 'negro',\n",
       " 'still',\n",
       " 'languished',\n",
       " 'corners',\n",
       " 'american',\n",
       " 'society',\n",
       " 'finds',\n",
       " 'exile',\n",
       " 'land',\n",
       " 'come',\n",
       " 'today',\n",
       " 'dramatize',\n",
       " 'shameful',\n",
       " 'condition',\n",
       " 'sense',\n",
       " 'come',\n",
       " 'nation',\n",
       " 'capital',\n",
       " 'cash',\n",
       " 'check',\n",
       " 'architects',\n",
       " 'republic',\n",
       " 'wrote',\n",
       " 'magnificent',\n",
       " 'words',\n",
       " 'constitution',\n",
       " 'declaration',\n",
       " 'independence',\n",
       " 'signing',\n",
       " 'promissory',\n",
       " 'note',\n",
       " 'every',\n",
       " 'american',\n",
       " 'fall',\n",
       " 'heir',\n",
       " 'note',\n",
       " 'promise',\n",
       " 'men',\n",
       " 'yes',\n",
       " 'black',\n",
       " 'men',\n",
       " 'well',\n",
       " 'white',\n",
       " 'men',\n",
       " 'would',\n",
       " 'guaranteed',\n",
       " 'unalienable',\n",
       " 'rights',\n",
       " 'life',\n",
       " 'liberty',\n",
       " 'pursuit',\n",
       " 'happiness',\n",
       " 'obvious',\n",
       " 'today',\n",
       " 'america',\n",
       " 'defaulted',\n",
       " 'promissory',\n",
       " 'note',\n",
       " 'insofar',\n",
       " 'citizens',\n",
       " 'color',\n",
       " 'concerned',\n",
       " 'instead',\n",
       " 'honoring',\n",
       " 'sacred',\n",
       " 'obligation',\n",
       " 'america',\n",
       " 'given',\n",
       " 'negro',\n",
       " 'people',\n",
       " 'bad',\n",
       " 'check',\n",
       " 'check',\n",
       " 'come',\n",
       " 'back',\n",
       " 'marked',\n",
       " 'insufficient',\n",
       " 'funds',\n",
       " 'refuse',\n",
       " 'believe',\n",
       " 'bank',\n",
       " 'justice',\n",
       " 'bankrupt',\n",
       " 'refuse',\n",
       " 'believe',\n",
       " 'insufficient',\n",
       " 'funds',\n",
       " 'great',\n",
       " 'vaults',\n",
       " 'opportunity',\n",
       " 'nation',\n",
       " 'come',\n",
       " 'cash',\n",
       " 'check',\n",
       " 'check',\n",
       " 'give',\n",
       " 'us',\n",
       " 'upon',\n",
       " 'demand',\n",
       " 'riches',\n",
       " 'freedom',\n",
       " 'security',\n",
       " 'justice',\n",
       " 'also',\n",
       " 'come',\n",
       " 'hallowed',\n",
       " 'spot',\n",
       " 'remind',\n",
       " 'america',\n",
       " 'fierce',\n",
       " 'urgency',\n",
       " 'time',\n",
       " 'engage',\n",
       " 'luxury',\n",
       " 'cooling',\n",
       " 'take',\n",
       " 'tranquilizing',\n",
       " 'drug',\n",
       " 'gradualism',\n",
       " 'time',\n",
       " 'make',\n",
       " 'real',\n",
       " 'promises',\n",
       " 'democracy',\n",
       " 'time',\n",
       " 'rise',\n",
       " 'dark',\n",
       " 'desolate',\n",
       " 'valley',\n",
       " 'segregation',\n",
       " 'sunlit',\n",
       " 'path',\n",
       " 'racial',\n",
       " 'justice',\n",
       " 'time',\n",
       " 'lift',\n",
       " 'nation',\n",
       " 'quicksands',\n",
       " 'racial',\n",
       " 'injustice',\n",
       " 'solid',\n",
       " 'rock',\n",
       " 'brotherhood',\n",
       " 'time',\n",
       " 'make',\n",
       " 'justice',\n",
       " 'reality',\n",
       " 'god',\n",
       " 'children',\n",
       " 'would',\n",
       " 'fatal',\n",
       " 'nation',\n",
       " 'overlook',\n",
       " 'urgency',\n",
       " 'moment',\n",
       " 'sweltering',\n",
       " 'summer',\n",
       " 'negro',\n",
       " 'legitimate',\n",
       " 'discontent',\n",
       " 'pass',\n",
       " 'invigorating',\n",
       " 'autumn',\n",
       " 'freedom',\n",
       " 'equality',\n",
       " 'nineteen',\n",
       " 'sixty',\n",
       " 'three',\n",
       " 'end',\n",
       " 'beginning',\n",
       " 'hope',\n",
       " 'negro',\n",
       " 'needed',\n",
       " 'blow',\n",
       " 'steam',\n",
       " 'content',\n",
       " 'rude',\n",
       " 'awakening',\n",
       " 'nation',\n",
       " 'returns',\n",
       " 'business',\n",
       " 'usual',\n",
       " 'neither',\n",
       " 'rest',\n",
       " 'tranquility',\n",
       " 'america',\n",
       " 'negro',\n",
       " 'granted',\n",
       " 'citizenship',\n",
       " 'rights',\n",
       " 'whirlwinds',\n",
       " 'revolt',\n",
       " 'continue',\n",
       " 'shake',\n",
       " 'foundations',\n",
       " 'nation',\n",
       " 'bright',\n",
       " 'day',\n",
       " 'justice',\n",
       " 'emerges',\n",
       " 'something',\n",
       " 'must',\n",
       " 'say',\n",
       " 'people',\n",
       " 'stand',\n",
       " 'warm',\n",
       " 'threshold',\n",
       " 'leads',\n",
       " 'palace',\n",
       " 'justice',\n",
       " 'process',\n",
       " 'gaining',\n",
       " 'rightful',\n",
       " 'place',\n",
       " 'must',\n",
       " 'guilty',\n",
       " 'wrongful',\n",
       " 'deeds',\n",
       " 'let',\n",
       " 'us',\n",
       " 'seek',\n",
       " 'satisfy',\n",
       " 'thirst',\n",
       " 'freedom',\n",
       " 'drinking',\n",
       " 'cup',\n",
       " 'bitterness',\n",
       " 'hatred',\n",
       " 'must',\n",
       " 'forever',\n",
       " 'conduct',\n",
       " 'struggle',\n",
       " 'high',\n",
       " 'plane',\n",
       " 'dignity',\n",
       " 'discipline',\n",
       " 'must',\n",
       " 'allow',\n",
       " 'creative',\n",
       " 'protest',\n",
       " 'degenerate',\n",
       " 'physical',\n",
       " 'violence',\n",
       " 'must',\n",
       " 'rise',\n",
       " 'majestic',\n",
       " 'heights',\n",
       " 'meeting',\n",
       " 'physical',\n",
       " 'force',\n",
       " 'soul',\n",
       " 'force',\n",
       " 'marvelous',\n",
       " 'new',\n",
       " 'militancy',\n",
       " 'engulfed',\n",
       " 'negro',\n",
       " 'community',\n",
       " 'must',\n",
       " 'lead',\n",
       " 'us',\n",
       " 'distrust',\n",
       " 'white',\n",
       " 'people',\n",
       " 'many',\n",
       " 'white',\n",
       " 'brothers',\n",
       " 'evidenced',\n",
       " 'presence',\n",
       " 'today',\n",
       " 'come',\n",
       " 'realize',\n",
       " 'destiny',\n",
       " 'tied',\n",
       " 'destiny',\n",
       " 'come',\n",
       " 'realize',\n",
       " 'freedom',\n",
       " 'inextricably',\n",
       " 'bound',\n",
       " 'freedom',\n",
       " 'cannot',\n",
       " 'walk',\n",
       " 'alone',\n",
       " 'walk',\n",
       " 'must',\n",
       " 'make',\n",
       " 'pledge',\n",
       " 'shall',\n",
       " 'always',\n",
       " 'march',\n",
       " 'ahead',\n",
       " 'cannot',\n",
       " 'turn',\n",
       " 'back',\n",
       " 'asking',\n",
       " 'devotees',\n",
       " 'civil',\n",
       " 'rights',\n",
       " 'satisfied',\n",
       " 'never',\n",
       " 'satisfied',\n",
       " 'long',\n",
       " 'negro',\n",
       " 'victim',\n",
       " 'unspeakable',\n",
       " 'horrors',\n",
       " 'police',\n",
       " 'brutality',\n",
       " 'never',\n",
       " 'satisfied',\n",
       " 'long',\n",
       " 'bodies',\n",
       " 'heavy',\n",
       " 'fatigue',\n",
       " 'travel',\n",
       " 'cannot',\n",
       " 'gain',\n",
       " 'lodging',\n",
       " 'motels',\n",
       " 'highways',\n",
       " 'hotels',\n",
       " 'cities',\n",
       " 'cannot',\n",
       " 'satisfied',\n",
       " 'long',\n",
       " 'negro',\n",
       " 'basic',\n",
       " 'mobility',\n",
       " 'smaller',\n",
       " 'ghetto',\n",
       " 'larger',\n",
       " 'one',\n",
       " 'never',\n",
       " 'satisfied',\n",
       " 'long',\n",
       " 'children',\n",
       " 'stripped',\n",
       " 'self',\n",
       " 'hood',\n",
       " 'robbed',\n",
       " 'dignity',\n",
       " 'signs',\n",
       " 'stating',\n",
       " 'whites',\n",
       " 'cannot',\n",
       " 'satisfied',\n",
       " 'long',\n",
       " 'negro',\n",
       " 'mississippi',\n",
       " 'cannot',\n",
       " 'vote',\n",
       " 'negro',\n",
       " 'new',\n",
       " 'york',\n",
       " 'believes',\n",
       " 'nothing',\n",
       " 'vote',\n",
       " 'satisfied',\n",
       " 'satisfied',\n",
       " 'justice',\n",
       " 'rolls',\n",
       " 'like',\n",
       " 'waters',\n",
       " 'righteousness',\n",
       " 'like',\n",
       " 'mighty',\n",
       " 'stream',\n",
       " 'unmindful',\n",
       " 'come',\n",
       " 'great',\n",
       " 'trials',\n",
       " 'tribulations',\n",
       " 'come',\n",
       " 'fresh',\n",
       " 'narrow',\n",
       " 'jail',\n",
       " 'cells',\n",
       " 'come',\n",
       " 'areas',\n",
       " 'quest',\n",
       " 'quest',\n",
       " 'freedom',\n",
       " 'left',\n",
       " 'battered',\n",
       " 'storms',\n",
       " 'persecution',\n",
       " 'staggered',\n",
       " 'winds',\n",
       " 'police',\n",
       " 'brutality',\n",
       " 'veterans',\n",
       " 'creative',\n",
       " 'suffering',\n",
       " 'continue',\n",
       " 'work',\n",
       " 'faith',\n",
       " 'unearned',\n",
       " 'suffering',\n",
       " 'redemptive',\n",
       " 'go',\n",
       " 'back',\n",
       " 'mississippi',\n",
       " 'go',\n",
       " 'back',\n",
       " 'alabama',\n",
       " 'go',\n",
       " 'back',\n",
       " 'south',\n",
       " 'carolina',\n",
       " 'go',\n",
       " 'back',\n",
       " 'georgia',\n",
       " 'go',\n",
       " 'back',\n",
       " 'louisiana',\n",
       " 'go',\n",
       " 'back',\n",
       " 'slums',\n",
       " 'ghettos',\n",
       " 'northern',\n",
       " 'cities',\n",
       " 'knowing',\n",
       " 'somehow',\n",
       " 'situation',\n",
       " 'changed',\n",
       " 'let',\n",
       " 'us',\n",
       " 'wallow',\n",
       " 'valley',\n",
       " 'despair',\n",
       " 'say',\n",
       " 'today',\n",
       " 'friends',\n",
       " 'even',\n",
       " 'though',\n",
       " 'face',\n",
       " 'difficulties',\n",
       " 'today',\n",
       " 'tomorrow',\n",
       " 'still',\n",
       " 'dream',\n",
       " 'dream',\n",
       " 'deeply',\n",
       " 'rooted',\n",
       " 'american',\n",
       " 'dream',\n",
       " 'dream',\n",
       " 'one',\n",
       " 'day',\n",
       " 'nation',\n",
       " 'rise',\n",
       " 'live',\n",
       " 'true',\n",
       " 'meaning',\n",
       " 'creed',\n",
       " 'hold',\n",
       " 'truths',\n",
       " 'self',\n",
       " 'evident',\n",
       " 'men',\n",
       " 'created',\n",
       " 'equal',\n",
       " 'dream',\n",
       " 'one',\n",
       " 'day',\n",
       " 'red',\n",
       " 'hills',\n",
       " 'georgia',\n",
       " 'sons',\n",
       " 'former',\n",
       " 'slaves',\n",
       " 'sons',\n",
       " 'former',\n",
       " 'slave',\n",
       " 'owners',\n",
       " 'able',\n",
       " 'sit',\n",
       " 'together',\n",
       " 'table',\n",
       " 'brotherhood',\n",
       " 'dream',\n",
       " 'one',\n",
       " 'day',\n",
       " 'even',\n",
       " 'state',\n",
       " 'mississippi',\n",
       " 'state',\n",
       " 'sweltering',\n",
       " 'heat',\n",
       " 'injustice',\n",
       " 'sweltering',\n",
       " 'heat',\n",
       " 'oppression',\n",
       " 'transformed',\n",
       " 'oasis',\n",
       " 'freedom',\n",
       " 'justice',\n",
       " 'dream',\n",
       " 'four',\n",
       " 'little',\n",
       " 'children',\n",
       " 'one',\n",
       " 'day',\n",
       " 'live',\n",
       " 'nation',\n",
       " 'judged',\n",
       " 'color',\n",
       " 'skin',\n",
       " 'content',\n",
       " 'character',\n",
       " 'dream',\n",
       " 'today',\n",
       " 'dream',\n",
       " 'one',\n",
       " 'day',\n",
       " 'alabama',\n",
       " 'vicious',\n",
       " 'racists',\n",
       " 'governor',\n",
       " 'lips',\n",
       " 'dripping',\n",
       " 'words',\n",
       " 'interposition',\n",
       " 'nullification',\n",
       " 'one',\n",
       " 'day',\n",
       " 'right',\n",
       " 'alabama',\n",
       " 'little',\n",
       " 'black',\n",
       " 'boys',\n",
       " 'black',\n",
       " 'girls',\n",
       " 'able',\n",
       " 'join',\n",
       " 'hands',\n",
       " 'little',\n",
       " 'white',\n",
       " 'boys',\n",
       " 'white',\n",
       " 'girls',\n",
       " 'sisters',\n",
       " 'brothers',\n",
       " 'dream',\n",
       " 'today',\n",
       " 'dream',\n",
       " 'one',\n",
       " 'day',\n",
       " 'every',\n",
       " 'valley',\n",
       " 'shall',\n",
       " 'exalted',\n",
       " 'every',\n",
       " 'hill',\n",
       " 'mountain',\n",
       " 'shall',\n",
       " 'made',\n",
       " 'low',\n",
       " 'rough',\n",
       " 'places',\n",
       " 'made',\n",
       " 'plain',\n",
       " 'crooked',\n",
       " 'places',\n",
       " 'made',\n",
       " 'straight',\n",
       " 'glory',\n",
       " 'lord',\n",
       " 'shall',\n",
       " 'revealed',\n",
       " 'flesh',\n",
       " 'shall',\n",
       " 'see',\n",
       " 'together',\n",
       " 'hope',\n",
       " 'faith',\n",
       " 'go',\n",
       " 'back',\n",
       " 'south',\n",
       " 'faith',\n",
       " 'able',\n",
       " 'hew',\n",
       " 'mountain',\n",
       " 'despair',\n",
       " 'stone',\n",
       " 'hope',\n",
       " 'faith',\n",
       " 'able',\n",
       " 'transform',\n",
       " 'jangling',\n",
       " 'discords',\n",
       " 'nation',\n",
       " 'beautiful',\n",
       " 'symphony',\n",
       " 'brotherhood',\n",
       " 'faith',\n",
       " 'able',\n",
       " 'work',\n",
       " 'together',\n",
       " 'pray',\n",
       " 'together',\n",
       " 'struggle',\n",
       " 'together',\n",
       " 'go',\n",
       " 'jail',\n",
       " 'together',\n",
       " 'stand',\n",
       " 'freedom',\n",
       " 'together',\n",
       " 'knowing',\n",
       " 'free',\n",
       " 'one',\n",
       " 'day',\n",
       " 'day',\n",
       " 'day',\n",
       " 'god',\n",
       " 'children',\n",
       " 'able',\n",
       " 'sing',\n",
       " 'new',\n",
       " 'meaning',\n",
       " 'country',\n",
       " 'tis',\n",
       " 'thee',\n",
       " 'sweet',\n",
       " 'land',\n",
       " 'liberty',\n",
       " 'thee',\n",
       " 'sing',\n",
       " 'land',\n",
       " 'fathers',\n",
       " 'died',\n",
       " 'land',\n",
       " 'pilgrim',\n",
       " 'pride',\n",
       " 'every',\n",
       " 'mountainside',\n",
       " 'let',\n",
       " 'freedom',\n",
       " 'ring',\n",
       " 'america',\n",
       " 'great',\n",
       " 'nation',\n",
       " 'must',\n",
       " 'become',\n",
       " 'true',\n",
       " 'let',\n",
       " 'freedom',\n",
       " 'ring',\n",
       " 'prodigious',\n",
       " 'hilltops',\n",
       " 'new',\n",
       " 'hampshire',\n",
       " 'let',\n",
       " 'freedom',\n",
       " 'ring',\n",
       " 'mighty',\n",
       " 'mountains',\n",
       " 'new',\n",
       " 'york',\n",
       " 'let',\n",
       " 'freedom',\n",
       " 'ring',\n",
       " 'heightening',\n",
       " 'alleghenies',\n",
       " 'pennsylvania',\n",
       " 'let',\n",
       " 'freedom',\n",
       " 'ring',\n",
       " 'snow',\n",
       " 'capped',\n",
       " 'rockies',\n",
       " 'colorado',\n",
       " 'let',\n",
       " 'freedom',\n",
       " 'ring',\n",
       " 'curvaceous',\n",
       " 'slopes',\n",
       " 'california',\n",
       " 'let',\n",
       " 'freedom',\n",
       " 'ring',\n",
       " 'stone',\n",
       " 'mountain',\n",
       " 'georgia',\n",
       " 'let',\n",
       " 'freedom',\n",
       " 'ring',\n",
       " 'lookout',\n",
       " 'mountain',\n",
       " 'tennessee',\n",
       " 'let',\n",
       " 'freedom',\n",
       " 'ring',\n",
       " 'every',\n",
       " 'hill',\n",
       " 'molehill',\n",
       " 'mississippi',\n",
       " 'every',\n",
       " 'mountainside',\n",
       " 'let',\n",
       " 'freedom',\n",
       " 'ringand',\n",
       " 'happens',\n",
       " 'allow',\n",
       " 'freedom',\n",
       " 'ring',\n",
       " 'let',\n",
       " 'ring',\n",
       " 'every',\n",
       " 'village',\n",
       " 'every',\n",
       " 'hamlet',\n",
       " 'every',\n",
       " 'state',\n",
       " 'every',\n",
       " 'city',\n",
       " 'able',\n",
       " 'speed',\n",
       " 'day',\n",
       " 'god',\n",
       " 'children',\n",
       " 'black',\n",
       " 'men',\n",
       " 'white',\n",
       " 'men',\n",
       " 'jews',\n",
       " 'gentiles',\n",
       " 'protestants',\n",
       " 'catholics',\n",
       " 'able',\n",
       " 'join',\n",
       " 'hands',\n",
       " 'sing',\n",
       " 'words',\n",
       " 'old',\n",
       " 'negro',\n",
       " 'spiritual',\n",
       " 'free',\n",
       " 'last',\n",
       " 'free',\n",
       " 'last',\n",
       " 'thank',\n",
       " 'god',\n",
       " 'almighty',\n",
       " 'free',\n",
       " 'last']"
      ]
     },
     "execution_count": 34,
     "metadata": {},
     "output_type": "execute_result"
    }
   ],
   "source": [
    "stops= stopwords.words('english')\n",
    "\n",
    "file5_words = file5.split() \n",
    "file5_words=[word for word in file5_words if word not in stops]\n",
    "file5_words"
   ]
  },
  {
   "cell_type": "markdown",
   "metadata": {},
   "source": [
    "## Do everything in one step:\n",
    "\n",
    "### We need functions"
   ]
  },
  {
   "cell_type": "code",
   "execution_count": 35,
   "metadata": {},
   "outputs": [
    {
     "name": "stdout",
     "output_type": "stream",
     "text": [
      "happy join today go history greatest demonstration freedom history nation five score years ago great american whose symbolic shadow stand today signed emancipation proclamation momentous decree came great beacon light hope millions negro slaves seared flames withering injustice came joyous daybreak end long night captivity one hundred years later negro still free one hundred years later life negro still sadly crippled manacles segregation chains discrimination one hundred years later negro lives lonely island poverty midst vast ocean material prosperity one hundred years later negro still languished corners american society finds exile land come today dramatize shameful condition sense come nation capital cash check architects republic wrote magnificent words constitution declaration independence signing promissory note every american fall heir note promise men yes black men well white men would guaranteed unalienable rights life liberty pursuit happiness obvious today america defaulted promissory note insofar citizens color concerned instead honoring sacred obligation america given negro people bad check check come back marked insufficient funds refuse believe bank justice bankrupt refuse believe insufficient funds great vaults opportunity nation come cash check check give us upon demand riches freedom security justice also come hallowed spot remind america fierce urgency time engage luxury cooling take tranquilizing drug gradualism time make real promises democracy time rise dark desolate valley segregation sunlit path racial justice time lift nation quicksands racial injustice solid rock brotherhood time make justice reality god children would fatal nation overlook urgency moment sweltering summer negro legitimate discontent pass invigorating autumn freedom equality nineteen sixty three end beginning hope negro needed blow steam content rude awakening nation returns business usual neither rest tranquility america negro granted citizenship rights whirlwinds revolt continue shake foundations nation bright day justice emerges something must say people stand warm threshold leads palace justice process gaining rightful place must guilty wrongful deeds let us seek satisfy thirst freedom drinking cup bitterness hatred must forever conduct struggle high plane dignity discipline must allow creative protest degenerate physical violence must rise majestic heights meeting physical force soul force marvelous new militancy engulfed negro community must lead us distrust white people many white brothers evidenced presence today come realize destiny tied destiny come realize freedom inextricably bound freedom cannot walk alone walk must make pledge shall always march ahead cannot turn back asking devotees civil rights satisfied never satisfied long negro victim unspeakable horrors police brutality never satisfied long bodies heavy fatigue travel cannot gain lodging motels highways hotels cities cannot satisfied long negro basic mobility smaller ghetto larger one never satisfied long children stripped self hood robbed dignity signs stating whites cannot satisfied long negro mississippi cannot vote negro new york believes nothing vote satisfied satisfied justice rolls like waters righteousness like mighty stream unmindful come great trials tribulations come fresh narrow jail cells come areas quest quest freedom left battered storms persecution staggered winds police brutality veterans creative suffering continue work faith unearned suffering redemptive go back mississippi go back alabama go back south carolina go back georgia go back louisiana go back slums ghettos northern cities knowing somehow situation changed let us wallow valley despair say today friends even though face difficulties today tomorrow still dream dream deeply rooted american dream dream one day nation rise live true meaning creed hold truths self evident men created equal dream one day red hills georgia sons former slaves sons former slave owners able sit together table brotherhood dream one day even state mississippi state sweltering heat injustice sweltering heat oppression transformed oasis freedom justice dream four little children one day live nation judged color skin content character dream today dream one day alabama vicious racists governor lips dripping words interposition nullification one day right alabama little black boys black girls able join hands little white boys white girls sisters brothers dream today dream one day every valley shall exalted every hill mountain shall made low rough places made plain crooked places made straight glory lord shall revealed flesh shall see together hope faith go back south faith able hew mountain despair stone hope faith able transform jangling discords nation beautiful symphony brotherhood faith able work together pray together struggle together go jail together stand freedom together knowing free one day day day god children able sing new meaning country tis thee sweet land liberty thee sing land fathers died land pilgrim pride every mountainside let freedom ring america great nation must become true let freedom ring prodigious hilltops new hampshire let freedom ring mighty mountains new york let freedom ring heightening alleghenies pennsylvania let freedom ring snow capped rockies colorado let freedom ring curvaceous slopes california let freedom ring stone mountain georgia let freedom ring lookout mountain tennessee let freedom ring every hill molehill mississippi every mountainside let freedom ringand happens allow freedom ring let ring every village every hamlet every state every city able speed day god children black men white men jews gentiles protestants catholics able join hands sing words old negro spiritual free last free last thank god almighty free last\n"
     ]
    }
   ],
   "source": [
    "with open('/Users/Ashrakat/Dropbox/University/Oxford/Jobs/Teaching/Text Analysis/code/Basics-of-Text-Analysis-for-Political-Science/Data/ihaveadream.txt', 'r') as f:\n",
    "        f=f.read()\n",
    "        f=f.replace('\\n\\n','')\n",
    "        f=f.lower()\n",
    "        f = re.sub('[^A-Za-z0-9]+', ' ', f)\n",
    "        f=re.sub(r'[0-9]+', \" \", f)\n",
    "        f=f.split() \n",
    "        f=[word for word in f if word not in stops]\n",
    "        final=\" \".join(str(x) for x in f)\n",
    "        print(final)\n"
   ]
  },
  {
   "cell_type": "code",
   "execution_count": 36,
   "metadata": {
    "collapsed": true
   },
   "outputs": [],
   "source": [
    "def clean(x):\n",
    "    x=x.replace('\\n\\n','')\n",
    "    x=x.lower()\n",
    "    x= re.sub('[^A-Za-z0-9]+', ' ', x)\n",
    "    x=re.sub(r'[0-9]+', \" \", x)\n",
    "    x=x.split() \n",
    "    x=[word for word in x if word not in stopwords.words('english')]\n",
    "    x=\" \".join(str(x) for x in x)\n",
    "    return x"
   ]
  },
  {
   "cell_type": "code",
   "execution_count": 37,
   "metadata": {},
   "outputs": [
    {
     "data": {
      "text/plain": [
       "'happy join today go history greatest demonstration freedom history nation five score years ago great american whose symbolic shadow stand today signed emancipation proclamation momentous decree came great beacon light hope millions negro slaves seared flames withering injustice came joyous daybreak end long night captivity one hundred years later negro still free one hundred years later life negro still sadly crippled manacles segregation chains discrimination one hundred years later negro lives lonely island poverty midst vast ocean material prosperity one hundred years later negro still languished corners american society finds exile land come today dramatize shameful condition sense come nation capital cash check architects republic wrote magnificent words constitution declaration independence signing promissory note every american fall heir note promise men yes black men well white men would guaranteed unalienable rights life liberty pursuit happiness obvious today america defaulted promissory note insofar citizens color concerned instead honoring sacred obligation america given negro people bad check check come back marked insufficient funds refuse believe bank justice bankrupt refuse believe insufficient funds great vaults opportunity nation come cash check check give us upon demand riches freedom security justice also come hallowed spot remind america fierce urgency time engage luxury cooling take tranquilizing drug gradualism time make real promises democracy time rise dark desolate valley segregation sunlit path racial justice time lift nation quicksands racial injustice solid rock brotherhood time make justice reality god children would fatal nation overlook urgency moment sweltering summer negro legitimate discontent pass invigorating autumn freedom equality nineteen sixty three end beginning hope negro needed blow steam content rude awakening nation returns business usual neither rest tranquility america negro granted citizenship rights whirlwinds revolt continue shake foundations nation bright day justice emerges something must say people stand warm threshold leads palace justice process gaining rightful place must guilty wrongful deeds let us seek satisfy thirst freedom drinking cup bitterness hatred must forever conduct struggle high plane dignity discipline must allow creative protest degenerate physical violence must rise majestic heights meeting physical force soul force marvelous new militancy engulfed negro community must lead us distrust white people many white brothers evidenced presence today come realize destiny tied destiny come realize freedom inextricably bound freedom cannot walk alone walk must make pledge shall always march ahead cannot turn back asking devotees civil rights satisfied never satisfied long negro victim unspeakable horrors police brutality never satisfied long bodies heavy fatigue travel cannot gain lodging motels highways hotels cities cannot satisfied long negro basic mobility smaller ghetto larger one never satisfied long children stripped self hood robbed dignity signs stating whites cannot satisfied long negro mississippi cannot vote negro new york believes nothing vote satisfied satisfied justice rolls like waters righteousness like mighty stream unmindful come great trials tribulations come fresh narrow jail cells come areas quest quest freedom left battered storms persecution staggered winds police brutality veterans creative suffering continue work faith unearned suffering redemptive go back mississippi go back alabama go back south carolina go back georgia go back louisiana go back slums ghettos northern cities knowing somehow situation changed let us wallow valley despair say today friends even though face difficulties today tomorrow still dream dream deeply rooted american dream dream one day nation rise live true meaning creed hold truths self evident men created equal dream one day red hills georgia sons former slaves sons former slave owners able sit together table brotherhood dream one day even state mississippi state sweltering heat injustice sweltering heat oppression transformed oasis freedom justice dream four little children one day live nation judged color skin content character dream today dream one day alabama vicious racists governor lips dripping words interposition nullification one day right alabama little black boys black girls able join hands little white boys white girls sisters brothers dream today dream one day every valley shall exalted every hill mountain shall made low rough places made plain crooked places made straight glory lord shall revealed flesh shall see together hope faith go back south faith able hew mountain despair stone hope faith able transform jangling discords nation beautiful symphony brotherhood faith able work together pray together struggle together go jail together stand freedom together knowing free one day day day god children able sing new meaning country tis thee sweet land liberty thee sing land fathers died land pilgrim pride every mountainside let freedom ring america great nation must become true let freedom ring prodigious hilltops new hampshire let freedom ring mighty mountains new york let freedom ring heightening alleghenies pennsylvania let freedom ring snow capped rockies colorado let freedom ring curvaceous slopes california let freedom ring stone mountain georgia let freedom ring lookout mountain tennessee let freedom ring every hill molehill mississippi every mountainside let freedom ringand happens allow freedom ring let ring every village every hamlet every state every city able speed day god children black men white men jews gentiles protestants catholics able join hands sing words old negro spiritual free last free last thank god almighty free last'"
      ]
     },
     "execution_count": 37,
     "metadata": {},
     "output_type": "execute_result"
    }
   ],
   "source": [
    "clean(file3)"
   ]
  },
  {
   "cell_type": "markdown",
   "metadata": {},
   "source": [
    "# Open a lot of files and run cleaning pipeline on them"
   ]
  },
  {
   "cell_type": "code",
   "execution_count": 38,
   "metadata": {
    "collapsed": true
   },
   "outputs": [],
   "source": [
    "def clean(text):\n",
    "    text=text.replace('\\n\\n','')\n",
    "    text=text.lower()\n",
    "    text= re.sub('[^A-Za-z0-9]+', ' ', text)\n",
    "    text=re.sub(r'[0-9]+', \" \", text)\n",
    "    text=text.split() \n",
    "    text=[word for word in text if word not in stopwords.words('english')]\n",
    "    text=\" \".join(str(text) for text in text)\n",
    "    return text"
   ]
  },
  {
   "cell_type": "code",
   "execution_count": 40,
   "metadata": {},
   "outputs": [
    {
     "name": "stdout",
     "output_type": "stream",
     "text": [
      "<_io.TextIOWrapper name='/Users/Ashrakat/Downloads/Data Day 4/sputnik11.txt' mode='r' encoding='UTF-8'>\n",
      "<_io.TextIOWrapper name='/Users/Ashrakat/Downloads/Data Day 4/text1.txt' mode='r' encoding='UTF-8'>\n",
      "<_io.TextIOWrapper name='/Users/Ashrakat/Downloads/Data Day 4/text2.txt' mode='r' encoding='UTF-8'>\n",
      "<_io.TextIOWrapper name='/Users/Ashrakat/Downloads/Data Day 4/text3.txt' mode='r' encoding='UTF-8'>\n",
      "<_io.TextIOWrapper name='/Users/Ashrakat/Downloads/Data Day 4/text4.txt' mode='r' encoding='UTF-8'>\n",
      "<_io.TextIOWrapper name='/Users/Ashrakat/Downloads/Data Day 4/text5.txt' mode='r' encoding='UTF-8'>\n",
      "<_io.TextIOWrapper name='/Users/Ashrakat/Downloads/Data Day 4/text6.txt' mode='r' encoding='UTF-8'>\n",
      "<_io.TextIOWrapper name='/Users/Ashrakat/Downloads/Data Day 4/text7.txt' mode='r' encoding='UTF-8'>\n",
      "<_io.TextIOWrapper name='/Users/Ashrakat/Downloads/Data Day 4/text8.txt' mode='r' encoding='UTF-8'>\n",
      "<_io.TextIOWrapper name='/Users/Ashrakat/Downloads/Data Day 4/text9.txt' mode='r' encoding='UTF-8'>\n"
     ]
    }
   ],
   "source": [
    "import codecs\n",
    "import os\n",
    "\n",
    "articles_new=[]\n",
    "for filename in os.listdir(\"/Users/Ashrakat/Downloads/Data Day 4\"):\n",
    "    if \".txt\" in filename:\n",
    "        document = open(\"/Users/Ashrakat/Downloads/Data Day 4/\"+filename,\"r\")\n",
    "        print(document)\n",
    "        document2 = document.read()\n",
    "       # print(document2)\n",
    "        document3=clean(document2)\n",
    "       #print(document3)\n",
    "        articles_new.append(document3)"
   ]
  },
  {
   "cell_type": "code",
   "execution_count": null,
   "metadata": {
    "collapsed": true
   },
   "outputs": [],
   "source": []
  },
  {
   "cell_type": "code",
   "execution_count": null,
   "metadata": {
    "collapsed": true
   },
   "outputs": [],
   "source": []
  },
  {
   "cell_type": "code",
   "execution_count": null,
   "metadata": {
    "collapsed": true
   },
   "outputs": [],
   "source": []
  },
  {
   "cell_type": "code",
   "execution_count": null,
   "metadata": {
    "collapsed": true
   },
   "outputs": [],
   "source": []
  },
  {
   "cell_type": "markdown",
   "metadata": {},
   "source": [
    "# Excercises"
   ]
  },
  {
   "cell_type": "markdown",
   "metadata": {},
   "source": [
    "**Excercise 1**\n",
    "\n",
    "- a=“You plagiarized my text” \n",
    "- b=“No, you plagiarized my text” \n",
    "- c=“I never plagiarized anything”\n",
    "\n",
    "determine lexical overlap between a and b and c  to understand how plagiarism software works…\n",
    "\n",
    "1. please write code to check if the contents of a&b, b&c, c&a overlap. The code should issue the statement TRUE or FALSE\n",
    "2. now check if the contents of a&b, b&c, c&a interesect, by printing out the words that appear in both of the strings of each of the 3 pairs\n",
    "\n",
    "\n",
    "\n"
   ]
  },
  {
   "cell_type": "code",
   "execution_count": 41,
   "metadata": {
    "collapsed": true
   },
   "outputs": [],
   "source": [
    "import re # the re\n",
    "a=\"You plagiarized my text\"\n",
    "b=\"No, you plagiarized my text\"\n",
    "c=\"I never plagiarized anything\"\n",
    "\n"
   ]
  },
  {
   "cell_type": "code",
   "execution_count": 42,
   "metadata": {},
   "outputs": [
    {
     "data": {
      "text/plain": [
       "['I', 'never', 'plagiarized', 'anything']"
      ]
     },
     "execution_count": 42,
     "metadata": {},
     "output_type": "execute_result"
    }
   ],
   "source": [
    "a_words = re.sub(\"[^\\w]\", \" \",  a).split()\n",
    "b_words=re.sub(\"[^\\w]\", \" \",  b).split()\n",
    "c_words=re.sub(\"[^\\w]\", \" \",  c).split()\n",
    "c_words\n"
   ]
  },
  {
   "cell_type": "code",
   "execution_count": 43,
   "metadata": {},
   "outputs": [
    {
     "name": "stdout",
     "output_type": "stream",
     "text": [
      "True\n",
      "True\n",
      "True\n"
     ]
    },
    {
     "data": {
      "text/plain": [
       "True"
      ]
     },
     "execution_count": 43,
     "metadata": {},
     "output_type": "execute_result"
    }
   ],
   "source": [
    "#print a true or false statement\n",
    "print(bool(set(a_words) & set(b_words)))\n",
    "print(bool(set(b_words) & set(c_words)))\n",
    "print(bool(set(c_words) & set(a_words)))\n",
    "\n",
    "#also you can\n",
    "any([item in a_words for item in b_words])\n",
    "any([item in b_words for item in c_words])\n",
    "any([item in c_words for item in a_words])\n"
   ]
  },
  {
   "cell_type": "code",
   "execution_count": 44,
   "metadata": {},
   "outputs": [
    {
     "data": {
      "text/plain": [
       "['plagiarized']"
      ]
     },
     "execution_count": 44,
     "metadata": {},
     "output_type": "execute_result"
    }
   ],
   "source": [
    "\n",
    "#what are the words\n",
    "list(set(a_words) & set(b_words))\n",
    "list(set(b_words) & set(c_words))\n",
    "list(set(a_words) & set(c_words))"
   ]
  },
  {
   "cell_type": "markdown",
   "metadata": {},
   "source": [
    "**Excercise 2**\n",
    "\n",
    "1) Open file (sputnikgerman1). <br\\>\n",
    "2) Remove any line breaks \\n<br\\>\n",
    "3) Get rid of punctuation <br\\>\n",
    "- a. explore the library string and get rid of punctuation using it <br/>\n",
    "- b. get rid of punctuation using a function<br\\>\n",
    "\n",
    "4)  Use the tab charchter (\\t) that remains in the text to split different items of the text in a list. Once you do that you will see that you have different items of the text in a list 1) link 2) link 3) date 4) title etc.\n",
    "\n",
    "5) We see now a date in our list is the 3rd item, please remove the month and the day and only leave the year\n"
   ]
  },
  {
   "cell_type": "code",
   "execution_count": 45,
   "metadata": {},
   "outputs": [
    {
     "data": {
      "text/plain": [
       "'\"http://de.sputniknews.compolitik/20180813321937555-syrien-deutschland-fluechtlinge-rueckkehr-sanktionen\"\\t\"http://web.archive.org/web/20180813172522/https://de.sputniknews.com/amp/politik/20180813321937555-syrien-deutschland-fluechtlinge-rueckkehr-sanktionen/\"\\t20180813\\t\"Rückkehr von Flüchtlingen: Syrischer Minister appelliert an Deutschland\"\\t\"Der syrische Minister für\\n lokale Verwaltung und Umwelt Hussein Makhlouf hat über Journalisten Deutschland zur Aufhebung der Sanktionen gegen Damaskus aufgerufen. Dies soll laut dem Politiker die Rückkehr der syrischen\\n Flüchtlinge in ihre Heimat fördern. „Ich möchte mich über Sie an die deutsche Regierung wenden und bitten, die einseitigen Sanktionen gegen Syrien aufzuheben“,\\n sagte Makhlouf sich an einen deutschen Journalisten wendend auf einer Pressekonferenz. Mehr zum Thema >>> UN-Flüchtlingskommissar tritt gegen Rückkehr von Flüchtlingen nach Syrien auf  Makhlouf, der\\n auch Chef des syrischen Koordinierungsausschusses\\n für Rückkehr\\n der Flüchtlinge ist, betonte, im Fall einer Aufhebung der Sanktionen werde die Rückkehr der Flüchtlinge\\n beschleunigt. Dies würde den Wideraufbau\\n des Landes fördern. Mehr zum Thema >>> Russland forciert Rückkehr von Syrien-Flüchtlingen Zuvor hatte das russische Zentrum für Aufnahme, Verteilung und Unterbringung beim russischen Verteidigungsministerium mitgeteilt, mehr als 1,7\\n Millionen Syrer hätten den Wunsch geäußert, aus neun Gastländern in\\xa0ihre Heimat zurückzukehren. Die meisten Heimkehrwilligen halten sich jetzt im Libanon, in\\xa0der Türkei und in\\xa0Deutschland auf.\"\\t\"OVER-THRESHOLD\"\\t\"flüchtlingen flüchtlinge\"\\t163\\t0.543706912424414\\n'"
      ]
     },
     "execution_count": 45,
     "metadata": {},
     "output_type": "execute_result"
    }
   ],
   "source": [
    "#1\n",
    "\n",
    "dataset0 = codecs.open(\"/Users/Ashrakat/Dropbox/University/Oxford/Jobs/Teaching/Text Analysis/code/Basics-of-Text-Analysis-for-Political-Science/Data/sputnikgerman1.txt\", \"r\", \"utf-8\").read() #change your working directory\n",
    "dataset0"
   ]
  },
  {
   "cell_type": "code",
   "execution_count": 46,
   "metadata": {},
   "outputs": [
    {
     "data": {
      "text/plain": [
       "'\"http://de.sputniknews.compolitik/20180813321937555-syrien-deutschland-fluechtlinge-rueckkehr-sanktionen\"\\t\"http://web.archive.org/web/20180813172522/https://de.sputniknews.com/amp/politik/20180813321937555-syrien-deutschland-fluechtlinge-rueckkehr-sanktionen/\"\\t20180813\\t\"Rückkehr von Flüchtlingen: Syrischer Minister appelliert an Deutschland\"\\t\"Der syrische Minister für  lokale Verwaltung und Umwelt Hussein Makhlouf hat über Journalisten Deutschland zur Aufhebung der Sanktionen gegen Damaskus aufgerufen. Dies soll laut dem Politiker die Rückkehr der syrischen  Flüchtlinge in ihre Heimat fördern. „Ich möchte mich über Sie an die deutsche Regierung wenden und bitten, die einseitigen Sanktionen gegen Syrien aufzuheben“,  sagte Makhlouf sich an einen deutschen Journalisten wendend auf einer Pressekonferenz. Mehr zum Thema >>> UN-Flüchtlingskommissar tritt gegen Rückkehr von Flüchtlingen nach Syrien auf  Makhlouf, der  auch Chef des syrischen Koordinierungsausschusses  für Rückkehr  der Flüchtlinge ist, betonte, im Fall einer Aufhebung der Sanktionen werde die Rückkehr der Flüchtlinge  beschleunigt. Dies würde den Wideraufbau  des Landes fördern. Mehr zum Thema >>> Russland forciert Rückkehr von Syrien-Flüchtlingen Zuvor hatte das russische Zentrum für Aufnahme, Verteilung und Unterbringung beim russischen Verteidigungsministerium mitgeteilt, mehr als 1,7  Millionen Syrer hätten den Wunsch geäußert, aus neun Gastländern in\\xa0ihre Heimat zurückzukehren. Die meisten Heimkehrwilligen halten sich jetzt im Libanon, in\\xa0der Türkei und in\\xa0Deutschland auf.\"\\t\"OVER-THRESHOLD\"\\t\"flüchtlingen flüchtlinge\"\\t163\\t0.543706912424414 '"
      ]
     },
     "execution_count": 46,
     "metadata": {},
     "output_type": "execute_result"
    }
   ],
   "source": [
    "#2 \n",
    "dataset = dataset0.replace('\\n', ' ').replace('\\r', '')\n",
    "dataset"
   ]
  },
  {
   "cell_type": "code",
   "execution_count": 47,
   "metadata": {},
   "outputs": [
    {
     "data": {
      "text/plain": [
       "'httpdesputniknewscompolitik20180813321937555syriendeutschlandfluechtlingerueckkehrsanktionen\\thttpwebarchiveorgweb20180813172522httpsdesputniknewscomamppolitik20180813321937555syriendeutschlandfluechtlingerueckkehrsanktionen\\t20180813\\tRückkehr von Flüchtlingen Syrischer Minister appelliert an Deutschland\\tDer syrische Minister für\\n lokale Verwaltung und Umwelt Hussein Makhlouf hat über Journalisten Deutschland zur Aufhebung der Sanktionen gegen Damaskus aufgerufen Dies soll laut dem Politiker die Rückkehr der syrischen\\n Flüchtlinge in ihre Heimat fördern „Ich möchte mich über Sie an die deutsche Regierung wenden und bitten die einseitigen Sanktionen gegen Syrien aufzuheben“\\n sagte Makhlouf sich an einen deutschen Journalisten wendend auf einer Pressekonferenz Mehr zum Thema  UNFlüchtlingskommissar tritt gegen Rückkehr von Flüchtlingen nach Syrien auf  Makhlouf der\\n auch Chef des syrischen Koordinierungsausschusses\\n für Rückkehr\\n der Flüchtlinge ist betonte im Fall einer Aufhebung der Sanktionen werde die Rückkehr der Flüchtlinge\\n beschleunigt Dies würde den Wideraufbau\\n des Landes fördern Mehr zum Thema  Russland forciert Rückkehr von SyrienFlüchtlingen Zuvor hatte das russische Zentrum für Aufnahme Verteilung und Unterbringung beim russischen Verteidigungsministerium mitgeteilt mehr als 17\\n Millionen Syrer hätten den Wunsch geäußert aus neun Gastländern in\\xa0ihre Heimat zurückzukehren Die meisten Heimkehrwilligen halten sich jetzt im Libanon in\\xa0der Türkei und in\\xa0Deutschland auf\\tOVERTHRESHOLD\\tflüchtlingen flüchtlinge\\t163\\t0543706912424414\\n'"
      ]
     },
     "execution_count": 47,
     "metadata": {},
     "output_type": "execute_result"
    }
   ],
   "source": [
    "# 3\n",
    "import string\n",
    "exclude = set(string.punctuation) #define a variable that includes all punctuation\n",
    "dataset = ''.join(x for x in dataset0 if x not in exclude) # use list comprehension, check what will happen if we dont have joj as an answer\n",
    "dataset"
   ]
  },
  {
   "cell_type": "code",
   "execution_count": 48,
   "metadata": {},
   "outputs": [
    {
     "data": {
      "text/plain": [
       "{'!',\n",
       " '\"',\n",
       " '#',\n",
       " '$',\n",
       " '%',\n",
       " '&',\n",
       " \"'\",\n",
       " '(',\n",
       " ')',\n",
       " '*',\n",
       " '+',\n",
       " ',',\n",
       " '-',\n",
       " '.',\n",
       " '/',\n",
       " ':',\n",
       " ';',\n",
       " '<',\n",
       " '=',\n",
       " '>',\n",
       " '?',\n",
       " '@',\n",
       " '[',\n",
       " '\\\\',\n",
       " ']',\n",
       " '^',\n",
       " '_',\n",
       " '`',\n",
       " '{',\n",
       " '|',\n",
       " '}',\n",
       " '~'}"
      ]
     },
     "execution_count": 48,
     "metadata": {},
     "output_type": "execute_result"
    }
   ],
   "source": [
    "exclude"
   ]
  },
  {
   "cell_type": "code",
   "execution_count": 49,
   "metadata": {
    "collapsed": true
   },
   "outputs": [],
   "source": [
    "#function - here take care of overwriting\n",
    "dataset2=dataset0\n",
    "def remove_qstringpunctuation(text):\n",
    "    no_punct=\"\".join(x for x in text if x not in string.punctuation)\n",
    "    return(no_punct)"
   ]
  },
  {
   "cell_type": "code",
   "execution_count": 50,
   "metadata": {},
   "outputs": [
    {
     "data": {
      "text/plain": [
       "'httpdesputniknewscompolitik20180813321937555syriendeutschlandfluechtlingerueckkehrsanktionen\\thttpwebarchiveorgweb20180813172522httpsdesputniknewscomamppolitik20180813321937555syriendeutschlandfluechtlingerueckkehrsanktionen\\t20180813\\tRückkehr von Flüchtlingen Syrischer Minister appelliert an Deutschland\\tDer syrische Minister für\\n lokale Verwaltung und Umwelt Hussein Makhlouf hat über Journalisten Deutschland zur Aufhebung der Sanktionen gegen Damaskus aufgerufen Dies soll laut dem Politiker die Rückkehr der syrischen\\n Flüchtlinge in ihre Heimat fördern „Ich möchte mich über Sie an die deutsche Regierung wenden und bitten die einseitigen Sanktionen gegen Syrien aufzuheben“\\n sagte Makhlouf sich an einen deutschen Journalisten wendend auf einer Pressekonferenz Mehr zum Thema  UNFlüchtlingskommissar tritt gegen Rückkehr von Flüchtlingen nach Syrien auf  Makhlouf der\\n auch Chef des syrischen Koordinierungsausschusses\\n für Rückkehr\\n der Flüchtlinge ist betonte im Fall einer Aufhebung der Sanktionen werde die Rückkehr der Flüchtlinge\\n beschleunigt Dies würde den Wideraufbau\\n des Landes fördern Mehr zum Thema  Russland forciert Rückkehr von SyrienFlüchtlingen Zuvor hatte das russische Zentrum für Aufnahme Verteilung und Unterbringung beim russischen Verteidigungsministerium mitgeteilt mehr als 17\\n Millionen Syrer hätten den Wunsch geäußert aus neun Gastländern in\\xa0ihre Heimat zurückzukehren Die meisten Heimkehrwilligen halten sich jetzt im Libanon in\\xa0der Türkei und in\\xa0Deutschland auf\\tOVERTHRESHOLD\\tflüchtlingen flüchtlinge\\t163\\t0543706912424414\\n'"
      ]
     },
     "execution_count": 50,
     "metadata": {},
     "output_type": "execute_result"
    }
   ],
   "source": [
    "#4\n",
    "dataset3= remove_qstringpunctuation(dataset2)\n",
    "dataset3"
   ]
  },
  {
   "cell_type": "code",
   "execution_count": 51,
   "metadata": {},
   "outputs": [
    {
     "data": {
      "text/plain": [
       "['httpdesputniknewscompolitik20180813321937555syriendeutschlandfluechtlingerueckkehrsanktionen',\n",
       " 'httpwebarchiveorgweb20180813172522httpsdesputniknewscomamppolitik20180813321937555syriendeutschlandfluechtlingerueckkehrsanktionen',\n",
       " '20180813',\n",
       " 'Rückkehr von Flüchtlingen Syrischer Minister appelliert an Deutschland',\n",
       " 'Der syrische Minister für\\n lokale Verwaltung und Umwelt Hussein Makhlouf hat über Journalisten Deutschland zur Aufhebung der Sanktionen gegen Damaskus aufgerufen Dies soll laut dem Politiker die Rückkehr der syrischen\\n Flüchtlinge in ihre Heimat fördern „Ich möchte mich über Sie an die deutsche Regierung wenden und bitten die einseitigen Sanktionen gegen Syrien aufzuheben“\\n sagte Makhlouf sich an einen deutschen Journalisten wendend auf einer Pressekonferenz Mehr zum Thema  UNFlüchtlingskommissar tritt gegen Rückkehr von Flüchtlingen nach Syrien auf  Makhlouf der\\n auch Chef des syrischen Koordinierungsausschusses\\n für Rückkehr\\n der Flüchtlinge ist betonte im Fall einer Aufhebung der Sanktionen werde die Rückkehr der Flüchtlinge\\n beschleunigt Dies würde den Wideraufbau\\n des Landes fördern Mehr zum Thema  Russland forciert Rückkehr von SyrienFlüchtlingen Zuvor hatte das russische Zentrum für Aufnahme Verteilung und Unterbringung beim russischen Verteidigungsministerium mitgeteilt mehr als 17\\n Millionen Syrer hätten den Wunsch geäußert aus neun Gastländern in\\xa0ihre Heimat zurückzukehren Die meisten Heimkehrwilligen halten sich jetzt im Libanon in\\xa0der Türkei und in\\xa0Deutschland auf',\n",
       " 'OVERTHRESHOLD',\n",
       " 'flüchtlingen flüchtlinge',\n",
       " '163',\n",
       " '0543706912424414\\n']"
      ]
     },
     "execution_count": 51,
     "metadata": {},
     "output_type": "execute_result"
    }
   ],
   "source": [
    "dataset4 = dataset3.split(\"\\t\")   \n",
    "dataset4"
   ]
  },
  {
   "cell_type": "code",
   "execution_count": 54,
   "metadata": {},
   "outputs": [
    {
     "data": {
      "text/plain": [
       "['httpdesputniknewscompolitik20180813321937555syriendeutschlandfluechtlingerueckkehrsanktionen',\n",
       " 'httpwebarchiveorgweb20180813172522httpsdesputniknewscomamppolitik20180813321937555syriendeutschlandfluechtlingerueckkehrsanktionen',\n",
       " '',\n",
       " 'Rückkehr von Flüchtlingen Syrischer Minister appelliert an Deutschland',\n",
       " 'Der syrische Minister für\\n lokale Verwaltung und Umwelt Hussein Makhlouf hat über Journalisten Deutschland zur Aufhebung der Sanktionen gegen Damaskus aufgerufen Dies soll laut dem Politiker die Rückkehr der syrischen\\n Flüchtlinge in ihre Heimat fördern „Ich möchte mich über Sie an die deutsche Regierung wenden und bitten die einseitigen Sanktionen gegen Syrien aufzuheben“\\n sagte Makhlouf sich an einen deutschen Journalisten wendend auf einer Pressekonferenz Mehr zum Thema  UNFlüchtlingskommissar tritt gegen Rückkehr von Flüchtlingen nach Syrien auf  Makhlouf der\\n auch Chef des syrischen Koordinierungsausschusses\\n für Rückkehr\\n der Flüchtlinge ist betonte im Fall einer Aufhebung der Sanktionen werde die Rückkehr der Flüchtlinge\\n beschleunigt Dies würde den Wideraufbau\\n des Landes fördern Mehr zum Thema  Russland forciert Rückkehr von SyrienFlüchtlingen Zuvor hatte das russische Zentrum für Aufnahme Verteilung und Unterbringung beim russischen Verteidigungsministerium mitgeteilt mehr als 17\\n Millionen Syrer hätten den Wunsch geäußert aus neun Gastländern in\\xa0ihre Heimat zurückzukehren Die meisten Heimkehrwilligen halten sich jetzt im Libanon in\\xa0der Türkei und in\\xa0Deutschland auf',\n",
       " 'OVERTHRESHOLD',\n",
       " 'flüchtlingen flüchtlinge',\n",
       " '163',\n",
       " '0543706912424414\\n']"
      ]
     },
     "execution_count": 54,
     "metadata": {},
     "output_type": "execute_result"
    }
   ],
   "source": [
    "#5\n",
    "\n",
    "dataset4[2]=dataset4[2][:-4]\n",
    "dataset4"
   ]
  },
  {
   "cell_type": "code",
   "execution_count": null,
   "metadata": {},
   "outputs": [],
   "source": [
    "#5 this is an easier way to do it, however you will not be able to do this if you have several articles \n",
    "#and you want to consistently change the date for all of them\n",
    "\n",
    "dataset4[2] = '2018'\n",
    "dataset4"
   ]
  },
  {
   "cell_type": "markdown",
   "metadata": {},
   "source": [
    "**Excercise 3**\n",
    "\n",
    "Open the same dataset, this time we want to structure it differenlty. To manipulate text for different tasks, requires being able to get the data exactly in the shape you need.\n",
    "\n",
    "1) <br\\>\n",
    "- You need to open the file \"spuntikgerman20\"\n",
    "- Check this file out by printing the text.\n",
    "- This file has for each of the 20 article different important features, 1) a link external 2) link for the webarchive 3) date 4) title 5) content 6) method of inclusion 7) important keywords 8) number of words 9) score\n",
    "\n",
    "2) <br\\>\n",
    "- You need to save the text of this file, in a list of lists. A list of 20 lists to be specific, as we have 20 articles.\n",
    "- So that each list is one article: the items of the list are the important features of the article. \n",
    "- Hint: You need to look in the text for what is the seperator that seperates these items and use it to strip lines\n",
    "\n",
    "3) remove these items from each list --> 6) method of inclusion 7) important keywords 8) number of words 9) score\n",
    "\n",
    "4) extract the content of each article (which is item 5) and save them in a list\n",
    "\n",
    "5) count the number of words of each article content and save them in a list\n",
    "\n",
    "6) lower case content from 4)\n",
    "\n",
    "7) remove stopwords from the list that we have\n"
   ]
  },
  {
   "cell_type": "code",
   "execution_count": null,
   "metadata": {},
   "outputs": [],
   "source": [
    "import csv \n",
    "\n",
    "with open('/Users/Ashrakat/Dropbox/University/Oxford/Jobs/Teaching/Text Analysis/code/Basics-of-Text-Analysis-for-Political-Science/Data/sputnikgerman20.tsv','r') as tsv:\n",
    "    data = [line.strip().split('\\t') for line in tsv]\n",
    "    \n",
    "data"
   ]
  },
  {
   "cell_type": "code",
   "execution_count": null,
   "metadata": {},
   "outputs": [],
   "source": [
    "#delete items from the list\n",
    "for l in data:\n",
    "    del l[5:]\n",
    "\n",
    "data"
   ]
  },
  {
   "cell_type": "code",
   "execution_count": null,
   "metadata": {},
   "outputs": [],
   "source": [
    "#check with indexing the nested structure\n",
    "data[0][4]  #so in list 1, the 5th item is the content"
   ]
  },
  {
   "cell_type": "code",
   "execution_count": null,
   "metadata": {},
   "outputs": [],
   "source": [
    "#create lists of contents of articles\n",
    "listofcontnet = [el[4] for el in data] # we use list comprehension to remove the content\n",
    "listofcontnet"
   ]
  },
  {
   "cell_type": "code",
   "execution_count": null,
   "metadata": {},
   "outputs": [],
   "source": [
    "#create list with the number of words\n",
    "numberofwords=[]\n",
    "for item in listofcontnet:\n",
    "    length= (len(item.split()))\n",
    "    numberofwords.append(length)\n",
    "\n",
    "numberofwords"
   ]
  },
  {
   "cell_type": "code",
   "execution_count": null,
   "metadata": {},
   "outputs": [],
   "source": [
    "# lower case\n",
    "lowercased_content = [word.lower() for word in listofcontnet ]\n",
    "lowercased_content"
   ]
  },
  {
   "cell_type": "code",
   "execution_count": null,
   "metadata": {},
   "outputs": [],
   "source": [
    "# remove punctuation\n",
    "import string\n",
    "cleaned1 = [''.join(x for x in s if x not in string.punctuation) for s in lowercased_content]\n",
    "cleaned1"
   ]
  },
  {
   "cell_type": "code",
   "execution_count": null,
   "metadata": {},
   "outputs": [],
   "source": [
    "#remove numbers\n",
    "def remove(list): \n",
    "    pattern = '[0-9]'\n",
    "    list = [re.sub(pattern, '', i) for i in list] \n",
    "    return list\n",
    "\n",
    "cleaned2=remove(cleaned1)\n",
    "cleaned2"
   ]
  },
  {
   "cell_type": "code",
   "execution_count": null,
   "metadata": {},
   "outputs": [],
   "source": [
    "print(type(cleaned2))"
   ]
  },
  {
   "cell_type": "code",
   "execution_count": null,
   "metadata": {
    "collapsed": true
   },
   "outputs": [],
   "source": [
    "#remove stopwords\n",
    "from collections import Counter\n",
    "stop_words = stopwords.words('german')\n",
    "stop_words_set=set(stop_words)\n",
    "cleaned3 = [' '.join(w for w in place.split() if w not in stop_words_set)for place in cleaned2]"
   ]
  },
  {
   "cell_type": "code",
   "execution_count": null,
   "metadata": {},
   "outputs": [],
   "source": [
    "cleaned3"
   ]
  }
 ],
 "metadata": {
  "kernelspec": {
   "display_name": "Python 3",
   "language": "python",
   "name": "python3"
  },
  "language_info": {
   "codemirror_mode": {
    "name": "ipython",
    "version": 3
   },
   "file_extension": ".py",
   "mimetype": "text/x-python",
   "name": "python",
   "nbconvert_exporter": "python",
   "pygments_lexer": "ipython3",
   "version": "3.6.8"
  }
 },
 "nbformat": 4,
 "nbformat_minor": 2
}
