{
 "cells": [
  {
   "cell_type": "markdown",
   "metadata": {},
   "source": [
    "This session we are going to continue learning Python.\n",
    "\n",
    "But.. drumroll..\n",
    "\n",
    "We are going to also learn some exciting stuff about collecting data from the web"
   ]
  },
  {
   "cell_type": "markdown",
   "metadata": {},
   "source": [
    "# More Learning about Python"
   ]
  },
  {
   "cell_type": "markdown",
   "metadata": {},
   "source": [
    "### Combining objects\n"
   ]
  },
  {
   "cell_type": "code",
   "execution_count": 1,
   "metadata": {},
   "outputs": [
    {
     "data": {
      "text/plain": [
       "\"wearelearning python'\""
      ]
     },
     "execution_count": 1,
     "metadata": {},
     "output_type": "execute_result"
    }
   ],
   "source": [
    "#combine strings\n",
    "text = \"we\"+ \"are\"+\"learning \" + \"python'\"\n",
    "\n",
    "text"
   ]
  },
  {
   "cell_type": "code",
   "execution_count": 2,
   "metadata": {},
   "outputs": [
    {
     "name": "stdout",
     "output_type": "stream",
     "text": [
      "<class 'str'>\n"
     ]
    }
   ],
   "source": [
    "intergers=\"2\"+\"3\"\n",
    "print(type(intergers))"
   ]
  },
  {
   "cell_type": "code",
   "execution_count": 3,
   "metadata": {},
   "outputs": [
    {
     "name": "stdout",
     "output_type": "stream",
     "text": [
      "<class 'int'>\n"
     ]
    }
   ],
   "source": [
    "intergers=2+3\n",
    "intergers\n",
    "# see the difference between this and the cell above?\n",
    "print(type(intergers))"
   ]
  },
  {
   "cell_type": "code",
   "execution_count": 4,
   "metadata": {},
   "outputs": [
    {
     "name": "stdout",
     "output_type": "stream",
     "text": [
      "15\n"
     ]
    }
   ],
   "source": [
    "#conversions - we talked about transforming types of objects last week\n",
    "#we can save an item as string here s1=\"5\"\n",
    "s1=\"5\"\n",
    "x= int (s1) *3 #we transform first s1 as interger and then we multiply it by 3\n",
    "print (x) # 5*3=15"
   ]
  },
  {
   "cell_type": "markdown",
   "metadata": {},
   "source": [
    "### Understanding Python Strings"
   ]
  },
  {
   "cell_type": "markdown",
   "metadata": {},
   "source": [
    "Inputting a string"
   ]
  },
  {
   "cell_type": "code",
   "execution_count": 5,
   "metadata": {},
   "outputs": [
    {
     "name": "stdout",
     "output_type": "stream",
     "text": [
      "Hi this is session two\n"
     ]
    }
   ],
   "source": [
    "#it doesnt matter whether you use single or double quoted strings to save a string object\n",
    "string1 = \"Hi this is session two\"\n",
    "string2 = 'And I am loving python'\n",
    "print (string1)\n",
    "\n"
   ]
  },
  {
   "cell_type": "code",
   "execution_count": 6,
   "metadata": {},
   "outputs": [
    {
     "name": "stdout",
     "output_type": "stream",
     "text": [
      "Hi this is session two\n"
     ]
    }
   ],
   "source": [
    "print(string1)"
   ]
  },
  {
   "cell_type": "code",
   "execution_count": 7,
   "metadata": {},
   "outputs": [
    {
     "name": "stdout",
     "output_type": "stream",
     "text": [
      "And I am loving python\n"
     ]
    }
   ],
   "source": [
    "print(string2)"
   ]
  },
  {
   "cell_type": "markdown",
   "metadata": {},
   "source": [
    "what if we wanna make sure if there is a specific word in the saved string?\n"
   ]
  },
  {
   "cell_type": "code",
   "execution_count": 8,
   "metadata": {},
   "outputs": [
    {
     "data": {
      "text/plain": [
       "False"
      ]
     },
     "execution_count": 8,
     "metadata": {},
     "output_type": "execute_result"
    }
   ],
   "source": [
    "\"is\" in string2"
   ]
  },
  {
   "cell_type": "code",
   "execution_count": 9,
   "metadata": {},
   "outputs": [
    {
     "data": {
      "text/plain": [
       "True"
      ]
     },
     "execution_count": 9,
     "metadata": {},
     "output_type": "execute_result"
    }
   ],
   "source": [
    "\"am\" in string2"
   ]
  },
  {
   "cell_type": "markdown",
   "metadata": {},
   "source": [
    "#### Manipulate string"
   ]
  },
  {
   "cell_type": "code",
   "execution_count": 10,
   "metadata": {
    "collapsed": true
   },
   "outputs": [],
   "source": [
    "myname=\"ashrakat\""
   ]
  },
  {
   "cell_type": "code",
   "execution_count": 11,
   "metadata": {},
   "outputs": [
    {
     "name": "stdout",
     "output_type": "stream",
     "text": [
      "Ashrakat\n"
     ]
    }
   ],
   "source": [
    "#if I want to make letter uppercase\n",
    "print(myname.title())"
   ]
  },
  {
   "cell_type": "code",
   "execution_count": 12,
   "metadata": {},
   "outputs": [
    {
     "name": "stdout",
     "output_type": "stream",
     "text": [
      "ASHRAKAT\n"
     ]
    }
   ],
   "source": [
    "#if I want to make the whole string uppercase\n",
    "print (myname.upper())"
   ]
  },
  {
   "cell_type": "markdown",
   "metadata": {},
   "source": [
    "#### Strip space"
   ]
  },
  {
   "cell_type": "code",
   "execution_count": 13,
   "metadata": {
    "collapsed": true
   },
   "outputs": [],
   "source": [
    "university=\" University of Houston \""
   ]
  },
  {
   "cell_type": "code",
   "execution_count": 14,
   "metadata": {},
   "outputs": [
    {
     "data": {
      "text/plain": [
       "'University of Houston'"
      ]
     },
     "execution_count": 14,
     "metadata": {},
     "output_type": "execute_result"
    }
   ],
   "source": [
    "#remove all leading and ending spaces\n",
    "university.strip()"
   ]
  },
  {
   "cell_type": "code",
   "execution_count": 15,
   "metadata": {},
   "outputs": [
    {
     "data": {
      "text/plain": [
       "'UniversityofHouston'"
      ]
     },
     "execution_count": 15,
     "metadata": {},
     "output_type": "execute_result"
    }
   ],
   "source": [
    "#remove all space characters in sentence\n",
    "university.replace(\" \", \"\")"
   ]
  },
  {
   "cell_type": "markdown",
   "metadata": {},
   "source": [
    "#### Count number of words and letters"
   ]
  },
  {
   "cell_type": "code",
   "execution_count": 16,
   "metadata": {},
   "outputs": [
    {
     "data": {
      "text/plain": [
       "21"
      ]
     },
     "execution_count": 16,
     "metadata": {},
     "output_type": "execute_result"
    }
   ],
   "source": [
    "#count number of charachters incluing white space\n",
    "university=\"University of Houston\"\n",
    "len(university)"
   ]
  },
  {
   "cell_type": "code",
   "execution_count": 17,
   "metadata": {},
   "outputs": [
    {
     "data": {
      "text/plain": [
       "3"
      ]
     },
     "execution_count": 17,
     "metadata": {},
     "output_type": "execute_result"
    }
   ],
   "source": [
    "#count number of words\n",
    "len(university.split()) # split function splits by white-space"
   ]
  },
  {
   "cell_type": "code",
   "execution_count": 18,
   "metadata": {},
   "outputs": [
    {
     "name": "stdout",
     "output_type": "stream",
     "text": [
      "1\n",
      "1\n"
     ]
    }
   ],
   "source": [
    "#count number of occurence of letter\n",
    "print(university.count('u'))\n",
    "print(university.count('U'))"
   ]
  },
  {
   "cell_type": "markdown",
   "metadata": {},
   "source": [
    "## Libraries in Python"
   ]
  },
  {
   "cell_type": "markdown",
   "metadata": {},
   "source": [
    "Usually you enter in terminal ``pip install [project name]``, best is to check source documentation of project. <br\\>\n",
    "Example: https://pypi.org/project/Counter/"
   ]
  },
  {
   "cell_type": "code",
   "execution_count": 19,
   "metadata": {},
   "outputs": [
    {
     "data": {
      "text/plain": [
       "Counter({' ': 2,\n",
       "         'H': 1,\n",
       "         'U': 1,\n",
       "         'e': 1,\n",
       "         'f': 1,\n",
       "         'i': 2,\n",
       "         'n': 2,\n",
       "         'o': 3,\n",
       "         'r': 1,\n",
       "         's': 2,\n",
       "         't': 2,\n",
       "         'u': 1,\n",
       "         'v': 1,\n",
       "         'y': 1})"
      ]
     },
     "execution_count": 19,
     "metadata": {},
     "output_type": "execute_result"
    }
   ],
   "source": [
    "# you need a library to count faster, this is a very powerful library that we wil use in the future\n",
    "from collections import Counter\n",
    "\n",
    "Counter(university) # here we count how much each letter appears, counter can do much more"
   ]
  },
  {
   "cell_type": "markdown",
   "metadata": {},
   "source": [
    "## Data Structures in Python"
   ]
  },
  {
   "cell_type": "markdown",
   "metadata": {},
   "source": [
    "### Lists\n",
    "\n",
    "ordered, changable, allows duplicated items"
   ]
  },
  {
   "cell_type": "code",
   "execution_count": 20,
   "metadata": {},
   "outputs": [
    {
     "name": "stdout",
     "output_type": "stream",
     "text": [
      "['baking', 'zoom', 'productiveness', 'instagram', 'netflix', 'social-distancing']\n"
     ]
    }
   ],
   "source": [
    "quarantine =['baking','zoom',\"productiveness\",\"instagram\",\"netflix\",\"social-distancing\"]\n",
    "print(quarantine)"
   ]
  },
  {
   "cell_type": "code",
   "execution_count": 21,
   "metadata": {},
   "outputs": [
    {
     "data": {
      "text/plain": [
       "6"
      ]
     },
     "execution_count": 21,
     "metadata": {},
     "output_type": "execute_result"
    }
   ],
   "source": [
    "len(quarantine) # we see we have 5 items in our list"
   ]
  },
  {
   "cell_type": "markdown",
   "metadata": {},
   "source": [
    "**VERY IMPORTANT** In Python counting of items/observations always starts with 0"
   ]
  },
  {
   "cell_type": "code",
   "execution_count": 22,
   "metadata": {},
   "outputs": [
    {
     "data": {
      "text/plain": [
       "'baking'"
      ]
     },
     "execution_count": 22,
     "metadata": {},
     "output_type": "execute_result"
    }
   ],
   "source": [
    "#select items\n",
    "quarantine_food_edition=quarantine[0]\n",
    "quarantine_food_edition"
   ]
  },
  {
   "cell_type": "code",
   "execution_count": 23,
   "metadata": {},
   "outputs": [
    {
     "data": {
      "text/plain": [
       "['instagram', 'netflix']"
      ]
     },
     "execution_count": 23,
     "metadata": {},
     "output_type": "execute_result"
    }
   ],
   "source": [
    "#select range, slice slice\n",
    "quarantine_fun_edition=quarantine[3:5]\n",
    "quarantine_fun_edition"
   ]
  },
  {
   "cell_type": "code",
   "execution_count": null,
   "metadata": {
    "collapsed": true
   },
   "outputs": [],
   "source": []
  },
  {
   "cell_type": "markdown",
   "metadata": {},
   "source": [
    "### Dictionaries"
   ]
  },
  {
   "cell_type": "markdown",
   "metadata": {},
   "source": [
    "A dictionary has a key and a corresponding value"
   ]
  },
  {
   "cell_type": "markdown",
   "metadata": {},
   "source": [
    "How to create a dictionary"
   ]
  },
  {
   "cell_type": "code",
   "execution_count": 24,
   "metadata": {},
   "outputs": [
    {
     "data": {
      "text/plain": [
       "{'Chocolate': 5, 'Pasta': 10, 'Pesto': 20}"
      ]
     },
     "execution_count": 24,
     "metadata": {},
     "output_type": "execute_result"
    }
   ],
   "source": [
    "myshoppingitems = ['Pasta', 10, 'Pesto', 20, 'Chocolate', 5]\n",
    "myshoppingitems = {'Pasta': 10, 'Pesto': 20, 'Chocolate': 5}\n",
    "myshoppingitems"
   ]
  },
  {
   "cell_type": "code",
   "execution_count": 25,
   "metadata": {},
   "outputs": [
    {
     "data": {
      "text/plain": [
       "{}"
      ]
     },
     "execution_count": 25,
     "metadata": {},
     "output_type": "execute_result"
    }
   ],
   "source": [
    "emptydictionary = dict()\n",
    "emptydictionary"
   ]
  },
  {
   "cell_type": "markdown",
   "metadata": {},
   "source": [
    "Add first item to the dictionary, dictionary keys should always be unique"
   ]
  },
  {
   "cell_type": "code",
   "execution_count": 26,
   "metadata": {},
   "outputs": [
    {
     "name": "stdout",
     "output_type": "stream",
     "text": [
      "{'Pasta': 10}\n"
     ]
    }
   ],
   "source": [
    "emptydictionary['Pasta'] = 10\n",
    "print(emptydictionary)"
   ]
  },
  {
   "cell_type": "markdown",
   "metadata": {},
   "source": [
    "Access key,item in a dictionary"
   ]
  },
  {
   "cell_type": "code",
   "execution_count": 27,
   "metadata": {},
   "outputs": [
    {
     "data": {
      "text/plain": [
       "20"
      ]
     },
     "execution_count": 27,
     "metadata": {},
     "output_type": "execute_result"
    }
   ],
   "source": [
    "myshoppingitems['Pesto']"
   ]
  },
  {
   "cell_type": "markdown",
   "metadata": {},
   "source": [
    "### Tuples\n",
    "\n",
    "- immutable sequence of Python objects - you cannot update or change the values of tuple elements\n",
    "- their advantage is that they have a fixed value"
   ]
  },
  {
   "cell_type": "code",
   "execution_count": 28,
   "metadata": {},
   "outputs": [
    {
     "name": "stdout",
     "output_type": "stream",
     "text": [
      "('noon', 'morning', 'afternoon', 'evening')\n"
     ]
    }
   ],
   "source": [
    "tuple1 = ('noon', 'morning', \"afternoon\", \"evening\")\n",
    "print(tuple1)"
   ]
  },
  {
   "cell_type": "markdown",
   "metadata": {},
   "source": [
    "create tuple of one value, you always need a comma at the end"
   ]
  },
  {
   "cell_type": "code",
   "execution_count": 29,
   "metadata": {},
   "outputs": [
    {
     "data": {
      "text/plain": [
       "(1,)"
      ]
     },
     "execution_count": 29,
     "metadata": {},
     "output_type": "execute_result"
    }
   ],
   "source": [
    "tupele2 = (1,)\n",
    "tupele2"
   ]
  },
  {
   "cell_type": "markdown",
   "metadata": {},
   "source": [
    "you can access values"
   ]
  },
  {
   "cell_type": "code",
   "execution_count": 30,
   "metadata": {},
   "outputs": [
    {
     "name": "stdout",
     "output_type": "stream",
     "text": [
      "afternoon\n"
     ]
    }
   ],
   "source": [
    "print(tuple1[2])"
   ]
  },
  {
   "cell_type": "markdown",
   "metadata": {},
   "source": [
    "you can not modify within tuples, but you can concate different tuples"
   ]
  },
  {
   "cell_type": "code",
   "execution_count": 31,
   "metadata": {},
   "outputs": [
    {
     "data": {
      "text/plain": [
       "('noon', 'morning', 'afternoon', 'evening', '12', '10', '16', '18')"
      ]
     },
     "execution_count": 31,
     "metadata": {},
     "output_type": "execute_result"
    }
   ],
   "source": [
    "tuple1 = ('noon', 'morning', \"afternoon\", \"evening\")\n",
    "tuple2 = ('12', '10', \"16\", \"18\")\n",
    "tuplemix=tuple1+tuple2\n",
    "tuplemix"
   ]
  },
  {
   "cell_type": "markdown",
   "metadata": {},
   "source": [
    "you can not modify within tuples, but you can repeat tuples in a new tuple"
   ]
  },
  {
   "cell_type": "code",
   "execution_count": 32,
   "metadata": {},
   "outputs": [
    {
     "data": {
      "text/plain": [
       "('12', '10', '16', '18', '12', '10', '16', '18')"
      ]
     },
     "execution_count": 32,
     "metadata": {},
     "output_type": "execute_result"
    }
   ],
   "source": [
    "tuplemultiply=tuple2*2\n",
    "tuplemultiply"
   ]
  },
  {
   "cell_type": "markdown",
   "metadata": {},
   "source": [
    "you can check membership"
   ]
  },
  {
   "cell_type": "code",
   "execution_count": 33,
   "metadata": {},
   "outputs": [
    {
     "data": {
      "text/plain": [
       "False"
      ]
     },
     "execution_count": 33,
     "metadata": {},
     "output_type": "execute_result"
    }
   ],
   "source": [
    "3 in tuple2"
   ]
  },
  {
   "cell_type": "markdown",
   "metadata": {},
   "source": [
    "### Sets\n",
    "\n",
    "What is a set? It is an unordered collection of items. You can not be sure in which order the items will appear.\n",
    "\n",
    "Elements of the set:\n",
    "1. must be unique - doesnt allow for duplicate elements\n",
    "2. elemenets can not be changed (you can not access items by refering to an index, as done in lists)\n",
    "\n",
    "The set as a whole is mutable, we can add and remove items from it\n",
    "\n",
    "Usually sets are used to for mathematical operations like, union and intersection"
   ]
  },
  {
   "cell_type": "code",
   "execution_count": 34,
   "metadata": {},
   "outputs": [
    {
     "name": "stdout",
     "output_type": "stream",
     "text": [
      "{2, 3, 100, 8, 13, 20}\n",
      "{2, 3, 'orange', 'apple'}\n"
     ]
    }
   ],
   "source": [
    "#creation of sets\n",
    "\n",
    "set1 = {8, 2, 3, 20, 13, 100}\n",
    "set2 = {\"apple\",2,3, \"orange\"}\n",
    "print(set1)\n",
    "print(set2)"
   ]
  },
  {
   "cell_type": "code",
   "execution_count": 35,
   "metadata": {},
   "outputs": [
    {
     "name": "stdout",
     "output_type": "stream",
     "text": [
      "{2, 3, 100, 8, 13, 20}\n"
     ]
    }
   ],
   "source": [
    "# no duplication allowed\n",
    "\n",
    "set3 = {8, 2, 3, 20, 13, 100, 20, 3}\n",
    "print(set3)\n"
   ]
  },
  {
   "cell_type": "code",
   "execution_count": 36,
   "metadata": {},
   "outputs": [
    {
     "name": "stdout",
     "output_type": "stream",
     "text": [
      "{8, 33, 20, 400}\n"
     ]
    }
   ],
   "source": [
    "# transform a list to a set\n",
    "\n",
    "newlist=[8,20,33,400]\n",
    "newset = set(newlist)\n",
    "print(newset)\n"
   ]
  },
  {
   "cell_type": "code",
   "execution_count": 37,
   "metadata": {},
   "outputs": [
    {
     "name": "stdout",
     "output_type": "stream",
     "text": [
      "{33, 2, 8, 400, 20}\n"
     ]
    }
   ],
   "source": [
    "#mutability of set\n",
    "\n",
    "#add an item\n",
    "newset.add(2)\n",
    "print(newset)"
   ]
  },
  {
   "cell_type": "code",
   "execution_count": 38,
   "metadata": {},
   "outputs": [
    {
     "name": "stdout",
     "output_type": "stream",
     "text": [
      "{33, 2, 100, 5, 6, 8, 400, 20}\n"
     ]
    }
   ],
   "source": [
    "#to add more than one item you use update\n",
    "newset.update([100, 5, 6])\n",
    "print(newset)"
   ]
  },
  {
   "cell_type": "code",
   "execution_count": 39,
   "metadata": {},
   "outputs": [
    {
     "name": "stdout",
     "output_type": "stream",
     "text": [
      "{33, 2, 5, 6, 8, 400, 20}\n"
     ]
    }
   ],
   "source": [
    "# discard an item (similar remove - however remove will show an error if the item is not in the set)\n",
    "newset.discard(100)\n",
    "print(newset)"
   ]
  },
  {
   "cell_type": "markdown",
   "metadata": {},
   "source": [
    "## **List Comprehension** \n",
    "This is a very important method that will help you a lot in the future!"
   ]
  },
  {
   "cell_type": "markdown",
   "metadata": {},
   "source": [
    "Let's very simply compare a loop and list comrepehension <br\\>\n",
    "Next week we are putting more focus on loops!"
   ]
  },
  {
   "cell_type": "code",
   "execution_count": 1,
   "metadata": {},
   "outputs": [
    {
     "name": "stdout",
     "output_type": "stream",
     "text": [
      "a\n",
      "b\n",
      "c\n"
     ]
    }
   ],
   "source": [
    "#Lets define a list\n",
    "letters=[\"a\",\"b\",\"c\"]\n",
    "#we want to print out letter by letter in that list\n",
    "\n",
    "for letter in letters:# for each letter in the list, print each letter\n",
    "    print(letter)"
   ]
  },
  {
   "cell_type": "code",
   "execution_count": 2,
   "metadata": {},
   "outputs": [
    {
     "name": "stdout",
     "output_type": "stream",
     "text": [
      "a\n",
      "b\n",
      "c\n"
     ]
    }
   ],
   "source": [
    "#we can also instead using letter, use x\n",
    "\n",
    "for x in letters:# for each letter in the list, print each letter\n",
    "    print (x) # as you see it is the same outcome"
   ]
  },
  {
   "cell_type": "code",
   "execution_count": 3,
   "metadata": {},
   "outputs": [
    {
     "name": "stdout",
     "output_type": "stream",
     "text": [
      "a\n",
      "b\n",
      "c\n"
     ]
    }
   ],
   "source": [
    "#simple loop to go through the elements\n",
    "#we dont have to save the list before the loop, we can also integrate it within the loop\n",
    "for l in [\"a\",\"b\",\"c\"]: \n",
    "    print(l)"
   ]
  },
  {
   "cell_type": "code",
   "execution_count": 4,
   "metadata": {},
   "outputs": [
    {
     "name": "stdout",
     "output_type": "stream",
     "text": [
      "1\n",
      "4\n",
      "9\n",
      "16\n",
      "25\n",
      "36\n"
     ]
    }
   ],
   "source": [
    "#lets move to list comprehension\n",
    "#again we have a list of numbers\n",
    "numbers=[1,2,3,4,5,6]\n",
    "numbers\n",
    "\n",
    "for n in numbers: \n",
    "    print(n**2)"
   ]
  },
  {
   "cell_type": "markdown",
   "metadata": {},
   "source": [
    "**Why do we use list comprehesion?**\n",
    "\n",
    "Basically to create a list based on another items of a list.\n",
    "We go through each element of the list."
   ]
  },
  {
   "cell_type": "code",
   "execution_count": 5,
   "metadata": {},
   "outputs": [
    {
     "data": {
      "text/plain": [
       "[1, 4, 9, 16, 25, 36]"
      ]
     },
     "execution_count": 5,
     "metadata": {},
     "output_type": "execute_result"
    }
   ],
   "source": [
    "squares = [n**2 for n in numbers]\n",
    "squares"
   ]
  },
  {
   "cell_type": "code",
   "execution_count": 8,
   "metadata": {},
   "outputs": [
    {
     "name": "stdout",
     "output_type": "stream",
     "text": [
      "['today', 'is', 'a', 'sunny', 'day,', 'i', 'need', 'some', 'vitamin', 'd']\n"
     ]
    }
   ],
   "source": [
    "#lets define a list\n",
    "random = 'Today is a sunny day, I need some Vitamin D'\n",
    "#to lower text\n",
    "random_lower = [x.lower() for x in random.split()] #we say for each word (x) in the list we call random lower the text\n",
    "print(random_lower)"
   ]
  },
  {
   "cell_type": "code",
   "execution_count": 41,
   "metadata": {},
   "outputs": [
    {
     "data": {
      "text/plain": [
       "[88, 94, 100, 99, 98]"
      ]
     },
     "execution_count": 41,
     "metadata": {},
     "output_type": "execute_result"
    }
   ],
   "source": [
    "grades = [88, 94,100, 99, 70,98,55,20]\n",
    "# to choose grades above 80\n",
    "[g for g in grades if g > 80] \n",
    "# for each grade (we call it here g) in the grades list give back the numbers if they are above 80\n"
   ]
  },
  {
   "cell_type": "markdown",
   "metadata": {},
   "source": [
    "# Excercises"
   ]
  },
  {
   "cell_type": "markdown",
   "metadata": {},
   "source": [
    "**Exercise 1**\n",
    "\n",
    "1. count how the occurence of each letter in the sentence. Hint: use the Counter library in python\n",
    "2. count number of characters/letters only (no white space, no punctuation) - hint use the replace in-built function in python."
   ]
  },
  {
   "cell_type": "code",
   "execution_count": 42,
   "metadata": {
    "collapsed": true
   },
   "outputs": [],
   "source": [
    "sentence=(\"Hello World, I am so excited; to finally be able to get out of quarantine and meet all my friends\")"
   ]
  },
  {
   "cell_type": "code",
   "execution_count": 43,
   "metadata": {},
   "outputs": [
    {
     "data": {
      "text/plain": [
       "Counter({' ': 19,\n",
       "         ',': 1,\n",
       "         ';': 1,\n",
       "         'H': 1,\n",
       "         'I': 1,\n",
       "         'W': 1,\n",
       "         'a': 7,\n",
       "         'b': 2,\n",
       "         'c': 1,\n",
       "         'd': 4,\n",
       "         'e': 10,\n",
       "         'f': 3,\n",
       "         'g': 1,\n",
       "         'i': 4,\n",
       "         'l': 8,\n",
       "         'm': 3,\n",
       "         'n': 5,\n",
       "         'o': 7,\n",
       "         'q': 1,\n",
       "         'r': 3,\n",
       "         's': 2,\n",
       "         't': 7,\n",
       "         'u': 2,\n",
       "         'x': 1,\n",
       "         'y': 2})"
      ]
     },
     "execution_count": 43,
     "metadata": {},
     "output_type": "execute_result"
    }
   ],
   "source": [
    "#1\n",
    "from collections import Counter\n",
    "counter_occurences = Counter(sentence)\n",
    "counter_occurences"
   ]
  },
  {
   "cell_type": "code",
   "execution_count": 44,
   "metadata": {},
   "outputs": [
    {
     "data": {
      "text/plain": [
       "76"
      ]
     },
     "execution_count": 44,
     "metadata": {},
     "output_type": "execute_result"
    }
   ],
   "source": [
    "#2\n",
    "sentence=sentence.replace(\" \", \"\")\n",
    "sentence=sentence.replace(\",\", \"\")\n",
    "sentence=sentence.replace(\";\", \"\")\n",
    "len(sentence)"
   ]
  },
  {
   "cell_type": "markdown",
   "metadata": {},
   "source": [
    "**Excercise 2**\n",
    "\n",
    "why do we see an error message here"
   ]
  },
  {
   "cell_type": "code",
   "execution_count": 45,
   "metadata": {},
   "outputs": [
    {
     "ename": "TypeError",
     "evalue": "unsupported operand type(s) for +: 'int' and 'str'",
     "output_type": "error",
     "traceback": [
      "\u001b[0;31m---------------------------------------------------------------------------\u001b[0m",
      "\u001b[0;31mTypeError\u001b[0m                                 Traceback (most recent call last)",
      "\u001b[0;32m<ipython-input-45-d0daa1f1a93d>\u001b[0m in \u001b[0;36m<module>\u001b[0;34m()\u001b[0m\n\u001b[0;32m----> 1\u001b[0;31m \u001b[0mvar\u001b[0m \u001b[0;34m=\u001b[0m \u001b[0;36m100\u001b[0m \u001b[0;34m+\u001b[0m \u001b[0;34m\"the number 100\"\u001b[0m\u001b[0;34m\u001b[0m\u001b[0;34m\u001b[0m\u001b[0m\n\u001b[0m",
      "\u001b[0;31mTypeError\u001b[0m: unsupported operand type(s) for +: 'int' and 'str'"
     ]
    }
   ],
   "source": [
    "var = 100 + \"the number 100\""
   ]
  },
  {
   "cell_type": "code",
   "execution_count": 78,
   "metadata": {},
   "outputs": [
    {
     "data": {
      "text/plain": [
       "(100, 'the number 100')"
      ]
     },
     "execution_count": 78,
     "metadata": {},
     "output_type": "execute_result"
    }
   ],
   "source": [
    "var=100, \"the number 100\"\n",
    "var"
   ]
  },
  {
   "cell_type": "markdown",
   "metadata": {},
   "source": [
    "**Excercise 3**\n",
    "\n",
    "- Save your first and last name in lowercase in seperate variables: firstname, lastname\n",
    "- Save first and last name together in a new variable fullname\n",
    "- Print your fullname where the first letter of each name is capitalized\n",
    "\n",
    "Hint\n",
    "\n",
    "- Make sure there is space between both names\n"
   ]
  },
  {
   "cell_type": "code",
   "execution_count": 46,
   "metadata": {},
   "outputs": [
    {
     "data": {
      "text/plain": [
       "'ashrakat elshehawy'"
      ]
     },
     "execution_count": 46,
     "metadata": {},
     "output_type": "execute_result"
    }
   ],
   "source": [
    "lastname=\"elshehawy\"\n",
    "firstname=\"ashrakat\"\n",
    "\n",
    "fullname=firstname +\" \" +lastname\n",
    "fullname"
   ]
  },
  {
   "cell_type": "code",
   "execution_count": 47,
   "metadata": {},
   "outputs": [
    {
     "name": "stdout",
     "output_type": "stream",
     "text": [
      "Ashrakat Elshehawy\n"
     ]
    }
   ],
   "source": [
    "print(fullname.title())\n"
   ]
  },
  {
   "cell_type": "markdown",
   "metadata": {},
   "source": [
    "**Excercise 4**\n",
    "\n",
    "Count number of lowercase and uppercase words\n",
    "\n",
    "Note: There are several ways to do this"
   ]
  },
  {
   "cell_type": "code",
   "execution_count": 2,
   "metadata": {},
   "outputs": [
    {
     "data": {
      "text/plain": [
       "6"
      ]
     },
     "execution_count": 2,
     "metadata": {},
     "output_type": "execute_result"
    }
   ],
   "source": [
    "my_word = \"HelLo WorLd\"\n",
    "lower_count = sum(map(str.islower, my_word))\n",
    "upper_count = sum(map(str.isupper, my_word))\n",
    "\n",
    "lower_count"
   ]
  },
  {
   "cell_type": "markdown",
   "metadata": {
    "collapsed": true
   },
   "source": [
    "**Excercise 5** \n",
    "\n",
    "Focusing on manipulating lists!\n",
    "\n",
    "1. count how many times bananas occur\n",
    "2. save last item in the list in the variable \"oneitem\"\n",
    "3. save the third item in the list in the variable \"thirditem\"\n",
    "4. return the items from the beginning to \"chocolate\"\n",
    "5. add a new element to the list called \"beef\"\n",
    "6. remove first element of list, uses pop function\n",
    "7. Insert \"grapes\" instead of oranges\n",
    "8. sort this list in ascending numbers,  numbers=[1,9,8,5,2,7]\n",
    "\n",
    "Make sure you dont overwrite the original list (by creating new lists)"
   ]
  },
  {
   "cell_type": "code",
   "execution_count": 49,
   "metadata": {
    "collapsed": true
   },
   "outputs": [],
   "source": [
    "food=[\"apples\",\"oranges\",\"bananas\",\"chocolate\",\"strawberries\",\"bananas\"]\n"
   ]
  },
  {
   "cell_type": "code",
   "execution_count": 50,
   "metadata": {},
   "outputs": [
    {
     "data": {
      "text/plain": [
       "2"
      ]
     },
     "execution_count": 50,
     "metadata": {},
     "output_type": "execute_result"
    }
   ],
   "source": [
    "#1\n",
    "food.count(\"bananas\")"
   ]
  },
  {
   "cell_type": "code",
   "execution_count": 51,
   "metadata": {},
   "outputs": [
    {
     "data": {
      "text/plain": [
       "'bananas'"
      ]
     },
     "execution_count": 51,
     "metadata": {},
     "output_type": "execute_result"
    }
   ],
   "source": [
    "#2\n",
    "#negative indexing, you receive last item\n",
    "oneitem=food[-1] \n",
    "oneitem"
   ]
  },
  {
   "cell_type": "code",
   "execution_count": 52,
   "metadata": {},
   "outputs": [
    {
     "data": {
      "text/plain": [
       "'bananas'"
      ]
     },
     "execution_count": 52,
     "metadata": {},
     "output_type": "execute_result"
    }
   ],
   "source": [
    "#3\n",
    "thirditem=food[2] \n",
    "thirditem"
   ]
  },
  {
   "cell_type": "code",
   "execution_count": 53,
   "metadata": {},
   "outputs": [
    {
     "name": "stdout",
     "output_type": "stream",
     "text": [
      "['apples', 'oranges', 'bananas', 'chocolate']\n"
     ]
    }
   ],
   "source": [
    "#4\n",
    "print(food[:4]) #By leaving out the end value, the range will go on to the end of the list\n"
   ]
  },
  {
   "cell_type": "code",
   "execution_count": 54,
   "metadata": {},
   "outputs": [
    {
     "name": "stdout",
     "output_type": "stream",
     "text": [
      "['apples', 'oranges', 'bananas', 'chocolate', 'strawberries', 'bananas', 'beef']\n"
     ]
    }
   ],
   "source": [
    "#5\n",
    "# add a new element\n",
    "food2=food\n",
    "food2.append(\"beef\")\n",
    "\n",
    "print(food)"
   ]
  },
  {
   "cell_type": "code",
   "execution_count": 55,
   "metadata": {},
   "outputs": [
    {
     "name": "stdout",
     "output_type": "stream",
     "text": [
      "['oranges', 'bananas', 'chocolate', 'strawberries', 'bananas', 'beef']\n"
     ]
    }
   ],
   "source": [
    "# 6\n",
    "# remove an element\n",
    "food3=food\n",
    "food3.pop(0)\n",
    "\n",
    "print (food)"
   ]
  },
  {
   "cell_type": "code",
   "execution_count": 56,
   "metadata": {},
   "outputs": [
    {
     "data": {
      "text/plain": [
       "['oranges',\n",
       " 'bananas',\n",
       " 'grapes',\n",
       " 'chocolate',\n",
       " 'strawberries',\n",
       " 'bananas',\n",
       " 'beef']"
      ]
     },
     "execution_count": 56,
     "metadata": {},
     "output_type": "execute_result"
    }
   ],
   "source": [
    "#7\n",
    "food4=food\n",
    "food4.insert(2,\"grapes\")   # Insert item at position i\n",
    "food"
   ]
  },
  {
   "cell_type": "code",
   "execution_count": 57,
   "metadata": {},
   "outputs": [
    {
     "data": {
      "text/plain": [
       "[1, 2, 5, 7, 8, 9]"
      ]
     },
     "execution_count": 57,
     "metadata": {},
     "output_type": "execute_result"
    }
   ],
   "source": [
    "#8\n",
    "numbers=[1,9,8,5,2,7]\n",
    "numbers.sort()\n",
    "numbers"
   ]
  },
  {
   "cell_type": "markdown",
   "metadata": {},
   "source": [
    "**Excercise 6**\n",
    "\n",
    "Print this string in multi-lines (broken lines) - save in variable \"paragraph\":\n",
    "\n",
    "Line 1: I am going to start writing a paragraph <br\\>\n",
    "Line 2: It shoudldnt be too long <br\\>\n",
    "Line 3: I will keep it short"
   ]
  },
  {
   "cell_type": "code",
   "execution_count": 58,
   "metadata": {},
   "outputs": [
    {
     "name": "stdout",
     "output_type": "stream",
     "text": [
      "I am going to start writing a paragraph\n",
      "It shoudldnt be too long\n",
      "I will keep it short\n"
     ]
    }
   ],
   "source": [
    "# you can use \\n\\\n",
    "\n",
    "# This example also works with single-quotes.\n",
    "paragraph = \"I am going to start writing a paragraph\\n\\\n",
    "It shoudldnt be too long\\n\\\n",
    "I will keep it short\"\n",
    "\n",
    "print(paragraph)"
   ]
  },
  {
   "cell_type": "code",
   "execution_count": 59,
   "metadata": {},
   "outputs": [
    {
     "name": "stdout",
     "output_type": "stream",
     "text": [
      "I am going to start writing a paragraph\n",
      "It shoudldnt be too long\n",
      "I will keep it short\n"
     ]
    }
   ],
   "source": [
    "#or triple quotations\n",
    "paragraph = \"\"\"I am going to start writing a paragraph\n",
    "It shoudldnt be too long\n",
    "I will keep it short\"\"\"\n",
    "print(paragraph)"
   ]
  },
  {
   "cell_type": "markdown",
   "metadata": {},
   "source": [
    "**Excercise 7**\n",
    "\n",
    "Use once negative and once positive indexing<br\\>\n",
    "to print the letter n  \n",
    "\n"
   ]
  },
  {
   "cell_type": "code",
   "execution_count": 60,
   "metadata": {
    "collapsed": true
   },
   "outputs": [],
   "source": [
    "newsentence= \"This is a new sentece for Excercise 7\"\n"
   ]
  },
  {
   "cell_type": "code",
   "execution_count": 61,
   "metadata": {},
   "outputs": [
    {
     "name": "stdout",
     "output_type": "stream",
     "text": [
      "n\n"
     ]
    }
   ],
   "source": [
    "#positive sequencing\n",
    "print(newsentence[10])"
   ]
  },
  {
   "cell_type": "code",
   "execution_count": 62,
   "metadata": {},
   "outputs": [
    {
     "name": "stdout",
     "output_type": "stream",
     "text": [
      "n\n"
     ]
    }
   ],
   "source": [
    "#negative sequencing\n",
    "print(newsentence[-21])"
   ]
  },
  {
   "cell_type": "markdown",
   "metadata": {},
   "source": [
    "**Excercise 8**\n",
    "\n",
    "Add space between every letter of the string below\n"
   ]
  },
  {
   "cell_type": "code",
   "execution_count": 63,
   "metadata": {
    "collapsed": true
   },
   "outputs": [],
   "source": [
    "\n",
    "string4=\"Test String\"\n"
   ]
  },
  {
   "cell_type": "code",
   "execution_count": 64,
   "metadata": {},
   "outputs": [
    {
     "name": "stdout",
     "output_type": "stream",
     "text": [
      "T e s t   S t r i n g\n"
     ]
    }
   ],
   "source": [
    "string_revised=\" \".join(string4)\n",
    "print (string_revised)"
   ]
  },
  {
   "cell_type": "markdown",
   "metadata": {},
   "source": [
    "**Excercise 9**\n",
    "\n",
    "Dictionaries \n",
    "1. print all keys in the dictionary below\n",
    "2. print all values in the dictionary below"
   ]
  },
  {
   "cell_type": "code",
   "execution_count": 65,
   "metadata": {
    "collapsed": true
   },
   "outputs": [],
   "source": [
    "phd_dictionary={\"teaching\": 2,\"dissertation\":10,\"coffee\":20}"
   ]
  },
  {
   "cell_type": "code",
   "execution_count": 66,
   "metadata": {},
   "outputs": [
    {
     "data": {
      "text/plain": [
       "dict_keys(['teaching', 'dissertation', 'coffee'])"
      ]
     },
     "execution_count": 66,
     "metadata": {},
     "output_type": "execute_result"
    }
   ],
   "source": [
    "phd_dictionary_keys = phd_dictionary.keys()\n",
    "phd_dictionary_keys"
   ]
  },
  {
   "cell_type": "code",
   "execution_count": 67,
   "metadata": {},
   "outputs": [
    {
     "data": {
      "text/plain": [
       "dict_values([2, 10, 20])"
      ]
     },
     "execution_count": 67,
     "metadata": {},
     "output_type": "execute_result"
    }
   ],
   "source": [
    "phd_dictionary_values = phd_dictionary.values()\n",
    "phd_dictionary_values"
   ]
  },
  {
   "cell_type": "markdown",
   "metadata": {},
   "source": [
    "**Excercise 10**\n",
    "\n",
    "List comprehension: <br\\>\n",
    "1. Split the sentece below, into list items\n",
    "2. Lowercase all words\n",
    "2. Count the number of charcters for every word in the list, excluding the word \"the\"\n",
    "\n",
    "Use list comprehesion to perform 2 and 3"
   ]
  },
  {
   "cell_type": "code",
   "execution_count": 68,
   "metadata": {},
   "outputs": [
    {
     "data": {
      "text/plain": [
       "['The', 'hand', 'sanitizer', 'was', 'actually', 'clear', 'glue.']"
      ]
     },
     "execution_count": 68,
     "metadata": {},
     "output_type": "execute_result"
    }
   ],
   "source": [
    "sentence = \"The hand sanitizer was actually clear glue.\"\n",
    "words = sentence.split()\n",
    "words"
   ]
  },
  {
   "cell_type": "code",
   "execution_count": 69,
   "metadata": {},
   "outputs": [
    {
     "data": {
      "text/plain": [
       "['the', 'hand', 'sanitizer', 'was', 'actually', 'clear', 'glue.']"
      ]
     },
     "execution_count": 69,
     "metadata": {},
     "output_type": "execute_result"
    }
   ],
   "source": [
    "words_lower = [item.lower() for item in words]\n",
    "words_lower"
   ]
  },
  {
   "cell_type": "code",
   "execution_count": 70,
   "metadata": {},
   "outputs": [
    {
     "name": "stdout",
     "output_type": "stream",
     "text": [
      "[4, 9, 3, 8, 5, 5]\n"
     ]
    }
   ],
   "source": [
    "word_lengths = [len(word) for word in words_lower if word != \"the\"]\n",
    "print(word_lengths)"
   ]
  },
  {
   "cell_type": "markdown",
   "metadata": {},
   "source": [
    "**Excercise 11**\n",
    "\n",
    "1. Please find the numbers that are common from list1 and list2 using list comprehesion. There are several ways to solve this. Hint: remember boolean operations, and check the usage of if in list comprehensions\n",
    "2. Please fine the numbers that are common from list1 and list2 using intersection. Hint: Think how sets can come handy here"
   ]
  },
  {
   "cell_type": "code",
   "execution_count": null,
   "metadata": {
    "collapsed": true
   },
   "outputs": [],
   "source": [
    "list_a = [1, 2, 3, 4]\n",
    "list_b = [2, 3, 4, 5]"
   ]
  },
  {
   "cell_type": "code",
   "execution_count": null,
   "metadata": {
    "collapsed": true
   },
   "outputs": [],
   "source": [
    "#1\n",
    "common_num = [a for a in list_a for b in list_b if a == b]\n",
    "common_num"
   ]
  },
  {
   "cell_type": "code",
   "execution_count": null,
   "metadata": {
    "collapsed": true
   },
   "outputs": [],
   "source": [
    "common_num1= [element for element in list_a if element in list_b]\n",
    "common_num1"
   ]
  },
  {
   "cell_type": "code",
   "execution_count": null,
   "metadata": {
    "collapsed": true
   },
   "outputs": [],
   "source": [
    "#2\n",
    "list_a_set = set(list_a)\n",
    "intersection = list_a_set.intersection(list_b)\n",
    "intersection"
   ]
  },
  {
   "cell_type": "code",
   "execution_count": null,
   "metadata": {
    "collapsed": true
   },
   "outputs": [],
   "source": [
    "#another way to do two\n",
    "list(set(list_a).intersection(list_b))"
   ]
  },
  {
   "cell_type": "markdown",
   "metadata": {},
   "source": [
    "**Excercise 12**\n",
    "\n",
    "Why is this code showing an error message?"
   ]
  },
  {
   "cell_type": "code",
   "execution_count": 7,
   "metadata": {},
   "outputs": [
    {
     "ename": "TypeError",
     "evalue": "unhashable type: 'list'",
     "output_type": "error",
     "traceback": [
      "\u001b[0;31m---------------------------------------------------------------------------\u001b[0m",
      "\u001b[0;31mTypeError\u001b[0m                                 Traceback (most recent call last)",
      "\u001b[0;32m<ipython-input-7-4609e10410af>\u001b[0m in \u001b[0;36m<module>\u001b[0;34m()\u001b[0m\n\u001b[0;32m----> 1\u001b[0;31m \u001b[0mmy_set\u001b[0m \u001b[0;34m=\u001b[0m \u001b[0;34m{\u001b[0m\u001b[0;36m1\u001b[0m\u001b[0;34m,\u001b[0m \u001b[0;36m2\u001b[0m\u001b[0;34m,\u001b[0m \u001b[0;34m[\u001b[0m\u001b[0;36m3\u001b[0m\u001b[0;34m,\u001b[0m \u001b[0;36m4\u001b[0m\u001b[0;34m]\u001b[0m\u001b[0;34m}\u001b[0m\u001b[0;34m\u001b[0m\u001b[0;34m\u001b[0m\u001b[0m\n\u001b[0m\u001b[1;32m      2\u001b[0m \u001b[0;34m\u001b[0m\u001b[0m\n\u001b[1;32m      3\u001b[0m \u001b[0;34m\u001b[0m\u001b[0m\n\u001b[1;32m      4\u001b[0m \u001b[0;31m# set cannot have mutable items\u001b[0m\u001b[0;34m\u001b[0m\u001b[0;34m\u001b[0m\u001b[0;34m\u001b[0m\u001b[0m\n\u001b[1;32m      5\u001b[0m \u001b[0;31m# here [3, 4] is a mutable list\u001b[0m\u001b[0;34m\u001b[0m\u001b[0;34m\u001b[0m\u001b[0;34m\u001b[0m\u001b[0m\n",
      "\u001b[0;31mTypeError\u001b[0m: unhashable type: 'list'"
     ]
    }
   ],
   "source": [
    "my_set = {1, 2, [3, 4]}\n",
    "\n",
    "\n",
    "# set cannot have mutable items\n",
    "# here [3, 4] is a mutable list\n",
    "# this will cause an error."
   ]
  },
  {
   "cell_type": "markdown",
   "metadata": {},
   "source": [
    "**Excercise 12**\n",
    "1. Show the Union between both sets\n",
    "2. Show the Intersection between both sets\n",
    "3. Show Set Difference\n",
    "4. Show Set Symmetric Difference"
   ]
  },
  {
   "cell_type": "code",
   "execution_count": 8,
   "metadata": {
    "collapsed": true
   },
   "outputs": [],
   "source": [
    "x = {100, 200, 300, 400, 500}\n",
    "z = {400, 500, 600, 700, 800}"
   ]
  },
  {
   "cell_type": "code",
   "execution_count": 9,
   "metadata": {},
   "outputs": [
    {
     "name": "stdout",
     "output_type": "stream",
     "text": [
      "{800, 100, 200, 300, 400, 500, 600, 700}\n",
      "{400, 500}\n",
      "{200, 100, 300}\n",
      "{800, 100, 300, 600, 700, 200}\n"
     ]
    }
   ],
   "source": [
    "#1\n",
    "print(x | z)\n",
    "#2\n",
    "print(x & z)\n",
    "#3\n",
    "print(x-z)\n",
    "#4\n",
    "print(x^z)"
   ]
  },
  {
   "cell_type": "markdown",
   "metadata": {},
   "source": [
    "**Excercise 11**\n",
    "\n",
    "Nested Dictionaries are dictionaries within dictionaries.\n",
    "1. Print values for birds in general\n",
    "2. Print values of the Orchids\n"
   ]
  },
  {
   "cell_type": "code",
   "execution_count": 10,
   "metadata": {},
   "outputs": [
    {
     "data": {
      "text/plain": [
       "{'birds': {'Owls': 9, 'Parrots': 5},\n",
       " 'flowers': {'Lilly': 10, 'Orchids': 20, 'Sunflower': 2}}"
      ]
     },
     "execution_count": 10,
     "metadata": {},
     "output_type": "execute_result"
    }
   ],
   "source": [
    "nested_dict = { 'birds': {'Parrots': 5, \"Owls\":9},\n",
    "                'flowers': {'Sunflower': 2, \"Lilly\":10,\"Orchids\":20}}\n",
    "nested_dict"
   ]
  },
  {
   "cell_type": "code",
   "execution_count": 11,
   "metadata": {},
   "outputs": [
    {
     "name": "stdout",
     "output_type": "stream",
     "text": [
      "{'Parrots': 5, 'Owls': 9}\n"
     ]
    }
   ],
   "source": [
    "#1\n",
    "print(nested_dict['birds']) \n"
   ]
  },
  {
   "cell_type": "code",
   "execution_count": 12,
   "metadata": {},
   "outputs": [
    {
     "name": "stdout",
     "output_type": "stream",
     "text": [
      "20\n"
     ]
    }
   ],
   "source": [
    "#2\n",
    "print(nested_dict['flowers'][\"Orchids\"]) \n"
   ]
  },
  {
   "cell_type": "code",
   "execution_count": null,
   "metadata": {
    "collapsed": true
   },
   "outputs": [],
   "source": []
  },
  {
   "cell_type": "code",
   "execution_count": null,
   "metadata": {
    "collapsed": true
   },
   "outputs": [],
   "source": []
  },
  {
   "cell_type": "code",
   "execution_count": null,
   "metadata": {
    "collapsed": true
   },
   "outputs": [],
   "source": []
  }
 ],
 "metadata": {
  "kernelspec": {
   "display_name": "Python 3",
   "language": "python",
   "name": "python3"
  },
  "language_info": {
   "codemirror_mode": {
    "name": "ipython",
    "version": 3
   },
   "file_extension": ".py",
   "mimetype": "text/x-python",
   "name": "python",
   "nbconvert_exporter": "python",
   "pygments_lexer": "ipython3",
   "version": "3.6.8"
  }
 },
 "nbformat": 4,
 "nbformat_minor": 2
}
