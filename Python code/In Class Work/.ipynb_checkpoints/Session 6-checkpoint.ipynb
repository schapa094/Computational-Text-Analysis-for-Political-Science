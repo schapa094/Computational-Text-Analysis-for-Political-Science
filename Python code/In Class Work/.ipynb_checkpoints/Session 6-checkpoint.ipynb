{
 "cells": [
  {
   "cell_type": "markdown",
   "metadata": {},
   "source": [
    "# Session Outline\n",
    "\n",
    "- Go through homework 5\n",
    "- Answers about Indexing\n",
    "- What is the Lambda operator?\n",
    "- A Note on **Visualization**\n",
    "- Cleaning Pipeline\n",
    "- Adding to the NLP Pipeline: **Tokenization**\n",
    "\n"
   ]
  },
  {
   "cell_type": "markdown",
   "metadata": {},
   "source": [
    "![coding](https://media.giphy.com/media/FPbnShq1h1IS5FQyPD/giphy.gif)"
   ]
  },
  {
   "cell_type": "markdown",
   "metadata": {},
   "source": [
    "# Needed Libraries"
   ]
  },
  {
   "cell_type": "code",
   "execution_count": 19,
   "metadata": {},
   "outputs": [
    {
     "name": "stderr",
     "output_type": "stream",
     "text": [
      "[nltk_data] Downloading package punkt to /Users/Ashrakat/nltk_data...\n",
      "[nltk_data]   Package punkt is already up-to-date!\n"
     ]
    }
   ],
   "source": [
    "import numpy as np\n",
    "from numpy import *\n",
    "from numpy import random # random data\n",
    "import csv\n",
    "import pandas as pd\n",
    "import matplotlib.pyplot as plt\n",
    "from collections import Counter\n",
    "from itertools import chain\n",
    "import nltk\n",
    "nltk.download('punkt')\n",
    "import codecs\n",
    "import string\n",
    "from nltk.corpus import stopwords\n",
    "import re\n"
   ]
  },
  {
   "cell_type": "markdown",
   "metadata": {},
   "source": [
    "# Answers about Indexing"
   ]
  },
  {
   "cell_type": "markdown",
   "metadata": {},
   "source": [
    "## Indexing in a list"
   ]
  },
  {
   "cell_type": "code",
   "execution_count": 2,
   "metadata": {
    "collapsed": true
   },
   "outputs": [],
   "source": [
    "with open('/Users/Ashrakat/Dropbox/University/Oxford/Jobs/Teaching/Text Analysis/code/Basics-of-Text-Analysis-for-Political-Science/Data/dataset_solution4_ex2.csv')\\\n",
    "as f:\n",
    "    lines = f.read().splitlines()"
   ]
  },
  {
   "cell_type": "code",
   "execution_count": 3,
   "metadata": {},
   "outputs": [
    {
     "data": {
      "text/plain": [
       "['httpdesputniknewscompolitik20180813321937555syriendeutschlandfluechtlingerueckkehrsanktionen',\n",
       " 'httpwebarchiveorgweb20180813172522httpsdesputniknewscomamppolitik20180813321937555syriendeutschlandfluechtlingerueckkehrsanktionen',\n",
       " '20180813',\n",
       " 'Rückkehr von Flüchtlingen Syrischer Minister appelliert an Deutschland',\n",
       " '\"Der syrische Minister für lokale Verwaltung und Umwelt Hussein Makhlouf hat über Journalisten Deutschland zur Aufhebung der Sanktionen gegen Damaskus aufgerufen Dies soll laut dem Politiker die Rückkehr der syrischen Flüchtlinge in ihre Heimat fördern „Ich möchte mich über Sie an die deutsche Regierung wenden und bitten die einseitigen Sanktionen gegen Syrien aufzuheben“ sagte Makhlouf sich an einen deutschen Journalisten wendend auf einer Pressekonferenz Mehr zum Thema  UNFlüchtlingskommissar tritt gegen Rückkehr von Flüchtlingen nach Syrien auf  Makhlouf der auch Chef des syrischen Koordinierungsausschusses für Rückkehr der Flüchtlinge ist betonte im Fall einer Aufhebung der Sanktionen werde die Rückkehr der Flüchtlinge beschleunigt Dies würde den Wideraufbau des Landes fördern Mehr zum Thema  Russland forciert Rückkehr von SyrienFlüchtlingen Zuvor hatte das russische Zentrum für Aufnahme Verteilung und Unterbringung beim russischen Verteidigungsministerium mitgeteilt mehr als 17 Millionen Syrer hätten den Wunsch geäußert aus neun Gastländern in\\xa0ihre Heimat zurückzukehren Die meisten Heimkehrwilligen halten sich jetzt im Libanon in\\xa0der Türkei und in\\xa0Deutschland auf\"',\n",
       " 'OVERTHRESHOLD',\n",
       " 'flüchtlingen flüchtlinge',\n",
       " '163',\n",
       " '\"0543706912424414\"']"
      ]
     },
     "execution_count": 3,
     "metadata": {},
     "output_type": "execute_result"
    }
   ],
   "source": [
    "lines"
   ]
  },
  {
   "cell_type": "code",
   "execution_count": 4,
   "metadata": {},
   "outputs": [
    {
     "data": {
      "text/plain": [
       "['httpdesputniknewscompolitik20180813321937555syriendeutschlandfluechtlingerueckkehrsanktionen',\n",
       " 'httpwebarchiveorgweb20180813172522httpsdesputniknewscomamppolitik20180813321937555syriendeutschlandfluechtlingerueckkehrsanktionen',\n",
       " '2018',\n",
       " 'Rückkehr von Flüchtlingen Syrischer Minister appelliert an Deutschland',\n",
       " '\"Der syrische Minister für lokale Verwaltung und Umwelt Hussein Makhlouf hat über Journalisten Deutschland zur Aufhebung der Sanktionen gegen Damaskus aufgerufen Dies soll laut dem Politiker die Rückkehr der syrischen Flüchtlinge in ihre Heimat fördern „Ich möchte mich über Sie an die deutsche Regierung wenden und bitten die einseitigen Sanktionen gegen Syrien aufzuheben“ sagte Makhlouf sich an einen deutschen Journalisten wendend auf einer Pressekonferenz Mehr zum Thema  UNFlüchtlingskommissar tritt gegen Rückkehr von Flüchtlingen nach Syrien auf  Makhlouf der auch Chef des syrischen Koordinierungsausschusses für Rückkehr der Flüchtlinge ist betonte im Fall einer Aufhebung der Sanktionen werde die Rückkehr der Flüchtlinge beschleunigt Dies würde den Wideraufbau des Landes fördern Mehr zum Thema  Russland forciert Rückkehr von SyrienFlüchtlingen Zuvor hatte das russische Zentrum für Aufnahme Verteilung und Unterbringung beim russischen Verteidigungsministerium mitgeteilt mehr als 17 Millionen Syrer hätten den Wunsch geäußert aus neun Gastländern in\\xa0ihre Heimat zurückzukehren Die meisten Heimkehrwilligen halten sich jetzt im Libanon in\\xa0der Türkei und in\\xa0Deutschland auf\"',\n",
       " 'OVERTHRESHOLD',\n",
       " 'flüchtlingen flüchtlinge',\n",
       " '163',\n",
       " '\"0543706912424414\"']"
      ]
     },
     "execution_count": 4,
     "metadata": {},
     "output_type": "execute_result"
    }
   ],
   "source": [
    "#if I want to keep year\n",
    "\n",
    "lines_year = lines.copy()\n",
    "lines_year[2]=lines_year[2][:-4]\n",
    "lines_year"
   ]
  },
  {
   "cell_type": "code",
   "execution_count": 5,
   "metadata": {},
   "outputs": [
    {
     "data": {
      "text/plain": [
       "['httpdesputniknewscompolitik20180813321937555syriendeutschlandfluechtlingerueckkehrsanktionen',\n",
       " 'httpwebarchiveorgweb20180813172522httpsdesputniknewscomamppolitik20180813321937555syriendeutschlandfluechtlingerueckkehrsanktionen',\n",
       " '08',\n",
       " 'Rückkehr von Flüchtlingen Syrischer Minister appelliert an Deutschland',\n",
       " '\"Der syrische Minister für lokale Verwaltung und Umwelt Hussein Makhlouf hat über Journalisten Deutschland zur Aufhebung der Sanktionen gegen Damaskus aufgerufen Dies soll laut dem Politiker die Rückkehr der syrischen Flüchtlinge in ihre Heimat fördern „Ich möchte mich über Sie an die deutsche Regierung wenden und bitten die einseitigen Sanktionen gegen Syrien aufzuheben“ sagte Makhlouf sich an einen deutschen Journalisten wendend auf einer Pressekonferenz Mehr zum Thema  UNFlüchtlingskommissar tritt gegen Rückkehr von Flüchtlingen nach Syrien auf  Makhlouf der auch Chef des syrischen Koordinierungsausschusses für Rückkehr der Flüchtlinge ist betonte im Fall einer Aufhebung der Sanktionen werde die Rückkehr der Flüchtlinge beschleunigt Dies würde den Wideraufbau des Landes fördern Mehr zum Thema  Russland forciert Rückkehr von SyrienFlüchtlingen Zuvor hatte das russische Zentrum für Aufnahme Verteilung und Unterbringung beim russischen Verteidigungsministerium mitgeteilt mehr als 17 Millionen Syrer hätten den Wunsch geäußert aus neun Gastländern in\\xa0ihre Heimat zurückzukehren Die meisten Heimkehrwilligen halten sich jetzt im Libanon in\\xa0der Türkei und in\\xa0Deutschland auf\"',\n",
       " 'OVERTHRESHOLD',\n",
       " 'flüchtlingen flüchtlinge',\n",
       " '163',\n",
       " '\"0543706912424414\"']"
      ]
     },
     "execution_count": 5,
     "metadata": {},
     "output_type": "execute_result"
    }
   ],
   "source": [
    "#keep only months\n",
    "lines_month = lines.copy()\n",
    "lines_month[2]=lines_month[2][4:6]\n",
    "lines_month"
   ]
  },
  {
   "cell_type": "code",
   "execution_count": 6,
   "metadata": {},
   "outputs": [
    {
     "data": {
      "text/plain": [
       "['httpdesputniknewscompolitik20180813321937555syriendeutschlandfluechtlingerueckkehrsanktionen',\n",
       " 'httpwebarchiveorgweb20180813172522httpsdesputniknewscomamppolitik20180813321937555syriendeutschlandfluechtlingerueckkehrsanktionen',\n",
       " '13',\n",
       " 'Rückkehr von Flüchtlingen Syrischer Minister appelliert an Deutschland',\n",
       " '\"Der syrische Minister für lokale Verwaltung und Umwelt Hussein Makhlouf hat über Journalisten Deutschland zur Aufhebung der Sanktionen gegen Damaskus aufgerufen Dies soll laut dem Politiker die Rückkehr der syrischen Flüchtlinge in ihre Heimat fördern „Ich möchte mich über Sie an die deutsche Regierung wenden und bitten die einseitigen Sanktionen gegen Syrien aufzuheben“ sagte Makhlouf sich an einen deutschen Journalisten wendend auf einer Pressekonferenz Mehr zum Thema  UNFlüchtlingskommissar tritt gegen Rückkehr von Flüchtlingen nach Syrien auf  Makhlouf der auch Chef des syrischen Koordinierungsausschusses für Rückkehr der Flüchtlinge ist betonte im Fall einer Aufhebung der Sanktionen werde die Rückkehr der Flüchtlinge beschleunigt Dies würde den Wideraufbau des Landes fördern Mehr zum Thema  Russland forciert Rückkehr von SyrienFlüchtlingen Zuvor hatte das russische Zentrum für Aufnahme Verteilung und Unterbringung beim russischen Verteidigungsministerium mitgeteilt mehr als 17 Millionen Syrer hätten den Wunsch geäußert aus neun Gastländern in\\xa0ihre Heimat zurückzukehren Die meisten Heimkehrwilligen halten sich jetzt im Libanon in\\xa0der Türkei und in\\xa0Deutschland auf\"',\n",
       " 'OVERTHRESHOLD',\n",
       " 'flüchtlingen flüchtlinge',\n",
       " '163',\n",
       " '\"0543706912424414\"']"
      ]
     },
     "execution_count": 6,
     "metadata": {},
     "output_type": "execute_result"
    }
   ],
   "source": [
    "#keep only days\n",
    "lines_day = lines.copy()\n",
    "lines_day[2]=lines_day[2][6:8]\n",
    "lines_day"
   ]
  },
  {
   "cell_type": "code",
   "execution_count": 7,
   "metadata": {},
   "outputs": [
    {
     "data": {
      "text/plain": [
       "['httpdesputniknewscompolitik20180813321937555syriendeutschlandfluechtlingerueckkehrsanktionen',\n",
       " 'httpwebarchiveorgweb20180813172522httpsdesputniknewscomamppolitik20180813321937555syriendeutschlandfluechtlingerueckkehrsanktionen',\n",
       " '13',\n",
       " 'Rückkehr von Flüchtlingen Syrischer Minister appelliert an Deutschland',\n",
       " '\"Der syrische Minister für lokale Verwaltung und Umwelt Hussein Makhlouf hat über Journalisten Deutschland zur Aufhebung der Sanktionen gegen Damaskus aufgerufen Dies soll laut dem Politiker die Rückkehr der syrischen Flüchtlinge in ihre Heimat fördern „Ich möchte mich über Sie an die deutsche Regierung wenden und bitten die einseitigen Sanktionen gegen Syrien aufzuheben“ sagte Makhlouf sich an einen deutschen Journalisten wendend auf einer Pressekonferenz Mehr zum Thema  UNFlüchtlingskommissar tritt gegen Rückkehr von Flüchtlingen nach Syrien auf  Makhlouf der auch Chef des syrischen Koordinierungsausschusses für Rückkehr der Flüchtlinge ist betonte im Fall einer Aufhebung der Sanktionen werde die Rückkehr der Flüchtlinge beschleunigt Dies würde den Wideraufbau des Landes fördern Mehr zum Thema  Russland forciert Rückkehr von SyrienFlüchtlingen Zuvor hatte das russische Zentrum für Aufnahme Verteilung und Unterbringung beim russischen Verteidigungsministerium mitgeteilt mehr als 17 Millionen Syrer hätten den Wunsch geäußert aus neun Gastländern in\\xa0ihre Heimat zurückzukehren Die meisten Heimkehrwilligen halten sich jetzt im Libanon in\\xa0der Türkei und in\\xa0Deutschland auf\"',\n",
       " 'OVERTHRESHOLD',\n",
       " 'flüchtlingen flüchtlinge',\n",
       " '163',\n",
       " '\"0543706912424414\"']"
      ]
     },
     "execution_count": 7,
     "metadata": {},
     "output_type": "execute_result"
    }
   ],
   "source": [
    "#or\n",
    "\n",
    "lines_day2 = lines.copy()\n",
    "lines_day2[2]=lines_day2[2][6:]\n",
    "lines_day2"
   ]
  },
  {
   "cell_type": "markdown",
   "metadata": {},
   "source": [
    "# What is the Lamda Operator?\n"
   ]
  },
  {
   "cell_type": "markdown",
   "metadata": {},
   "source": [
    "\n",
    "A lambda function is a small anonymous function.\n",
    "\n",
    "`lambda arguments : expression`\n",
    "\n",
    "**Lets take a look at some examples?**"
   ]
  },
  {
   "cell_type": "code",
   "execution_count": 8,
   "metadata": {},
   "outputs": [
    {
     "name": "stdout",
     "output_type": "stream",
     "text": [
      "15\n"
     ]
    }
   ],
   "source": [
    "#Example 1 Lambda\n",
    "\n",
    "x = lambda a : a + 10\n",
    "print(x(5))"
   ]
  },
  {
   "cell_type": "code",
   "execution_count": 9,
   "metadata": {},
   "outputs": [
    {
     "name": "stdout",
     "output_type": "stream",
     "text": [
      "30\n"
     ]
    }
   ],
   "source": [
    "#Example 2 Lambda\n",
    "\n",
    "x = lambda a, b : a * b\n",
    "print(x(5, 6))"
   ]
  },
  {
   "cell_type": "markdown",
   "metadata": {},
   "source": [
    "## Example: Indexing in Pandas\n",
    "#### Now I want a function to iterate through each row, and remove the last two charcters in the id-snippet column. Lambda can help do that\n"
   ]
  },
  {
   "cell_type": "code",
   "execution_count": 10,
   "metadata": {},
   "outputs": [
    {
     "data": {
      "text/html": [
       "<div>\n",
       "<style scoped>\n",
       "    .dataframe tbody tr th:only-of-type {\n",
       "        vertical-align: middle;\n",
       "    }\n",
       "\n",
       "    .dataframe tbody tr th {\n",
       "        vertical-align: top;\n",
       "    }\n",
       "\n",
       "    .dataframe thead th {\n",
       "        text-align: right;\n",
       "    }\n",
       "</style>\n",
       "<table border=\"1\" class=\"dataframe\">\n",
       "  <thead>\n",
       "    <tr style=\"text-align: right;\">\n",
       "      <th></th>\n",
       "      <th>content</th>\n",
       "      <th>id-snippet</th>\n",
       "      <th>count_countries</th>\n",
       "      <th>mentions_countries</th>\n",
       "    </tr>\n",
       "  </thead>\n",
       "  <tbody>\n",
       "    <tr>\n",
       "      <th>0</th>\n",
       "      <td>provides for the enforcement of all provisions...</td>\n",
       "      <td>hr5114-101.1</td>\n",
       "      <td>44</td>\n",
       "      <td>iraq  kuwait</td>\n",
       "    </tr>\n",
       "    <tr>\n",
       "      <th>1</th>\n",
       "      <td>requires the delivery of excess defense articl...</td>\n",
       "      <td>hr5114-101.2</td>\n",
       "      <td>4</td>\n",
       "      <td>yugoslavia</td>\n",
       "    </tr>\n",
       "    <tr>\n",
       "      <th>2</th>\n",
       "      <td>prohibits making available any esf or foreign ...</td>\n",
       "      <td>hr5114-101.3</td>\n",
       "      <td>2</td>\n",
       "      <td>kenya</td>\n",
       "    </tr>\n",
       "    <tr>\n",
       "      <th>3</th>\n",
       "      <td>prohibits the obligation of funds for the euro...</td>\n",
       "      <td>hr5114-101.4</td>\n",
       "      <td>1</td>\n",
       "      <td>poland</td>\n",
       "    </tr>\n",
       "    <tr>\n",
       "      <th>4</th>\n",
       "      <td>prohibits assistance to countries which fail t...</td>\n",
       "      <td>hr5114-101.5</td>\n",
       "      <td>0</td>\n",
       "      <td>None</td>\n",
       "    </tr>\n",
       "  </tbody>\n",
       "</table>\n",
       "</div>"
      ],
      "text/plain": [
       "                                             content    id-snippet  \\\n",
       "0  provides for the enforcement of all provisions...  hr5114-101.1   \n",
       "1  requires the delivery of excess defense articl...  hr5114-101.2   \n",
       "2  prohibits making available any esf or foreign ...  hr5114-101.3   \n",
       "3  prohibits the obligation of funds for the euro...  hr5114-101.4   \n",
       "4  prohibits assistance to countries which fail t...  hr5114-101.5   \n",
       "\n",
       "   count_countries mentions_countries  \n",
       "0               44       iraq  kuwait  \n",
       "1                4         yugoslavia  \n",
       "2                2              kenya  \n",
       "3                1             poland  \n",
       "4                0               None  "
      ]
     },
     "execution_count": 10,
     "metadata": {},
     "output_type": "execute_result"
    }
   ],
   "source": [
    "sascat_ccounts = pd.read_csv('/Users/Ashrakat/Dropbox/University/Oxford/Jobs/Teaching/Text Analysis/code/Basics-of-Text-Analysis-for-Political-Science/Data/datafromsession5_exc3.tsv',delimiter=\"\\t\")\n",
    "del sascat_ccounts['Unnamed: 0']\n",
    "sascat_ccounts.head()"
   ]
  },
  {
   "cell_type": "code",
   "execution_count": 11,
   "metadata": {
    "collapsed": true
   },
   "outputs": [],
   "source": [
    "sascat_ccounts['id-snippet'] = sascat_ccounts['id-snippet'].map(lambda x: str(x)[:-2])\n"
   ]
  },
  {
   "cell_type": "code",
   "execution_count": 12,
   "metadata": {},
   "outputs": [
    {
     "data": {
      "text/html": [
       "<div>\n",
       "<style scoped>\n",
       "    .dataframe tbody tr th:only-of-type {\n",
       "        vertical-align: middle;\n",
       "    }\n",
       "\n",
       "    .dataframe tbody tr th {\n",
       "        vertical-align: top;\n",
       "    }\n",
       "\n",
       "    .dataframe thead th {\n",
       "        text-align: right;\n",
       "    }\n",
       "</style>\n",
       "<table border=\"1\" class=\"dataframe\">\n",
       "  <thead>\n",
       "    <tr style=\"text-align: right;\">\n",
       "      <th></th>\n",
       "      <th>content</th>\n",
       "      <th>id-snippet</th>\n",
       "      <th>count_countries</th>\n",
       "      <th>mentions_countries</th>\n",
       "    </tr>\n",
       "  </thead>\n",
       "  <tbody>\n",
       "    <tr>\n",
       "      <th>0</th>\n",
       "      <td>provides for the enforcement of all provisions...</td>\n",
       "      <td>hr5114-101</td>\n",
       "      <td>44</td>\n",
       "      <td>iraq  kuwait</td>\n",
       "    </tr>\n",
       "    <tr>\n",
       "      <th>1</th>\n",
       "      <td>requires the delivery of excess defense articl...</td>\n",
       "      <td>hr5114-101</td>\n",
       "      <td>4</td>\n",
       "      <td>yugoslavia</td>\n",
       "    </tr>\n",
       "    <tr>\n",
       "      <th>2</th>\n",
       "      <td>prohibits making available any esf or foreign ...</td>\n",
       "      <td>hr5114-101</td>\n",
       "      <td>2</td>\n",
       "      <td>kenya</td>\n",
       "    </tr>\n",
       "    <tr>\n",
       "      <th>3</th>\n",
       "      <td>prohibits the obligation of funds for the euro...</td>\n",
       "      <td>hr5114-101</td>\n",
       "      <td>1</td>\n",
       "      <td>poland</td>\n",
       "    </tr>\n",
       "    <tr>\n",
       "      <th>4</th>\n",
       "      <td>prohibits assistance to countries which fail t...</td>\n",
       "      <td>hr5114-101</td>\n",
       "      <td>0</td>\n",
       "      <td>None</td>\n",
       "    </tr>\n",
       "    <tr>\n",
       "      <th>...</th>\n",
       "      <td>...</td>\n",
       "      <td>...</td>\n",
       "      <td>...</td>\n",
       "      <td>...</td>\n",
       "    </tr>\n",
       "    <tr>\n",
       "      <th>95</th>\n",
       "      <td>earmarks esf and development assistance availa...</td>\n",
       "      <td>hr5368-102.</td>\n",
       "      <td>0</td>\n",
       "      <td>None</td>\n",
       "    </tr>\n",
       "    <tr>\n",
       "      <th>96</th>\n",
       "      <td>expresses the sense of the congress that the r...</td>\n",
       "      <td>hr5368-102.</td>\n",
       "      <td>4</td>\n",
       "      <td>egypt israel</td>\n",
       "    </tr>\n",
       "    <tr>\n",
       "      <th>97</th>\n",
       "      <td>prohibits esf assistance to zaire</td>\n",
       "      <td>hr5368-102.</td>\n",
       "      <td>0</td>\n",
       "      <td>None</td>\n",
       "    </tr>\n",
       "    <tr>\n",
       "      <th>98</th>\n",
       "      <td>limits the amount of esf assistance for tied a...</td>\n",
       "      <td>hr5368-102.</td>\n",
       "      <td>1</td>\n",
       "      <td>peru</td>\n",
       "    </tr>\n",
       "    <tr>\n",
       "      <th>99</th>\n",
       "      <td>withholds a specified amount of funds allocate...</td>\n",
       "      <td>hr5368-102.</td>\n",
       "      <td>4</td>\n",
       "      <td>None</td>\n",
       "    </tr>\n",
       "  </tbody>\n",
       "</table>\n",
       "<p>100 rows × 4 columns</p>\n",
       "</div>"
      ],
      "text/plain": [
       "                                              content   id-snippet  \\\n",
       "0   provides for the enforcement of all provisions...   hr5114-101   \n",
       "1   requires the delivery of excess defense articl...   hr5114-101   \n",
       "2   prohibits making available any esf or foreign ...   hr5114-101   \n",
       "3   prohibits the obligation of funds for the euro...   hr5114-101   \n",
       "4   prohibits assistance to countries which fail t...   hr5114-101   \n",
       "..                                                ...          ...   \n",
       "95  earmarks esf and development assistance availa...  hr5368-102.   \n",
       "96  expresses the sense of the congress that the r...  hr5368-102.   \n",
       "97                 prohibits esf assistance to zaire   hr5368-102.   \n",
       "98  limits the amount of esf assistance for tied a...  hr5368-102.   \n",
       "99  withholds a specified amount of funds allocate...  hr5368-102.   \n",
       "\n",
       "    count_countries mentions_countries  \n",
       "0                44       iraq  kuwait  \n",
       "1                 4         yugoslavia  \n",
       "2                 2              kenya  \n",
       "3                 1             poland  \n",
       "4                 0               None  \n",
       "..              ...                ...  \n",
       "95                0               None  \n",
       "96                4      egypt israel   \n",
       "97                0               None  \n",
       "98                1               peru  \n",
       "99                4               None  \n",
       "\n",
       "[100 rows x 4 columns]"
      ]
     },
     "execution_count": 12,
     "metadata": {},
     "output_type": "execute_result"
    }
   ],
   "source": [
    "sascat_ccounts"
   ]
  },
  {
   "cell_type": "markdown",
   "metadata": {},
   "source": [
    "# A Note on Visualization"
   ]
  },
  {
   "cell_type": "code",
   "execution_count": 13,
   "metadata": {
    "collapsed": true
   },
   "outputs": [],
   "source": [
    "sascat_ccounts = pd.read_csv('/Users/Ashrakat/Dropbox/University/Oxford/Jobs/Teaching/Text Analysis/code/Basics-of-Text-Analysis-for-Political-Science/Data/datafromsession5_exc3.tsv',delimiter=\"\\t\")\n",
    "del sascat_ccounts['Unnamed: 0']\n"
   ]
  },
  {
   "cell_type": "markdown",
   "metadata": {},
   "source": [
    "- itertools is a function creating efficient loops, read more here https://docs.python.org/2/library/itertools.html and here https://realpython.com/python-itertools/\n",
    "\n",
    "- chains from itertools: chain('ABC', 'DEF') --> A B C D E F - This function takes any number of iterables as arguments and “chains” them together.\n"
   ]
  },
  {
   "cell_type": "code",
   "execution_count": 14,
   "metadata": {},
   "outputs": [
    {
     "data": {
      "text/plain": [
       "[['iraq', 'kuwait'],\n",
       " ['yugoslavia'],\n",
       " ['kenya'],\n",
       " ['poland'],\n",
       " ['None'],\n",
       " ['cyprus'],\n",
       " ['None'],\n",
       " ['None'],\n",
       " ['sudan', 'liberia', 'somalia'],\n",
       " ['None'],\n",
       " ['None'],\n",
       " ['None'],\n",
       " ['None'],\n",
       " ['None'],\n",
       " ['iraq', 'kuwait'],\n",
       " ['None'],\n",
       " ['nigeria'],\n",
       " ['sudan', 'cuba', 'iraq', 'syria', 'libya'],\n",
       " ['None'],\n",
       " ['None'],\n",
       " ['None'],\n",
       " ['None'],\n",
       " ['israel'],\n",
       " ['None'],\n",
       " ['israel'],\n",
       " ['indonesia'],\n",
       " ['None'],\n",
       " ['None'],\n",
       " ['china'],\n",
       " ['None'],\n",
       " ['None'],\n",
       " ['None'],\n",
       " ['croatia', 'serbia', 'yugoslavia'],\n",
       " ['serbia', 'yugoslavia'],\n",
       " ['None'],\n",
       " ['None'],\n",
       " ['None'],\n",
       " ['guatemala', 'sudan', 'liberia'],\n",
       " ['None'],\n",
       " ['None'],\n",
       " ['None'],\n",
       " ['colombia'],\n",
       " ['None'],\n",
       " ['None'],\n",
       " ['None'],\n",
       " ['ukraine', 'georgia', 'armenia'],\n",
       " ['None'],\n",
       " ['None'],\n",
       " ['uzbekistan'],\n",
       " ['kazakhstan'],\n",
       " ['None'],\n",
       " ['laos'],\n",
       " ['None'],\n",
       " ['None'],\n",
       " ['ireland'],\n",
       " ['None'],\n",
       " ['guatemala'],\n",
       " ['guatemala', 'sudan', 'liberia'],\n",
       " ['cuba', 'iraq', 'serbia', 'liberia', 'israel', 'montenegro'],\n",
       " ['colombia',\n",
       "  'sudan',\n",
       "  'serbia',\n",
       "  'pakistan',\n",
       "  'guatemala',\n",
       "  'liberia',\n",
       "  'peru',\n",
       "  'haiti'],\n",
       " ['None'],\n",
       " ['None'],\n",
       " ['None'],\n",
       " ['None'],\n",
       " ['None'],\n",
       " ['None'],\n",
       " ['mexico'],\n",
       " ['None'],\n",
       " ['None'],\n",
       " ['colombia'],\n",
       " ['None'],\n",
       " ['china', 'tibet'],\n",
       " ['angola'],\n",
       " ['poland'],\n",
       " ['cuba'],\n",
       " ['iraq'],\n",
       " ['cuba'],\n",
       " ['israel'],\n",
       " ['None'],\n",
       " ['None'],\n",
       " ['iraq', 'kuwait'],\n",
       " ['laos'],\n",
       " ['sudan', 'somalia', 'guatemala', 'liberia', 'peru', 'malawi'],\n",
       " ['greece', 'portugal', 'egypt', 'israel'],\n",
       " ['None'],\n",
       " ['armenia'],\n",
       " ['None'],\n",
       " ['None'],\n",
       " ['guatemala'],\n",
       " ['jordan', 'iraq'],\n",
       " ['jordan', 'cuba', 'iraq', 'syria', 'china', 'laos', 'libya'],\n",
       " ['None'],\n",
       " ['israel'],\n",
       " ['None'],\n",
       " ['egypt', 'israel'],\n",
       " ['None'],\n",
       " ['egypt', 'israel'],\n",
       " ['None'],\n",
       " ['peru'],\n",
       " ['None']]"
      ]
     },
     "execution_count": 14,
     "metadata": {},
     "output_type": "execute_result"
    }
   ],
   "source": [
    "country_notflat = [a.split() for a in sascat_ccounts['mentions_countries']] \n",
    "#this command puts countries in a list of list according to thei structure in pandas\n",
    "country_notflat"
   ]
  },
  {
   "cell_type": "code",
   "execution_count": 15,
   "metadata": {},
   "outputs": [
    {
     "data": {
      "text/plain": [
       "Counter({'None': 53,\n",
       "         'angola': 1,\n",
       "         'armenia': 2,\n",
       "         'china': 3,\n",
       "         'colombia': 3,\n",
       "         'croatia': 1,\n",
       "         'cuba': 5,\n",
       "         'cyprus': 1,\n",
       "         'egypt': 3,\n",
       "         'georgia': 1,\n",
       "         'greece': 1,\n",
       "         'guatemala': 6,\n",
       "         'haiti': 1,\n",
       "         'indonesia': 1,\n",
       "         'iraq': 8,\n",
       "         'ireland': 1,\n",
       "         'israel': 8,\n",
       "         'jordan': 2,\n",
       "         'kazakhstan': 1,\n",
       "         'kenya': 1,\n",
       "         'kuwait': 3,\n",
       "         'laos': 3,\n",
       "         'liberia': 6,\n",
       "         'libya': 2,\n",
       "         'malawi': 1,\n",
       "         'mexico': 1,\n",
       "         'montenegro': 1,\n",
       "         'nigeria': 1,\n",
       "         'pakistan': 1,\n",
       "         'peru': 3,\n",
       "         'poland': 2,\n",
       "         'portugal': 1,\n",
       "         'serbia': 4,\n",
       "         'somalia': 2,\n",
       "         'sudan': 6,\n",
       "         'syria': 2,\n",
       "         'tibet': 1,\n",
       "         'ukraine': 1,\n",
       "         'uzbekistan': 1,\n",
       "         'yugoslavia': 3})"
      ]
     },
     "execution_count": 15,
     "metadata": {},
     "output_type": "execute_result"
    }
   ],
   "source": [
    "counter = Counter(chain.from_iterable(country_notflat))\n",
    "counter"
   ]
  },
  {
   "cell_type": "code",
   "execution_count": 16,
   "metadata": {},
   "outputs": [
    {
     "data": {
      "text/plain": [
       "OrderedDict([('kenya', 1),\n",
       "             ('cyprus', 1),\n",
       "             ('nigeria', 1),\n",
       "             ('indonesia', 1),\n",
       "             ('croatia', 1),\n",
       "             ('ukraine', 1),\n",
       "             ('georgia', 1),\n",
       "             ('uzbekistan', 1),\n",
       "             ('kazakhstan', 1),\n",
       "             ('ireland', 1),\n",
       "             ('montenegro', 1),\n",
       "             ('pakistan', 1),\n",
       "             ('haiti', 1),\n",
       "             ('mexico', 1),\n",
       "             ('tibet', 1),\n",
       "             ('angola', 1),\n",
       "             ('malawi', 1),\n",
       "             ('greece', 1),\n",
       "             ('portugal', 1),\n",
       "             ('poland', 2),\n",
       "             ('somalia', 2),\n",
       "             ('syria', 2),\n",
       "             ('libya', 2),\n",
       "             ('armenia', 2),\n",
       "             ('jordan', 2),\n",
       "             ('kuwait', 3),\n",
       "             ('yugoslavia', 3),\n",
       "             ('china', 3),\n",
       "             ('colombia', 3),\n",
       "             ('laos', 3),\n",
       "             ('peru', 3),\n",
       "             ('egypt', 3),\n",
       "             ('serbia', 4),\n",
       "             ('cuba', 5),\n",
       "             ('sudan', 6),\n",
       "             ('liberia', 6),\n",
       "             ('guatemala', 6),\n",
       "             ('iraq', 8),\n",
       "             ('israel', 8),\n",
       "             ('None', 53)])"
      ]
     },
     "execution_count": 16,
     "metadata": {},
     "output_type": "execute_result"
    }
   ],
   "source": [
    "#sort by values\n",
    "from collections import OrderedDict\n",
    "d_sorted_by_value = OrderedDict(sorted(counter.items(), key=lambda x: x[1]))\n",
    "d_sorted_by_value"
   ]
  },
  {
   "cell_type": "code",
   "execution_count": 17,
   "metadata": {},
   "outputs": [
    {
     "data": {
      "image/png": "[encoded data removed]",
      "text/plain": [
       "<Figure size 1440x720 with 1 Axes>"
      ]
     },
     "metadata": {},
     "output_type": "display_data"
    }
   ],
   "source": [
    "plt.bar(d_sorted_by_value.keys(), d_sorted_by_value.values(), color='r')\n",
    "plt.gcf().set_size_inches(20, 10)\n",
    "plt.xticks(rotation=90)\n",
    "plt.show()"
   ]
  },
  {
   "cell_type": "markdown",
   "metadata": {},
   "source": [
    "# Cleaning Pipeline\n"
   ]
  },
  {
   "cell_type": "code",
   "execution_count": 18,
   "metadata": {
    "collapsed": true
   },
   "outputs": [],
   "source": [
    "def clean(x): #function to deal with a string\n",
    "    x=x.lower() # lower text\n",
    "    x=x.replace('[^\\w\\s]','') # remove punctuation\n",
    "    x=x.replace('\\d+', '') #replace digits with nothing\n",
    "    x=x.split() # split in words\n",
    "    x=[word for word in x if word not in stopwords.words('english')] #remove stopwords\n",
    "    #change that if youre using another languages\n",
    "    x=\" \".join(str(x) for x in x) # join in sentence\n",
    "    return x"
   ]
  },
  {
   "cell_type": "markdown",
   "metadata": {},
   "source": [
    "# Tokenization Session - using NLTK package"
   ]
  },
  {
   "cell_type": "markdown",
   "metadata": {},
   "source": [
    "Tokenization is splitting a phrase, sentence, paragraph, or an entire text document into smaller units, such as individual words or terms. Each of these smaller units are called tokens.\n",
    "\n",
    "- Tokanization has advantages over Python .split() function especially when it comes to sentence tokenization\n",
    "- The tokenizer is trained to discover end of sentence and tokens"
   ]
  },
  {
   "cell_type": "code",
   "execution_count": null,
   "metadata": {
    "collapsed": true
   },
   "outputs": [],
   "source": []
  },
  {
   "cell_type": "code",
   "execution_count": 2,
   "metadata": {
    "collapsed": true
   },
   "outputs": [],
   "source": [
    "article = 'In computer science, lexical analysis, lexing or tokenization is the process of \\\n",
    "converting a sequence of characters (such as in a computer program or web page) into a \\\n",
    "sequence of tokens (strings with an assigned and thus identified meaning). A program that \\\n",
    "performs lexical analysis may be termed a lexer, tokenizer,[1] or scanner, though scanner \\\n",
    "is also a term for the first stage of a lexer. A lexer is generally combined with a parser, \\\n",
    "which together analyze the syntax of programming languages, web pages, and so forth.'\n",
    "\n",
    "article2 = 'ConcateStringAnd123 ConcateSepcialCharacter_!@# !@#$%^&*()_+ 0123456'\n",
    "\n",
    "article3 = 'It is a great moment from 10 a.m. to 1 p.m. every weekend.'\n",
    "\n",
    "\n",
    "# Example inspired by Edward MA blogging on Medium"
   ]
  },
  {
   "cell_type": "code",
   "execution_count": 3,
   "metadata": {},
   "outputs": [
    {
     "name": "stdout",
     "output_type": "stream",
     "text": [
      "Original Article: In computer science, lexical analysis, lexing or tokenization is the process of converting a sequence of characters (such as in a computer program or web page) into a sequence of tokens (strings with an assigned and thus identified meaning). A program that performs lexical analysis may be termed a lexer, tokenizer,[1] or scanner, though scanner is also a term for the first stage of a lexer. A lexer is generally combined with a parser, which together analyze the syntax of programming languages, web pages, and so forth.\n",
      "\n",
      "-->Sentence 0: In computer science, lexical analysis, lexing or tokenization is the process of converting a sequence of characters (such as in a computer program or web page) into a sequence of tokens (strings with an assigned and thus identified meaning)\n",
      "-->Sentence 1: .\n",
      "-->Sentence 2:  A program that performs lexical analysis may be termed a lexer, tokenizer,[1] or scanner, though scanner is also a term for the first stage of a lexer\n",
      "-->Sentence 3: .\n",
      "-->Sentence 4:  A lexer is generally combined with a parser, which together analyze the syntax of programming languages, web pages, and so forth\n",
      "-->Sentence 5: .\n",
      "-->Sentence 6: \n",
      "Original Article: ConcateStringAnd123 ConcateSepcialCharacter_!@# !@#$%^&*()_+ 0123456\n",
      "\n",
      "-->Sentence 0: ConcateStringAnd123 ConcateSepcialCharacter_\n",
      "-->Sentence 1: !\n",
      "-->Sentence 2: @# \n",
      "-->Sentence 3: !\n",
      "-->Sentence 4: @#$%^&*()_+ 0123456\n",
      "Original Article: It is a great moment from 10 a.m. to 1 p.m. every weekend.\n",
      "\n",
      "-->Sentence 0: It is a great moment from 10 a\n",
      "-->Sentence 1: .\n",
      "-->Sentence 2: m\n",
      "-->Sentence 3: .\n",
      "-->Sentence 4:  to 1 p\n",
      "-->Sentence 5: .\n",
      "-->Sentence 6: m\n",
      "-->Sentence 7: .\n",
      "-->Sentence 8:  every weekend\n",
      "-->Sentence 9: .\n",
      "-->Sentence 10: \n"
     ]
    }
   ],
   "source": [
    "import re\n",
    "\n",
    "for doc in [article, article2, article3]: # for every document \n",
    "    print('Original Article:', (doc)) #print the original article\n",
    "    print()#print empty space\n",
    "\n",
    "    sentences = re.split('(\\.|!|\\?)', doc) #split by these items using regex\n",
    "    \n",
    "    for i, s in enumerate(sentences): #count number of sentences\n",
    "        print('-->Sentence %d: %s' % (i, s)) #place holders %d\n",
    "\n",
    "        #different ways "
   ]
  },
  {
   "cell_type": "code",
   "execution_count": 56,
   "metadata": {},
   "outputs": [
    {
     "name": "stdout",
     "output_type": "stream",
     "text": [
      "NTLK Version: 3.4\n",
      "Original Article: In computer science, lexical analysis, lexing or tokenization is the process of converting a sequence of characters (such as in a computer program or web page) into a sequence of tokens (strings with an assigned and thus identified meaning). A program that performs lexical analysis may be termed a lexer, tokenizer,[1] or scanner, though scanner is also a term for the first stage of a lexer. A lexer is generally combined with a parser, which together analyze the syntax of programming languages, web pages, and so forth.\n",
      "\n",
      "-->Sentence 0: In computer science, lexical analysis, lexing or tokenization is the process of converting a sequence of characters (such as in a computer program or web page) into a sequence of tokens (strings with an assigned and thus identified meaning).\n",
      "-->Sentence 1: A program that performs lexical analysis may be termed a lexer, tokenizer,[1] or scanner, though scanner is also a term for the first stage of a lexer.\n",
      "-->Sentence 2: A lexer is generally combined with a parser, which together analyze the syntax of programming languages, web pages, and so forth.\n",
      "Original Article: ConcateStringAnd123 ConcateSepcialCharacter_!@# !@#$%^&*()_+ 0123456\n",
      "\n",
      "-->Sentence 0: ConcateStringAnd123 ConcateSepcialCharacter_!\n",
      "-->Sentence 1: @# !\n",
      "-->Sentence 2: @#$%^&*()_+ 0123456\n",
      "Original Article: It is a great moment from 10 a.m. to 1 p.m. every weekend.\n",
      "\n",
      "-->Sentence 0: It is a great moment from 10 a.m. to 1 p.m. every weekend.\n"
     ]
    }
   ],
   "source": [
    "import nltk\n",
    "from nltk.tokenize import sent_tokenize\n",
    "print('NTLK Version: %s' % nltk.__version__)\n",
    "\n",
    "for article in [article, article2, article3]:\n",
    "    print('Original Article: %s' % (article))\n",
    "    print()\n",
    "\n",
    "    doc = sent_tokenize(article)\n",
    "    for i, token in enumerate(doc):\n",
    "        print('-->Sentence %d: %s' % (i, token))"
   ]
  },
  {
   "cell_type": "code",
   "execution_count": 57,
   "metadata": {},
   "outputs": [
    {
     "data": {
      "text/plain": [
       "['Amazing day..',\n",
       " 'however, I still need a good night sleep',\n",
       " 'I will see you tomorrow for sure',\n",
       " 'Bye.Bye']"
      ]
     },
     "execution_count": 57,
     "metadata": {},
     "output_type": "execute_result"
    }
   ],
   "source": [
    "text = \"\"\"Amazing day... however, I still need a good night sleep. I will see you tomorrow for sure. Bye.Bye\"\"\"\n",
    "# Splits at '.' \n",
    "text.split('. ') "
   ]
  },
  {
   "cell_type": "code",
   "execution_count": 58,
   "metadata": {},
   "outputs": [
    {
     "data": {
      "text/plain": [
       "['Amazing day... however, I still need a good night sleep.',\n",
       " 'I will see you tomorrow for sure.',\n",
       " 'Bye.Bye']"
      ]
     },
     "execution_count": 58,
     "metadata": {},
     "output_type": "execute_result"
    }
   ],
   "source": [
    "tokenized_text = nltk.sent_tokenize(text)\n",
    "tokenized_text"
   ]
  },
  {
   "cell_type": "markdown",
   "metadata": {},
   "source": [
    "### Lets work with a new dataset and discover it"
   ]
  },
  {
   "cell_type": "code",
   "execution_count": 5,
   "metadata": {
    "collapsed": true
   },
   "outputs": [],
   "source": [
    "import codecs\n",
    "dataset = codecs.open(\"/Users/Ashrakat/Desktop/rt_dataset.tsv\", \"r\", \"utf-8\").read().strip().split(\"\\n\") \n",
    "# we split by line breaks"
   ]
  },
  {
   "cell_type": "code",
   "execution_count": 6,
   "metadata": {},
   "outputs": [
    {
     "name": "stdout",
     "output_type": "stream",
     "text": [
      "date \ttitle \ttopic \tcontent\n",
      "16 Sep, 2016 14:08 \tPutin: We don’t approve of WADA hackers, but information they leaked raises questions\tnews\t\"We don’t approve of what hackers do, but what they’ve done is definitely of interest to the international community, especially the sports community,” the Russian president said, as cited by RIA Novosti. “It raises a lot of questions. It turns out that healthy athletes legally take medications that are prohibited for others, and the people who obviously suffer from serious illnesses and severe disabilities are being banned from the Paralympics only on suspicion of using some kind of drugs,” he added. Earlier this week, hacktivists from the cyber group ‘Fancy Bears’ released files revealing that top world athletes had received the green light from WADA to take banned substances. Prominent US sports stars - including tennis players Serena and Venus Williams, multiple Olympic gymnastics champion Simone Biles, and basketball player Elena Delle Donne - were mentioned among those who had received exemptions from WADA. The group later expanded its list of those who had been allowed to take banned substances, adding documents on over two dozen athletes from the US, Germany, Britain, Czech Republic, Denmark, Poland, Romania and Russia. WADA has released a statement confirming and condemning the cyber-attack. Belarusian #Paralympic team carries Russian flag in support of banned athletes (PHOTO) https://t.co/6HwU9vvft1#Belarus The whole Russian Paralympic team is missing out on the ongoing Paralympic Games in Rio, Brazil, after the International Paralympic Committee followed WADA’s advice and handed a blanket ban to the country over its alleged doping program. \n"
     ]
    }
   ],
   "source": [
    "print(dataset[0])\n",
    "print(dataset[1])\n"
   ]
  },
  {
   "cell_type": "code",
   "execution_count": 7,
   "metadata": {},
   "outputs": [
    {
     "name": "stdout",
     "output_type": "stream",
     "text": [
      "11176\n"
     ]
    }
   ],
   "source": [
    "print (len(dataset))"
   ]
  },
  {
   "cell_type": "code",
   "execution_count": 8,
   "metadata": {
    "collapsed": true
   },
   "outputs": [],
   "source": [
    "# how to count the number of topics?\n",
    "\n",
    "topics = []\n",
    "for line in dataset:\n",
    "    topic = line.split(\"\\t\")[2]\n",
    "    topics.append(topic)\n",
    "    "
   ]
  },
  {
   "cell_type": "code",
   "execution_count": 9,
   "metadata": {},
   "outputs": [
    {
     "name": "stdout",
     "output_type": "stream",
     "text": [
      "[('news', 2726), ('usa', 1860), ('uk', 1123), ('op-edge', 1098), ('in-motion', 920), ('business', 883), ('viral', 850), ('sport', 838), ('politics', 509), ('shows', 356), ('on-air', 9), ('topic ', 1), ('about-us', 1), ('360', 1), ('business-projects', 1)]\n"
     ]
    }
   ],
   "source": [
    "from collections import Counter\n",
    "\n",
    "print (Counter(topics).most_common(30))"
   ]
  },
  {
   "cell_type": "code",
   "execution_count": 15,
   "metadata": {},
   "outputs": [
    {
     "name": "stdout",
     "output_type": "stream",
     "text": [
      "[('news', 2726), ('usa', 1860), ('uk', 1123), ('op-edge', 1098), ('in-motion', 920), ('business', 883), ('viral', 850), ('sport', 838), ('politics', 509), ('shows', 356), ('on-air', 9), ('topic ', 1), ('about-us', 1), ('360', 1), ('business-projects', 1)]\n"
     ]
    }
   ],
   "source": [
    "#using list comprehension\n",
    "topics = [line.split(\"\\t\")[2] for line in dataset]\n",
    "\n",
    "from collections import Counter\n",
    "\n",
    "print (Counter(topics).most_common(30))"
   ]
  },
  {
   "cell_type": "code",
   "execution_count": 16,
   "metadata": {},
   "outputs": [
    {
     "name": "stdout",
     "output_type": "stream",
     "text": [
      "READ MORE: Iceland hearts broken as France wins 5-2 to reach Euro 2016 semi-final In a tournament plagued with violence and disruption, it was a moral victory for Iceland who showed an example of true sportsmanship and team discipline. Props to Iceland. No can take away what you've done. I've never seen so much heart. DAMN Fans took to Twitter in their droves to commend the team and their supporters for their classy performance that many credited as the highlight of Euro-2016 so far. Well done Iceland. Redefined concept of 'teamwork' and taught the world you don't have to accept imposed limits. pic.twitter.com/aGVo1dfeRa No one was more surprised than Icelanders that their team made it so far, and no one was more overjoyed. €14m in prize money.10% of the population travelled.More volcanoes than footballers.It's been a blast, Iceland! pic.twitter.com/yaoNDwyQmg One last clap for the team that knocked the motherland of football England out of the tournament, despite having more volcanoes than professional football players. The last clap. 👏Thanks for the memories, Iceland!  #FRAISL#ISL (via @Chandelaas)  pic.twitter.com/Fq2fNB0H2i The players, the fans, the president… they have really put their country on the map for the rest of the world. #Iceland president refused his VIP seat to watch the game and sat with the supporters. Great spirit. Great nation pic.twitter.com/EIh6KnCGgW It wouldn't be surprising if Iceland sees a spike in tourism this year. Massive Respect To This Iceland Team pic.twitter.com/kvRQX9iUTp One last clap for Iceland and its historic run to the EURO quarterfinals. https://t.co/g5bsNV77sT France vs Iceland. Here we go. https://t.co/1qgIH3rLa8  \n"
     ]
    }
   ],
   "source": [
    "# let's start with some real NLP\n",
    "\n",
    "# let's focus on a specific article, for example\n",
    "\n",
    "article = dataset[50].split(\"\\t\")[3]\n",
    "print (article)"
   ]
  },
  {
   "cell_type": "code",
   "execution_count": 17,
   "metadata": {},
   "outputs": [
    {
     "name": "stdout",
     "output_type": "stream",
     "text": [
      "<class 'str'>\n"
     ]
    }
   ],
   "source": [
    "print (type(article))\n"
   ]
  },
  {
   "cell_type": "code",
   "execution_count": 20,
   "metadata": {},
   "outputs": [
    {
     "name": "stdout",
     "output_type": "stream",
     "text": [
      "<class 'list'>\n",
      "20\n",
      "['READ MORE:\\xa0Iceland hearts broken as France wins 5-2 to reach Euro 2016 semi-final In a tournament plagued with violence and disruption, it was a moral victory for Iceland who showed an example of true sportsmanship and team discipline.', 'Props to Iceland.', \"No can take away what you've done.\", \"I've never seen so much heart.\", 'DAMN Fans took to Twitter in their droves to commend the team and their supporters for their classy performance that many credited as the highlight of Euro-2016 so far.', 'Well done Iceland.', \"Redefined concept of 'teamwork' and taught the world you don't have to accept imposed limits.\", 'pic.twitter.com/aGVo1dfeRa No one was more surprised than Icelanders that their team made it so far, and no one was more overjoyed.', \"€14m in prize money.10% of the population travelled.More volcanoes than footballers.It's been a blast, Iceland!\", 'pic.twitter.com/yaoNDwyQmg One last clap for the team that knocked the motherland of football England out of the tournament, despite having more volcanoes than professional football players.', 'The last clap.', '👏Thanks for the memories, Iceland!', '#FRAISL#ISL (via @Chandelaas)  pic.twitter.com/Fq2fNB0H2i The players, the fans, the president…\\xa0they have really put their country on the map for the rest of the world.', '#Iceland president refused his VIP seat to watch the game and sat with the supporters.', 'Great spirit.', \"Great nation pic.twitter.com/EIh6KnCGgW It wouldn't be surprising if Iceland sees a spike in tourism this year.\", 'Massive Respect To This Iceland Team pic.twitter.com/kvRQX9iUTp One last clap for Iceland and its historic run to the EURO quarterfinals.', 'https://t.co/g5bsNV77sT France vs Iceland.', 'Here we go.', 'https://t.co/1qgIH3rLa8']\n"
     ]
    }
   ],
   "source": [
    "sentences = nltk.sent_tokenize(article) # <-- documentation for this command: http://www.nltk.org/_modules/nltk/tokenize.html\n",
    "\n",
    "# for checking what you're getting back from a library, run these commands\n",
    "print (type(sentences))\n",
    "print (len(sentences))\n",
    "print (sentences)"
   ]
  },
  {
   "cell_type": "code",
   "execution_count": 21,
   "metadata": {},
   "outputs": [
    {
     "name": "stdout",
     "output_type": "stream",
     "text": [
      "DAMN Fans took to Twitter in their droves to commend the team and their supporters for their classy performance that many credited as the highlight of Euro-2016 so far.\n"
     ]
    }
   ],
   "source": [
    "# let us consider a single sentence - how do we do that? ## use the 5th sentence\n",
    "\n",
    "sentence = sentences[4]\n",
    "print (sentence)"
   ]
  },
  {
   "cell_type": "code",
   "execution_count": 22,
   "metadata": {},
   "outputs": [
    {
     "name": "stdout",
     "output_type": "stream",
     "text": [
      "['DAMN', 'Fans', 'took', 'to', 'Twitter', 'in', 'their', 'droves', 'to', 'commend', 'the', 'team', 'and', 'their', 'supporters', 'for', 'their', 'classy', 'performance', 'that', 'many', 'credited', 'as', 'the', 'highlight', 'of', 'Euro-2016', 'so', 'far', '.']\n"
     ]
    }
   ],
   "source": [
    "# let's divide the sentence in tokens (aka single words)\n",
    "tokenized_sentence = nltk.word_tokenize(sentence)\n",
    "\n",
    "print (tokenized_sentence)"
   ]
  },
  {
   "cell_type": "code",
   "execution_count": 23,
   "metadata": {},
   "outputs": [
    {
     "name": "stdout",
     "output_type": "stream",
     "text": [
      "['damn', 'fans', 'took', 'to', 'twitter', 'in', 'their', 'droves', 'to', 'commend', 'the', 'team', 'and', 'their', 'supporters', 'for', 'their', 'classy', 'performance', 'that', 'many', 'credited', 'as', 'the', 'highlight', 'of', 'euro-2016', 'so', 'far', '.']\n"
     ]
    }
   ],
   "source": [
    "# lower-casing the sentence\n",
    "without_capital_letters = [word.lower() for word in tokenized_sentence]\n",
    "\n",
    "print (without_capital_letters)\n",
    "\n",
    "# homework: write a for-loop for doing the same thing"
   ]
  },
  {
   "cell_type": "code",
   "execution_count": 24,
   "metadata": {},
   "outputs": [
    {
     "name": "stdout",
     "output_type": "stream",
     "text": [
      "['damn', 'fans', 'took', 'twitter', 'droves', 'commend', 'team', 'supporters', 'classy', 'performance', 'many', 'credited', 'highlight', 'euro-2016', 'far', '.']\n"
     ]
    }
   ],
   "source": [
    "#remove stopwords\n",
    "stop = stopwords.words('english')\n",
    "\n",
    "without_stop_words = [word for word in without_capital_letters if word not in stop]\n",
    "\n",
    "print (without_stop_words)"
   ]
  },
  {
   "cell_type": "code",
   "execution_count": 25,
   "metadata": {},
   "outputs": [
    {
     "name": "stdout",
     "output_type": "stream",
     "text": [
      "['damn', 'fans', 'took', 'twitter', 'droves', 'commend', 'team', 'supporters', 'classy', 'performance', 'many', 'credited', 'highlight', 'euro-2016', 'far']\n"
     ]
    }
   ],
   "source": [
    "import string\n",
    "exclude = set(string.punctuation)\n",
    "\n",
    "# homework: how do we exclude punctuation?, hint: use exclude, from the previous line\n",
    "\n",
    "without_punct = [word for word in without_stop_words if word not in exclude]\n",
    "\n",
    "print (without_punct)"
   ]
  },
  {
   "cell_type": "markdown",
   "metadata": {},
   "source": [
    "## Let's take a look at our cleaning pipeline\n",
    "\n",
    "missing remove stopwords"
   ]
  },
  {
   "cell_type": "code",
   "execution_count": 27,
   "metadata": {},
   "outputs": [
    {
     "data": {
      "text/plain": [
       "'16 Sep, 2016 14:08 \\tPutin: We don’t approve of WADA hackers, but information they leaked raises questions\\tnews\\t\"We don’t approve of what hackers do, but what they’ve done is definitely of interest to the international community, especially the sports community,” the Russian president said, as cited by RIA Novosti. “It raises a lot of questions. It turns out that healthy athletes legally take medications that are prohibited for others, and the people who obviously suffer from serious illnesses and severe disabilities are being banned from the Paralympics only on suspicion of using some kind of drugs,” he added. Earlier this week, hacktivists from the cyber group ‘Fancy Bears’ released files revealing that top world athletes had received the green light from WADA to take banned substances. Prominent US sports stars - including tennis players Serena and Venus Williams, multiple Olympic gymnastics champion Simone Biles, and basketball player Elena Delle Donne - were mentioned among those who had received exemptions from WADA. The group later expanded its list of those who had been allowed to take banned substances, adding documents on over two dozen athletes from the US, Germany, Britain, Czech Republic, Denmark, Poland, Romania and Russia. WADA has released a statement confirming and condemning the cyber-attack. Belarusian #Paralympic team carries Russian flag in support of banned athletes (PHOTO) https://t.co/6HwU9vvft1#Belarus The whole Russian Paralympic team is missing out on the ongoing Paralympic Games in Rio, Brazil, after the International Paralympic Committee followed WADA’s advice and handed a blanket ban to the country over its alleged doping program. '"
      ]
     },
     "execution_count": 27,
     "metadata": {},
     "output_type": "execute_result"
    }
   ],
   "source": [
    "dataset = codecs.open(\"/Users/Ashrakat/Desktop/rt_dataset.tsv\", \"r\", \"utf-8\").read().strip().split(\"\\n\") \n",
    "article=dataset[1]\n",
    "article"
   ]
  },
  {
   "cell_type": "code",
   "execution_count": 28,
   "metadata": {},
   "outputs": [
    {
     "name": "stdout",
     "output_type": "stream",
     "text": [
      "[('the', 285085), ('to', 143235), ('of', 133810), ('and', 105559), ('in', 105260), ('a', 91709), ('that', 58383), ('is', 50799), ('on', 43551), ('for', 41408), ('The', 36275), ('with', 32009), ('was', 31289), ('as', 29557), ('by', 29058), ('are', 24891), ('be', 24125), ('have', 23755), ('from', 23387), ('has', 22530)]\n"
     ]
    }
   ],
   "source": [
    "with open('/Users/Ashrakat/Desktop/rt_dataset.tsv') as f:\n",
    "    counter = Counter(f.read().strip().split())\n",
    "\n",
    "print(counter.most_common(20))"
   ]
  },
  {
   "cell_type": "code",
   "execution_count": 29,
   "metadata": {
    "collapsed": true
   },
   "outputs": [],
   "source": [
    "from nltk.corpus import stopwords\n",
    "stop_words = stopwords.words('english')\n",
    "exclude = set(string.punctuation)\n",
    "exclude.add(\"‘\")\n",
    "exclude.add(\"“\")\n",
    "\n",
    "import re\n",
    "\n",
    "def clean1(x): \n",
    "    x=x.replace('\\n\\n','') # remove the line breaks\n",
    "    x=x.lower()# lower text\n",
    "    x = ''.join(ch for ch in x if ch not in exclude) #remove punctuation\n",
    "    x=re.sub('[0-9]+', '', x) # remove numbers\n",
    "    x=x.split() #split words \n",
    "    x=[word for word in x if word not in stopwords.words('english')]#remove stopwords\n",
    "   #x=\" \".join(str(x) for x in x) # you can do this if you want to remove list structure\n",
    "    return x"
   ]
  },
  {
   "cell_type": "code",
   "execution_count": null,
   "metadata": {
    "collapsed": true
   },
   "outputs": [],
   "source": []
  },
  {
   "cell_type": "code",
   "execution_count": 30,
   "metadata": {},
   "outputs": [
    {
     "name": "stdout",
     "output_type": "stream",
     "text": [
      "['sep', 'putin', 'don’t', 'approve', 'wada', 'hackers', 'information', 'leaked', 'raises', 'questions', 'news', 'don’t', 'approve', 'hackers', 'they’ve', 'done', 'definitely', 'interest', 'international', 'community', 'especially', 'sports', 'community”', 'russian', 'president', 'said', 'cited', 'ria', 'novosti', 'raises', 'lot', 'questions', 'turns', 'healthy', 'athletes', 'legally', 'take', 'medications', 'prohibited', 'others', 'people', 'obviously', 'suffer', 'serious', 'illnesses', 'severe', 'disabilities', 'banned', 'paralympics', 'suspicion', 'using', 'kind', 'drugs”', 'added', 'earlier', 'week', 'hacktivists', 'cyber', 'group', 'fancy', 'bears’', 'released', 'files', 'revealing', 'top', 'world', 'athletes', 'received', 'green', 'light', 'wada', 'take', 'banned', 'substances', 'prominent', 'us', 'sports', 'stars', 'including', 'tennis', 'players', 'serena', 'venus', 'williams', 'multiple', 'olympic', 'gymnastics', 'champion', 'simone', 'biles', 'basketball', 'player', 'elena', 'delle', 'donne', 'mentioned', 'among', 'received', 'exemptions', 'wada', 'group', 'later', 'expanded', 'list', 'allowed', 'take', 'banned', 'substances', 'adding', 'documents', 'two', 'dozen', 'athletes', 'us', 'germany', 'britain', 'czech', 'republic', 'denmark', 'poland', 'romania', 'russia', 'wada', 'released', 'statement', 'confirming', 'condemning', 'cyberattack', 'belarusian', 'paralympic', 'team', 'carries', 'russian', 'flag', 'support', 'banned', 'athletes', 'photo', 'httpstcohwuvvftbelarus', 'whole', 'russian', 'paralympic', 'team', 'missing', 'ongoing', 'paralympic', 'games', 'rio', 'brazil', 'international', 'paralympic', 'committee', 'followed', 'wada’s', 'advice', 'handed', 'blanket', 'ban', 'country', 'alleged', 'doping', 'program']\n"
     ]
    }
   ],
   "source": [
    "cleaned1=clean1(article)\n",
    "print(cleaned1)"
   ]
  },
  {
   "cell_type": "markdown",
   "metadata": {},
   "source": [
    "### Can you spot:\n",
    "- `httpstcohwuvvftbelarus`\n"
   ]
  },
  {
   "cell_type": "code",
   "execution_count": 31,
   "metadata": {
    "collapsed": true
   },
   "outputs": [],
   "source": [
    "def nlp_pipeline1(text):\n",
    "    \n",
    "    text=text.lower()\n",
    "    \n",
    "    #tokenize words for each sentence\n",
    "    text = nltk.word_tokenize(text)\n",
    "    \n",
    "    # remove punctuation and numbers\n",
    "    #text = [token for token in text if token.isalpha()]\n",
    "    \n",
    "    # remove stopwords - be careful with this step    \n",
    "    #text = [token for token in text if token not in stop_words]\n",
    "\n",
    "    return text"
   ]
  },
  {
   "cell_type": "code",
   "execution_count": 33,
   "metadata": {},
   "outputs": [
    {
     "name": "stdout",
     "output_type": "stream",
     "text": [
      "['16', 'sep', ',', '2016', '14:08', 'putin', ':', 'we', 'don', '’', 't', 'approve', 'of', 'wada', 'hackers', ',', 'but', 'information', 'they', 'leaked', 'raises', 'questions', 'news', \"''\", 'we', 'don', '’', 't', 'approve', 'of', 'what', 'hackers', 'do', ',', 'but', 'what', 'they', '’', 've', 'done', 'is', 'definitely', 'of', 'interest', 'to', 'the', 'international', 'community', ',', 'especially', 'the', 'sports', 'community', ',', '”', 'the', 'russian', 'president', 'said', ',', 'as', 'cited', 'by', 'ria', 'novosti', '.', '“', 'it', 'raises', 'a', 'lot', 'of', 'questions', '.', 'it', 'turns', 'out', 'that', 'healthy', 'athletes', 'legally', 'take', 'medications', 'that', 'are', 'prohibited', 'for', 'others', ',', 'and', 'the', 'people', 'who', 'obviously', 'suffer', 'from', 'serious', 'illnesses', 'and', 'severe', 'disabilities', 'are', 'being', 'banned', 'from', 'the', 'paralympics', 'only', 'on', 'suspicion', 'of', 'using', 'some', 'kind', 'of', 'drugs', ',', '”', 'he', 'added', '.', 'earlier', 'this', 'week', ',', 'hacktivists', 'from', 'the', 'cyber', 'group', '‘', 'fancy', 'bears', '’', 'released', 'files', 'revealing', 'that', 'top', 'world', 'athletes', 'had', 'received', 'the', 'green', 'light', 'from', 'wada', 'to', 'take', 'banned', 'substances', '.', 'prominent', 'us', 'sports', 'stars', '-', 'including', 'tennis', 'players', 'serena', 'and', 'venus', 'williams', ',', 'multiple', 'olympic', 'gymnastics', 'champion', 'simone', 'biles', ',', 'and', 'basketball', 'player', 'elena', 'delle', 'donne', '-', 'were', 'mentioned', 'among', 'those', 'who', 'had', 'received', 'exemptions', 'from', 'wada', '.', 'the', 'group', 'later', 'expanded', 'its', 'list', 'of', 'those', 'who', 'had', 'been', 'allowed', 'to', 'take', 'banned', 'substances', ',', 'adding', 'documents', 'on', 'over', 'two', 'dozen', 'athletes', 'from', 'the', 'us', ',', 'germany', ',', 'britain', ',', 'czech', 'republic', ',', 'denmark', ',', 'poland', ',', 'romania', 'and', 'russia', '.', 'wada', 'has', 'released', 'a', 'statement', 'confirming', 'and', 'condemning', 'the', 'cyber-attack', '.', 'belarusian', '#', 'paralympic', 'team', 'carries', 'russian', 'flag', 'in', 'support', 'of', 'banned', 'athletes', '(', 'photo', ')', 'https', ':', '//t.co/6hwu9vvft1', '#', 'belarus', 'the', 'whole', 'russian', 'paralympic', 'team', 'is', 'missing', 'out', 'on', 'the', 'ongoing', 'paralympic', 'games', 'in', 'rio', ',', 'brazil', ',', 'after', 'the', 'international', 'paralympic', 'committee', 'followed', 'wada', '’', 's', 'advice', 'and', 'handed', 'a', 'blanket', 'ban', 'to', 'the', 'country', 'over', 'its', 'alleged', 'doping', 'program', '.']\n"
     ]
    }
   ],
   "source": [
    "cleaned2=nlp_pipeline1(article)\n",
    "print(cleaned2)"
   ]
  },
  {
   "cell_type": "code",
   "execution_count": null,
   "metadata": {
    "collapsed": true
   },
   "outputs": [],
   "source": []
  },
  {
   "cell_type": "code",
   "execution_count": 34,
   "metadata": {
    "collapsed": true
   },
   "outputs": [],
   "source": [
    "def nlp_pipeline2(text):\n",
    "    \n",
    "    text=text.lower()\n",
    "    \n",
    "    #tokenize words for each sentence\n",
    "    text = nltk.word_tokenize(text)\n",
    "    \n",
    "    # remove punctuation and numbers\n",
    "    text = [token for token in text if token.isalpha()]#The isalpha() keeps here caracters in the string are alphabets\n",
    "    \n",
    "    # remove stopwords - be careful with this step    \n",
    "    text = [token for token in text if token not in stop_words]\n",
    "\n",
    "    return text"
   ]
  },
  {
   "cell_type": "code",
   "execution_count": 46,
   "metadata": {},
   "outputs": [
    {
     "name": "stdout",
     "output_type": "stream",
     "text": [
      "['sep', 'putin', 'approve', 'wada', 'hackers', 'information', 'leaked', 'raises', 'questions', 'news', 'approve', 'hackers', 'done', 'definitely', 'interest', 'international', 'community', 'especially', 'sports', 'community', 'russian', 'president', 'said', 'cited', 'ria', 'novosti', 'raises', 'lot', 'questions', 'turns', 'healthy', 'athletes', 'legally', 'take', 'medications', 'prohibited', 'others', 'people', 'obviously', 'suffer', 'serious', 'illnesses', 'severe', 'disabilities', 'banned', 'paralympics', 'suspicion', 'using', 'kind', 'drugs', 'added', 'earlier', 'week', 'hacktivists', 'cyber', 'group', 'fancy', 'bears', 'released', 'files', 'revealing', 'top', 'world', 'athletes', 'received', 'green', 'light', 'wada', 'take', 'banned', 'substances', 'prominent', 'us', 'sports', 'stars', 'including', 'tennis', 'players', 'serena', 'venus', 'williams', 'multiple', 'olympic', 'gymnastics', 'champion', 'simone', 'biles', 'basketball', 'player', 'elena', 'delle', 'donne', 'mentioned', 'among', 'received', 'exemptions', 'wada', 'group', 'later', 'expanded', 'list', 'allowed', 'take', 'banned', 'substances', 'adding', 'documents', 'two', 'dozen', 'athletes', 'us', 'germany', 'britain', 'czech', 'republic', 'denmark', 'poland', 'romania', 'russia', 'wada', 'released', 'statement', 'confirming', 'condemning', 'belarusian', 'paralympic', 'team', 'carries', 'russian', 'flag', 'support', 'banned', 'athletes', 'photo', 'https', 'belarus', 'whole', 'russian', 'paralympic', 'team', 'missing', 'ongoing', 'paralympic', 'games', 'rio', 'brazil', 'international', 'paralympic', 'committee', 'followed', 'wada', 'advice', 'handed', 'blanket', 'ban', 'country', 'alleged', 'doping', 'program']\n"
     ]
    }
   ],
   "source": [
    "cleaned2=nlp_pipeline2(article)\n",
    "print(cleaned2)"
   ]
  },
  {
   "cell_type": "code",
   "execution_count": 35,
   "metadata": {},
   "outputs": [
    {
     "data": {
      "text/plain": [
       "['don’t',\n",
       " 'don’t',\n",
       " 'they’ve',\n",
       " 'community”',\n",
       " 'drugs”',\n",
       " 'bears’',\n",
       " 'cyberattack',\n",
       " 'httpstcohwuvvftbelarus',\n",
       " 'wada’s']"
      ]
     },
     "execution_count": 35,
     "metadata": {},
     "output_type": "execute_result"
    }
   ],
   "source": [
    "#discrepencies between both lists\n",
    "def diff(first, second):\n",
    "        second = set(second)\n",
    "        return [item for item in first if item not in second]\n",
    "\n",
    "diff(cleaned1,cleaned2)"
   ]
  },
  {
   "cell_type": "markdown",
   "metadata": {},
   "source": [
    "- take care of weird punctuation in the beginning\n",
    "- we are going to see in sentiment analysis why dont etc. can be of important"
   ]
  },
  {
   "cell_type": "markdown",
   "metadata": {},
   "source": [
    "# Excercises:"
   ]
  },
  {
   "cell_type": "markdown",
   "metadata": {},
   "source": [
    "**Excercise 1**\n",
    "\n",
    "- Discover what the filter function of lambdas is\n",
    "- use the list [listofnumbers] below\n",
    "- write a lamda expression that will only print in the list any number that is larger than or equal 5"
   ]
  },
  {
   "cell_type": "code",
   "execution_count": 48,
   "metadata": {
    "collapsed": true
   },
   "outputs": [],
   "source": [
    "listofnumbers = [10,2,8,7,5,4,3,11,0, 1]\n"
   ]
  },
  {
   "cell_type": "markdown",
   "metadata": {},
   "source": [
    "**Excercise 2**\n",
    "\n",
    "- use data - datafromsession5_exc3 - you can find it on GitHub in the data folder\n",
    "- seperate in 3 new columns the following: \n",
    "\n",
    "a) the first six charachters for example hrxxxx  \n",
    "\n",
    "b) the number between the dash and dot for example 101 (in the first row) \n",
    "\n",
    "c) the number after the dot (for example \"1\" in row 1)\n",
    "\n",
    "- call the new columns: id1 id2 id3"
   ]
  },
  {
   "cell_type": "markdown",
   "metadata": {},
   "source": [
    "**Excercise 3**\n",
    "\n",
    "- Load convertfromwidetolong using pandas\n",
    "- Reshape dataset to long format"
   ]
  },
  {
   "cell_type": "markdown",
   "metadata": {},
   "source": [
    "**Excercise 4**\n",
    "\n",
    "a)\n",
    "- Your first task is to improve the country dictionary from last class\n",
    "- Countries like the UK, can appear in the text as UK, United Kingdom, Great Britian etc. we dont account for all the ways the countries are mentioned\n",
    "- This is a huge problem in text analysis if you can not recognize different ways a country can be mentioned\n",
    "- create a new dictionary for Russia, that includes all the forms Russia can be mentioned\n",
    "- create the same type of dictionary for Central Republic of Congo\n",
    "- create the same type of dictionary for Yugoslavia\n",
    "\n",
    "then:\n",
    "\n",
    "- create three new columns, one for each Russia, one for CR of Congo, one for Yugoslavia.\n",
    "- in each of these columns add the name of the country that was mentioned.\n",
    "\n",
    "b)\n",
    "- Please use the methods for text processing that we have used until now to clean the articles, you can use pandas or any other method (think when does this step has to be done)\n",
    "\n",
    "c) \n",
    "- Count most frequent words overall\n",
    "- Plot most frequent words in a histogram\n",
    "\n",
    "Use sascat_excerpt.tsv"
   ]
  },
  {
   "cell_type": "code",
   "execution_count": 49,
   "metadata": {
    "collapsed": true
   },
   "outputs": [],
   "source": [
    "countries = ['United States of America', 'Canada', 'Bahamas', 'Cuba', 'Haiti', 'Dominican Republic', 'Jamaica', 'Trinidad and Tobago', 'Barbados', 'Mexico', 'Belize', 'Guatemala', 'Honduras', 'El Salvador', 'Nicaragua', 'Costa Rica', 'Panama', 'Colombia', 'Venezuela', 'Guyana', 'Surinam', 'Ecuador', 'Peru', 'Brazil', 'Bolivia', 'Paraguay', 'Chile', 'Argentina', 'Uruguay', 'United Kingdom', 'Ireland', 'Netherlands', 'Belgium', 'Luxembourg', 'France', 'Switzerland', 'Spain', 'Portugal', 'German Federal Republic', 'German Democratic Republic', 'Poland', 'Austria', 'Hungary', 'Czechoslovakia', 'Czech Republic', 'Slovakia', 'Italy/Sardinia', 'Malta', 'Albania', 'Montenegro', 'Macedonia (Former Yugoslav Republic of)', 'Croatia', 'Serbia', 'Yugoslavia', 'Bosnia-Herzegovina', 'Kosovo', 'Slovenia', 'Greece', 'Cyprus', 'Bulgaria', 'Moldova', 'Rumania', 'Russia (Soviet Union)', 'Estonia', 'Latvia', 'Lithuania', 'Ukraine', 'Belarus (Byelorussia)', 'Armenia', 'Georgia', 'Azerbaijan', 'Finland', 'Sweden', 'Norway', 'Denmark', 'Iceland', 'Cape Verde', 'Guinea-Bissau', 'Equatorial Guinea', 'Gambia', 'Mali', 'Senegal', 'Benin', 'Mauritania', 'Niger', 'Cote D\\x92Ivoire', 'Guinea', 'Burkina Faso (Upper Volta)', 'Liberia', 'Sierra Leone', 'Ghana', 'Togo', 'Cameroon', 'Nigeria', 'Gabon', 'Central African Republic', 'Chad', 'Congo', 'Congo, Democratic Republic of (Zaire)', 'Uganda', 'Kenya', 'Tanzania/Tanganyika', 'Zanzibar', 'Burundi', 'Rwanda', 'Somalia', 'Djibouti', 'Ethiopia', 'Eritrea', 'Angola', 'Mozambique', 'Zambia', 'Zimbabwe (Rhodesia)', 'Malawi', 'South Africa', 'Namibia', 'Lesotho', 'Botswana', 'Swaziland', 'Madagascar', 'Comoros', 'Mauritius', 'Morocco', 'Algeria', 'Tunisia', 'Libya', 'Sudan', 'South Sudan', 'Iran (Persia)', 'Turkey (Ottoman Empire)', 'Iraq', 'Egypt', 'Syria', 'Lebanon', 'Jordan', 'Israel', 'Saudi Arabia', 'Yemen (Arab Republic of Yemen)', \"Yemen, People's Republic of\", 'Kuwait', 'Bahrain', 'Qatar', 'United Arab Emirates', 'Oman', 'Afghanistan', 'Turkmenistan', 'Tajikistan', 'Kyrgyz Republic', 'Uzbekistan', 'Kazakhstan', 'China', 'Tibet', 'Mongolia', 'Taiwan', \"Korea, People's Republic of\", 'Korea, Republic of', 'Japan', 'India', 'Bhutan', 'Pakistan', 'Bangladesh', 'Myanmar (Burma)', 'Sri Lanka (Ceylon)', 'Maldives', 'Nepal', 'Thailand', 'Cambodia (Kampuchea)', 'Laos', 'Vietnam, Democratic Republic of', 'Vietnam, Republic of', 'Malaysia', 'Singapore', 'Brunei', 'Philippines', 'Indonesia', 'East Timor', 'Australia', 'Papua New Guinea', 'New Zealand', 'Solomon Islands', 'Fiji']\n"
   ]
  },
  {
   "cell_type": "code",
   "execution_count": 50,
   "metadata": {
    "collapsed": true
   },
   "outputs": [],
   "source": [
    "Yugoslavia = []\n",
    "CRC=[]\n",
    "Russia=[]"
   ]
  },
  {
   "cell_type": "markdown",
   "metadata": {},
   "source": [
    "**Excercise 4**\n",
    "\n",
    "Use the cleaning methods we have learned until now to clean the text of rt_dataset.tsv\n",
    "\n",
    "You can use pandas or not, you're choice"
   ]
  },
  {
   "cell_type": "code",
   "execution_count": null,
   "metadata": {
    "collapsed": true
   },
   "outputs": [],
   "source": []
  },
  {
   "cell_type": "code",
   "execution_count": null,
   "metadata": {
    "collapsed": true
   },
   "outputs": [],
   "source": []
  },
  {
   "cell_type": "code",
   "execution_count": null,
   "metadata": {
    "collapsed": true
   },
   "outputs": [],
   "source": []
  },
  {
   "cell_type": "code",
   "execution_count": null,
   "metadata": {
    "collapsed": true
   },
   "outputs": [],
   "source": []
  },
  {
   "cell_type": "code",
   "execution_count": null,
   "metadata": {
    "collapsed": true
   },
   "outputs": [],
   "source": []
  },
  {
   "cell_type": "code",
   "execution_count": null,
   "metadata": {
    "collapsed": true
   },
   "outputs": [],
   "source": []
  },
  {
   "cell_type": "code",
   "execution_count": null,
   "metadata": {
    "collapsed": true
   },
   "outputs": [],
   "source": []
  },
  {
   "cell_type": "code",
   "execution_count": null,
   "metadata": {
    "collapsed": true
   },
   "outputs": [],
   "source": []
  },
  {
   "cell_type": "code",
   "execution_count": null,
   "metadata": {
    "collapsed": true
   },
   "outputs": [],
   "source": []
  },
  {
   "cell_type": "code",
   "execution_count": null,
   "metadata": {
    "collapsed": true
   },
   "outputs": [],
   "source": [
    "#Sources: https://medium.com/@makcedward/nlp-pipeline-sentence-tokenization-part-6-86ed55b185e6"
   ]
  },
  {
   "cell_type": "code",
   "execution_count": null,
   "metadata": {
    "collapsed": true
   },
   "outputs": [],
   "source": []
  }
 ],
 "metadata": {
  "kernelspec": {
   "display_name": "Python 3",
   "language": "python",
   "name": "python3"
  },
  "language_info": {
   "codemirror_mode": {
    "name": "ipython",
    "version": 3
   },
   "file_extension": ".py",
   "mimetype": "text/x-python",
   "name": "python",
   "nbconvert_exporter": "python",
   "pygments_lexer": "ipython3",
   "version": "3.6.8"
  }
 },
 "nbformat": 4,
 "nbformat_minor": 2
}
