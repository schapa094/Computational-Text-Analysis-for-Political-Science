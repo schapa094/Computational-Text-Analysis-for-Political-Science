{
 "cells": [
  {
   "cell_type": "markdown",
   "metadata": {},
   "source": [
    "# Code from lecture"
   ]
  },
  {
   "cell_type": "code",
   "execution_count": 51,
   "metadata": {},
   "outputs": [
    {
     "name": "stdout",
     "output_type": "stream",
     "text": [
      "Provides for the enforcement of all provisions of law that impose sanctions against countries engaged in gross violations of human rights and that support terrorism against Iraq. Calls on the President to seek multilateral cooperation to: (1) deny dangerous technologies to Iraq; and\n"
     ]
    }
   ],
   "source": [
    "#we want to start with a single string object - once we write sth we like, we scale up \n",
    "s1=\"Provides for the enforcement of all provisions of law that impose sanctions against countries engaged in gross violations of human rights and that support terrorism against Iraq. Calls on the President to seek multilateral cooperation to: (1) deny dangerous technologies to Iraq; and\"\n",
    "print(s1)"
   ]
  },
  {
   "cell_type": "code",
   "execution_count": 52,
   "metadata": {
    "collapsed": true
   },
   "outputs": [],
   "source": [
    "# we define a list of women-related words - we put in Iraq. to make sure the test works (we will drop it later)\n",
    "female_dict=[\"woman\",\"women\",\"female\",\"girl\",\"girls\",\"Iraq.\"]"
   ]
  },
  {
   "cell_type": "code",
   "execution_count": 53,
   "metadata": {
    "collapsed": true
   },
   "outputs": [],
   "source": [
    "# empty list for all women-related things mentions\n",
    "all_women=[]\n",
    "\n",
    "# we will loop over our femal dict list -> each time, the list comprehension will loop over s1 and add to all_women\n",
    "# all instances in which that particular word from female dictionary was found.  Note that .extend takes the elements \n",
    "# of a new list and adds them to an existing list as individual elements, not as new list-element (producing nested lists)\n",
    "# as .append would - experiment with .append! \n",
    "\n",
    "for word in female_dict:\n",
    "    all_women.extend([x for x in s1.split() if x==word])"
   ]
  },
  {
   "cell_type": "code",
   "execution_count": 54,
   "metadata": {},
   "outputs": [
    {
     "name": "stdout",
     "output_type": "stream",
     "text": [
      "I found  1 cases of women mentioned:  ['Iraq.']\n"
     ]
    }
   ],
   "source": [
    "print(\"I found \", len(all_women), \"cases of women mentioned: \", all_women)"
   ]
  },
  {
   "cell_type": "code",
   "execution_count": 55,
   "metadata": {
    "collapsed": true
   },
   "outputs": [],
   "source": [
    "# now that we know this sort of works, let's fine-tune, specifically, let's clean up and lower text\n",
    "# I will not throw out stop words since for this example I do not care that text contains them\n",
    "\n",
    "# remember you need regular expressions loaded for some of the commands!\n",
    "\n",
    "import re\n",
    "\n",
    "def clean_sanctions(sometextasargument):\n",
    "    # note that whatever we pass to function as argument when invoked will become assigned to object sometextasargument, \n",
    "    # will then be assigned to object text which will keep changing until we assign it to object sometextasoutput\n",
    "    text=sometextasargument.replace('\\n\\n','')\n",
    "    text=text.lower()\n",
    "    text= re.sub('[^A-Za-z0-9]+', ' ', text)\n",
    "    text=re.sub(r'[0-9]+', \" \", text)     \n",
    "    sometextasoutput=text\n",
    "    # finally, we ask the function returns what it did:  \n",
    "    return (sometextasoutput)"
   ]
  },
  {
   "cell_type": "code",
   "execution_count": 56,
   "metadata": {
    "collapsed": true
   },
   "outputs": [],
   "source": [
    "# let's check what fn returns by passing to it the string object s1\n",
    "# a remark on the function - I could have used \"text\" throughout so no \"sometextasargument\", \"sometextasoutput\"\n",
    "# to the same effect - make sure you see that this works too\n",
    "# note that unless you tell the fn what you want returned, it will perform the things you said and return...nothing! so \"return!\""
   ]
  },
  {
   "cell_type": "code",
   "execution_count": 57,
   "metadata": {},
   "outputs": [
    {
     "name": "stdout",
     "output_type": "stream",
     "text": [
      "provides for the enforcement of all provisions of law that impose sanctions against countries engaged in gross violations of human rights and that support terrorism against iraq calls on the president to seek multilateral cooperation to   deny dangerous technologies to iraq and\n"
     ]
    }
   ],
   "source": [
    "print(clean_sanctions(s1))"
   ]
  },
  {
   "cell_type": "code",
   "execution_count": 58,
   "metadata": {},
   "outputs": [
    {
     "name": "stdout",
     "output_type": "stream",
     "text": [
      "I found  2 cases of women mentioned:  ['iraq', 'iraq']\n"
     ]
    }
   ],
   "source": [
    "# note that now I should specify my dictionary list again so that it contains only lower case words with no punctuation:\n",
    "\n",
    "female_dict=[\"woman\",\"women\",\"female\",\"girl\",\"girls\",\"iraq\"]\n",
    "\n",
    "all_women=[]\n",
    "\n",
    "# note also that now I split the output of the function, clean_sanctions(s1), and not the original string s1!\n",
    "\n",
    "for word in female_dict:\n",
    "    all_women.extend([x for x in clean_sanctions(s1).split() if x==word])\n",
    "print(\"I found \", len(all_women), \"cases of women mentioned: \", all_women)\n",
    "\n",
    "#you will notice that now I find more - because I cleaned up the text beforehand"
   ]
  },
  {
   "cell_type": "code",
   "execution_count": 61,
   "metadata": {},
   "outputs": [
    {
     "name": "stdout",
     "output_type": "stream",
     "text": [
      "['id-snippet', 'n-sentences', 'n-words', 'n-nouns', 'n-adj', 'n-verbs', 'n-entities', 'n-vague', 'n-concrete', 'n-conditionals', '']\n",
      "['hr5114-101.1', '20', '839', '441', '83', '87', '76', '3', '4', '5', \"Provides for the enforcement of all provisions of law that impose sanctions against countries engaged in gross violations of human rights and that support terrorism against Iraq. Calls on the President to seek multilateral cooperation to: (1) deny dangerous technologies to Iraq; and (2) induce Iraq to respect internationally recognized human rights and to allow international humanitarian and human rights organizations to have access to Iraq and Kuwait. Prohibits, as part of the sanctions against Iraq: (1) any sales to Iraq under the Arms Export Control Act; (2) the issuance of licenses for the export to Iraq of items on the U.S. Munitions List; (3) exports to Iraq of certain goods or technology listed under the Export Administration Act of 1979; (4) the issuance of licenses of authorizations under the Atomic Energy Act of 1954 for the export to Iraq of nuclear materials, facilities, and technology; (5) U.S. support for loans or financial or technical assistance to Iraq by international financial institutions; (6) the provision of credits and other assistance to Iraq through the Commodity Credit Corporation; and (7) the provision of assistance under the Foreign Assistance Act of 1961 and the Arms Export Control Act other than emergency medical and humanitarian assistance. Authorizes the President to waive any sanction within 60 days after certifying to the Congress that: (1) the Iraqi Government has demonstrated substantial improvement in respect for human rights; (2) the Iraqi Government is not acquiring, developing, or manufacturing ballistic missiles or chemical, biological, or nuclear weapons or components for such weapons, has forsworn the first use of such weapons, and is taking steps to dispose of such weapons; (3) the Iraqi Government does not support international terrorism; (4) the Iraqi Government is in compliance with international law; and (5) the President determines that such waiver is in U.S. national security interests. Requires the President to continue the trade embargo and other economic sanctions with respect to Iraq and Kuwait. Sets forth provisions concerning congressional notification with respect to the termination of sanctions. Prohibits any assistance made available pursuant to this Act to carry out the Foreign Assistance Act of 1961 or the Arms Export Control Act to be provided to any country that is not in compliance with the United Nations Security Council sanctions against Iraq unless the President certifies to the Congress that such assistance: (1) is in the U.S. national interest; (2) will directly benefit the needy people in such country; or (3) will be humanitarian assistance for foreign nationals who have fled Iraq and Kuwait. Authorizes the President, if the taking of such action would promote the effectiveness of economic sanctions against Iraq, to prohibit the importation into the United States of any products of a foreign country that has not prohibited the importation of Iraqi products into its customs territory and the export of products to Iraq. Prescribes civil and criminal penalties for violations of specified Executive Orders concerning sanctions against Iraq. Calls for the immediate and unconditional withdrawal of Iraqi forces from Kuwait. Supports the efforts of the United Nations Security Council and the imposition and enforcement of multilateral sanctions against Iraq. Calls on U.S. allies and other countries to bring about an end to Iraq's occupation of Kuwait. Condemns Iraq's human rights violations in Kuwait. Directs the President to keep the Congress fully informed and to consult with the Congress with respect to current and anticipated events regarding Iraq's invasion of Kuwait. Permits the President to waive any sanction within 30 days after certifying to the Congress that: (1) there has been a fundamental change in the leadership of the Iraqi Government; and (2) the Iraqi Government has provided assurances that it respects human rights, will not acquire, manufacture, or use and will destroy chemical, biological, or nuclear weapons and ballistic missiles, will not provide support for international terrorism, and will comply with obligations under international law. Prohibits the use of funds appropriated by any Act to approve the licensing for export of any supercomputer to any country that is assisting Iraq in improving rocket technology or chemical, biological, or nuclear weapons capability. Directs the President to begin negotiations with governments with which the United States has bilateral supercomputer agreements on conditions restricting the transfer to Iraq of supercomputer or associated technology. Requires the President to study and report to specified congressional committees on: (1) the sale, export, and third party transfer or development of nuclear, biological, chemical, and ballistic missile technology to or with Iraq; (2) Iraq's offensive military capability and its effect on the Middle East balance of power; and (3) steps taken by other nations to curtail the export of goods, services, and technologies to Iraq that might enhance Iraq's nuclear, biological, chemical, and ballistic missile capability. Directs the President to provide a complete accounting of international compliance with each of the United Nations Security Council sanctions resolutions against Iraq and to list each country that has provided any assistance to Iraq and the amount and type of assistance in violation of each United Nations resolution.\"]\n",
      "['hr5114-101.2', '5', '159', '77', '21', '21', '9', '2', '1', '1', \"Requires the delivery of excess defense articles to NATO allies and major non-NATO allies on the southern and southeastern flank of NATO to be given priority over the delivery of such articles to other countries. Prohibits, six months after this Act's enactment, the expenditure of funds made available pursuant to this Act to provide assistance to Yugoslavia. Directs the Secretary of the Treasury to instruct the U.S. executive directors to international financial institutions to oppose any assistance to Yugoslavia. Exempts from such prohibition assistance to support democratic parties or movements and emergency and humanitarian assistance. Makes such prohibition inapplicable if: (1) all the individual republics of Yugoslavia have held free and fair elections and are not engaged in a pattern of human rights violations; or (2) the Secretary of State certifies that Yugoslavia is making significant strides toward complying with the Helsinki Accords and is encouraging any republic which has not held free and fair elections to do so.\"]\n",
      "['hr5114-101.3', '1', '56', '29', '4', '5', '3', '2', '1', '1', 'Prohibits making available any ESF or foreign military financing assistance for Kenya unless the President reports to the Congress that the Kenyan Government is taking steps to: (1) charge and try or release all prisoners; (2) cease physical abuse or mistreatment of prisoners; (3) restore the independence of the judiciary; and (4) restore freedoms of expression.']\n",
      "['hr5114-101.4', '1', '110', '49', '14', '12', '11', '1', '0', '2', 'Prohibits the obligation of funds for the European Bank for Reconstruction and Development until the President reaches an agreement with the Polish Government or other creditors which accurately reflects the collectability of Polish debts to the United States and adjusts the amount of debt and debt service payable to the United States, subject to the following conditions: (1) an IMF agreement is in effect with respect to Poland and it is the intent of the Polish Government to continue the program; (2) the recent change of the Polish Government into a democracy is being maintained; and (3) the Polish Government is seeking comparable treatment of public and private external debt.']\n",
      "['hr5114-101.5', '1', '27', '13', '1', '6', '2', '1', '0', '0', 'Prohibits assistance to countries which fail to take steps to prevent illicit drugs from being sold to U.S. Government personnel or from entering the United States illegally.']\n",
      "['hr5114-101.6', '2', '45', '23', '1', '8', '2', '1', '0', '0', 'Requires agreements for the sale or provision of articles on the U.S. Munitions List to expressly state that such articles will be provided only with the understanding that they will not be transferred to Cyprus or used to further the severance or division of Cyprus.']\n",
      "['hr5114-101.7', '12', '465', '254', '39', '74', '33', '2', '0', '3', \"Limits the amount of military assistance for El Salvador for FY 1991. Prohibits the provision of such assistance if the President reports to the Congress that: (1) the El Salvadoran Government has declined to participate in negotiations for a permanent settlement and cease-fire to the armed conflict; (2) the El Salvadoran Government has failed to support an active role for the United Nations Secretary General in mediating such settlement; (3) the El Salvadoran Government has rejected a specified settlement plan; (4) the El Salvadoran Government has failed to conduct an investigation into, and prosecution of those responsible for, the murders at the University of Central America; (5) the El Salvadoran military and security forces are engaging in violent acts against civilians or are failing to control such activities by elements subject to their control; or (6) the El Salvadoran Government has failed to seek and encourage a law enforcement service from outside El Salvador to monitor El Salvadoran investigators in their investigation into the murders at the University of Central America. Provides for the resumption of such assistance pursuant to a law enacted by the Congress. Withholds 50 percent of military assistance allocated for FY 1991. Releases such assistance only if: (1) the Farabundo Marti National Liberation Front has declined to participate in settlement negotiations or has failed to support the Secretary General's role in mediating such settlement; (2) the FMLN has rejected a specified settlement plan; (3) the survival of the El Salvadoran Government is being jeopardized by FMLN actions; (4) proof exists that the FMLN is continuing to acquire significant shipments of lethal military assistance from outside El Salvador; or (5) the FMLN is engaging in violent acts against civilians or is failing to control such activities by elements subject to its control. Authorizes the expenditure of ten percent of the military assistance deposited in the Demobilization and Transition Fund to carry out judicial reforms in El Salvador if the President certifies to the Congress that the El Salvadoran Government has made significant progress in establishing an independent civilian judiciary and prosecutorial and investigative system. Sets forth conditions for meeting the progress requirement. Prohibits U.S. assistance to El Salvador if the elected head of the government is deposed by military coup or decree. Provides for the resumption of such assistance pursuant to a law enacted by the Congress. Establishes the Demobilization and Transition Fund to assist in monitoring a settlement of the conflict and in demobilizing combatants in such conflict and aiding their transition to peaceful pursuits. Makes amounts in the Fund available only if the President notifies the Congress that a permanent settlement of the conflict has been reached. Transfers withheld military assistance to the Fund on the date of such notification or on September 30, 1991, if no notification has occurred.\"]\n",
      "['hr5114-101.8', '2', '24', '15', '3', '4', '1', '1', '0', '0', 'Earmarks specified amounts of ESF assistance for ... Prohibits such funds from being provided to any country whose government engages in consistent human rights violations.']\n",
      "['hr5114-101.9', '1', '11', '7', '2', '0', '4', '2', '0', '0', 'Prohibits any foreign military financing for Zaire, Sudan, Liberia, or Somalia.']\n",
      "['hr3199-109.1', '3', '187', '90', '26', '24', '6', '1', '0', '2', \"Amends the Foreign Assistance Act of 1961 to require an additional section in the President's international narcotics control strategy report that: (1) identifies the five countries that exported the largest amount of pseudoephedrine, ephedrine, and phenylpropanolamine; (2) identifies the five countries that imported the largest amount of such chemicals and have the highest rate of diversion of such chemicals for the use in the illicit production of methamphetamine; and (3) includes an economic analysis of the total worldwide production of such chemicals compared to the legitimate demand for such chemicals. Withholds 50% of the U.S. assistance allocated each fiscal year for countries so identified unless the country has either cooperated fully with the United States or has taken adequate steps on its own to achieve full compliance with established United Nations goals and objectives, unless the vital national interests of the United States prevent withholding such funds. Requires the Secretary of State to submit to Congress a comprehensive plan to address the diversion of chemicals to the illicit production of methamphetamine for each identified country for which the President has not submitted a certification of full cooperation.\"]\n",
      "['hr3199-109.2', '3', '65', '36', '7', '7', '2', '2', '0', '0', 'Amends the federal criminal code to provide for the forfeiture of the assets of any person planning or perpetrating an act of international terrorism against any international organization or foreign government. Provides that where the property sought for forfeiture is located beyond the territorial boundaries of the United States, an act in furtherance of such planning or perpetration must have occurred within U.S. jurisdiction. (Sec.']\n",
      "['hr5948-109.1', '14', '685', '378', '65', '60', '44', '4', '2', '3', \"Authorizes the President to deny U.S. entry to any alien who: (1) is in the senior leadership of the government of Belarus; (2) is an immediate family member of such person; or (3) through business dealings with senior government leadership derives significant financial benefit from policies or actions that undermine democratic institutions or impede Belarus' transition to democracy. Expresses the sense of Congress that: (1) no loan, credit guarantee, insurance, financing, or other similar financial assistance should be extended by any U.S. agency (including the Export-Import Bank and the Overseas Private Investment Corporation) to the government of Belarus, except for humanitarian goods and agricultural or medical products; and (2) no funds available to the Trade and Development Agency should be available for Agency activities in or for Belarus. Expresses the sense of Congress that the President should block all property and property interests that on or after the date of the enactment of this Act: (1) are owned in whole or in part by the government of Belarus, or by any member or family member closely linked to senior government leadership, or any person who through business dealings with senior government leadership derives significant financial benefit from policies or actions that undermine or injure democratic institutions or impede Belarus' transition to democracy; and (2) are in the United States, or in the possession or control of the U.S. government or of any U.S. financial institution, including any branch or office located outside the United States. States that activities prohibited by the blocking of such property interests should include: (1) payments or transfers of property or anything of economic value by any U.S. person to the government of Belarus or to any entity or person acting on its behalf, or to any member of its senior leadership; (2) the export or reexport to any entity owned, controlled, or operated by the government of Belarus of any goods, technology, or services, either by a U.S. person or involving the use of any air carrier or a vessel documented under U.S. law; and (3) the performance by any U.S. person of any contract, including a contract providing a loan or other financing, in support of an industrial, commercial, or public utility operated, controlled, or owned by the government of Belarus. Exempts from such prohibitions: (1) assistance under sections 4 or 5 of this Act; or (2) medicine, medical equipment, food, or other humanitarian assistance provided to Belarus in response to a humanitarian crisis. Belarus Democracy Reauthorization Act of 2006 - (Sec. 3) Amends the Belarus Democracy Act of 2004 to state that it is U.S. policy to: (1) call for the immediate release of all political prisoners in Belarus; (2) support the aspirations of the people of the Republic of Belarus for democracy, human rights, the rule of law, and to preserve their country's independence; (3) support the growth of democratic movements and institutions in Belarus; (4) refuse to accept the results of the March 2006 presidential elections in Belarus and support new presidential elections; (5) refuse to recognize any referendum that would affect Belarus' sovereignty; and (6) work with other countries and international organizations to promote Belarus' integration into the European community of democracies. (Sec. 4) Revises the activities which may be supported by assistance under this Act, including support for youth groups, independent trade unions and entrepreneurs, human rights defenders, independent media, democratic political parties, and international exchanges. Extends authorization of appropriations through FY2008 for such purposes.(Sec. 5) Includes television broadcasting within the scope of increased support and funding for U.S. government and surrogate broadcasting to Belarus. (Currently, such support is limited to radio broadcasting.) (Sec. 6) Establishes specified economic and U.S. entry sanctions against Belarus until the President certifies to the appropriate congressional committees that the government of Belarus has made progress in meeting specified conditions respecting: (1) release of political and religious prisoners and accounting for the disappearances of opposition leaders and journalists; (2) cessation of political harassment; (3) prosecution of senior government leaders for embezzlement of state assets and administration of fraudulent elections; and (4) holding free presidential and parliamentary elections under independent supervision.\"]\n",
      "['hjres2-108.1', '4', '57', '28', '7', '6', '1', '2', '0', '1', '(Sec. 527) Prohibits bilateral assistance funds to any country which the President determines grants sanctuary from prosecution to any individual or group which has committed an act of international terrorism or otherwise supports such activities. Authorizes a waiver of this prohibition by the President for national security and humanitarian reasons, requiring notification to the Committees on Appropriations.(Sec.']\n",
      "['hjres2-108.2', '1', '44', '22', '6', '6', '2', '1', '0', '2', '543)Prohibits the provision of funds to any foreign government that provides lethal military equipment to a country that the Secretary of State has determined has a terrorist government, unless the President determines that the furnishing of such assistance is in the U.S. national interest.']\n",
      "['hjres2-108.3', '2', '62', '30', '5', '6', '6', '2', '0', '2', '(Sec. 531) Bars assistance to any country that is not in compliance with the United Nations (UN) sanctions against Iraq, unless the President certifies to the Congress that such assistance: (1) is in the U.S. national interest; (2) will directly benefit the needy people in that country; or (3) will be humanitarian assistance for foreign nationals who have fled Iraq and Kuwait.']\n",
      "['hjres2-108.4', '2', '75', '41', '4', '10', '4', '2', '0', '2', '(Sec. 556) Directs the Secretary of the Treasury to instruct the U.S. executive director of each international financial institution to vote against the extension of any loans to the Government of Zimbabwe (except to meet basic human needs or promote democracy) unless the Secretary of State certifies to the Committees on Appropriations that the rule of law has been restored there, including respect for ownership and title to property, and freedom of speech and association.']\n",
      "['hjres2-108.5', '5', '129', '73', '9', '14', '11', '1', '1', '3', '(Sec. 557) Prohibits the use of foreign military financing and IMET funds for Nigeria until the President certifies to the Committees on Appropriations that the Nigerian Minister of Defense, the Chief of the Army Staff, and the Minister of State for Defense/Army are suspending from the Armed Forces those members against whom there is evidence of gross violations of human rights in Benue State in October 2001, and the Government of Nigeria and the Nigerian Armed Forces are taking measures to bring them to justice. Authorizes the President to waive such requirements if it is determined to be in the national security interests of the United States. (Sec. 506) Prohibits the use of funds for: (1) the export of nuclear equipment, fuel, or technology (except for nuclear safety purposes);']\n",
      "['hjres2-108.6', '2', '36', '23', '2', '2', '8', '1', '0', '0', '(Sec. 506) Prohibits the use of funds for: (2) direct assistance or reparations to Cuba, Iraq (except humanitarian and relief assistance if it is in the U.S. national interest), Libya, North Korea, Iran, Sudan, or Syria;']\n",
      "['hjres2-108.7', '2', '34', '19', '1', '6', '0', '2', '0', '0', '(Sec. 506) Prohibits the use of funds for: (3) assistance (excluding assistance to promote democracy) to the government of any country whose duly elected head of government is deposed by military coup or decree;']\n",
      "['hjres2-108.8', '2', '40', '26', '2', '2', '1', '1', '0', '2', '(Sec. 506) Prohibits the use of funds for: (5) assistance to the government of any country in default in excess of a year on payments on a U.S. loan (unless the President determines such assistance is in the national interest)']\n",
      "['hjres2-108.9', '2', '57', '30', '7', '12', '3', '1', '0', '1', '562) Prohibits funds appropriated under this Act, or appropriated under prior Acts for foreign operations, export financing, and related programs, from being made available to KEDO. Authorizes the President to waive such requirement and provide specified amounts to KEDO for administrative expenses if it is determined to be in the national security interests of the United States.']\n",
      "['hjres2-108.10', '2', '32', '18', '1', '4', '4', '1', '1', '1', '(Sec. 545) Prohibits the obligation of any appropriations for the PLO for the West Bank and Gaza unless the President has exercised certain authorities to suspend prohibitions on assistance to the PLO.']\n",
      "['hjres2-108.11', '3', '46', '27', '4', '5', '7', '2', '0', '0', '(Sec. 548) Prohibits the obligation of appropriations to create in Jerusalem a new U.S. agency office for the purpose of conducting U.S. business with the Palestinian Authority over Gaza and Jericho (or any successor Palestinian governing entity) provided for in the Israel-PLO Declaration of Principles.(Sec. 552)']\n",
      "['hjres2-108.12', '1', '24', '14', '1', '2', '3', '1', '0', '2', 'Prohibits the obligation of any appropriations for the PLO unless the President certifies to Congress that it is in the U.S. national security interests.']\n",
      "['hjres2-108.13', '4', '151', '65', '16', '29', '15', '1', '1', '2', '(Sec. 563) Prohibits funds appropriated by this Act from being used to support a Palestinian state unless the Secretary of State certifies to the appropriate congressional committees that: (1) a new leadership of a Palestinian governing entity has been democratically elected; (2) the governing entity of a new Palestinian state has demonstrated a commitment to peace with Israel and is taking appropriate measures to counter terrorism in the West Bank and Gaza; and (3) the Palestinian Authority is working with other countries in the region to establish a lasting peace in the Middle East that will enable Israel and an independent Palestinian state to coexist. Authorizes assistance intended to help reform the Palestinian Authority and affiliated institutions, or a newly elected governing entity, so it can meet the requirements of this section. Authorizes the President to waive such requirements if it is in the national security interests of the United States.']\n",
      "['hjres2-108.14', '2', '113', '59', '15', '14', '11', '1', '0', '1', '(Sec. 569) Makes foreign military financing program funds available to Indonesia, and authorizes the issuance of licenses for the export of lethal defense articles for the Indonesian Armed Forces, if the President certifies to the appropriate congressional committees that: (1) the Indonesia Minister of Defense is suspending from the Armed Forces those members who have committed gross violations of human rights, or who have aided or abetted militia groups; (2) the Indonesian Government is prosecuting such individuals; (3) the Indonesian Armed Forces are cooperating with civilian prosecutors and judicial authorities in such cases; and (4) the Minister of Defense is making publicly available audits of receipts and expenditures of the Indonesian Armed Forces.']\n",
      "['hjres2-108.15', '2', '55', '34', '3', '9', '2', '2', '0', '1', '(Sec. 570) Bars the use of funds appropriated by this Act for assistance for the government of any country for which the Secretary of State has determined there is credible evidence that it has aided or abetted, within the previous six months, in the illicit distribution, transportation, or sale of diamonds mined in Sierra Leone.']\n",
      "['hjres2-108.16', '2', '52', '28', '7', '2', '5', '1', '1', '1', '(Sec. 572) Makes certain foreign assistance funds that were available for the United Nations Population Fund (UNFPA), and an equal amount in this Act, available for the UNFPA if the President determines that the UNFPA no longer supports or participates in the management of a program of coercive abortion or involuntary sterilization.']\n",
      "['hjres2-108.17', '2', '24', '13', '4', '4', '2', '0', '0', '0', 'Prohibits such funds made available to the UNFPA to be used in China. Conditions the availability of such funds to UNFPA on specified requirements.']\n",
      "['hjres2-108.18', '1', '24', '11', '5', '1', '0', '2', '0', '0', 'Bars the availability of appropriated funds or unobligated balances from prior appropriations to any organization or program which supports coercive abortions or involuntary sterilizations.']\n",
      "['hjres2-108.19', '2', '85', '46', '6', '12', '1', '2', '0', '0', 'Authorizes funds to be made available, in order to reduce reliance on abortion in developing nations, to qualified voluntary family planning projects that: (1) offer directly or through referral, or offer information about access to, a broad range of family planning methods and services; and (2) meet specified requirements.(Sec. 518) Prohibits the use of development assistance funds for abortions or involuntary sterilizations as methods of family planning, to motivate or coerce any person to practice abortions, or to provide any financial incentive to undergo sterilization.']\n",
      "['hjres2-108.20', '2', '28', '14', '1', '4', '0', '1', '0', '0', '(Sec. 533) Prohibits the use of funds to provide: (2) assistance for any project that contributes to the violation of internationally recognized workers rights in the recipient country.']\n",
      "['hjres2-108.21', '2', '108', '52', '10', '15', '9', '2', '1', '0', '(Sec. 576) Bars the use of funds made available by this Act for assistance (except humanitarian assistance and assistance for democratization), and the Secretary of the Treasury shall instruct the U.S. executive directors of the international financial institutions to vote against any new project involving the extension of financial or technical assistance, to any country (Bosnia and Herzegovina, Croatia, and Serbia), entity, or municipality that has failed to take necessary steps to implement its international legal obligations to apprehend and transfer to the International Criminal Tribunal for the Former Yugoslavia all persons in their territory who have been indicted by the Tribunal and to otherwise cooperate with it.']\n",
      "['hjres2-108.22', '2', '123', '68', '9', '14', '10', '1', '0', '2', '(Sec. 578) Makes funds appropriated by this Act available after June 15, 2003, for assistance for Serbia if the President determines and certifies to the Committees on Appropriations that the Government of the Federal Republic of Yugoslavia (or a government of a successor state) is: (1) cooperating with the International Criminal Tribunal for Yugoslavia, including regarding the surrender and transfer of indictees or assistance in their apprehension; (2) taking steps consistent with the Dayton Accords to end Serbian financial, political, security and other support which has served to maintain separate Republika Srpska institutions; and (3) taking steps to implement policies which reflect a respect for minority rights and the rule of law, including the release of political prisoners from Serbian jails and prisons.']\n",
      "['hjres2-108.23', '2', '67', '40', '6', '6', '2', '2', '0', '0', \"(Sec. 577) Directs the Secretary of the Treasury to instruct the U.S. executive directors at specified international financial institutions to oppose any loan, grant, strategy or policy that would require user fees or service charges on poor people for primary education or primary health care, including prevention and treatment efforts for HIV/AIDS, malaria, tuberculosis, and infant, child, and maternal well-being, in connection with the institution's lending programs.\"]\n",
      "['hjres2-108.24', '1', '82', '52', '6', '7', '11', '0', '0', '2', 'Authorizes the President to withhold funds for economic revitalization programs in Bosnia and Herzegovina if the President certifies to the Committees on Appropriations that: (1) the Federation of Bosnia and Herzegovina has not complied with article III of annex 1-A of the General Framework Agreement for Peace in Bosnia and Herzegovina concerning the withdrawal of foreign forces; and (2) intelligence cooperation on training, investigations, and related activities between state sponsors of terrorism and terrorist organizations and Bosnian officials has not been terminated.']\n",
      "['hjres2-108.25', '1', '68', '31', '11', '8', '4', '1', '0', '2', 'Withholds 60 percent of U.S. assistance allocated to the Government of the Russian Federation until the President certifies to specified congressional committees that it: (1) has terminated arrangements to provide Iran with technical expertise, training, technology, or equipment to develop a nuclear reactor or ballistic missile capability; and (2) is providing full access to international nongovernmental organizations providing humanitarian relief to refugees and internally displaced persons in Chechnya.']\n",
      "['hjres2-108.26', '1', '9', '6', '2', '0', '4', '0', '0', '0', 'Prohibits foreign military financing for Sudan, Liberia, and Guatemala.']\n",
      "['hjres2-108.27', '2', '63', '34', '4', '8', '3', '2', '3', '0', '(Sec. 583) Prohibits the use of funds made available under this Act by OPIC and the Export-Import Bank of the United States to insure, reinsure, guarantee, finance, or extend credit in any project involving the mining, polishing or other process, or sale of diamonds in a country that fails to meet certain requirements with respect to the export and import of rough diamonds.']\n",
      "['hjres2-108.28', '4', '106', '50', '13', '21', '3', '1', '1', '1', '(Sec. 579) Prohibits funds appropriated by this Act from being made available to provide assistance for a foreign country under a new bilateral agreement governing the terms under which such assistance is to be provided unless such agreement includes a provision stating that such assistance shall be exempt from taxation, or reimbursed, by the foreign government. Requires the Secretary of State to negotiate amendments to existing bilateral agreements to conform them to such requirement. Sets forth certain requirements with respect to reimbursement of foreign taxes to the United States, including the withholding of U.S. assistance in cases where a country does not reimburse the United States.']\n",
      "['hjres2-108.29', '4', '152', '76', '21', '24', '10', '0', '1', '4', \"564) Makes funds appropriated by this Act available for assistance for the Colombian Armed Forces (CAF) to support the Colombian Government's unified campaign against narcotics trafficking and against paramilitary and guerrilla organizations designated as terrorist organizations. Allows the obligation of up to 75 percent of such funds before the Secretary of State has certified to the appropriate congressional committees that the CAF and the Colombian Government are taking specified steps to clear the CAF of, and bring to justice, those members who have committed gross violations of human rights, including extra-judicial killings. Withholds the obligation of up to 12.5 percent of such assistance until the Secretary of State certifies to the appropriate congressional committees that such steps are being taken and the CAF are severing links with paramilitary organizations and apprehending their leaders. Permits obligation of the balance of such funds upon certification that the CAF are continuing to meet these conditions.\"]\n",
      "['hjres2-108.30', '2', '47', '27', '1', '6', '7', '2', '0', '1', '(Sec. 565) Prohibits the Secretary of State from issuing a visa to any alien who the Secretary determines has willfully provided (or conspired to provide) support to the Revolutionary Armed Forces of Colombia (FARC), the National Liberation Army (ELN), or the United Self-Defense Forces of Colombia (AUC).']\n",
      "['hjres2-108.31', '2', '43', '25', '4', '1', '4', '0', '0', '0', '(Sec. 544) Withholds assistance to a foreign country in an amount equal to 110 percent of the total unpaid parking fines and penalties owed by the country to the District of Columbia and New York City, New York, as of September 30, 2002.']\n",
      "['hjres2-108.32', '1', '17', '8', '1', '3', '3', '1', '0', '0', 'Prohibits the United States from paying any voluntary contribution to the UN, including the UN Development Program.']\n",
      "['hjres2-108.33', '2', '51', '28', '5', '7', '2', '0', '0', '1', '(Sec. 553) Prohibits the use of funds for the security forces of a foreign country if the Secretary of State believes they have committed gross violations of human rights, unless the Secretary reports to the Committees on Appropriations that such country is taking steps to bring the responsible persons to justice.']\n",
      "['hjres2-108.34', '3', '147', '79', '20', '12', '9', '2', '0', '2', '(Sec. 517) Prohibits the availability of assistance for the Independent States of the former Soviet Union to a government of such an Independent State: (1) unless it is making progress in implementing comprehensive economic reforms based on market principles, private ownership, respect for commercial contracts, and equitable treatment of foreign private investment; (2) if it applies or transfers U.S. assistance to any entity for the purpose of expropriating or seizing ownership of assets, investments, or ventures (unless the President determines such assistance is in the national interest); (3) if it directs action in violation of the territorial integrity or national sovereignty of any other Independent State of the former Soviet Union; or (4) to enhance its military capability (except for demilitarization, demining, or nonproliferation programs). Subjects such assistance for the Russian Federation, Armenia, Georgia, and the Ukraine to the regular notification procedures of the Committees on Appropriations.']\n",
      "['hjres2-108.35', '4', '70', '40', '10', '7', '8', '0', '0', '0', '(Sec. 560) Directs the Secretary of the Treasury to instruct the U.S. executive directors of international financial institutions to oppose loans to the Central Government of Cambodia (except loans to support basic human needs). Prohibits the availability of funds under this Act for assistance for the Central Government of Cambodia, with specified exceptions. Makes ESF assistance available for activities to support democracy (including assistance for democratic political parties) in Cambodia.']\n",
      "['hjres2-108.36', '2', '36', '18', '6', '4', '2', '1', '1', '2', '(Sec. 573) Directs the Secretary of the Treasury to withhold ten percent of the U.S. payment to any international financial institution until the Secretary certifies that such institution has implemented certain procurement and financial management reforms.']\n",
      "['hjres2-108.37', '2', '63', '40', '2', '5', '8', '0', '0', '2', '(Sec. 574) Makes funds appropriated by this Act available for assistance for the Government of Uzbekistan only if the Secretary of State determines and reports to the Committees on Appropriations that it is making substantial and continuing progress in meeting its commitments under the \"Declaration on the Strategic Partnership and Cooperation Framework Between the Republic of Uzbekistan and the United States of America.']\n",
      "['hjres2-108.38', '4', '98', '54', '7', '12', '3', '2', '0', '2', '(Sec. 518) Prohibits the use of development assistance funds for abortions or involuntary sterilizations as methods of family planning, to motivate or coerce any person to practice abortions, or to provide any financial incentive to undergo sterilization.\"Makes funds appropriated by this Act available to the Government of Kazakhstan only if the Secretary of State determines and reports to the Committees on Appropriations that it has made significant improvements in the protection of human rights during the preceding six months. Authorizes the Secretary to waive such requirement if it is in the national security interest of the United States.']\n",
      "['hjres2-108.39', '1', '28', '22', '0', '1', '6', '1', '0', '0', 'Bars the use of development assistance funds for any activity which is in contravention of the Convention on International Trade in Endangered Species of Flora and Fauna (CITES).']\n",
      "['hr3610-104.1', '3', '145', '78', '14', '19', '8', '2', '1', '4', '(Sec. 609) Prohibits the use of funds from this Act, unless certain conditions are met, to pay for costs incurred for: (1) opening or operating any U.S. diplomatic or consular post in the Socialist Republic of Vietnam that was not operating on July 11, 1995; (2) expanding any such post that was in operation on such date; or (3) increasing the number of personnel assigned to such posts above the level existing on such date. Allows the use of such funds for such purposes only if the President certifies that the Vietnamese Government is fully cooperating with the United States in specified activities relating to the investigation and recovery of missing U.S. military personnel, including: (1) resolution of discrepancy cases, live-sightings, and field activities; (2) recovery and repatriation of American remains; (3) provision of documents on POW-MIAs; and (4) implementation of trilateral investigations with Laos.']\n",
      "['hr3610-104.2', '2', '58', '30', '5', '8', '4', '2', '0', '0', \"(Sec. 610) Prohibits the use of funds under this Act for any United Nations peacekeeping mission involving U.S. forces under the command or control of a foreign national, if the President's military advisors have not recommended that such involvement is in the U.S. national security interest, and the President has not submitted such a recommendation to the Congress.\"]\n",
      "['hr3610-104.3', '2', '134', '75', '12', '8', '6', '1', '0', '2', \"(Sec. 8055) Prohibits the use of funds: (1) for the modification of an aircraft, weapon, ship, or other equipment that the military department concerned plans to retire or otherwise dispose of within five years after completion of the modification; (2) by a DOD entity without compliance with the Buy American Act; (3) for the design, development, acquisition, or operation of more than 47 Titan IV expendable launch vehicles; (4) for assistance to or programs in the Democratic People's Republic of North Korea unless specifically appropriated for such purpose; (5) to reduce the civilian medical and medical support personnel assigned to military treatment facilities below the September 30, 1996 level; and (6) to transport chemical munitions to the Johnston Atoll for storage or demilitarization (with an exception and an authorized wartime waiver by the President).\"]\n",
      "['hr3610-104.4', '1', '27', '20', '1', '0', '8', '0', '0', '0', 'Title II: Bilateral Economic Assistance - Makes appropriations for FY 1997 for: (15) Economic Support Fund (ESF) assistance (but not for Zaire); (16) the International Fund for Ireland;']\n",
      "['hr3610-104.5', '1', '31', '19', '3', '0', '4', '0', '0', '0', '(17) economic assistance for Eastern Europe, the Baltic States, and the independent states of the former Soviet Union; (18) the Peace Corps (but with a ban on fund use for abortions);']\n",
      "['hr3610-104.6', '1', '26', '16', '4', '0', '5', '0', '0', '0', 'Title III: Military Assistance - Makes appropriations for FY 1997 for: (1) international military education and training (with a ban on such assistance to Zaire and Guatemala);']\n",
      "['hr3610-104.7', '1', '38', '25', '4', '1', '11', '1', '0', '0', 'Prohibits foreign military financing for: (1) any non-North Atlantic Treaty Organization (NATO) country participating in the Partnership for Peace Program except through the regular notification procedures of the Committees on Appropriations; and (2) Zaire, Sudan, Liberia, and Guatemala.']\n",
      "['hr3610-104.8', '2', '94', '52', '10', '9', '15', '1', '2', '0', 'Title V: General Provisions - Sets forth limits on the use of appropriations identical or very similar to restrictions enacted in the Foreign Operations, Export Financing, and Related Programs Appropriations Act, 1996 (P.L. 104-107), notably with respect to: (1) countries supporting the Arab boycott of Israel, Cuba, Iraq, Iran, Liberia, Montenegro, the Palestine Liberation Organization, Serbia, terrorist countries or countries supporting terrorism or giving sanctuary to war criminals; and (2) financial incentives to induce a business to relocate outside the United States or assistance to develop certain kinds of export processing zones in foreign countries.']\n",
      "['hr3610-104.9', '2', '36', '28', '1', '1', '11', '1', '0', '0', '(Sec. 520) Prohibits the use of funds for Colombia, Guatemala (except for development assistance), the Dominican Republic, Haiti, Liberia, Pakistan, Peru, Serbia, Sudan, or Zaire, except through the regular notification procedures of the Committees on Appropriations.']\n",
      "['hr3610-104.10', '2', '44', '20', '4', '6', '3', '0', '1', '2', '(Sec. 567) Waives certain restrictions and authorizes the availability of funds for the Guatemalan military forces only if the President certifies to the Congress that the Guatemalan military is cooperating fully with efforts to resolve human rights abuses and to negotiate a peace settlement.']\n",
      "['hr3610-104.11', '2', '27', '14', '3', '5', '3', '0', '1', '2', '(Sec. 570) Imposes certain economic sanctions against Burma until the President certifies to the Congress that Burma has made progress in improving human rights and implementing democracy.']\n",
      "['hr3610-104.12', '2', '69', '31', '10', '9', '2', '2', '0', '0', \"(Sec. 579) Requires the Secretary of the Treasury to instruct the U.S. Executive Director of each international financial institution to vote against any loan or other use of the institution's funds, other than to address basic human needs, for the government of any country with a known history of female genital mutilation which has not made the practice illegal or taken steps to implement educational programs to prevent it.\"]\n",
      "['hr3610-104.13', '2', '48', '27', '5', '3', '6', '0', '0', '0', \"(Sec. 580) Requires the Secretary of State's annual report to the Congress on voting practices at the UN to include a side-by-side comparison of individual countries' overall support for the United States at the UN and the amount of U.S. assistance provided to such country in FY 1996.\"]\n",
      "['hr3610-104.14', '2', '42', '20', '1', '5', '5', '1', '0', '2', '(Sec. 581) Prohibits the use of funds under this Act to pay any voluntary U.S. contribution to the UN unless the President certifies to the Congress that the UN is not making any effort to impose any taxation on any U.S. persons.']\n",
      "['hr3610-104.15', '2', '25', '14', '3', '2', '3', '0', '1', '0', \"(Sec. 585) Directs the Secretary of State to report to the Committee on Appropriations about certain military activities of the Democratic People's Republic of Korea.\"]\n",
      "['hr3610-104.16', '2', '41', '24', '2', '4', '4', '0', '0', '1', '(Sec. 587) Withholds specified funds from Mexico until the President reports to the Congress that Mexico is taking action to reduce the flow of illegal drugs to the United States as well as enforce its laws against narcotic trafficking and money-laundering.']\n",
      "['hr3610-104.17', '2', '53', '25', '5', '5', '5', '1', '1', '0', '(Sec. 611) Amends the NATO Participation Act of 1994 to establish a presidential and congressional procedure for termination of eligibility for assistance for Partnership for Peace countries which: (1) no longer meet certain eligibility criteria; (2) are hostile to the NATO alliance; or (3) pose a national security threat to the United States.']\n",
      "['hr4775-107.1', '6', '270', '144', '26', '30', '19', '3', '2', '1', \"Title II: American Servicemembers' Protection Act - American Servicemembers' Protection Act of 2002 - Prohibits U.S. cooperation with the International Criminal Court. Specifies restrictions on: (1) participation by covered U.S. persons in United Nations (UN) peacekeeping and peace enforcement operations; (2) transfer to the Court of U.S. classified national security and law enforcement information; and (3) the provision of U.S. military assistance, with specified exceptions, to the government of a country that is a party to the Court.(Sec. 2003) Prescribes conditions for a presidential waiver of the prohibitions and requirements of this Act.(Sec. 2004) Declares that the requirements of this Act shall not prohibit: (1) any action authorized by the President to bring about the release from captivity of any U.S. military personnel (covered U.S. persons) and certain other persons (covered allied persons) who are being detained or imprisoned against their will by or on behalf of the Court; or (2) communication by the United States of its policy with respect to a matter. Authorizes the President to use all means necessary (including the provision of legal assistance) to bring about the release of covered U.S. persons and covered allied persons held captive by, on behalf, or at the request of the Court.(Sec. 2009) Urges the President to report to appropriate congressional committees on the degree to which: (1) each military alliance to which the United States is a party may place U.S. armed forces under foreign control subject to the Court's jurisdiction; and (2) U.S. armed forces engaged in military operations pursuant to such alliance may be exposed to greater risks as a result of being placed under such foreign control.\"]\n",
      "['hr4775-107.2', '5', '141', '75', '17', '23', '9', '2', '1', '0', '(Sec. 601) Makes specified funds appropriated by this and other Acts available to support the Colombian Government\\'s unified campaign against narcotics trafficking and certain terrorist organizations, subject to reports by the Secretary to Congress that the President of Colombia has committed, in writing, to comprehensive policies to combat illicit drug cultivation and trafficking, reform the Colombian Armed Forces, and commit sufficient resources to fulfill the country\\'s previous commitments under \"Plan Colombia.\" Terminates funding if the Secretary has credible evidence that vigorous efforts are not being made to restore government authority and human rights in guerilla-controlled areas. Prohibits U.S. contractors or armed forces from participating in any combat operations.(Sec. 305) Permits the use of DOD funds available for assistance to Colombia to be used to combat narcotics trafficking and terrorist organization activity as well as emergency rescue and health and welfare actions.']\n",
      "['hr4775-107.3', '1', '36', '18', '5', '4', '3', '0', '0', '1', '(302) Authorizes the President to continue to provide assistance to Russia under cooperative threat reduction programs and the Freedom Support Act under an alternative certification requirement if such assistance is vital to U.S. national security interests']\n",
      "['hr2494-101.1', '4', '146', '78', '12', '16', '14', '2', '0', '2', 'Prohibits the Bank from providing any export financing, loans, or financial services to China. Waives such prohibitions with respect to food or agricultural commodities. Authorizes the President to waive such prohibitions if he reports to the Congress that: (1) the Chinese Government has made progress on a program of political reform in China and Tibet; or (2) it is in the U.S. national interest to terminate such suspension. Expresses the sense of the Congress that the President should: (1) instruct the U.S. Executive Directors of the World Bank and the Asian Development Bank to oppose the extension of any financial or technical assistance to China; and (2) consider China to be a country engaging in gross violations of human rights for purposes of the International Financial Institutions Act until the President determines that the repression and reprisals against persons in connection with prodemocracy demonstrations has ended.']\n",
      "['hr2494-101.2', '1', '89', '44', '11', '14', '5', '2', '1', '2', 'Prohibits the Bank from guaranteeing, insuring, or extending credit in connection with the exports of goods (other than food or agricultural commodities) or services to Angola until the President certifies to the Congress that free and fair elections have been held in Angola and that the Angolan Government: (1) is seeking to achieve an equitable political settlement of conflict through a mutual cease-fire and a dialogue with opposition armed forces; and (2) has demonstrated progress in protecting human and worker rights and other attributes of political pluralism and democracy.']\n",
      "['hr2494-101.3', '1', '72', '40', '10', '7', '6', '1', '1', '2', 'Expresses the sense of the Congress that the Secretary should instruct certain multilateral lending institutions to: (1) act promptly upon requests by Poland for the establishment of financial institutions and businesses involved in credit and financial services in Poland; and (2) propose that such institutions prohibit financial assistance or debt forgiveness to Poland until the Polish Government allows privately owned entities in foreign countries to invest in private commercial ventures in Poland.']\n",
      "['hr5006-102.1', '5', '127', '76', '7', '11', '12', '1', '0', '2', 'Declares that the President should encourage countries that conduct trade with Cuba to restrict their trade and credit regulations with Cuba in a manner consistent with this Act. Authorizes the President to impose the following sanctions against countries that provide assistance to Cuba: (1) ineligibility for assistance under the Foreign Assistance Act of 1961 or the Arms Export Control Act; and (2) ineligibility for forgiveness or reduction of debt owed to the U.S. Government. Terminates such sanctions if the President reports to the Congress that Cuba has met conditions established under this Act concerning democracy, human rights, and a free market economy. Prohibits restrictions on the export to Cuba of medicines, subject to specified conditions and inspection requirements. Permits telecommunications services between the United States and Cuba.']\n",
      "['hr5006-102.2', '11', '465', '238', '49', '43', '25', '2', '3', '0', \"Title XVI: Iran-Iraq Arms Non-Proliferation Act of 1992 - Iran-Iraq Arms Non-Proliferation Act of 1992 - States that it shall be U.S. policy to oppose, and urgently seek the agreement of other nations to oppose, the transfer to Iran or Iraq of goods or technology, including dual-use goods or technology, whenever such transfer could contribute to either country's acquiring chemical, biological, nuclear, or destabilizing numbers and types of advanced conventional weapons. Directs the President to apply to Iran and Iraq, as well as countries assisting them in acquiring weapons of mass destruction, all of the applicable sanctions and controls available to the United States under all applicable Acts, laws, and statutes regarding the non-proliferation of weapons of mass destruction and the means of their delivery. Directs the President to: (1) urgently seek the agreement of other nations to adopt and institute such sanctions and controls as are comparable to those of the United States; and (2) identify publicly any country or person that transfers goods or technology to Iran or Iraq in a manner contrary to stated policy. Provides that sanctions against Iraq under the Iraq Sanctions Act of 1990 shall apply to Iran in the same manner. Prohibits, for two years, U.S. procurement of goods from, and approval of export licenses for, any person transferring goods or technology so as to contribute to Iran or Iraq's acquisition of destabilizing numbers and types of advanced conventional weapons. Authorizes the President, for any period of time, to prohibit the importation of any articles which are the product, manufacture, or growth of the sanctioned person. Provides identical mandatory and discretionary sanctions against the government of any foreign country that transfers goods or technology to contribute to Iran or Iraq's acquisition of destabilizing numbers and types of advanced conventional weapons. Imposes the following mandatory sanctions against foreign country violators: (1) suspension of U.S. assistance for one year; (2) opposition to the extension of financial or technical assistance by international financial institutions for one year; (3) suspension for one year of U.S. obligations under any memorandum of understanding for the codevelopment or coproduction of items on the U.S. Munitions List; (4) suspension for one year of any technical exchange agreement involving military and dual-use technology; and (5) prohibition for one year of exportation to such country of any item on the U.S. Authorizes the President to impose the following discretionary sanctions with respect to foreign governments: (1) suspension of most-favored nation status; and (2) prohibition on transactions involving property in which the sanctioned country has an interest (except for urgent humanitarian assistance). Waives any sanction under this Act if the President reports to the appropriate congressional committees that such sanction would jeopardize national security interests. Requires the President to report annually to such committees on any transfers made and sanctions taken.\"]\n",
      "['hr5006-102.3', '11', '461', '229', '48', '69', '37', '2', '5', '1', \"Title XVII: Cuban Democracy Act of 1992 - Cuban Democracy Act of 1992 - Sets forth U.S. policy with respect to Cuba. Prohibits: (1) vessels carrying goods or passengers to or from Cuba or carrying goods in which a Cuban national has an interest from entering a U.S. port, except as authorized by the Secretary of the Treasury; and (2) specified commodities authorized to be exported under a general license from being exported under such a license to any such vessels. Directs the President to establish strict limits on remittances to Cuba by U.S. persons for purposes of financing the travel of Cubans to the United States to assure that such remittances are not used by the Cuban Government as a means of gaining access to U.S. currency. Declares that food, medicine, and medical supplies for humanitarian purposes should be made available to Cuba under the Foreign Assistance Act of 1961 and the Agricultural Trade Development and Assistance Act of 1954 if the President certifies to the House Foreign Affairs Committee and the Senate Foreign Relations Committee that the Government of Cuba: (1) has made a commitment to hold free and fair elections for a new government within six months and is proceeding to implement that decision; (2) has made a commitment to respect and is respecting human rights and basic democratic freedoms; and (3) is not providing weapons or funds to any group in any other country that seeks the violent overthrow of the government of such country. Waives sanctions against Cuba under this Act if the President reports to the Congress that Cuba: (1) has held free and fair elections conducted under internationally recognized observers; (2) has permitted opposition parties ample time to campaign for such elections and has permitted full access to the media to all candidates; (3) is showing respect for basic civil liberties and human rights; (4) is moving toward establishing a free market economic system; and (5) has committed itself to constitutional change that would ensure regular free and fair elections. Requires the President, if he makes such report, to take the following actions with respect to a freely-elected Cuban Government: (1) encourage the admission of such government to international organizations and financial institutions; (2) provide emergency relief during Cuba's transition to a viable economic system; and (3) take steps to end the U.S. trade embargo of Cuba. Requires the U.S. Postal Service to provide direct mail service to and from Cuba. Authorizes the President to provide assistance to promote nonviolent democratic change in Cuba. Prohibits the issuance of licenses for certain transactions between U.S.-controlled firms in third countries and Cuba. Prohibits vessels which enter Cuba to engage in trade from loading or unloading any freight in the United States within 180 days after departure from Cuba.\"]\n",
      "['hr5006-102.4', '3', '71', '35', '12', '8', '3', '2', '0', '2', 'Prohibits any DOD prime contract in excess of the small purchase threshold from being awarded to any foreign person, company, or entity unless such entity certifies to the Secretary that it does not comply with the secondary Arab boycott of Israel. Authorizes the Secretary to waive such prohibition in specific instances when necessary for national security, requiring notice to the Congress of each such waiver. Provides other exceptions to such prohibition.']\n",
      "['hr5006-102.5', '2', '48', '26', '6', '7', '1', '0', '2', '1', 'Prohibits the Secretary from procuring a sonobuoy in a foreign country unless U.S. firms that manufacture sonobuoys are permitted to compete on an equal basis with foreign manufacturing firms for the sale of such buoys in that foreign country. Provides a waiver in the interest of national security.']\n",
      "['hr5006-102.6', '3', '105', '54', '12', '12', '5', '2', '0', '2', 'Subtitle B: Findings and Program Authority - Authorizes the President to establish and conduct programs to assist in the demilitarization of the independent states of the former Soviet Union. States that such programs shall include the transportation, storage, safeguarding, and destruction of weapons of mass destruction, as well as the conversion of weapons-related scientific expertise, technologies, and capabilities into appropriate civilian activities. Prohibits any such U.S. assistance unless the President certifies annually to the Congress that the recipient country is committed to destroying its weapons of mass destruction, forgoing any nuclear weapons or military modernization programs, and facilitating U.S. verification of any weapons destruction carried out.']\n",
      "['hr5368-102.1', '2', '105', '54', '7', '13', '10', '2', '0', '2', 'Prohibits the use of funds appropriated by this Act to provide assistance to any country that is not in compliance with the United Nations Security Council sanctions against Iraq unless the President certifies to the Congress that such assistance: (1) is in the U.S. national interest; (2) will directly benefit the needy people in such country; or (3) will be humanitarian assistance for foreign nationals who have fled Iraq and Kuwait. Authorizes the President to prohibit the importation into the United States of products of any foreign country that has not prohibited the importation of Iraqi products and the export of its products to Iraq.']\n",
      "['hr5368-102.2', '2', '60', '33', '3', '9', '5', '0', '0', '0', 'Authorizes the President to direct the drawdown of defense articles and services and military education and training for Cambodia and Laos to support efforts to locate and repatriate members of the U.S. armed forces and civilians employed by the U.S. Government who remain unaccounted for from the Vietnam War and to support humanitarian projects associated with POW/MIA efforts. Authorizes appropriations.']\n",
      "['hr5368-102.3', '1', '13', '10', '2', '0', '8', '0', '0', '0', 'Prohibits foreign military financing for Zaire, Sudan, Liberia, Somalia, Guatemala, Peru, and Malawi.']\n",
      "['hr5368-102.4', '2', '103', '63', '10', '6', '8', '1', '0', '0', 'Limits: (1) the amount of foreign military financing for the procurement of defense articles and services not sold by the U.S. Government for countries other than Israel and Egypt; (2) the amount of funds for administering military assistance and sales; (3) foreign military financing for Greece, Turkey, and Portugal; and (4) obligations with respect to the Special Defense Acquisition Fund. Permits the procurement of defense articles and services or design and construction services not sold by the U.S. Government only by countries for which assistance was justified for the foreign military financing program in the FY 1989 congressional presentation for security assistance programs.']\n",
      "['hr5368-102.5', '2', '19', '9', '4', '3', '1', '0', '0', '0', 'Provides for U.S. opposition to assistance to terrorist countries by international financial institutions. Prohibits bilateral assistance to such countries.']\n",
      "['hr5368-102.6', '1', '28', '12', '2', '3', '5', '0', '0', '0', 'Expresses the sense of the Congress that the President should instruct the U.S. representatives to the IMF and World Bank to provide financial and technical assistance to Armenia.']\n",
      "['hr5368-102.7', '2', '63', '32', '6', '11', '5', '1', '0', '1', 'Directs the President to report to the appropriate congressional committees that the United States has entered into serious discussions with Russia to reduce exports of conventional weapons to Iran and to prevent sales to Iran of destabilizing numbers and types of such weapons. Prohibits assistance to Russia under this Act unless the report has been made or it is in the national interest.']\n",
      "['hr5368-102.8', '1', '49', '23', '5', '6', '3', '0', '0', '1', 'Authorizes the President to transfer a specified dollar amount of defense articles to Bosnia Herzegovina if he certifies to the Congress that: (1) such articles would assist that nation in self-defense and promote security and stability; and (2) U.S. allies are prepared to join in a military assistance effort.']\n",
      "['hr5368-102.9', '5', '218', '128', '20', '27', '10', '3', '0', '2', \"Authorizes development and ESF assistance for Guatemala for FY 1993 to be: (1) provided to and used only by civilian government agencies and nongovernmental organizations; (2) used for costs of retraining, relocation, and reemployment in civilian pursuits of former combatants and noncombatants affected by the conflict in Guatemala; and (3) used for costs of monitoring activities associated with specified peace accords. Requires such assistance to be targeted for assistance for programs that address poverty, basic needs, and environmental concerns; to improve the performance of democratic institutions or to promote pluralism; for the National Reconciliation Commission; for fiscal reform and administration; or for programs that promote trade and investment. Prohibits the use of such assistance for partisan political purposes or as an instrument of counterinsurgency. Releases funds for retraining, relocation, and reemployment of individuals affected by the conflict and for the monitoring of peace accords only upon notification by the President to the appropriate congressional committees that the Guatemalan Government and representatives of the Guatemalan National Revolutionary Unity (URNG) have signed an agreement providing for a lasting peace agreement. Directs the President, prior to submitting any notification for assistance for Guatemala in FY 1993, to take into consideration Guatemala's progress toward eliminating human rights violations and in investigating and bringing to trial those responsible for major human rights cases.\"]\n",
      "['hr5368-102.10', '1', '72', '42', '4', '9', '10', '2', '0', '2', 'Prohibits any funds made available by this Act to carry out the Foreign Assistance Act of 1961 or the Arms Export Control Act to be made available for Jordan unless the President certifies to the Congress that: (1) Jordan has taken steps to advance the peace process in the Middle East; (2) Jordan is in compliance with United Nations sanctions against Iraq; and (3) such assistance is in the U.S. national interest.']\n",
      "['hr5368-102.11', '1', '52', '31', '3', '4', '12', '2', '0', '2', 'Prohibits making any of the funds appropriated under this Act available to finance indirectly any assistance or reparations to Cuba, Iraq, Libya, Vietnam, Iran, Syria, North Korea, China, Laos, Jordan, or Yemen unless the President certifies that the withholding of these funds is contrary to the national interest of the United States.']\n",
      "['hr5368-102.12', '3', '53', '35', '6', '4', '2', '0', '0', '0', 'Amends the Arms Export Control Act to extend waiver authority with respect to reciprocal leasing agreements through FY 1993. Requires delivery of defense equipment (permitted under special authority during unforeseen emergencies) within 120 days of congressional notification. Sets forth additional notification requirements with respect to the transfer of excess defense equipment to NATO.']\n",
      "['hr5368-102.13', '2', '81', '36', '11', '11', '6', '0', '2', '0', \"Sets forth exceptions to such requirement. Expresses the sense of the Congress that: (1) the Arab League countries should renounce the primary boycott of Israel and the secondary and tertiary boycotts of American firms that have commercial ties with Israel; and (2) the President should take certain steps to renounce such boycotts, consider a country's participation in such boycotts when determining whether to sell weapons to the country, and encourage U.S. trading partners to prohibit businesses from complying with such boycotts.\"]\n",
      "['hr5368-102.14', '1', '137', '75', '7', '21', '6', '3', '0', '2', \"Prohibits funds appropriated by this Act to be obligated or expended to provide: (1) any financial incentive to a business enterprise currently located in the United States for purposes of inducing such enterprise to relocate outside the United States if such incentive is likely to reduce the number of employees in the United States because U.S. production is being replaced by the enterprise outside the United States; (2) assistance for developing any export processing zone or area in a foreign country in which the tax, tariff, labor, environment, and safety laws of that country do not apply to activities in the zone unless the President certifies that such assistance is not likely to cause a loss of jobs within the United States; or (3) assistance for any project that contributes to violations of internationally recognized workers' rights.\"]\n",
      "['hr5368-102.15', '2', '65', '34', '11', '10', '4', '1', '0', '1', 'Directs the President to report to the Congress when such equipment is used for such purposes. Permits the commercial leasing of defense articles (other than major defense equipment) by Israel, Egypt, NATO countries, and major non-NATO allies if the President determines that there are compelling foreign policy or national security reasons for those defense articles being provided by commercial lease rather than by government-to-government sale.']\n",
      "['hr5368-102.16', '3', '91', '50', '8', '5', '10', '1', '0', '1', 'Earmarks ESF and development assistance available for humanitarian and development assistance for Cambodian civilians. Terminates assistance to any Cambodian organization that is cooperating with the Khmer Rouge in their military operations. Requires the President to: (1) conduct an onsite assessment within Cambodia to determine the requirements for the development of infrastructure and for the eradication of explosive mines; and (2) report to the Speaker of the House and the President of the Senate on violations of the United Nations peace agreement by the Khmer Rouge and U.S. responses to such violations.']\n",
      "['hr5368-102.17', '1', '34', '21', '3', '3', '6', '0', '0', '1', 'Expresses the sense of the Congress that the recommended levels of ESF assistance for Egypt and Israel are based on their continued participation in the Camp David Accords and upon the Egyptian-Israeli peace treaty.']\n",
      "['hr5368-102.18', '1', '5', '4', '0', '0', '2', '0', '0', '0', 'Prohibits ESF assistance to Zaire.']\n",
      "['hr5368-102.19', '1', '13', '10', '0', '2', '2', '0', '0', '0', 'Limits the amount of ESF assistance for tied aid credits and for Peru.']\n",
      "['hr5368-102.20', '1', '48', '33', '3', '5', '5', '0', '0', '1', \"Withholds a specified amount of funds allocated for the Dominican Republic until the President reports to the Appropriations Committees on the steps taken by the Government of the Dominican Republic to improve respect for human rights of Haitian laborers engaged in the Dominican Republic's sugar cane harvesting industry.\"]\n"
     ]
    }
   ],
   "source": [
    "import csv\n",
    "\n",
    "tsv_file = open(\"/Users/Ashrakat/Desktop/sascat_excerpt.tsv\")\n",
    "read_tsv = csv.reader(tsv_file, delimiter=\"\\t\")\n",
    "all_lines=[]\n",
    "for line in read_tsv:\n",
    "    print(line)\n",
    "    all_lines.append(line)\n",
    "tsv_file.close() # we see here each row is now saved as a list, in a list: all_lines"
   ]
  },
  {
   "cell_type": "code",
   "execution_count": 62,
   "metadata": {},
   "outputs": [
    {
     "data": {
      "text/plain": [
       "\"Provides for the enforcement of all provisions of law that impose sanctions against countries engaged in gross violations of human rights and that support terrorism against Iraq. Calls on the President to seek multilateral cooperation to: (1) deny dangerous technologies to Iraq; and (2) induce Iraq to respect internationally recognized human rights and to allow international humanitarian and human rights organizations to have access to Iraq and Kuwait. Prohibits, as part of the sanctions against Iraq: (1) any sales to Iraq under the Arms Export Control Act; (2) the issuance of licenses for the export to Iraq of items on the U.S. Munitions List; (3) exports to Iraq of certain goods or technology listed under the Export Administration Act of 1979; (4) the issuance of licenses of authorizations under the Atomic Energy Act of 1954 for the export to Iraq of nuclear materials, facilities, and technology; (5) U.S. support for loans or financial or technical assistance to Iraq by international financial institutions; (6) the provision of credits and other assistance to Iraq through the Commodity Credit Corporation; and (7) the provision of assistance under the Foreign Assistance Act of 1961 and the Arms Export Control Act other than emergency medical and humanitarian assistance. Authorizes the President to waive any sanction within 60 days after certifying to the Congress that: (1) the Iraqi Government has demonstrated substantial improvement in respect for human rights; (2) the Iraqi Government is not acquiring, developing, or manufacturing ballistic missiles or chemical, biological, or nuclear weapons or components for such weapons, has forsworn the first use of such weapons, and is taking steps to dispose of such weapons; (3) the Iraqi Government does not support international terrorism; (4) the Iraqi Government is in compliance with international law; and (5) the President determines that such waiver is in U.S. national security interests. Requires the President to continue the trade embargo and other economic sanctions with respect to Iraq and Kuwait. Sets forth provisions concerning congressional notification with respect to the termination of sanctions. Prohibits any assistance made available pursuant to this Act to carry out the Foreign Assistance Act of 1961 or the Arms Export Control Act to be provided to any country that is not in compliance with the United Nations Security Council sanctions against Iraq unless the President certifies to the Congress that such assistance: (1) is in the U.S. national interest; (2) will directly benefit the needy people in such country; or (3) will be humanitarian assistance for foreign nationals who have fled Iraq and Kuwait. Authorizes the President, if the taking of such action would promote the effectiveness of economic sanctions against Iraq, to prohibit the importation into the United States of any products of a foreign country that has not prohibited the importation of Iraqi products into its customs territory and the export of products to Iraq. Prescribes civil and criminal penalties for violations of specified Executive Orders concerning sanctions against Iraq. Calls for the immediate and unconditional withdrawal of Iraqi forces from Kuwait. Supports the efforts of the United Nations Security Council and the imposition and enforcement of multilateral sanctions against Iraq. Calls on U.S. allies and other countries to bring about an end to Iraq's occupation of Kuwait. Condemns Iraq's human rights violations in Kuwait. Directs the President to keep the Congress fully informed and to consult with the Congress with respect to current and anticipated events regarding Iraq's invasion of Kuwait. Permits the President to waive any sanction within 30 days after certifying to the Congress that: (1) there has been a fundamental change in the leadership of the Iraqi Government; and (2) the Iraqi Government has provided assurances that it respects human rights, will not acquire, manufacture, or use and will destroy chemical, biological, or nuclear weapons and ballistic missiles, will not provide support for international terrorism, and will comply with obligations under international law. Prohibits the use of funds appropriated by any Act to approve the licensing for export of any supercomputer to any country that is assisting Iraq in improving rocket technology or chemical, biological, or nuclear weapons capability. Directs the President to begin negotiations with governments with which the United States has bilateral supercomputer agreements on conditions restricting the transfer to Iraq of supercomputer or associated technology. Requires the President to study and report to specified congressional committees on: (1) the sale, export, and third party transfer or development of nuclear, biological, chemical, and ballistic missile technology to or with Iraq; (2) Iraq's offensive military capability and its effect on the Middle East balance of power; and (3) steps taken by other nations to curtail the export of goods, services, and technologies to Iraq that might enhance Iraq's nuclear, biological, chemical, and ballistic missile capability. Directs the President to provide a complete accounting of international compliance with each of the United Nations Security Council sanctions resolutions against Iraq and to list each country that has provided any assistance to Iraq and the amount and type of assistance in violation of each United Nations resolution.\""
      ]
     },
     "execution_count": 62,
     "metadata": {},
     "output_type": "execute_result"
    }
   ],
   "source": [
    "#let's look at where text is, row 2, cell 11:\n",
    "\n",
    "all_lines[1][10]"
   ]
  },
  {
   "cell_type": "code",
   "execution_count": 63,
   "metadata": {},
   "outputs": [
    {
     "data": {
      "text/plain": [
       "['id-snippet',\n",
       " 'n-sentences',\n",
       " 'n-words',\n",
       " 'n-nouns',\n",
       " 'n-adj',\n",
       " 'n-verbs',\n",
       " 'n-entities',\n",
       " 'n-vague',\n",
       " 'n-concrete',\n",
       " 'n-conditionals',\n",
       " '']"
      ]
     },
     "execution_count": 63,
     "metadata": {},
     "output_type": "execute_result"
    }
   ],
   "source": [
    "all_lines[0][10]# we do not need top row - it has datanames (after pop, all_lines[0][10] will produce text above, formerly all_lines[1][10])\n",
    "all_lines.pop(0)"
   ]
  },
  {
   "cell_type": "code",
   "execution_count": 64,
   "metadata": {
    "collapsed": true
   },
   "outputs": [],
   "source": [
    "#let's open a new file, then a loop, then write each line as we process the relevant cell and close\n",
    "#f1 = open(\"sascat_women.txt\",\"w\",encoding=\"utf8\") -> f1.write(\"something\") in a loop, with lines and tabs,\n",
    "#I will also write a new function:\n",
    "#note where argument appears\n",
    "# and then f1.close(), let's try"
   ]
  },
  {
   "cell_type": "code",
   "execution_count": 65,
   "metadata": {
    "collapsed": true
   },
   "outputs": [],
   "source": [
    "#and note that I used y in function now to avoid clash with x I use in the bigger loop\n",
    "#and note that what I want returned is a string of the number of times mentioned and the list with mentions\n",
    "\n",
    "def women_mentions(argument):\n",
    "    female_dict=[\"woman\",\"women\",\"female\",\"girl\",\"girls\"]\n",
    "    all_women=[]\n",
    "    for word in female_dict:\n",
    "        all_women.extend([y for y in clean_sanctions(argument).split() if y==word])\n",
    "    return (str(len(all_women)),all_women)"
   ]
  },
  {
   "cell_type": "code",
   "execution_count": 66,
   "metadata": {},
   "outputs": [
    {
     "name": "stdout",
     "output_type": "stream",
     "text": [
      "('0', [])\n"
     ]
    }
   ],
   "source": [
    "#good to check\n",
    "print(women_mentions(all_lines[0][10]))"
   ]
  },
  {
   "cell_type": "code",
   "execution_count": 67,
   "metadata": {
    "collapsed": true
   },
   "outputs": [],
   "source": [
    "f1 = open(\"sascat_women.txt\",\"w\",encoding=\"utf8\")\n",
    "\n",
    "# remember all_lines is the big list and now x will be the nested list (row) on each iteration\n",
    "# we need to save: id-snippet identifier, and the product of the search for women in 11th column\n",
    "\n",
    "for x in all_lines:\n",
    "    f1.write(x[0]+\"\\t\"+str(women_mentions(x[10]))+\"\\n\")\n",
    "\n",
    "f1.close()"
   ]
  },
  {
   "cell_type": "code",
   "execution_count": 68,
   "metadata": {
    "collapsed": true
   },
   "outputs": [],
   "source": [
    "#ok so we are done.  Note that file has no variable names, you can change script to add this as first row of file\n",
    "#when writing or you can add manually later\n",
    "#note that file will have an extra, blank new line at the end - we always end with +\"\\n\" - this is no big deal\n",
    "#it can be avoided if you check for wether you are near the end of your list - but too much work for paltry reward\n",
    "\n"
   ]
  },
  {
   "cell_type": "code",
   "execution_count": 69,
   "metadata": {
    "collapsed": true
   },
   "outputs": [],
   "source": [
    "#note also: with women_mentions(), you now have a FN within  a FN -> so to run this, makes sure clean_sanctions() is defined  before women_mentions() is executed!"
   ]
  },
  {
   "cell_type": "markdown",
   "metadata": {},
   "source": [
    "# Session outline:\n",
    "\n",
    "1. Go over homework 4\n",
    "2. Managing Data with Pandas\n",
    "3. Manipulating Data with Pandas\n",
    "4. Mini visualization\n",
    "4. Short intro to Numpy "
   ]
  },
  {
   "cell_type": "markdown",
   "metadata": {},
   "source": [
    "# Lets load our needed libraries"
   ]
  },
  {
   "cell_type": "code",
   "execution_count": 1,
   "metadata": {
    "collapsed": true
   },
   "outputs": [],
   "source": [
    "import numpy as np\n",
    "from numpy import *\n",
    "from numpy import random # random data\n",
    "import csv\n",
    "import pandas as pd\n",
    "import matplotlib.pyplot as plt\n",
    "%matplotlib inline\n",
    "from nltk.corpus import stopwords"
   ]
  },
  {
   "cell_type": "markdown",
   "metadata": {},
   "source": [
    "# Pandas"
   ]
  },
  {
   "cell_type": "markdown",
   "metadata": {},
   "source": [
    "\n",
    "![pandas1](https://media.giphy.com/media/Wa5JDuv6kzoTC/giphy.gif)\n"
   ]
  },
  {
   "cell_type": "markdown",
   "metadata": {},
   "source": [
    "## Why is Pandas AMAZING?"
   ]
  },
  {
   "cell_type": "markdown",
   "metadata": {},
   "source": [
    "1. super easy loading in data\n",
    "2. easy data cleaning\n",
    "3. easy data manipulation\n",
    "4. easy merging and extraction\n"
   ]
  },
  {
   "cell_type": "markdown",
   "metadata": {},
   "source": [
    "### Lets learn to load data in pandas\n",
    "\n",
    "We are going to start with yesterdays data - German Sputnik Newspaper articles"
   ]
  },
  {
   "cell_type": "markdown",
   "metadata": {},
   "source": [
    "**Lets open the dataset from yesterday using Python's open function**"
   ]
  },
  {
   "cell_type": "code",
   "execution_count": 2,
   "metadata": {},
   "outputs": [
    {
     "data": {
      "text/plain": [
       "[['\"http://de.sputniknews.compolitik/20160107306965193-Lindner-Merkel-Migrationspolitik-Chaos-Einwanderungsgesetz\"',\n",
       "  '\"http://web.archive.org/web/20170227192503/https://de.sputniknews.com/amp/politik/20160107306965193-Lindner-Merkel-Migrationspolitik-Chaos-Einwanderungsgesetz/\"',\n",
       "  '20160107',\n",
       "  '\"FDP-Chef Lindner: Merkels Flüchtlingspolitik führt Europa ins Chaos\"',\n",
       "  '\"Der Satz „Wir schaffen das“ der Bundeskanzlerin ersetze kein Regierungshandeln, so Lindner. Seiner Meinung nach ist ein „rationales, humanitäres, europäisch abgestimmtes Einwanderungsgesetz“ nötig, welches eine systematisierte Registrierung von Flüchtlingen und deren legale Integration ermöglichen würde. Die CDU/CSU-Politiker hatten von Merkel wiederholt gefordert, den Migranten-Zustrom zu begrenzen. Doch die Kanzlerin hat sich bislang geweigert, eine Obergrenze für Flüchtlinge festzulegen, was die Grenzschließung für neu ankommende Migranten bedeuten würde.\"',\n",
       "  '\"OVER-THRESHOLD\"',\n",
       "  '\"flüchtlingen migranten flüchtlinge\"',\n",
       "  '70',\n",
       "  '0.572646110198091'],\n",
       " ['\"http://de.sputniknews.com/panorama/20150210/301052523.html\"',\n",
       "  '\"http://web.archive.org/web/20150315163311/http://de.sputniknews.com/panorama/20150210/301052523.html\"',\n",
       "  '20150210',\n",
       "  '\"Experte: Rund 1,3 Millionen wehrpflichtige Ukrainer nach Russland geflüchtet\"',\n",
       "  '\"In letzter Zeit sei knapp einer halben Million ukrainischer Bürger der Flüchtlingsstatus zuerkannt beziehungsweise befristetes Asyl gewährt worden. „Russland hat keine Pläne, die Grenze für andere zu schließen.“ Zugleich räumte Patruschew erhebliche Probleme bei der Unterbringung immer wieder eintreffender Flüchtlinge ein.\"',\n",
       "  '\"OVER-THRESHOLD\"',\n",
       "  '\"flüchtlingsstatus asyl flüchtlinge\"',\n",
       "  '43',\n",
       "  '0.549349509077681'],\n",
       " ['\"http://de.sputniknews.compolitik/20181117322994742-deutschland-spd-nahles-hartz-iv\"',\n",
       "  '\"http://web.archive.org/web/20181117160304/https://de.sputniknews.com/amp/politik/20181117322994742-deutschland-spd-nahles-hartz-iv/\"',\n",
       "  '20181117',\n",
       "  '\"So präzisiert Nahles ihre Idee für Hartz IV-Alternative\"',\n",
       "  '\"{                    \\\\\"vars\\\\\": {                        \\\\\"counterId\\\\\": \\\\\"27090206\\\\\"                    }                }                                    {                            \\\\\"requests\\\\\": {                                \\\\\"pageview\\\\\": \\\\\"http://web.archive.org/web/20181117160304/https://counter.yadro.ru/hit;RS_Total/Sputniki_Total/Sputniknews?u${ampdocUrl};r${documentReferrer};s${screenWidth}*${screenHeight}*32;h${title};${random}\\\\\"                            },                            \\\\\"triggers\\\\\": {                                \\\\\"track pageview\\\\\": {                                    \\\\\"on\\\\\": \\\\\"visible\\\\\",                                    \\\\\"request\\\\\": \\\\\"pageview\\\\\"                                }                            }                        }                    Alle NachrichtenPolitik                        ©                    REUTERS/ Hannibal HanschkeSo präzisiert Nahles ihre Idee für Hartz IV-Alternative12:51 17.11.2018(aktualisiert  13:05 17.11.2018) Zum KurzlinkDie SPD-Parteichefin Andrea Nahles hat in einem Gastbeitrag für die „Frankfurter Allgemeine Zeitung“ eine Ablösung des Hartz-IV-Systems durch höhere Mindestlöhne, Zuschüsse zu Sozialabgaben und Steuerboni gefordert.Beim Debattencamp in\\xa0Berlin vor einer Woche kündigte Nahles einen Komplettumbau des Sozialstaates sowie die Abschaffung von Hartz IV an, dessen monatlicher Satz 416 Euro beträgt. Nun konkretisiert sie ihre Vorstellungen: Viel weniger Menschen als heute sollen auf Grundsicherung angewiesen sein – es sei immer günstiger, Arbeit anstatt Arbeitslosigkeit zu finanzieren.>>>Weitere Sputnik-Artikel: EXKLUSIV: „Mein Schmerzpunkt“ – Ex-Partei-Chef übt Kritik an Politik der Grünen<<<                        ©                    AFP 2018/ DPA/ Arne Dedert„So verhindert Politik bedingungsloses Grundeinkommen“: Ex-Grünen-Chef – EXKLUSIVVor allem die Zahl von zwei Millionen Kindern, die in Hartz-IV-Haushalten lebten, müsse verringert werden. „Diese Erfahrung, ein ‚Hartz-IV-Kind‘ zu sein, prägt fürs Leben. Wir brauchen daher eine eigenständige Kindergrundsicherung, die Kinder aus der Sozialhilfe holt und Teilhabe schafft“, zitieren Nahles deutsche Medien.Ein besseres Wohngeld könne zudem verhindern, „dass Menschen angesichts explodierender Mieten in\\xa0die Grundsicherung getrieben werden“. Nahles kritisierte außerdem das in\\xa0der SPD-Kanzlerschaft vom Altkanzler Gerhard Schröder eingeführte System der Zusammenlegung von Arbeitslosen- und Sozialhilfe und forderte weniger Bürokratie und Härte.>>>Weitere Sputnik-Artikel: Schon wieder Bulgarien – Illegale Migration durch tausendfachen Verkauf von EU-Pässen<<<                        ©                    AP Photo/ Martin Meissner„Wir werden Hartz IV hinter uns lassen“: Nahles verspricht Komplettumbau des Sozialstaates„Zum Symbol für das Misstrauen des Staates gegenüber den Grundsicherungsbeziehern sind die Sanktionen geworden. Sie wirken, als würde den Leistungsbeziehern von vornherein unterstellt, betrügen zu wollen“.Der Bundeswirtschaftsminister, Peter Altmaier, wies die SPD-Forderungen nach einer Hartz-IV-Abschaffung in\\xa0einem Gespräch mit der Zeitung „Die Welt“ zurück.„Wir dürfen und werden Hartz IV nicht abschaffen. Solche Vorschläge sind hoch gefährlich und schaden der Zukunft unseres Landes“, zitieren deutsche Medien den CDU-Politiker.Diskussion\"',\n",
       "  '\"OVER-THRESHOLD\"',\n",
       "  '\"migration\"',\n",
       "  '884',\n",
       "  '0.549179266004771'],\n",
       " ['\"http://de.sputniknews.compolitik/20181109322907058-trump-usa-asyl\"',\n",
       "  '\"http://web.archive.org/web/20181123020955/https://de.sputniknews.com/amp/politik/20181109322907058-trump-usa-asyl/\"',\n",
       "  '20181109',\n",
       "  '\"Trump beschränkt drastisch Asylgewährung für illegale Migranten\"',\n",
       "  '\"{                    \\\\\"vars\\\\\": {                        \\\\\"counterId\\\\\": \\\\\"27090206\\\\\"                    }                }                                    {                            \\\\\"requests\\\\\": {                                \\\\\"pageview\\\\\": \\\\\"http://web.archive.org/web/20181123020955/https://counter.yadro.ru/hit;RS_Total/Sputniki_Total/Sputniknews?u${ampdocUrl};r${documentReferrer};s${screenWidth}*${screenHeight}*32;h${title};${random}\\\\\"                            },                            \\\\\"triggers\\\\\": {                                \\\\\"track pageview\\\\\": {                                    \\\\\"on\\\\\": \\\\\"visible\\\\\",                                    \\\\\"request\\\\\": \\\\\"pageview\\\\\"                                }                            }                        }                    Alle NachrichtenPolitik                        ©                    REUTERS/ Jose CabezasTrump beschränkt drastisch Asylgewährung für illegale Migranten15:43 09.11.2018(aktualisiert  17:36 09.11.2018) Zum KurzlinkUS-Präsident Donald Trump hat die Asylgewährung für illegale Migranten drastisch eingeschränkt. Das teilte der Staatschef vor der Presse mit.Wie Trump vor Journalisten sagte, hat er „gerade“ ein entsprechendes Dekret unterzeichnet. Demnach sollen nur noch Menschen Asyl beantragen können, die an einem offiziellen Grenzübergang in\\xa0die USA einreisen. Illegal Eingereiste würden kein Asyl beantragen dürfen.>>> Weitere Sputnik-Artikel: Trump erklärt, warum USA Migranten brauchen                        ©                    REUTERS/ Leah MillisTrump droht mit Schließung der Grenze zu MexikoDie Verweigerung des Rechts auf einen Asylantrag für illegale Migranten sei zeitweilig und betreffe die Ausländer, die die südliche US-Grenze zu Mexiko gesetzwidrig überschreiten würden, geht aus Trumps Proklamation hervor.„Ich treffe befristete Maßnahmen zum Einreisestopp für Ausländer, um das Problem der großen Anzahl von Migranten zu lösen, die über Mexiko kommen, um in\\xa0unser Land ohne richtige Dokumente einzureisen“.>>> Weitere Sputnik-Artikel: Bundestag beschließt Verschärfung des Asylgesetzes                        ©                    AFP 2018/ GERARD JULIENMauer reloaded: EU-Staaten errichten sechs neue „Berliner Mauern“Ein Einwanderer könne dennoch Asyl beantragen, wenn er sich an die US-Grenzbehörden wende, statt zu versuchen, in\\xa0die USA illegal zu gelangen.Laut Trump haben die ankommenden Migranten in\\xa0der Regel keine legalen Gründe, Asyl zu beantragen. Die Ankunft von einer großen Anzahl von Ausländern werde das US-Immigrationssystem überlasten und zur „Freilassung\\\\\" von Tausenden Ausländern innerhalb der USA“ führen.Zuvor hatte das US-Verteidigungsministerium seine Bereitschaft erklärt, bis zu 7000 Militärangehörige an der Grenze zwischen den USA und Mexiko zu stationieren. Trump verkündete, bis zu 15.000 Soldaten an die Grenze zu schicken, wo sich bereits 2100 Mitglieder der Nationalgarde der Vereinigten Staaten befinden.>>> Weitere Sputnik-Artikel: „Kein Menschenrecht auf Migration“: Österreich verlässt UN-Migrationspakt                        ©                    REUTERS/ Carlos Garcia RawlinsMigranten vs. US-Armee: Wer sind die Drahtzieher der Flüchtlingskarawane?Die Maßnahmen werden getroffen, weil eine Karawane mit Tausenden Menschen aus zentralamerikanischen Ländern sich den USA über das Territorium von Mexiko nähert. Weitere zwei Migrantengruppen bewegen sich aus Salvador in\\xa0Richtung USA.Nach Informationen der Nachrichtenagentur France-Presse bezeichnete die Bürgerrechtsorganisation American Civil Liberties Union die Pläne für eine Verschärfung des Asylrechts am Donnerstag als „illegal“. Das US-Recht erlaube Menschen einen Asylantrag unabhängig davon zu stellen, ob sie sich an einem Grenzübergang befinden oder nicht. Dies könne nicht durch ein Dekret „umgangen“ werden.Diskussion\"',\n",
       "  '\"OVER-THRESHOLD\"',\n",
       "  '\"einwanderer migranten asyl\"',\n",
       "  '998',\n",
       "  '0.548636683559343'],\n",
       " ['\"http://de.sputniknews.compolitik/20160306308285650-oesterreich-draengt-auf-deutsches-fluechtlingskontingent\"',\n",
       "  '\"http://web.archive.org/web/20181126055753/https://de.sputniknews.com/amp/politik/20160306308285650-oesterreich-draengt-auf-deutsches-fluechtlingskontingent/\"',\n",
       "  '20160306',\n",
       "  '\"Österreich drängt auf deutsches Flüchtlingskontingent\"',\n",
       "  '\"{                    \\\\\"vars\\\\\": {                        \\\\\"counterId\\\\\": \\\\\"27090206\\\\\"                    }                }                                    {                            \\\\\"requests\\\\\": {                                \\\\\"pageview\\\\\": \\\\\"http://web.archive.org/web/20181126055753/https://counter.yadro.ru/hit;RS_Total/Sputniki_Total/Sputniknews?u${ampdocUrl};r${documentReferrer};s${screenWidth}*${screenHeight}*32;h${title};${random}\\\\\"                            },                            \\\\\"triggers\\\\\": {                                \\\\\"track pageview\\\\\": {                                    \\\\\"on\\\\\": \\\\\"visible\\\\\",                                    \\\\\"request\\\\\": \\\\\"pageview\\\\\"                                }                            }                        }                    Alle NachrichtenPolitik                        ©                    AP Photo/ Boris Grdanoski Österreich drängt auf deutsches Flüchtlingskontingent09:56 06.03.2016(aktualisiert  09:57 06.03.2016) Zum KurzlinkDer österreichische Bundeskanzler Werner Faymann hat von Deutschland gefordert, eine Flüchtlingsquote von 400.000 Personen im Jahr einzuführen. Wenn alle EU-Länder dem Beispiel Österreichs folgen würden, könnte die EU, so Faymann, zwei Millionen Flüchtlinge aufnehmen.Im Jahr 2015 hatten etwa 90.000 Menschen in Österreich Asyl beantragt. 2016 will die Regierung die Zahl der positiv beschiedenen Asylanträge auf 37.500 beschränken.                        ©                    AFP 2018/ JOHN MACDOUGALLBundeskanzler Faymann: Merkel sollte Tageskontingente für Flüchtlinge einführen„Deutschland muss endlich Klarheit schaffen, sonst werden weiterhin Flüchtlinge Richtung Deutschland losziehen … Nimmt man den österreichischen Richtwert her, könnte Deutschland rund 400.000 Flüchtlinge als Kontingent nennen“, sagte Faymann im Gespräch mit der Zeitung Kurier.Im Jahr 2015 sind nach Angaben der Agentur Frontex rund 1,8 Million Migranten nach Europa gekommen. Experten zufolge handelt es sich um die größte Flüchtlingskrise seit dem Zweiten Weltkrieg.Diskussion\"',\n",
       "  '\"OVER-THRESHOLD\"',\n",
       "  '\"asyl flüchtlinge migranten asylanträge flüchtlingskrise\"',\n",
       "  '699',\n",
       "  '0.547926894577753'],\n",
       " ['\"http://de.sputniknews.compolitik/20151016304983995-warschau-gegen-merkels-fluechtlingsquote\"',\n",
       "  '\"http://web.archive.org/web/20181123212339/https://de.sputniknews.com/amp/politik/20151016304983995-warschau-gegen-merkels-fluechtlingsquote/\"',\n",
       "  '20151016',\n",
       "  '\"Migrationskrise: Warschau wehrt sich gegen Merkels Flüchtlingsquote\"',\n",
       "  '\"{                    \\\\\"vars\\\\\": {                        \\\\\"counterId\\\\\": \\\\\"27090206\\\\\"                    }                }                                    {                            \\\\\"requests\\\\\": {                                \\\\\"pageview\\\\\": \\\\\"http://web.archive.org/web/20181123212339/https://counter.yadro.ru/hit;RS_Total/Sputniki_Total/Sputniknews?u${ampdocUrl};r${documentReferrer};s${screenWidth}*${screenHeight}*32;h${title};${random}\\\\\"                            },                            \\\\\"triggers\\\\\": {                                \\\\\"track pageview\\\\\": {                                    \\\\\"on\\\\\": \\\\\"visible\\\\\",                                    \\\\\"request\\\\\": \\\\\"pageview\\\\\"                                }                            }                        }                    Alle NachrichtenPolitik                        ©                    REUTERS/ Fabrizio Bensch/FilesMigrationskrise: Warschau wehrt sich gegen Merkels Flüchtlingsquote15:10 16.10.2015Zum KurzlinkPolen tritt scharf gegen die von Angela Merkel vorgeschlagene, permanente und verpflichtende Verteilungsquote von Flüchtlingen unter EU-Ländern auf und wird dabei nicht nachgeben, wie Polens Außenminister Grzegorz Schetyna gegenüber dem Radiosender RMF FM erklärte.                        ©                    AFP 2018/ Frederick FlorinFlüchtlingskrise: Merkel und Hollande werben gemeinsam für Solidarität in EU“Wir werden nicht nachgeben. Wir bilden eine entscheidende Mehrheit in\\xa0der EU”, unterstrich Schetyna.Dem Außenminister zufolge sei die Flüchtlingssituation ein Problem der deutschen Innenpolitik, „deswegen werden stets Versuche unternommen, ein besseres Bild und Image zu schaffen“. „Dies beeinflusst jedoch keinesfalls europäische Entscheidungen“, so Schetyna weiter.„Wenn Europa sagt, dass wir sie (Flüchtlinge – d. Red.) weiterhin unter uns aufteilen und uns Quoten neuer Migrationsströme aufzwingen werden, wird es eine Katastrophe geben. Wir werden dem nicht zustimmen“, erklärte Polens Minister.                        ©                    REUTERS/ Kai PfaffenbachFlüchtlingskrise: Osteuropäer lehnen sich gegen EU-Kurs aufSchetyna ist der Ansicht, dass Europa in\\xa0erster Linie „eine Entscheidung über den Schutz von Außengrenzen sowie über Verteilungszentren, die politische Migranten aus dem Nahen Osten registrieren müssen, treffen, nicht aber einen automatischen Verteilungsmechanismus einführen soll“. Letzteren bezeichnete der Minister als Unsinn.Allein bis zum September sind laut der EU-Grenzschutzagentur „Frontex“ rund 630.000 Flüchtlinge in\\xa0die EU gekommen. Die EU-Kommission spricht von der schlimmsten Migrationskrise seit dem Zweiten Weltkrieg.Diskussion\"',\n",
       "  '\"OVER-THRESHOLD\"',\n",
       "  '\"flüchtlingen migrationskrise migranten flüchtlinge\"',\n",
       "  '805',\n",
       "  '0.544957398675781'],\n",
       " ['\"http://de.sputniknews.comkarikatur/20151020305076281\"',\n",
       "  '\"http://web.archive.org/web/20181201153825/https://de.sputniknews.com/amp/karikatur/20151020305076281/\"',\n",
       "  '20151020',\n",
       "  '\"Flüchtlingskrise: Ist Abriegeln eine Lösung?\"',\n",
       "  '\"{                    \\\\\"vars\\\\\": {                        \\\\\"counterId\\\\\": \\\\\"27090206\\\\\"                    }                }                                    {                            \\\\\"requests\\\\\": {                                \\\\\"pageview\\\\\": \\\\\"http://web.archive.org/web/20181201153825/https://counter.yadro.ru/hit;RS_Total/Sputniki_Total/Sputniknews?u${ampdocUrl};r${documentReferrer};s${screenWidth}*${screenHeight}*32;h${title};${random}\\\\\"                            },                            \\\\\"triggers\\\\\": {                                \\\\\"track pageview\\\\\": {                                    \\\\\"on\\\\\": \\\\\"visible\\\\\",                                    \\\\\"request\\\\\": \\\\\"pageview\\\\\"                                }                            }                        }                    Alle NachrichtenKarikaturFlüchtlingskrise: Ist Abriegeln eine Lösung?18:18 20.10.2015Zum KurzlinkThemen: Migrationsproblem in EuropaCSU-Politiker Markus Söder hat kürzlich ins Gespräch gebracht, die deutsche Grenze mit Zäunen abzusichern. Wird Bundeskanzlerin Angela Merkel zum Schließen der Grenzen gezwungen sein? Hält eine strengere Asylpolitik Flüchtlinge auf? Lassen sich Menschen, die vor Fassbomben fliehen, von ein paar Zäunen stoppen? Fragen, Fragen, Fragen...Diskussion\"',\n",
       "  '\"OVER-THRESHOLD\"',\n",
       "  '\"migrationsproblem asylpolitik flüchtlinge\"',\n",
       "  '522',\n",
       "  '0.544157704714578'],\n",
       " ['\"http://de.sputniknews.com/german.ruvr.ru/news/2014_01_06/Gro-britannien-will-EU-Freizugigkeit-verhindern-2651\"',\n",
       "  '\"http://web.archive.org/web/20150726055154/http://de.sputniknews.com/german.ruvr.ru/news/2014_01_06/Gro-britannien-will-EU-Freizugigkeit-verhindern-2651/\"',\n",
       "  '20140106',\n",
       "  '\"Großbritannien will EU-Freizügigkeit verhindern\"',\n",
       "  '\"Foto: EPA STIMME RUSSLANDS Die Regierung Großbritanniens habe vor, eine Revision der EU-Mitgliedschaftsbedingungen von der EU zu erlangen und die Sperrmaßnahmen gegenüber EU-Migranten zu verteidigen, sagte der britische Regierungschef David Cameron. Cameron zufolge wolle er die allgemeinen Grundsätze der EU nicht in Zweifel ziehen, halte allerdings das Recht der Migranten auf hohes Arbeitslosengeld und kostenlose Medizin in Großbritannien für unfair. Ab dem 1. Januar gilt für Rumänien und Bulgarien eine uneingeschränkte Freizügigkeit. Einschätzungen zufolge muss Großbritannien mit mindestens 300.000 Einwanderern rechnen.\"',\n",
       "  '\"OVER-THRESHOLD\"',\n",
       "  '\"migranten\"',\n",
       "  '83',\n",
       "  '0.544009923707647'],\n",
       " ['\"http://de.sputniknews.compolitik/20180813321937555-syrien-deutschland-fluechtlinge-rueckkehr-sanktionen\"',\n",
       "  '\"http://web.archive.org/web/20180813172522/https://de.sputniknews.com/amp/politik/20180813321937555-syrien-deutschland-fluechtlinge-rueckkehr-sanktionen/\"',\n",
       "  '20180813',\n",
       "  '\"Rückkehr von Flüchtlingen: Syrischer Minister appelliert an Deutschland\"',\n",
       "  '\"Der syrische Minister für lokale Verwaltung und Umwelt Hussein Makhlouf hat über Journalisten Deutschland zur Aufhebung der Sanktionen gegen Damaskus aufgerufen. Dies soll laut dem Politiker die Rückkehr der syrischen Flüchtlinge in ihre Heimat fördern. „Ich möchte mich über Sie an die deutsche Regierung wenden und bitten, die einseitigen Sanktionen gegen Syrien aufzuheben“, sagte Makhlouf sich an einen deutschen Journalisten wendend auf einer Pressekonferenz. Mehr zum Thema >>> UN-Flüchtlingskommissar tritt gegen Rückkehr von Flüchtlingen nach Syrien auf  Makhlouf, der auch Chef des syrischen Koordinierungsausschusses für Rückkehr der Flüchtlinge ist, betonte, im Fall einer Aufhebung der Sanktionen werde die Rückkehr der Flüchtlinge beschleunigt. Dies würde den Wideraufbau des Landes fördern. Mehr zum Thema >>> Russland forciert Rückkehr von Syrien-Flüchtlingen Zuvor hatte das russische Zentrum für Aufnahme, Verteilung und Unterbringung beim russischen Verteidigungsministerium mitgeteilt, mehr als 1,7 Millionen Syrer hätten den Wunsch geäußert, aus neun Gastländern in\\xa0ihre Heimat zurückzukehren. Die meisten Heimkehrwilligen halten sich jetzt im Libanon, in\\xa0der Türkei und in\\xa0Deutschland auf.\"',\n",
       "  '\"OVER-THRESHOLD\"',\n",
       "  '\"flüchtlingen flüchtlinge\"',\n",
       "  '163',\n",
       "  '0.543706912424414'],\n",
       " ['\"http://de.sputniknews.compolitik/20170219314606917-usa-verschaerfen-asyl-recht\"',\n",
       "  '\"http://web.archive.org/web/20170324060955/https://de.sputniknews.com/amp/politik/20170219314606917-usa-verschaerfen-asyl-recht/\"',\n",
       "  '20170219',\n",
       "  '\"USA verschärfen Asyl-Recht\"',\n",
       "  '\"Nach dem US-Gesetz „Immigration and Nationality Act“ muss ein Asylbewerber seine „begründete Angst“ vor Verfolgung aufgrund seiner Rasse, Religion, Nationalität, Mitgliedschaft in\\xa0einer bestimmten sozialen Gruppe oder politischer Meinung nachweisen. Der Kampf gegen illegale Migration war eines der Hauptthemen der Wahlkampagne des US-Präsidenten Donald Trump. Das von Trump Ende Januar unterzeichnete Terrorschutzgesetz, welches Bürgern aus sieben vorwiegend muslimischen Ländern die Einreise in\\xa0die USA zeitweilig verwehrt, löste landesweit\\xa0 und international heftige Kritik bis hin zu Massenprotesten aus. \\xa0\"',\n",
       "  '\"OVER-THRESHOLD\"',\n",
       "  '\"migration asylbewerber\"',\n",
       "  '79',\n",
       "  '0.543062751396791'],\n",
       " ['\"http://de.sputniknews.companorama/20151228306826925-daenemark-tritt-fuer-veraenderung-der-fluechtlingskonvention\"',\n",
       "  '\"http://web.archive.org/web/20181123231931/https://de.sputniknews.com/amp/panorama/20151228306826925-daenemark-tritt-fuer-veraenderung-der-fluechtlingskonvention/\"',\n",
       "  '20151228',\n",
       "  '\"Dänemark will die Flüchtlingskonvention ändern\"',\n",
       "  '\"{                    \\\\\"vars\\\\\": {                        \\\\\"counterId\\\\\": \\\\\"27090206\\\\\"                    }                }                                    {                            \\\\\"requests\\\\\": {                                \\\\\"pageview\\\\\": \\\\\"http://web.archive.org/web/20181123231931/https://counter.yadro.ru/hit;RS_Total/Sputniki_Total/Sputniknews?u${ampdocUrl};r${documentReferrer};s${screenWidth}*${screenHeight}*32;h${title};${random}\\\\\"                            },                            \\\\\"triggers\\\\\": {                                \\\\\"track pageview\\\\\": {                                    \\\\\"on\\\\\": \\\\\"visible\\\\\",                                    \\\\\"request\\\\\": \\\\\"pageview\\\\\"                                }                            }                        }                    Alle NachrichtenPanorama                        ©                    AP Photo/ Joachim LadefogdeDänemark will die Flüchtlingskonvention ändern14:44 28.12.2015(aktualisiert  16:32 28.12.2015) Zum KurzlinkDie Flüchtlingskrise hat Dänemark und Europa vor solche Herausforderungen gestellt, dass nun die UN-Flüchtlingskonvention von 1951 verändert werden muss, wie der dänische Regierungschef Lars Lökke Rasmussen dem Sender TV2 sagte.Wenn die Flüchtlingszahlen weiter ansteigen würden wie bisher, werde der Moment kommen, \\\\\"in dem wir über eine Anpassung der Spielregeln sprechen müssen\\\\\", sagte Rasmussen. Die Flüchtlingskonvention in\\xa0ihrer jetzigen Form entspreche nicht der heutigen globalisierten Welt.Die Konvention definiert den Begriff „Flüchtling“ und die Grundlagen, die für einen Asylantrag erforderlich sind. Einige Rechte, die Flüchtlinge genießen, gleichen denen der Bürger des Aufnahmestaates, andere – denen der Ausländer.                        ©                    REUTERS/ Michaela RehleDänemark besteht auf Konfiskationen: Flüchtlinge sollen Aufenthalt selber bezahlenAls die UN-Flüchtlingskonvention 1951 angenommen wurde, war Dänemark das erste Land, das sie unterzeichnet hat. Nun sei der Ministerpräsident der Auffassung, die von der Konvention auferlegten Verpflichtungen seien eine untragbare Bürde für Dänemark, schreibt die schwedische Zeitung Svenska Dagbladet.Eines der Probleme besteht laut Rasmussen darin, dass verschiedene Gruppen der Flüchtlinge verschiedene Regeln einhalten müssen. So gelten die verschärften Bedingungen für einen Familiennachzug nicht für alle. Die Fristen hängen davon ab, unter welchen Bedingungen das Asyl gewährt wurde.Die von Dänemark getroffenen Maßnahmen für die Reduzierung des Flüchtlingszustroms wirkten „inspirierend“ auf andere Staaten, so der dänische Ministerpräsident. Allerdings dürfe das Asylrecht als solches nicht abgeschafft werden. Dänemark habe nicht vor, alleine die Konvention außer Kraft zu setzen, Dänemark wolle gemeinsam mit anderen Staaten das System von innen verändern, erklärte Rasmussen. Eine der Forderungen könne sein, dass Flüchtlinge in\\xa0dem Land Asyl beantragen müssten, in\\xa0dem sie als erstes angekommen seien.                        ©                    AFP 2018/ Bulent KilicDänemark: Flüchtlinge mit mehr als 400 Euro werden zur Kasse gebetenMit Blick vor allem auf die syrischen Flüchtlinge fragte Ramussen: \\\\\"Wenn jemand, der Schutz vor Krieg sucht, zwei oder drei Jahre in\\xa0der Türkei gelebt hat, sollte er dann nach Europa gehen und dort Asyl beantragen?\\\\\" Die geltenden Regeln würden dies ermöglichen. \\\\\"Aber wir werden darüber eine Diskussion führen\\\\\", sagte er in\\xa0dem Fernsehinterview. In der Türkei leben nach Angaben Ankaras etwa zwei Millionen syrische Bürgerkriegsflüchtlinge.Das Wichtigste ist aus der Sicht des dänischen Politikers die Verständigung innerhalb Europas zu gewährleisten und eine einheitliche Sichtweise zu erarbeiten.„Dänemark kann nicht allein handeln, die anderen müssen auch teilnehmen. Ich kann doch ohne Zustimmung der anderen EU-Staaten das Ausweisungssystem nicht beschließen“, sagte Rasmussen.Diskussion\"',\n",
       "  '\"OVER-THRESHOLD\"',\n",
       "  '\"flüchtlingskrise asyl flüchtlinge\"',\n",
       "  '981',\n",
       "  '0.541940112273363'],\n",
       " ['\"http://de.sputniknews.compolitik/20160614310604740-maas-polygamie-verbot\"',\n",
       "  '\"http://web.archive.org/web/20171008021814/https://de.sputniknews.com/amp/politik/20160614310604740-maas-polygamie-verbot/\"',\n",
       "  '20160614',\n",
       "  '\"Glaube darf nicht über Gesetz stehen: Bundesjustizminister will Polygamie verbieten\"',\n",
       "  '\"Bundesjustizminister Heiko Maas will Mehrfach-Ehen unter muslimischen Migranten in Deutschland grundsätzlich die Anerkennung verweigern. Auch eine Gesetzesverschärfung gegen Zwangsehen mit minderjährigen Kindern sei notwendig.  Der Bundesjustizminister will der Anerkennung dieser Praxis in\\xa0Deutschland nun ein Ende bereiten. „Jeder muss sich an Recht und Gesetz halten, egal ob er hier aufgewachsen oder neu bei uns ist“, so Maas gegenüber der „Bild“-Zeitung. „Niemand, der zu uns kommt, hat das Recht, seine kulturelle Verwurzelung oder seinen religiösen Glauben über unsere Gesetze zu stellen“, sagte Maas zu „Bild“. „Deshalb dürfen in\\xa0Deutschland keine Mehrfach-Ehen anerkannt werden.\\\\\" Auch Zwangsehen mit minderjährigen Migranten müssen Maas zufolge in\\xa0Deutschland komplett verboten werden. Dazu sei eine Gesetzesverschärfung notwendig, um Kinder zu schützen. „Wir müssen das sehr sorgfältig prüfen. Zwangsehen dürfen wir nicht dulden, erst recht nicht, wenn minderjährige Mädchen betroffen sind“, so Maas.\"',\n",
       "  '\"OVER-THRESHOLD\"',\n",
       "  '\"migranten\"',\n",
       "  '135',\n",
       "  '0.539771426513455'],\n",
       " ['\"http://de.sputniknews.comgesellschaft/20181210323239903-menschenrechte-flucht-migration-pakt\"',\n",
       "  '\"http://web.archive.org/web/20181210233556/https://de.sputniknews.com/amp/gesellschaft/20181210323239903-menschenrechte-flucht-migration-pakt/\"',\n",
       "  '20181210',\n",
       "  '\"Gibt es ein Menschenrecht auf Migration?\"',\n",
       "  '\"{                    \\\\\"vars\\\\\": {                        \\\\\"counterId\\\\\": \\\\\"27090206\\\\\"                    }                }                                    {                            \\\\\"requests\\\\\": {                                \\\\\"pageview\\\\\": \\\\\"http://web.archive.org/web/20181210233556/https://counter.yadro.ru/hit;RS_Total/Sputniki_Total/Sputniknews?u${ampdocUrl};r${documentReferrer};s${screenWidth}*${screenHeight}*32;h${title};${random}\\\\\"                            },                            \\\\\"triggers\\\\\": {                                \\\\\"track pageview\\\\\": {                                    \\\\\"on\\\\\": \\\\\"visible\\\\\",                                    \\\\\"request\\\\\": \\\\\"pageview\\\\\"                                }                            }                        }                    Alle NachrichtenGesellschaft                        ©                    AP Photo/ Marko DrobnjakovicGibt es ein Menschenrecht auf Migration?20:01 10.12.2018Zum KurzlinkPaul LinkeMigration sei kein Menschenrecht, erklärte FPÖ-Chef Heinz-Christian Strache. Damit begründete er unter anderem den Rückzug Österreichs aus dem globalen Migrationspakt der Vereinten Nationen, der nun verabschiedet wurde. Hatte der österreichische Vizekanzler auch wirklich Recht? Zum 70. Jahrestag der UN-Menschenrechte klärt Sputnik auf.Am Montag feiert die Welt ein wichtiges Jubiläum. Die Menschenrechte werden 70 Jahre alt. Am 10. Dezember 1948 einigten sich die Mitglieder der Vereinten Nationen auf die „Allgemeine Erklärung der Menschenrechte“ (AEMR). Heute beziehen sich die meisten demokratischen Staaten auf dieses Dokument.Auch ein anderes Abkommen erblickte am Montag das Licht der Welt. Der sogenannte „Globale Pakt für eine sichere, geordnete und reguläre Migration“. Genau wie bei der Menschenrechtserklärung handelt es sich auch beim UN-Migrationspakt um eine\\xa0 „unverbindliche Vereinbarung“ der Vereinten Nationen. In Marrakesch haben am Montag 164 Staaten den umstrittenen Migrationspakt, an dem 192 Staaten beteiligt waren, offiziell verabschiedet. Die USA nahmen an den Verhandlungen gar nicht erst teil. Mehrere Regierungen lehnten das Papier in\\xa0den letzten Wochen ab. Darunter befinden sich Ungarn, Polen, Tschechien, Bulgarien, Australien, die Slowakei, Israel und Österreich.>>>Andere Sputnik-Artikel: Uno nimmt umstrittenen Migrationspakt an<<<FPÖ-Vize: „Migration ist kein Menschenrecht“Die österreichische Begründung für den Rückzug lautete unter anderem: „Migration ist und darf auch kein Menschenrecht werden“, sagte Vizekanzler Heinz-Christian Strache (FPÖ).                        ©                    AP Photo/ Olmo Calvo„Ein zynisches Spiel“ – Warum der Migrationspakt keine Lösung istDer Aussage stimmt auch Geschäftsmann und ÖVP-Mitglied, Freiherr Norbert van Handel, zu. Migration sei „natürlich“ kein Menschenrecht. „Wir haben eine ganz genaue Definition von Menschenrechten. Freie Meinung, Zugang zum ordentlichen Gericht.“ Auch Reisefreiheit sei zwar ein Menschenrecht, aber eine Reisefreiheit mit dem Ziel, sich in\\xa0einem Land auf Dauer niederzulassen, sei definitiv kein Menschenrecht, erklärte van Handel gegenüber Sputnik.Ob das auch so stimmt, wollte die Sputnik-Redaktion überprüfen. Als Migration versteht man zunächst allgemein eine „Abwanderung in\\xa0ein anderes Land, in\\xa0eine andere Gegend, an einen anderen Ort“, so die „Bedeutungsübersicht“ des Dudens. Damit stellt per Definition auch eine Flucht aus dem eigenen Land aus jedweden Gründen zunächst eine Migration dar.Asyl als MenschenrechtDie Allgemeine Erklärung der Menschenrechte besteht aus 30 Artikeln. Zwei davon beschäftigen sich direkt mit dem Begriff Migration. So der Artikel 13, der auf die Auswanderungsfreiheit eingeht. Dort heißt es dazu: „Jeder hat das Recht, jedes Land, einschließlich seines eigenen, zu verlassen und in\\xa0sein Land zurückzukehren.“Im Artikel 14, der das Menschenrecht auf Asyl beschreibt, heißt es: „Jeder hat das Recht, in\\xa0anderen Ländern vor Verfolgung Asyl zu suchen und zu genießen.“ Im Falle einer Strafverfolgung, „die tatsächlich auf Grund von Verbrechen nichtpolitischer Art oder auf Grund von Handlungen erfolgt, die gegen die Ziele und Grundsätze der Vereinten Nationen verstoßen“, könne jedoch dieses Recht nicht in\\xa0Anspruch genommen werden.So werde Migration zu einem Menschenrecht, spätestens wenn Menschenleben durch äußere Faktoren wie Krieg und andere Katastrophen in\\xa0Gefahr seien, bestätigt der Politikwissenschaftler von der Universität Wien, Prof. Dr. Otmar Höll, im Sputnik-Interview. „Wir haben die Genfer Flüchtlingskonvention, wir haben den Menschenrechtspakt, die in\\xa0diese Richtung weisen. Und tatsächlich sind sie völlig außer Streit zu stellen“, findet Höll.\\xa0 Er bemerkt zudem, dass Österreich seit einigen Monaten im UN-Menschenrechtsbeirat sitzt. Daher würden Straches Äußerungen und der Rückzug aus dem UN-Migrationspakt einen „Bruch mit der guten österreichischen Tradition“ bedeuten.Jedoch bezweifelt der Politologe, dass Migration zu einem Menschenrecht im völkerrechtlichen Sinn in\\xa0naher Zukunft werde könne. „Aber die Migration als solche wird man mit einer derartigen Ablehnung nicht anhalten können“, warnt Professor Höll.>>>Andere Sputnik-Artikel: Nachzug von Flüchtlingen in\\xa0Deutschland: Zahl der Visa weit unter Obergrenze<<<Flucht gleich Migration?Flüchtlinge würden nicht zu Migration gehören, behauptet gegenüber Sputnik der UNHCR-Pressereferent Martin Rentsch: „Per Definition fliehen sie vor Krieg, Folter und Menschenrechtsverletzungen. Das unterscheidet sie von Migranten.“                        ©                    AP Photo/ Emrah GurelAlleine alle Flüchtlinge in EU aufnehmen? – Berlin und Paris haben AngstDer Migrationsforscher von der Technischen Universität Dresden, Dr. Oliviero Angeli,\\xa0 definiert Flucht als „eine Form der Migration, aber nicht die einzige Form von Migration“. Es könne auch darüber diskutiert werden, wer unter dem Begriff Flüchtlinge allgemein verstanden werden kann, bemerkt Angeli. Die deutsche Regierung poche dabei sehr stark auf die Definition der Genfer Flüchtlingskonvention. Danach gilt als Flüchtling eine Person, die „aus der begründeten Furcht vor Verfolgung wegen ihrer Rasse, Religion, Nationalität, Zugehörigkeit zu einer bestimmten sozialen Gruppe oder wegen ihrer politischen Überzeugung sich außerhalb des Landes befindet, dessen Staatsangehörigkeit sie besitzt“.„Kein Recht, in\\xa0andere Länder einzuwandern“Die Frage nach der menschenrechtlichen Basis der Migration\\xa0 ist für Angeli „auf legaler Ebene relativ klar“: „Wir haben Rechte, uns innerhalb der Staaten frei zu bewegen oder aus den Staaten auszuwandern. Aber wir haben bis dato kein Recht, in\\xa0andere Länder einzuwandern. Aus moralischer Sicht kann man für dieses Recht eintreten, aber politisch ist es mittel- bis langfristig schwer umsetzbar“, erklärt der Migrationsforscher. Dass die UN-Menschenrechte bis heute keine rechtlich verbindliche Basis besitzen, schwäche die Position derjenigen, die sich für ein Recht auf Bewegungsfreiheit oder für ein Recht auf Einwanderung stark machen, betont Angeli. Dieses Recht müsse man erst in\\xa0der Menschenrechtskonvention stärker etablieren. „Doch dafür ist der politische Wille momentan nicht vorhanden“, so der Politikwissenschaftler Dr. Oliviero Angeli.Der „Globale Pakt für Migration“ wurde am Montag beim UN-Gipfeltreffen in\\xa0Marokko unterzeichnet. Das 34 Seiten umfassende Dokument soll dazu beitragen, Flucht und Migration besser zu organisieren.Das komplette Interview mit Dr. Oliviero Angeli zum Nachhören:Das komplette Interview mit Prof. Dr. Otmar Höll zum Nachhören:Diskussion\"',\n",
       "  '\"OVER-THRESHOLD\"',\n",
       "  '\"flüchtlingen asyl einwanderung flucht flüchtlinge flüchtling migration\"',\n",
       "  '1461',\n",
       "  '0.537197634217539'],\n",
       " ['\"http://de.sputniknews.compolitik/20151102305349847\"',\n",
       "  '\"http://web.archive.org/web/20181201040148/https://de.sputniknews.com/amp/politik/20151102305349847/\"',\n",
       "  '20151102',\n",
       "  '\"Kabul nimmt abgelehnte Asylbewerber aus Deutschland auf\"',\n",
       "  '\"{                    \\\\\"vars\\\\\": {                        \\\\\"counterId\\\\\": \\\\\"27090206\\\\\"                    }                }                                    {                            \\\\\"requests\\\\\": {                                \\\\\"pageview\\\\\": \\\\\"http://web.archive.org/web/20181201040148/https://counter.yadro.ru/hit;RS_Total/Sputniki_Total/Sputniknews?u${ampdocUrl};r${documentReferrer};s${screenWidth}*${screenHeight}*32;h${title};${random}\\\\\"                            },                            \\\\\"triggers\\\\\": {                                \\\\\"track pageview\\\\\": {                                    \\\\\"on\\\\\": \\\\\"visible\\\\\",                                    \\\\\"request\\\\\": \\\\\"pageview\\\\\"                                }                            }                        }                    Alle NachrichtenPolitik                        ©                    AP Photo/ Muhammed MuheisenKabul nimmt abgelehnte Asylbewerber aus Deutschland auf12:37 02.11.2015(aktualisiert  12:42 02.11.2015) Zum KurzlinkThemen: Migrationsproblem in EuropaDie afghanische Regierung hat erklärt, dass sie abgelehnte Asylbewerber aus Deutschland zurücknimmt, meldet Associated Press.Die Ankündigung der Bundesregierung, abgelehnte Asylbewerber aus Afghanistan künftig deutlich häufiger als bisher in\\xa0ihre Heimat abzuschieben, ist von der Regierung in\\xa0Kabul mit Erstaunen und Ablehnung kommentiert worden.                        ©                    AFP 2018/ Robert MichaelAufnahme der Flüchtlinge: „Trotz Finanzstärke – Probleme mentaler Art“ – SoziologeLaut dem afghanischen Minister für Flüchtlingsangelegenheiten, Sayed Hussain Alimi Balkhi weiß seine Regierung von einer solchen Entscheidung nichts. Er habe kürzlich erst einer deutschen Regierungsdelegation in\\xa0Genf gesagt, dass sich die Sicherheitslage in\\xa0Afghanistan verschlechtert habe.„Ich habe sie deshalb ausdrücklich darum gebeten, keine afghanischen Asylbewerber abzuschieben.“ Diese Bitte habe er auch im Gespräch mit dem deutschen Botschafter in\\xa0Afghanistan geäußert.                        ©                    REUTERS/ Kai PfaffenbachDeutschland: Über eine halbe Million Flüchtlinge bereits da - ZeitungDer Präsidentensprecher Safar Haschemi sagte, dass Afghanistan die Asylbewerber zuhause aufnehmen solle. Er fügte hinzu, dass Bundeskanzlerin Angela Merkel und der afghanische Präsident Ashraf Ghani diese Frage vor kurzem besprochen haben.Bis zu einer Million Flüchtlinge könnten in\\xa0diesem Jahr nach Deutschland kommen, wurde schon früher gemeldet. Nach den Angaben des afghanischen Ministeriums für Flüchtlinge und Repatriierung haben in\\xa0diesem Jahr 120.000 Menschen das Land verlassen.Diskussion\"',\n",
       "  '\"OVER-THRESHOLD\"',\n",
       "  '\"migrationsproblem asylbewerber flüchtlinge\"',\n",
       "  '801',\n",
       "  '0.536986114185067'],\n",
       " ['\"http://de.sputniknews.companorama/20170307314801061-EuGH-visa-urteil\"',\n",
       "  '\"http://web.archive.org/web/20170307115432/https://de.sputniknews.com/amp/panorama/20170307314801061-EuGH-visa-urteil/\"',\n",
       "  '20170307',\n",
       "  '\"EuGH-Urteil: Keine \\\\\"humanitären Visa\\\\\" in EU-Auslandsbotschaften\"',\n",
       "  '\"Die Behörde argumentierte, dass sich die Familie länger als die mit einem Visum bewilligten 90 Tage in\\xa0Belgien aufhalten wollte\\xa0— schließlich wollten die Syrer dort Asylanträge stellen. Zudem seien EU-Staaten nicht verpflichtet, alle Menschen aufzunehmen, die eine katastrophale Situation durchlebten, hieß es. Der zuständige EuGH-Generalanwalt widersprach dieser Argumentation in\\xa0einem aufsehenerregenden Gutachten. Er schrieb, die Erteilung nationaler Visa werde von einer EU-Verordnung geregelt. Damit gelte auch die Grundrechtecharta der Union. Die wiederum schreibt das Recht auf Asyl fest und verbietet Folter und andere unmenschliche und entwürdigende Behandlung\\xa0— reale Gefahren für die syrische Familie, unterstrich der Gutachter. Damit müsse ein EU-Staat in\\xa0solchen Fällen Visa zur Einreise vergeben und Schutzsuchenden die Möglichkeit geben, in\\xa0Europa Asyl zu verlangen.\"',\n",
       "  '\"OVER-THRESHOLD\"',\n",
       "  '\"asylanträge asyl\"',\n",
       "  '116',\n",
       "  '0.536181733211913'],\n",
       " ['\"http://de.sputniknews.compolitik/20170207314424623-kalifornien-trump-krieg\"',\n",
       "  '\"http://web.archive.org/web/20170209143833/https://de.sputniknews.com/amp/politik/20170207314424623-kalifornien-trump-krieg/\"',\n",
       "  '20170207',\n",
       "  '\"Kalifornien und Trump erklären einander den Krieg – WP\"',\n",
       "  '\"„Das ist lächerlich“, so Trump über Kaliforniens Initiative, ein Asyl-Staat zu werden. „Wie Sie wissen, bin ich absolut gegen diese Asyl-Städte. Sie bringen Kriminalität und es gibt viele Probleme.“ Kalifornien sei in\\xa0vieler Hinsicht „außer Kontrolle geraten“, ist der US-Staatschef überzeugt. „Offenbar stimmen mir die Wähler zu, sonst hätten sie nicht für mich gestimmt.“  Wie WP unter Verweis auf die US-Bundespolizei FBI schreibt, ist die Kriminalität in\\xa0sogenannten „Asyl-Städten“ angeblich sogar niedriger als in\\xa0anderen Ortschaften. Was ist eine „Asyl-Stadt“? In den USA gibt es derzeit laut WP etwa 60 Städte mit speziellen Asyl-Gesetzen („Asyl-Städte“ bzw. „Sanctuary Cities“), darunter Los Angeles und New York. Die Gesetzeslage variiert von Stadt zu Stadt, doch im Allgemeinen beschützt sie illegale Einwanderer, die gewaltlose Verbrechen begangen haben, davor, von den Lokalregierungen an die Bundesbehörden übergeben zu werden. Das Verüben von Kavaliersdelikten durch Migranten führt demnach nicht zwingend zu bundesstaatlichem Gewahrsam. Stadtmitarbeiter und Strafverfolgungsbehörden einer sogenannten Asyl-Stadt dürfen zudem nicht nach dem Einwanderungsstatus eines Strafverdächtigen fragen. Gegner der Verordnung argumentieren, dass diese kriminelle Zuwanderer vor der Abschiebung bewahre.\"',\n",
       "  '\"OVER-THRESHOLD\"',\n",
       "  '\"migranten\"',\n",
       "  '174',\n",
       "  '0.536121189018493'],\n",
       " ['\"http://de.sputniknews.comgesellschaft/20180619321230321-menschenrechte-migranten-usa\"',\n",
       "  '\"http://web.archive.org/web/20181225062127/https://de.sputniknews.com/amp/gesellschaft/20180619321230321-menschenrechte-migranten-usa/\"',\n",
       "  '20180619',\n",
       "  '\"Kinder von Eltern zu trennen ist skrupellos – UN-Menschenrechtskommissar rügt USA - VIDEO\"',\n",
       "  '\"{                    \\\\\"vars\\\\\": {                        \\\\\"counterId\\\\\": \\\\\"27090206\\\\\"                    }                }                                    {                            \\\\\"requests\\\\\": {                                \\\\\"pageview\\\\\": \\\\\"http://web.archive.org/web/20181225062127/https://counter.yadro.ru/hit;RS_Total/Sputniki_Total/Sputniknews?u${ampdocUrl};r${documentReferrer};s${screenWidth}*${screenHeight}*32;h${title};${random}\\\\\"                            },                            \\\\\"triggers\\\\\": {                                \\\\\"track pageview\\\\\": {                                    \\\\\"on\\\\\": \\\\\"visible\\\\\",                                    \\\\\"request\\\\\": \\\\\"pageview\\\\\"                                }                            }                        }                    Alle NachrichtenGesellschaftKinder von Eltern zu trennen ist skrupellos – UN-Menschenrechtskommissar rügt USA - VIDEOВаш браузер не поддерживает данный формат видео                        ©                    Sputnik/ 14:53 19.06.2018(aktualisiert  18:57 19.06.2018) Zum KurzlinkDer Hochkommissar der Vereinten Nationen für Menschenrechte hat die USA für ihre Praxis gerügt, beim illegalen Grenzübertritt an der mexikanischen Grenze festgenommene Migranten von ihren Kindern zu trennen. Die Idee, Kinder für das Verhalten ihrer Eltern zu bestrafen und diese durch die Misshandlung der Kinder abzuschrecken, sei skrupellos.Der UN-Hochkommissar für Menschenrechte, Zeid Ra’ad Al Hussein, hat in\\xa0Genf die USA scharf angegriffen. Bezugnehmend auf die jüngst forcierte Praxis, an der mexikanisch-US-amerikanischen Grenze festgenommene illegale Einwanderer von ihren Kindern zu trennen, sprach Al Hussein von einer „grausamen Praxis“, die „irreparable Schäden mit lebenslangen Folgen“ nach sich ziehen könnte.\\xa0 Wörtlich sagte der Hochkommissar an die Adresse der US-Regierung: „Die Idee, dass ein Staat versucht, Eltern dadurch abzuschrecken, indem Kindern eine solche Misshandlung zugefügt wird, ist skrupellos.“>>Andere Sputnik-Artikel: Trump: „Menschen in\\xa0Deutschland wenden sich gegen ihre Regierung“Die im Video dokumentierte Passage der Erklärung von Zeid Ra’ad Al Hussein im Wortlaut:„In the United States, I am deeply concerned by\\xa0recently adopted policies which punish children for\\xa0that parent’s actions. In the past\\xa0six weeks, nearly 2,000 children have been forcibly separated from\\xa0their parents. The American Association of\\xa0Pediatrics [APP] has called this cruel practice \\'government-sanctioned child abuse\\' which may cause \\'irreparable harm\\' with \\'lifelong consequences\\'. The thought that any state would seek to\\xa0deter parents by\\xa0inflicting such abuse on\\xa0children is unconscionable. I call on\\xa0the United States to\\xa0immediately end the practice of\\xa0forcible separation of\\xa0these children, and I encourage the government to\\xa0at last ratify the [UN] Convention on\\xa0the Rights of\\xa0the Child, in\\xa0order to\\xa0ensure that the fundamental rights of\\xa0all children, whatever their administrative status, will be at\\xa0the centre of\\xa0all domestic laws and policies.”                        ©                    REUTERS/ Jorge Duenes„Migranten-Karawane“ trifft an Mexikos Grenze zu USA ein – VIDEO“Ich bin zutiefst besorgt über die aktuell in\\xa0den Vereinigten Staaten angewandte Praxis, Kinder für Handlungen ihrer Eltern zu bestrafen. In den vergangenen sechs Wochen wurden beinahe 2.000 Kinder gewaltsam von ihren Eltern getrennt. Die Amerikanische Vereinigung für Kinderheilkunde (APP) nennt diese grausame Praxis „staatlich sanktionierte Kindesmisshandlung, die irreparable Schäden mit lebenslangen Folgen hervorrufen könne“. Die Idee, dass ein Staat versucht, Eltern dadurch abzuschrecken, indem Kindern eine solche Misshandlung zugefügt wird, ist skrupellos. Ich rufe die Vereinigten Staaten auf, unverzüglich die Praxis der gewaltsamen Trennung dieser Kinder zu beenden, und ich ermutige die Regierung, endlich die UN-Konvention für die Rechte der Kinder zu ratifizieren, um sicherzustellen, dass die fundamentalen Rechte aller Kinder, gleich welchen administrativen Status, im Zentrum aller öffentlichen Gesetze und Politik stehen.“>>Andere Sputnik-Artikel: Trump will Migranten „von überall her“Diskussion\"',\n",
       "  '\"OVER-THRESHOLD\"',\n",
       "  '\"einwanderer migranten\"',\n",
       "  '980',\n",
       "  '0.533417092483392'],\n",
       " ['\"http://de.sputniknews.compolitik/20180914322316830-eu-ungarn-grenzen-kontrolle\"',\n",
       "  '\"http://web.archive.org/web/20180914185523/https://de.sputniknews.com/amp/politik/20180914322316830-eu-ungarn-grenzen-kontrolle/\"',\n",
       "  '20180914',\n",
       "  '\"EU will Ungarn „Recht auf Kontrolle eigener Grenzen entziehen” – Orban\"',\n",
       "  '\"Das EU-Rechtsstaatsverfahren gegen Ungarn stellt nicht die „geringste Gefahr“ für das Land dar, wie Ungarns Ministerpräsident Viktor Orban in einem Interview mit dem Radiosender Kossuth erklärte. Am vergangenen Mittwoch hat das Europäische Parlament dem Antrag auf ein Strafverfahren gegen Ungarn wegen Verstößen gegen europäische Normen und Prinzipien der Rechtshoheit zugestimmt. Das Europaparlament behandelt erstmals ein Dokument, in\\xa0dem es um die Anwendung von Artikel 7 des EU-Vertrages gegen Ungarn geht. >>>Weitere Sputnik-Artikel: „Dafür würde ich aus dem Amt gejagt“ – Orban zu Merkels Flüchtlingspolitik  „Sie (die EU – Anm. d. Red.) haben einen Plan: Wenn sie Ungarn nicht zur Aufnahme von Flüchtlingen zwingen können, werden sie dem Land das Recht auf Kontrolle der eigenen Grenzen entziehen“, sagte Orban. In Brüssel werden die ungarischen Behörden vor allem für die Weigerung kritisiert, die Entscheidungen der Europäischen Union im Bereich Migrationspolitik zu erfüllen. Mitte Juli hatte die Europäische Kommission beim Europäischen Gerichtshof bereits eine Beschwerde gegen Ungarn eingereicht, da es die EU-Vorschriften zur Asylgewährung für Flüchtlinge nicht befolgt hatte. >>>Weitere Sputnik-Artikel: EU-Kommission reicht beim Europäischen Gerichtshof Klage gegen Ungarn ein\"',\n",
       "  '\"OVER-THRESHOLD\"',\n",
       "  '\"flüchtlingen flüchtlingspolitik flüchtlinge\"',\n",
       "  '179',\n",
       "  '0.532563413304608'],\n",
       " ['\"http://de.sputniknews.com/german.ruvr.ru/2013_11_06/Festung-Europa-von-Migranten-und-Fluchtlingen-3563\"',\n",
       "  '\"http://web.archive.org/web/20150722052852/http://de.sputniknews.com/german.ruvr.ru/2013_11_06/Festung-Europa-von-Migranten-und-Fluchtlingen-3563/\"',\n",
       "  '20131106',\n",
       "  '\"Festung Europa - von Migranten und Flüchtlingen\"',\n",
       "  '\"Foto: Aziz Bozkurt STIMME RUSSLANDS Flüchtlinge im Hungerstreik vor dem Brandenburger Tor, Tote in Lampedusa, unerwünschte Asylanten in Hellersdorf und Schneeberg, von Abschiebung bedrohte Asylbewerber in Hamburg. Schottet Europa sich ab? Nimmt Deutschland genug Flüchtlinge auf? Auf diese und andere Fragen antwortet bei uns im Studio Aziz Bozkurt, Landesvorsitzender der AG Migration und Vielfalt in der SPD Berlin.\"',\n",
       "  '\"OVER-THRESHOLD\"',\n",
       "  '\"migration asylbewerber flüchtlinge\"',\n",
       "  '61',\n",
       "  '0.532312736405033'],\n",
       " ['\"http://de.sputniknews.companorama/20170715316608060-fluechtlinge-selbstanzeigen-terror\"',\n",
       "  '\"http://web.archive.org/web/20170715150527/https://de.sputniknews.com/amp/panorama/20170715316608060-fluechtlinge-selbstanzeigen-terror/\"',\n",
       "  '20170715',\n",
       "  '\"Selbstanzeigen unter Flüchtlingen „wegen Terrors“ wuchern – aus bizarrem Grund\"',\n",
       "  '\"Mehr als 408.000 Asylanträge hat das Bundesamt für Migration und Flüchtlinge (BAMF) im ersten Halbjahr 2017 entschieden – rund 44 Prozent mehr als im gleichen Zeitraum des Vorjahres, berichtet die „Welt“. „Mit den Selbstanzeigen wegen Terrors in\\xa0laufenden Asylverfahren ist eine massive neue Belastung auf die Strafverfolgungsbehörden zugekommen“, so Stuttgarts Generalstaatsanwalt Achim Brauneisen.  Wie die „Welt“ schreibt, wollen viele Asylbewerber mit der Selbstbezichtigung einer Zwangsmitgliedschaft in\\xa0einer islamistischen Gruppierung der Abschiebung entgehen. Dabei würden sie auf den sogenannten subsidiären Schutz hoffen. Der subsidiäre Schutz ist dann gewährt, wenn die Rückkehr eines Asylbewerbers ins Heimatland zu gefährlich ist. Genauer gesagt, wenn ein Ausländer stichhaltige Gründe für die Annahme vorgebracht hat, dass ihm in\\xa0seinem Herkunftsland ein schwerer Schaden droht – beispielsweise Todesstrafe, Folter, unmenschliche oder erniedrigende Behandlung bzw. Bestrafung.\"',\n",
       "  '\"OVER-THRESHOLD\"',\n",
       "  '\"asylanträge migration asylbewerber flüchtlinge\"',\n",
       "  '128',\n",
       "  '0.53192302021476']]"
      ]
     },
     "execution_count": 2,
     "metadata": {},
     "output_type": "execute_result"
    }
   ],
   "source": [
    "with open('/Users/Ashrakat/Dropbox/University/Oxford/Jobs/Teaching/Text Analysis/code/Basics-of-Text-Analysis-for-Political-Science/Data/sputnikgerman20.tsv','r') as tsv:\n",
    "    data = [line.strip().split('\\t') for line in tsv]\n",
    "    \n",
    "data"
   ]
  },
  {
   "cell_type": "code",
   "execution_count": 3,
   "metadata": {
    "collapsed": true
   },
   "outputs": [],
   "source": [
    "#get the date\n",
    "data_dates = [el[2] for el in data]\n"
   ]
  },
  {
   "cell_type": "code",
   "execution_count": 4,
   "metadata": {},
   "outputs": [
    {
     "data": {
      "text/plain": [
       "['20160107',\n",
       " '20150210',\n",
       " '20181117',\n",
       " '20181109',\n",
       " '20160306',\n",
       " '20151016',\n",
       " '20151020',\n",
       " '20140106',\n",
       " '20180813',\n",
       " '20170219',\n",
       " '20151228',\n",
       " '20160614',\n",
       " '20181210',\n",
       " '20151102',\n",
       " '20170307',\n",
       " '20170207',\n",
       " '20180619',\n",
       " '20180914',\n",
       " '20131106',\n",
       " '20170715']"
      ]
     },
     "execution_count": 4,
     "metadata": {},
     "output_type": "execute_result"
    }
   ],
   "source": [
    "data_dates"
   ]
  },
  {
   "cell_type": "markdown",
   "metadata": {},
   "source": [
    "**Lets try with pandas**"
   ]
  },
  {
   "cell_type": "code",
   "execution_count": 5,
   "metadata": {},
   "outputs": [
    {
     "ename": "ParserError",
     "evalue": "Error tokenizing data. C error: Expected 8 fields in line 3, saw 18\n",
     "output_type": "error",
     "traceback": [
      "\u001b[0;31m---------------------------------------------------------------------------\u001b[0m",
      "\u001b[0;31mParserError\u001b[0m                               Traceback (most recent call last)",
      "\u001b[0;32m<ipython-input-5-40028f60bdc1>\u001b[0m in \u001b[0;36m<module>\u001b[0;34m()\u001b[0m\n\u001b[0;32m----> 1\u001b[0;31m \u001b[0msputnikdata1\u001b[0m \u001b[0;34m=\u001b[0m \u001b[0mpd\u001b[0m\u001b[0;34m.\u001b[0m\u001b[0mread_csv\u001b[0m\u001b[0;34m(\u001b[0m\u001b[0;34m'/Users/Ashrakat/Desktop/sputnikgerman20.tsv'\u001b[0m\u001b[0;34m)\u001b[0m\u001b[0;34m\u001b[0m\u001b[0;34m\u001b[0m\u001b[0m\n\u001b[0m\u001b[1;32m      2\u001b[0m \u001b[0;34m\u001b[0m\u001b[0m\n\u001b[1;32m      3\u001b[0m \u001b[0;31m#why do we get an error message?\u001b[0m\u001b[0;34m\u001b[0m\u001b[0;34m\u001b[0m\u001b[0;34m\u001b[0m\u001b[0m\n",
      "\u001b[0;32m/anaconda/lib/python3.6/site-packages/pandas/io/parsers.py\u001b[0m in \u001b[0;36mparser_f\u001b[0;34m(filepath_or_buffer, sep, delimiter, header, names, index_col, usecols, squeeze, prefix, mangle_dupe_cols, dtype, engine, converters, true_values, false_values, skipinitialspace, skiprows, skipfooter, nrows, na_values, keep_default_na, na_filter, verbose, skip_blank_lines, parse_dates, infer_datetime_format, keep_date_col, date_parser, dayfirst, cache_dates, iterator, chunksize, compression, thousands, decimal, lineterminator, quotechar, quoting, doublequote, escapechar, comment, encoding, dialect, error_bad_lines, warn_bad_lines, delim_whitespace, low_memory, memory_map, float_precision)\u001b[0m\n\u001b[1;32m    683\u001b[0m         )\n\u001b[1;32m    684\u001b[0m \u001b[0;34m\u001b[0m\u001b[0m\n\u001b[0;32m--> 685\u001b[0;31m         \u001b[0;32mreturn\u001b[0m \u001b[0m_read\u001b[0m\u001b[0;34m(\u001b[0m\u001b[0mfilepath_or_buffer\u001b[0m\u001b[0;34m,\u001b[0m \u001b[0mkwds\u001b[0m\u001b[0;34m)\u001b[0m\u001b[0;34m\u001b[0m\u001b[0;34m\u001b[0m\u001b[0m\n\u001b[0m\u001b[1;32m    686\u001b[0m \u001b[0;34m\u001b[0m\u001b[0m\n\u001b[1;32m    687\u001b[0m     \u001b[0mparser_f\u001b[0m\u001b[0;34m.\u001b[0m\u001b[0m__name__\u001b[0m \u001b[0;34m=\u001b[0m \u001b[0mname\u001b[0m\u001b[0;34m\u001b[0m\u001b[0;34m\u001b[0m\u001b[0m\n",
      "\u001b[0;32m/anaconda/lib/python3.6/site-packages/pandas/io/parsers.py\u001b[0m in \u001b[0;36m_read\u001b[0;34m(filepath_or_buffer, kwds)\u001b[0m\n\u001b[1;32m    461\u001b[0m \u001b[0;34m\u001b[0m\u001b[0m\n\u001b[1;32m    462\u001b[0m     \u001b[0;32mtry\u001b[0m\u001b[0;34m:\u001b[0m\u001b[0;34m\u001b[0m\u001b[0;34m\u001b[0m\u001b[0m\n\u001b[0;32m--> 463\u001b[0;31m         \u001b[0mdata\u001b[0m \u001b[0;34m=\u001b[0m \u001b[0mparser\u001b[0m\u001b[0;34m.\u001b[0m\u001b[0mread\u001b[0m\u001b[0;34m(\u001b[0m\u001b[0mnrows\u001b[0m\u001b[0;34m)\u001b[0m\u001b[0;34m\u001b[0m\u001b[0;34m\u001b[0m\u001b[0m\n\u001b[0m\u001b[1;32m    464\u001b[0m     \u001b[0;32mfinally\u001b[0m\u001b[0;34m:\u001b[0m\u001b[0;34m\u001b[0m\u001b[0;34m\u001b[0m\u001b[0m\n\u001b[1;32m    465\u001b[0m         \u001b[0mparser\u001b[0m\u001b[0;34m.\u001b[0m\u001b[0mclose\u001b[0m\u001b[0;34m(\u001b[0m\u001b[0;34m)\u001b[0m\u001b[0;34m\u001b[0m\u001b[0;34m\u001b[0m\u001b[0m\n",
      "\u001b[0;32m/anaconda/lib/python3.6/site-packages/pandas/io/parsers.py\u001b[0m in \u001b[0;36mread\u001b[0;34m(self, nrows)\u001b[0m\n\u001b[1;32m   1152\u001b[0m     \u001b[0;32mdef\u001b[0m \u001b[0mread\u001b[0m\u001b[0;34m(\u001b[0m\u001b[0mself\u001b[0m\u001b[0;34m,\u001b[0m \u001b[0mnrows\u001b[0m\u001b[0;34m=\u001b[0m\u001b[0;32mNone\u001b[0m\u001b[0;34m)\u001b[0m\u001b[0;34m:\u001b[0m\u001b[0;34m\u001b[0m\u001b[0;34m\u001b[0m\u001b[0m\n\u001b[1;32m   1153\u001b[0m         \u001b[0mnrows\u001b[0m \u001b[0;34m=\u001b[0m \u001b[0m_validate_integer\u001b[0m\u001b[0;34m(\u001b[0m\u001b[0;34m\"nrows\"\u001b[0m\u001b[0;34m,\u001b[0m \u001b[0mnrows\u001b[0m\u001b[0;34m)\u001b[0m\u001b[0;34m\u001b[0m\u001b[0;34m\u001b[0m\u001b[0m\n\u001b[0;32m-> 1154\u001b[0;31m         \u001b[0mret\u001b[0m \u001b[0;34m=\u001b[0m \u001b[0mself\u001b[0m\u001b[0;34m.\u001b[0m\u001b[0m_engine\u001b[0m\u001b[0;34m.\u001b[0m\u001b[0mread\u001b[0m\u001b[0;34m(\u001b[0m\u001b[0mnrows\u001b[0m\u001b[0;34m)\u001b[0m\u001b[0;34m\u001b[0m\u001b[0;34m\u001b[0m\u001b[0m\n\u001b[0m\u001b[1;32m   1155\u001b[0m \u001b[0;34m\u001b[0m\u001b[0m\n\u001b[1;32m   1156\u001b[0m         \u001b[0;31m# May alter columns / col_dict\u001b[0m\u001b[0;34m\u001b[0m\u001b[0;34m\u001b[0m\u001b[0;34m\u001b[0m\u001b[0m\n",
      "\u001b[0;32m/anaconda/lib/python3.6/site-packages/pandas/io/parsers.py\u001b[0m in \u001b[0;36mread\u001b[0;34m(self, nrows)\u001b[0m\n\u001b[1;32m   2057\u001b[0m     \u001b[0;32mdef\u001b[0m \u001b[0mread\u001b[0m\u001b[0;34m(\u001b[0m\u001b[0mself\u001b[0m\u001b[0;34m,\u001b[0m \u001b[0mnrows\u001b[0m\u001b[0;34m=\u001b[0m\u001b[0;32mNone\u001b[0m\u001b[0;34m)\u001b[0m\u001b[0;34m:\u001b[0m\u001b[0;34m\u001b[0m\u001b[0;34m\u001b[0m\u001b[0m\n\u001b[1;32m   2058\u001b[0m         \u001b[0;32mtry\u001b[0m\u001b[0;34m:\u001b[0m\u001b[0;34m\u001b[0m\u001b[0;34m\u001b[0m\u001b[0m\n\u001b[0;32m-> 2059\u001b[0;31m             \u001b[0mdata\u001b[0m \u001b[0;34m=\u001b[0m \u001b[0mself\u001b[0m\u001b[0;34m.\u001b[0m\u001b[0m_reader\u001b[0m\u001b[0;34m.\u001b[0m\u001b[0mread\u001b[0m\u001b[0;34m(\u001b[0m\u001b[0mnrows\u001b[0m\u001b[0;34m)\u001b[0m\u001b[0;34m\u001b[0m\u001b[0;34m\u001b[0m\u001b[0m\n\u001b[0m\u001b[1;32m   2060\u001b[0m         \u001b[0;32mexcept\u001b[0m \u001b[0mStopIteration\u001b[0m\u001b[0;34m:\u001b[0m\u001b[0;34m\u001b[0m\u001b[0;34m\u001b[0m\u001b[0m\n\u001b[1;32m   2061\u001b[0m             \u001b[0;32mif\u001b[0m \u001b[0mself\u001b[0m\u001b[0;34m.\u001b[0m\u001b[0m_first_chunk\u001b[0m\u001b[0;34m:\u001b[0m\u001b[0;34m\u001b[0m\u001b[0;34m\u001b[0m\u001b[0m\n",
      "\u001b[0;32mpandas/_libs/parsers.pyx\u001b[0m in \u001b[0;36mpandas._libs.parsers.TextReader.read\u001b[0;34m()\u001b[0m\n",
      "\u001b[0;32mpandas/_libs/parsers.pyx\u001b[0m in \u001b[0;36mpandas._libs.parsers.TextReader._read_low_memory\u001b[0;34m()\u001b[0m\n",
      "\u001b[0;32mpandas/_libs/parsers.pyx\u001b[0m in \u001b[0;36mpandas._libs.parsers.TextReader._read_rows\u001b[0;34m()\u001b[0m\n",
      "\u001b[0;32mpandas/_libs/parsers.pyx\u001b[0m in \u001b[0;36mpandas._libs.parsers.TextReader._tokenize_rows\u001b[0;34m()\u001b[0m\n",
      "\u001b[0;32mpandas/_libs/parsers.pyx\u001b[0m in \u001b[0;36mpandas._libs.parsers.raise_parser_error\u001b[0;34m()\u001b[0m\n",
      "\u001b[0;31mParserError\u001b[0m: Error tokenizing data. C error: Expected 8 fields in line 3, saw 18\n"
     ]
    }
   ],
   "source": [
    "sputnikdata1 = pd.read_csv('/Users/Ashrakat/Desktop/sputnikgerman20.tsv')\n",
    "\n",
    "#why do we get an error message?"
   ]
  },
  {
   "cell_type": "code",
   "execution_count": null,
   "metadata": {
    "collapsed": true
   },
   "outputs": [],
   "source": [
    "sputnikdata1 = pd.read_csv('/Users/Ashrakat/Desktop/sputnikgerman20.tsv',sep='\\t')\n",
    "sputnikdata1.head()\n",
    "#what do we want to change here"
   ]
  },
  {
   "cell_type": "code",
   "execution_count": null,
   "metadata": {
    "collapsed": true
   },
   "outputs": [],
   "source": [
    "sputnikdata = pd.read_csv('/Users/Ashrakat/Desktop/sputnikgerman20.tsv',sep='\\t', header=None)\n",
    "sputnikdata"
   ]
  },
  {
   "cell_type": "markdown",
   "metadata": {},
   "source": [
    "## Select Column"
   ]
  },
  {
   "cell_type": "markdown",
   "metadata": {},
   "source": [
    "### how would I select the date?"
   ]
  },
  {
   "cell_type": "code",
   "execution_count": 13,
   "metadata": {},
   "outputs": [
    {
     "data": {
      "text/plain": [
       "0     20160107\n",
       "1     20150210\n",
       "2     20181117\n",
       "3     20181109\n",
       "4     20160306\n",
       "5     20151016\n",
       "6     20151020\n",
       "7     20140106\n",
       "8     20180813\n",
       "9     20170219\n",
       "10    20151228\n",
       "11    20160614\n",
       "12    20181210\n",
       "13    20151102\n",
       "14    20170307\n",
       "15    20170207\n",
       "16    20180619\n",
       "17    20180914\n",
       "18    20131106\n",
       "19    20170715\n",
       "Name: 2, dtype: int64"
      ]
     },
     "execution_count": 13,
     "metadata": {},
     "output_type": "execute_result"
    }
   ],
   "source": [
    "sputnikdata_date=sputnikdata[2]\n",
    "sputnikdata_date"
   ]
  },
  {
   "cell_type": "markdown",
   "metadata": {},
   "source": [
    "### Select only content and title\n"
   ]
  },
  {
   "cell_type": "code",
   "execution_count": 14,
   "metadata": {},
   "outputs": [
    {
     "data": {
      "text/html": [
       "<div>\n",
       "<style scoped>\n",
       "    .dataframe tbody tr th:only-of-type {\n",
       "        vertical-align: middle;\n",
       "    }\n",
       "\n",
       "    .dataframe tbody tr th {\n",
       "        vertical-align: top;\n",
       "    }\n",
       "\n",
       "    .dataframe thead th {\n",
       "        text-align: right;\n",
       "    }\n",
       "</style>\n",
       "<table border=\"1\" class=\"dataframe\">\n",
       "  <thead>\n",
       "    <tr style=\"text-align: right;\">\n",
       "      <th></th>\n",
       "      <th>3</th>\n",
       "      <th>4</th>\n",
       "    </tr>\n",
       "  </thead>\n",
       "  <tbody>\n",
       "    <tr>\n",
       "      <th>0</th>\n",
       "      <td>FDP-Chef Lindner: Merkels Flüchtlingspolitik f...</td>\n",
       "      <td>Der Satz „Wir schaffen das“ der Bundeskanzleri...</td>\n",
       "    </tr>\n",
       "    <tr>\n",
       "      <th>1</th>\n",
       "      <td>Experte: Rund 1,3 Millionen wehrpflichtige Ukr...</td>\n",
       "      <td>In letzter Zeit sei knapp einer halben Million...</td>\n",
       "    </tr>\n",
       "    <tr>\n",
       "      <th>2</th>\n",
       "      <td>So präzisiert Nahles ihre Idee für Hartz IV-Al...</td>\n",
       "      <td>{                    \\vars\\\": {               ...</td>\n",
       "    </tr>\n",
       "    <tr>\n",
       "      <th>3</th>\n",
       "      <td>Trump beschränkt drastisch Asylgewährung für i...</td>\n",
       "      <td>{                    \\vars\\\": {               ...</td>\n",
       "    </tr>\n",
       "    <tr>\n",
       "      <th>4</th>\n",
       "      <td>Österreich drängt auf deutsches Flüchtlingskon...</td>\n",
       "      <td>{                    \\vars\\\": {               ...</td>\n",
       "    </tr>\n",
       "    <tr>\n",
       "      <th>5</th>\n",
       "      <td>Migrationskrise: Warschau wehrt sich gegen Mer...</td>\n",
       "      <td>{                    \\vars\\\": {               ...</td>\n",
       "    </tr>\n",
       "    <tr>\n",
       "      <th>6</th>\n",
       "      <td>Flüchtlingskrise: Ist Abriegeln eine Lösung?</td>\n",
       "      <td>{                    \\vars\\\": {               ...</td>\n",
       "    </tr>\n",
       "    <tr>\n",
       "      <th>7</th>\n",
       "      <td>Großbritannien will EU-Freizügigkeit verhindern</td>\n",
       "      <td>Foto: EPA STIMME RUSSLANDS Die Regierung Großb...</td>\n",
       "    </tr>\n",
       "    <tr>\n",
       "      <th>8</th>\n",
       "      <td>Rückkehr von Flüchtlingen: Syrischer Minister ...</td>\n",
       "      <td>Der syrische Minister für lokale Verwaltung un...</td>\n",
       "    </tr>\n",
       "    <tr>\n",
       "      <th>9</th>\n",
       "      <td>USA verschärfen Asyl-Recht</td>\n",
       "      <td>Nach dem US-Gesetz „Immigration and Nationalit...</td>\n",
       "    </tr>\n",
       "    <tr>\n",
       "      <th>10</th>\n",
       "      <td>Dänemark will die Flüchtlingskonvention ändern</td>\n",
       "      <td>{                    \\vars\\\": {               ...</td>\n",
       "    </tr>\n",
       "    <tr>\n",
       "      <th>11</th>\n",
       "      <td>Glaube darf nicht über Gesetz stehen: Bundesju...</td>\n",
       "      <td>Bundesjustizminister Heiko Maas will Mehrfach-...</td>\n",
       "    </tr>\n",
       "    <tr>\n",
       "      <th>12</th>\n",
       "      <td>Gibt es ein Menschenrecht auf Migration?</td>\n",
       "      <td>{                    \\vars\\\": {               ...</td>\n",
       "    </tr>\n",
       "    <tr>\n",
       "      <th>13</th>\n",
       "      <td>Kabul nimmt abgelehnte Asylbewerber aus Deutsc...</td>\n",
       "      <td>{                    \\vars\\\": {               ...</td>\n",
       "    </tr>\n",
       "    <tr>\n",
       "      <th>14</th>\n",
       "      <td>EuGH-Urteil: Keine \\humanitären Visa\\\" in EU-A...</td>\n",
       "      <td>Die Behörde argumentierte, dass sich die Famil...</td>\n",
       "    </tr>\n",
       "    <tr>\n",
       "      <th>15</th>\n",
       "      <td>Kalifornien und Trump erklären einander den Kr...</td>\n",
       "      <td>„Das ist lächerlich“, so Trump über Kalifornie...</td>\n",
       "    </tr>\n",
       "    <tr>\n",
       "      <th>16</th>\n",
       "      <td>Kinder von Eltern zu trennen ist skrupellos – ...</td>\n",
       "      <td>{                    \\vars\\\": {               ...</td>\n",
       "    </tr>\n",
       "    <tr>\n",
       "      <th>17</th>\n",
       "      <td>EU will Ungarn „Recht auf Kontrolle eigener Gr...</td>\n",
       "      <td>Das EU-Rechtsstaatsverfahren gegen Ungarn stel...</td>\n",
       "    </tr>\n",
       "    <tr>\n",
       "      <th>18</th>\n",
       "      <td>Festung Europa - von Migranten und Flüchtlingen</td>\n",
       "      <td>Foto: Aziz Bozkurt STIMME RUSSLANDS Flüchtling...</td>\n",
       "    </tr>\n",
       "    <tr>\n",
       "      <th>19</th>\n",
       "      <td>Selbstanzeigen unter Flüchtlingen „wegen Terro...</td>\n",
       "      <td>Mehr als 408.000 Asylanträge hat das Bundesamt...</td>\n",
       "    </tr>\n",
       "  </tbody>\n",
       "</table>\n",
       "</div>"
      ],
      "text/plain": [
       "                                                    3  \\\n",
       "0   FDP-Chef Lindner: Merkels Flüchtlingspolitik f...   \n",
       "1   Experte: Rund 1,3 Millionen wehrpflichtige Ukr...   \n",
       "2   So präzisiert Nahles ihre Idee für Hartz IV-Al...   \n",
       "3   Trump beschränkt drastisch Asylgewährung für i...   \n",
       "4   Österreich drängt auf deutsches Flüchtlingskon...   \n",
       "5   Migrationskrise: Warschau wehrt sich gegen Mer...   \n",
       "6        Flüchtlingskrise: Ist Abriegeln eine Lösung?   \n",
       "7     Großbritannien will EU-Freizügigkeit verhindern   \n",
       "8   Rückkehr von Flüchtlingen: Syrischer Minister ...   \n",
       "9                          USA verschärfen Asyl-Recht   \n",
       "10     Dänemark will die Flüchtlingskonvention ändern   \n",
       "11  Glaube darf nicht über Gesetz stehen: Bundesju...   \n",
       "12           Gibt es ein Menschenrecht auf Migration?   \n",
       "13  Kabul nimmt abgelehnte Asylbewerber aus Deutsc...   \n",
       "14  EuGH-Urteil: Keine \\humanitären Visa\\\" in EU-A...   \n",
       "15  Kalifornien und Trump erklären einander den Kr...   \n",
       "16  Kinder von Eltern zu trennen ist skrupellos – ...   \n",
       "17  EU will Ungarn „Recht auf Kontrolle eigener Gr...   \n",
       "18    Festung Europa - von Migranten und Flüchtlingen   \n",
       "19  Selbstanzeigen unter Flüchtlingen „wegen Terro...   \n",
       "\n",
       "                                                    4  \n",
       "0   Der Satz „Wir schaffen das“ der Bundeskanzleri...  \n",
       "1   In letzter Zeit sei knapp einer halben Million...  \n",
       "2   {                    \\vars\\\": {               ...  \n",
       "3   {                    \\vars\\\": {               ...  \n",
       "4   {                    \\vars\\\": {               ...  \n",
       "5   {                    \\vars\\\": {               ...  \n",
       "6   {                    \\vars\\\": {               ...  \n",
       "7   Foto: EPA STIMME RUSSLANDS Die Regierung Großb...  \n",
       "8   Der syrische Minister für lokale Verwaltung un...  \n",
       "9   Nach dem US-Gesetz „Immigration and Nationalit...  \n",
       "10  {                    \\vars\\\": {               ...  \n",
       "11  Bundesjustizminister Heiko Maas will Mehrfach-...  \n",
       "12  {                    \\vars\\\": {               ...  \n",
       "13  {                    \\vars\\\": {               ...  \n",
       "14  Die Behörde argumentierte, dass sich die Famil...  \n",
       "15  „Das ist lächerlich“, so Trump über Kalifornie...  \n",
       "16  {                    \\vars\\\": {               ...  \n",
       "17  Das EU-Rechtsstaatsverfahren gegen Ungarn stel...  \n",
       "18  Foto: Aziz Bozkurt STIMME RUSSLANDS Flüchtling...  \n",
       "19  Mehr als 408.000 Asylanträge hat das Bundesamt...  "
      ]
     },
     "execution_count": 14,
     "metadata": {},
     "output_type": "execute_result"
    }
   ],
   "source": [
    "sputnikdata_content_title=sputnikdata[[3,4]]\n",
    "sputnikdata_content_title"
   ]
  },
  {
   "cell_type": "markdown",
   "metadata": {},
   "source": [
    "## Select rows"
   ]
  },
  {
   "cell_type": "code",
   "execution_count": 16,
   "metadata": {},
   "outputs": [
    {
     "data": {
      "text/html": [
       "<div>\n",
       "<style scoped>\n",
       "    .dataframe tbody tr th:only-of-type {\n",
       "        vertical-align: middle;\n",
       "    }\n",
       "\n",
       "    .dataframe tbody tr th {\n",
       "        vertical-align: top;\n",
       "    }\n",
       "\n",
       "    .dataframe thead th {\n",
       "        text-align: right;\n",
       "    }\n",
       "</style>\n",
       "<table border=\"1\" class=\"dataframe\">\n",
       "  <thead>\n",
       "    <tr style=\"text-align: right;\">\n",
       "      <th></th>\n",
       "      <th>0</th>\n",
       "      <th>1</th>\n",
       "      <th>2</th>\n",
       "      <th>3</th>\n",
       "      <th>4</th>\n",
       "      <th>5</th>\n",
       "      <th>6</th>\n",
       "      <th>7</th>\n",
       "      <th>8</th>\n",
       "    </tr>\n",
       "  </thead>\n",
       "  <tbody>\n",
       "    <tr>\n",
       "      <th>0</th>\n",
       "      <td>http://de.sputniknews.compolitik/2016010730696...</td>\n",
       "      <td>http://web.archive.org/web/20170227192503/http...</td>\n",
       "      <td>20160107</td>\n",
       "      <td>FDP-Chef Lindner: Merkels Flüchtlingspolitik f...</td>\n",
       "      <td>Der Satz „Wir schaffen das“ der Bundeskanzleri...</td>\n",
       "      <td>OVER-THRESHOLD</td>\n",
       "      <td>flüchtlingen migranten flüchtlinge</td>\n",
       "      <td>70</td>\n",
       "      <td>0.572646</td>\n",
       "    </tr>\n",
       "    <tr>\n",
       "      <th>1</th>\n",
       "      <td>http://de.sputniknews.com/panorama/20150210/30...</td>\n",
       "      <td>http://web.archive.org/web/20150315163311/http...</td>\n",
       "      <td>20150210</td>\n",
       "      <td>Experte: Rund 1,3 Millionen wehrpflichtige Ukr...</td>\n",
       "      <td>In letzter Zeit sei knapp einer halben Million...</td>\n",
       "      <td>OVER-THRESHOLD</td>\n",
       "      <td>flüchtlingsstatus asyl flüchtlinge</td>\n",
       "      <td>43</td>\n",
       "      <td>0.549350</td>\n",
       "    </tr>\n",
       "    <tr>\n",
       "      <th>2</th>\n",
       "      <td>http://de.sputniknews.compolitik/2018111732299...</td>\n",
       "      <td>http://web.archive.org/web/20181117160304/http...</td>\n",
       "      <td>20181117</td>\n",
       "      <td>So präzisiert Nahles ihre Idee für Hartz IV-Al...</td>\n",
       "      <td>{                    \\vars\\\": {               ...</td>\n",
       "      <td>OVER-THRESHOLD</td>\n",
       "      <td>migration</td>\n",
       "      <td>884</td>\n",
       "      <td>0.549179</td>\n",
       "    </tr>\n",
       "    <tr>\n",
       "      <th>3</th>\n",
       "      <td>http://de.sputniknews.compolitik/2018110932290...</td>\n",
       "      <td>http://web.archive.org/web/20181123020955/http...</td>\n",
       "      <td>20181109</td>\n",
       "      <td>Trump beschränkt drastisch Asylgewährung für i...</td>\n",
       "      <td>{                    \\vars\\\": {               ...</td>\n",
       "      <td>OVER-THRESHOLD</td>\n",
       "      <td>einwanderer migranten asyl</td>\n",
       "      <td>998</td>\n",
       "      <td>0.548637</td>\n",
       "    </tr>\n",
       "    <tr>\n",
       "      <th>4</th>\n",
       "      <td>http://de.sputniknews.compolitik/2016030630828...</td>\n",
       "      <td>http://web.archive.org/web/20181126055753/http...</td>\n",
       "      <td>20160306</td>\n",
       "      <td>Österreich drängt auf deutsches Flüchtlingskon...</td>\n",
       "      <td>{                    \\vars\\\": {               ...</td>\n",
       "      <td>OVER-THRESHOLD</td>\n",
       "      <td>asyl flüchtlinge migranten asylanträge flüchtl...</td>\n",
       "      <td>699</td>\n",
       "      <td>0.547927</td>\n",
       "    </tr>\n",
       "    <tr>\n",
       "      <th>5</th>\n",
       "      <td>http://de.sputniknews.compolitik/2015101630498...</td>\n",
       "      <td>http://web.archive.org/web/20181123212339/http...</td>\n",
       "      <td>20151016</td>\n",
       "      <td>Migrationskrise: Warschau wehrt sich gegen Mer...</td>\n",
       "      <td>{                    \\vars\\\": {               ...</td>\n",
       "      <td>OVER-THRESHOLD</td>\n",
       "      <td>flüchtlingen migrationskrise migranten flüchtl...</td>\n",
       "      <td>805</td>\n",
       "      <td>0.544957</td>\n",
       "    </tr>\n",
       "  </tbody>\n",
       "</table>\n",
       "</div>"
      ],
      "text/plain": [
       "                                                   0  \\\n",
       "0  http://de.sputniknews.compolitik/2016010730696...   \n",
       "1  http://de.sputniknews.com/panorama/20150210/30...   \n",
       "2  http://de.sputniknews.compolitik/2018111732299...   \n",
       "3  http://de.sputniknews.compolitik/2018110932290...   \n",
       "4  http://de.sputniknews.compolitik/2016030630828...   \n",
       "5  http://de.sputniknews.compolitik/2015101630498...   \n",
       "\n",
       "                                                   1         2  \\\n",
       "0  http://web.archive.org/web/20170227192503/http...  20160107   \n",
       "1  http://web.archive.org/web/20150315163311/http...  20150210   \n",
       "2  http://web.archive.org/web/20181117160304/http...  20181117   \n",
       "3  http://web.archive.org/web/20181123020955/http...  20181109   \n",
       "4  http://web.archive.org/web/20181126055753/http...  20160306   \n",
       "5  http://web.archive.org/web/20181123212339/http...  20151016   \n",
       "\n",
       "                                                   3  \\\n",
       "0  FDP-Chef Lindner: Merkels Flüchtlingspolitik f...   \n",
       "1  Experte: Rund 1,3 Millionen wehrpflichtige Ukr...   \n",
       "2  So präzisiert Nahles ihre Idee für Hartz IV-Al...   \n",
       "3  Trump beschränkt drastisch Asylgewährung für i...   \n",
       "4  Österreich drängt auf deutsches Flüchtlingskon...   \n",
       "5  Migrationskrise: Warschau wehrt sich gegen Mer...   \n",
       "\n",
       "                                                   4               5  \\\n",
       "0  Der Satz „Wir schaffen das“ der Bundeskanzleri...  OVER-THRESHOLD   \n",
       "1  In letzter Zeit sei knapp einer halben Million...  OVER-THRESHOLD   \n",
       "2  {                    \\vars\\\": {               ...  OVER-THRESHOLD   \n",
       "3  {                    \\vars\\\": {               ...  OVER-THRESHOLD   \n",
       "4  {                    \\vars\\\": {               ...  OVER-THRESHOLD   \n",
       "5  {                    \\vars\\\": {               ...  OVER-THRESHOLD   \n",
       "\n",
       "                                                   6    7         8  \n",
       "0                 flüchtlingen migranten flüchtlinge   70  0.572646  \n",
       "1                 flüchtlingsstatus asyl flüchtlinge   43  0.549350  \n",
       "2                                          migration  884  0.549179  \n",
       "3                         einwanderer migranten asyl  998  0.548637  \n",
       "4  asyl flüchtlinge migranten asylanträge flüchtl...  699  0.547927  \n",
       "5  flüchtlingen migrationskrise migranten flüchtl...  805  0.544957  "
      ]
     },
     "execution_count": 16,
     "metadata": {},
     "output_type": "execute_result"
    }
   ],
   "source": [
    "#select 0-5\n",
    "\n",
    "sputnikdata_rows=sputnikdata[0:6]\n",
    "sputnikdata_rows"
   ]
  },
  {
   "cell_type": "markdown",
   "metadata": {},
   "source": [
    "## Clean Data\n",
    "\n",
    "1. lowercase\n",
    "2. remove numbers \n",
    "3. remove punctuation\n",
    "3. remove stopwords"
   ]
  },
  {
   "cell_type": "code",
   "execution_count": 17,
   "metadata": {},
   "outputs": [
    {
     "data": {
      "text/html": [
       "<div>\n",
       "<style scoped>\n",
       "    .dataframe tbody tr th:only-of-type {\n",
       "        vertical-align: middle;\n",
       "    }\n",
       "\n",
       "    .dataframe tbody tr th {\n",
       "        vertical-align: top;\n",
       "    }\n",
       "\n",
       "    .dataframe thead th {\n",
       "        text-align: right;\n",
       "    }\n",
       "</style>\n",
       "<table border=\"1\" class=\"dataframe\">\n",
       "  <thead>\n",
       "    <tr style=\"text-align: right;\">\n",
       "      <th></th>\n",
       "      <th>0</th>\n",
       "      <th>1</th>\n",
       "      <th>2</th>\n",
       "      <th>3</th>\n",
       "      <th>4</th>\n",
       "      <th>5</th>\n",
       "      <th>6</th>\n",
       "      <th>7</th>\n",
       "      <th>8</th>\n",
       "    </tr>\n",
       "  </thead>\n",
       "  <tbody>\n",
       "    <tr>\n",
       "      <th>0</th>\n",
       "      <td>http://de.sputniknews.compolitik/2016010730696...</td>\n",
       "      <td>http://web.archive.org/web/20170227192503/http...</td>\n",
       "      <td>20160107</td>\n",
       "      <td>FDP-Chef Lindner: Merkels Flüchtlingspolitik f...</td>\n",
       "      <td>Der Satz „Wir schaffen das“ der Bundeskanzleri...</td>\n",
       "      <td>OVER-THRESHOLD</td>\n",
       "      <td>flüchtlingen migranten flüchtlinge</td>\n",
       "      <td>70</td>\n",
       "      <td>0.572646</td>\n",
       "    </tr>\n",
       "    <tr>\n",
       "      <th>1</th>\n",
       "      <td>http://de.sputniknews.com/panorama/20150210/30...</td>\n",
       "      <td>http://web.archive.org/web/20150315163311/http...</td>\n",
       "      <td>20150210</td>\n",
       "      <td>Experte: Rund 1,3 Millionen wehrpflichtige Ukr...</td>\n",
       "      <td>In letzter Zeit sei knapp einer halben Million...</td>\n",
       "      <td>OVER-THRESHOLD</td>\n",
       "      <td>flüchtlingsstatus asyl flüchtlinge</td>\n",
       "      <td>43</td>\n",
       "      <td>0.549350</td>\n",
       "    </tr>\n",
       "    <tr>\n",
       "      <th>2</th>\n",
       "      <td>http://de.sputniknews.compolitik/2018111732299...</td>\n",
       "      <td>http://web.archive.org/web/20181117160304/http...</td>\n",
       "      <td>20181117</td>\n",
       "      <td>So präzisiert Nahles ihre Idee für Hartz IV-Al...</td>\n",
       "      <td>{                    \\vars\\\": {               ...</td>\n",
       "      <td>OVER-THRESHOLD</td>\n",
       "      <td>migration</td>\n",
       "      <td>884</td>\n",
       "      <td>0.549179</td>\n",
       "    </tr>\n",
       "    <tr>\n",
       "      <th>3</th>\n",
       "      <td>http://de.sputniknews.compolitik/2018110932290...</td>\n",
       "      <td>http://web.archive.org/web/20181123020955/http...</td>\n",
       "      <td>20181109</td>\n",
       "      <td>Trump beschränkt drastisch Asylgewährung für i...</td>\n",
       "      <td>{                    \\vars\\\": {               ...</td>\n",
       "      <td>OVER-THRESHOLD</td>\n",
       "      <td>einwanderer migranten asyl</td>\n",
       "      <td>998</td>\n",
       "      <td>0.548637</td>\n",
       "    </tr>\n",
       "    <tr>\n",
       "      <th>4</th>\n",
       "      <td>http://de.sputniknews.compolitik/2016030630828...</td>\n",
       "      <td>http://web.archive.org/web/20181126055753/http...</td>\n",
       "      <td>20160306</td>\n",
       "      <td>Österreich drängt auf deutsches Flüchtlingskon...</td>\n",
       "      <td>{                    \\vars\\\": {               ...</td>\n",
       "      <td>OVER-THRESHOLD</td>\n",
       "      <td>asyl flüchtlinge migranten asylanträge flüchtl...</td>\n",
       "      <td>699</td>\n",
       "      <td>0.547927</td>\n",
       "    </tr>\n",
       "  </tbody>\n",
       "</table>\n",
       "</div>"
      ],
      "text/plain": [
       "                                                   0  \\\n",
       "0  http://de.sputniknews.compolitik/2016010730696...   \n",
       "1  http://de.sputniknews.com/panorama/20150210/30...   \n",
       "2  http://de.sputniknews.compolitik/2018111732299...   \n",
       "3  http://de.sputniknews.compolitik/2018110932290...   \n",
       "4  http://de.sputniknews.compolitik/2016030630828...   \n",
       "\n",
       "                                                   1         2  \\\n",
       "0  http://web.archive.org/web/20170227192503/http...  20160107   \n",
       "1  http://web.archive.org/web/20150315163311/http...  20150210   \n",
       "2  http://web.archive.org/web/20181117160304/http...  20181117   \n",
       "3  http://web.archive.org/web/20181123020955/http...  20181109   \n",
       "4  http://web.archive.org/web/20181126055753/http...  20160306   \n",
       "\n",
       "                                                   3  \\\n",
       "0  FDP-Chef Lindner: Merkels Flüchtlingspolitik f...   \n",
       "1  Experte: Rund 1,3 Millionen wehrpflichtige Ukr...   \n",
       "2  So präzisiert Nahles ihre Idee für Hartz IV-Al...   \n",
       "3  Trump beschränkt drastisch Asylgewährung für i...   \n",
       "4  Österreich drängt auf deutsches Flüchtlingskon...   \n",
       "\n",
       "                                                   4               5  \\\n",
       "0  Der Satz „Wir schaffen das“ der Bundeskanzleri...  OVER-THRESHOLD   \n",
       "1  In letzter Zeit sei knapp einer halben Million...  OVER-THRESHOLD   \n",
       "2  {                    \\vars\\\": {               ...  OVER-THRESHOLD   \n",
       "3  {                    \\vars\\\": {               ...  OVER-THRESHOLD   \n",
       "4  {                    \\vars\\\": {               ...  OVER-THRESHOLD   \n",
       "\n",
       "                                                   6    7         8  \n",
       "0                 flüchtlingen migranten flüchtlinge   70  0.572646  \n",
       "1                 flüchtlingsstatus asyl flüchtlinge   43  0.549350  \n",
       "2                                          migration  884  0.549179  \n",
       "3                         einwanderer migranten asyl  998  0.548637  \n",
       "4  asyl flüchtlinge migranten asylanträge flüchtl...  699  0.547927  "
      ]
     },
     "execution_count": 17,
     "metadata": {},
     "output_type": "execute_result"
    }
   ],
   "source": [
    "sputnikdata.head()"
   ]
  },
  {
   "cell_type": "code",
   "execution_count": 18,
   "metadata": {},
   "outputs": [
    {
     "data": {
      "text/html": [
       "<div>\n",
       "<style scoped>\n",
       "    .dataframe tbody tr th:only-of-type {\n",
       "        vertical-align: middle;\n",
       "    }\n",
       "\n",
       "    .dataframe tbody tr th {\n",
       "        vertical-align: top;\n",
       "    }\n",
       "\n",
       "    .dataframe thead th {\n",
       "        text-align: right;\n",
       "    }\n",
       "</style>\n",
       "<table border=\"1\" class=\"dataframe\">\n",
       "  <thead>\n",
       "    <tr style=\"text-align: right;\">\n",
       "      <th></th>\n",
       "      <th>2</th>\n",
       "      <th>3</th>\n",
       "    </tr>\n",
       "  </thead>\n",
       "  <tbody>\n",
       "    <tr>\n",
       "      <th>0</th>\n",
       "      <td>20160107</td>\n",
       "      <td>FDP-Chef Lindner: Merkels Flüchtlingspolitik f...</td>\n",
       "    </tr>\n",
       "    <tr>\n",
       "      <th>1</th>\n",
       "      <td>20150210</td>\n",
       "      <td>Experte: Rund 1,3 Millionen wehrpflichtige Ukr...</td>\n",
       "    </tr>\n",
       "    <tr>\n",
       "      <th>2</th>\n",
       "      <td>20181117</td>\n",
       "      <td>So präzisiert Nahles ihre Idee für Hartz IV-Al...</td>\n",
       "    </tr>\n",
       "    <tr>\n",
       "      <th>3</th>\n",
       "      <td>20181109</td>\n",
       "      <td>Trump beschränkt drastisch Asylgewährung für i...</td>\n",
       "    </tr>\n",
       "    <tr>\n",
       "      <th>4</th>\n",
       "      <td>20160306</td>\n",
       "      <td>Österreich drängt auf deutsches Flüchtlingskon...</td>\n",
       "    </tr>\n",
       "    <tr>\n",
       "      <th>5</th>\n",
       "      <td>20151016</td>\n",
       "      <td>Migrationskrise: Warschau wehrt sich gegen Mer...</td>\n",
       "    </tr>\n",
       "    <tr>\n",
       "      <th>6</th>\n",
       "      <td>20151020</td>\n",
       "      <td>Flüchtlingskrise: Ist Abriegeln eine Lösung?</td>\n",
       "    </tr>\n",
       "    <tr>\n",
       "      <th>7</th>\n",
       "      <td>20140106</td>\n",
       "      <td>Großbritannien will EU-Freizügigkeit verhindern</td>\n",
       "    </tr>\n",
       "    <tr>\n",
       "      <th>8</th>\n",
       "      <td>20180813</td>\n",
       "      <td>Rückkehr von Flüchtlingen: Syrischer Minister ...</td>\n",
       "    </tr>\n",
       "    <tr>\n",
       "      <th>9</th>\n",
       "      <td>20170219</td>\n",
       "      <td>USA verschärfen Asyl-Recht</td>\n",
       "    </tr>\n",
       "    <tr>\n",
       "      <th>10</th>\n",
       "      <td>20151228</td>\n",
       "      <td>Dänemark will die Flüchtlingskonvention ändern</td>\n",
       "    </tr>\n",
       "    <tr>\n",
       "      <th>11</th>\n",
       "      <td>20160614</td>\n",
       "      <td>Glaube darf nicht über Gesetz stehen: Bundesju...</td>\n",
       "    </tr>\n",
       "    <tr>\n",
       "      <th>12</th>\n",
       "      <td>20181210</td>\n",
       "      <td>Gibt es ein Menschenrecht auf Migration?</td>\n",
       "    </tr>\n",
       "    <tr>\n",
       "      <th>13</th>\n",
       "      <td>20151102</td>\n",
       "      <td>Kabul nimmt abgelehnte Asylbewerber aus Deutsc...</td>\n",
       "    </tr>\n",
       "    <tr>\n",
       "      <th>14</th>\n",
       "      <td>20170307</td>\n",
       "      <td>EuGH-Urteil: Keine \\humanitären Visa\\\" in EU-A...</td>\n",
       "    </tr>\n",
       "    <tr>\n",
       "      <th>15</th>\n",
       "      <td>20170207</td>\n",
       "      <td>Kalifornien und Trump erklären einander den Kr...</td>\n",
       "    </tr>\n",
       "    <tr>\n",
       "      <th>16</th>\n",
       "      <td>20180619</td>\n",
       "      <td>Kinder von Eltern zu trennen ist skrupellos – ...</td>\n",
       "    </tr>\n",
       "    <tr>\n",
       "      <th>17</th>\n",
       "      <td>20180914</td>\n",
       "      <td>EU will Ungarn „Recht auf Kontrolle eigener Gr...</td>\n",
       "    </tr>\n",
       "    <tr>\n",
       "      <th>18</th>\n",
       "      <td>20131106</td>\n",
       "      <td>Festung Europa - von Migranten und Flüchtlingen</td>\n",
       "    </tr>\n",
       "    <tr>\n",
       "      <th>19</th>\n",
       "      <td>20170715</td>\n",
       "      <td>Selbstanzeigen unter Flüchtlingen „wegen Terro...</td>\n",
       "    </tr>\n",
       "  </tbody>\n",
       "</table>\n",
       "</div>"
      ],
      "text/plain": [
       "           2                                                  3\n",
       "0   20160107  FDP-Chef Lindner: Merkels Flüchtlingspolitik f...\n",
       "1   20150210  Experte: Rund 1,3 Millionen wehrpflichtige Ukr...\n",
       "2   20181117  So präzisiert Nahles ihre Idee für Hartz IV-Al...\n",
       "3   20181109  Trump beschränkt drastisch Asylgewährung für i...\n",
       "4   20160306  Österreich drängt auf deutsches Flüchtlingskon...\n",
       "5   20151016  Migrationskrise: Warschau wehrt sich gegen Mer...\n",
       "6   20151020       Flüchtlingskrise: Ist Abriegeln eine Lösung?\n",
       "7   20140106    Großbritannien will EU-Freizügigkeit verhindern\n",
       "8   20180813  Rückkehr von Flüchtlingen: Syrischer Minister ...\n",
       "9   20170219                         USA verschärfen Asyl-Recht\n",
       "10  20151228     Dänemark will die Flüchtlingskonvention ändern\n",
       "11  20160614  Glaube darf nicht über Gesetz stehen: Bundesju...\n",
       "12  20181210           Gibt es ein Menschenrecht auf Migration?\n",
       "13  20151102  Kabul nimmt abgelehnte Asylbewerber aus Deutsc...\n",
       "14  20170307  EuGH-Urteil: Keine \\humanitären Visa\\\" in EU-A...\n",
       "15  20170207  Kalifornien und Trump erklären einander den Kr...\n",
       "16  20180619  Kinder von Eltern zu trennen ist skrupellos – ...\n",
       "17  20180914  EU will Ungarn „Recht auf Kontrolle eigener Gr...\n",
       "18  20131106    Festung Europa - von Migranten und Flüchtlingen\n",
       "19  20170715  Selbstanzeigen unter Flüchtlingen „wegen Terro..."
      ]
     },
     "execution_count": 18,
     "metadata": {},
     "output_type": "execute_result"
    }
   ],
   "source": [
    "#remove not needed columns\n",
    "sputnikdata2 = sputnikdata.drop(sputnikdata.columns[[0, 1,4, 5,6,7,8]], axis=1)  # df.columns is zero-based pd.Index \n",
    "sputnikdata2"
   ]
  },
  {
   "cell_type": "code",
   "execution_count": 19,
   "metadata": {},
   "outputs": [
    {
     "data": {
      "text/html": [
       "<div>\n",
       "<style scoped>\n",
       "    .dataframe tbody tr th:only-of-type {\n",
       "        vertical-align: middle;\n",
       "    }\n",
       "\n",
       "    .dataframe tbody tr th {\n",
       "        vertical-align: top;\n",
       "    }\n",
       "\n",
       "    .dataframe thead th {\n",
       "        text-align: right;\n",
       "    }\n",
       "</style>\n",
       "<table border=\"1\" class=\"dataframe\">\n",
       "  <thead>\n",
       "    <tr style=\"text-align: right;\">\n",
       "      <th></th>\n",
       "      <th>2</th>\n",
       "      <th>3</th>\n",
       "      <th>lowercased</th>\n",
       "    </tr>\n",
       "  </thead>\n",
       "  <tbody>\n",
       "    <tr>\n",
       "      <th>0</th>\n",
       "      <td>20160107</td>\n",
       "      <td>FDP-Chef Lindner: Merkels Flüchtlingspolitik f...</td>\n",
       "      <td>fdp-chef lindner: merkels flüchtlingspolitik f...</td>\n",
       "    </tr>\n",
       "    <tr>\n",
       "      <th>1</th>\n",
       "      <td>20150210</td>\n",
       "      <td>Experte: Rund 1,3 Millionen wehrpflichtige Ukr...</td>\n",
       "      <td>experte: rund 1,3 millionen wehrpflichtige ukr...</td>\n",
       "    </tr>\n",
       "    <tr>\n",
       "      <th>2</th>\n",
       "      <td>20181117</td>\n",
       "      <td>So präzisiert Nahles ihre Idee für Hartz IV-Al...</td>\n",
       "      <td>so präzisiert nahles ihre idee für hartz iv-al...</td>\n",
       "    </tr>\n",
       "    <tr>\n",
       "      <th>3</th>\n",
       "      <td>20181109</td>\n",
       "      <td>Trump beschränkt drastisch Asylgewährung für i...</td>\n",
       "      <td>trump beschränkt drastisch asylgewährung für i...</td>\n",
       "    </tr>\n",
       "    <tr>\n",
       "      <th>4</th>\n",
       "      <td>20160306</td>\n",
       "      <td>Österreich drängt auf deutsches Flüchtlingskon...</td>\n",
       "      <td>österreich drängt auf deutsches flüchtlingskon...</td>\n",
       "    </tr>\n",
       "    <tr>\n",
       "      <th>5</th>\n",
       "      <td>20151016</td>\n",
       "      <td>Migrationskrise: Warschau wehrt sich gegen Mer...</td>\n",
       "      <td>migrationskrise: warschau wehrt sich gegen mer...</td>\n",
       "    </tr>\n",
       "    <tr>\n",
       "      <th>6</th>\n",
       "      <td>20151020</td>\n",
       "      <td>Flüchtlingskrise: Ist Abriegeln eine Lösung?</td>\n",
       "      <td>flüchtlingskrise: ist abriegeln eine lösung?</td>\n",
       "    </tr>\n",
       "    <tr>\n",
       "      <th>7</th>\n",
       "      <td>20140106</td>\n",
       "      <td>Großbritannien will EU-Freizügigkeit verhindern</td>\n",
       "      <td>großbritannien will eu-freizügigkeit verhindern</td>\n",
       "    </tr>\n",
       "    <tr>\n",
       "      <th>8</th>\n",
       "      <td>20180813</td>\n",
       "      <td>Rückkehr von Flüchtlingen: Syrischer Minister ...</td>\n",
       "      <td>rückkehr von flüchtlingen: syrischer minister ...</td>\n",
       "    </tr>\n",
       "    <tr>\n",
       "      <th>9</th>\n",
       "      <td>20170219</td>\n",
       "      <td>USA verschärfen Asyl-Recht</td>\n",
       "      <td>usa verschärfen asyl-recht</td>\n",
       "    </tr>\n",
       "    <tr>\n",
       "      <th>10</th>\n",
       "      <td>20151228</td>\n",
       "      <td>Dänemark will die Flüchtlingskonvention ändern</td>\n",
       "      <td>dänemark will die flüchtlingskonvention ändern</td>\n",
       "    </tr>\n",
       "    <tr>\n",
       "      <th>11</th>\n",
       "      <td>20160614</td>\n",
       "      <td>Glaube darf nicht über Gesetz stehen: Bundesju...</td>\n",
       "      <td>glaube darf nicht über gesetz stehen: bundesju...</td>\n",
       "    </tr>\n",
       "    <tr>\n",
       "      <th>12</th>\n",
       "      <td>20181210</td>\n",
       "      <td>Gibt es ein Menschenrecht auf Migration?</td>\n",
       "      <td>gibt es ein menschenrecht auf migration?</td>\n",
       "    </tr>\n",
       "    <tr>\n",
       "      <th>13</th>\n",
       "      <td>20151102</td>\n",
       "      <td>Kabul nimmt abgelehnte Asylbewerber aus Deutsc...</td>\n",
       "      <td>kabul nimmt abgelehnte asylbewerber aus deutsc...</td>\n",
       "    </tr>\n",
       "    <tr>\n",
       "      <th>14</th>\n",
       "      <td>20170307</td>\n",
       "      <td>EuGH-Urteil: Keine \\humanitären Visa\\\" in EU-A...</td>\n",
       "      <td>eugh-urteil: keine \\humanitären visa\\\" in eu-a...</td>\n",
       "    </tr>\n",
       "    <tr>\n",
       "      <th>15</th>\n",
       "      <td>20170207</td>\n",
       "      <td>Kalifornien und Trump erklären einander den Kr...</td>\n",
       "      <td>kalifornien und trump erklären einander den kr...</td>\n",
       "    </tr>\n",
       "    <tr>\n",
       "      <th>16</th>\n",
       "      <td>20180619</td>\n",
       "      <td>Kinder von Eltern zu trennen ist skrupellos – ...</td>\n",
       "      <td>kinder von eltern zu trennen ist skrupellos – ...</td>\n",
       "    </tr>\n",
       "    <tr>\n",
       "      <th>17</th>\n",
       "      <td>20180914</td>\n",
       "      <td>EU will Ungarn „Recht auf Kontrolle eigener Gr...</td>\n",
       "      <td>eu will ungarn „recht auf kontrolle eigener gr...</td>\n",
       "    </tr>\n",
       "    <tr>\n",
       "      <th>18</th>\n",
       "      <td>20131106</td>\n",
       "      <td>Festung Europa - von Migranten und Flüchtlingen</td>\n",
       "      <td>festung europa - von migranten und flüchtlingen</td>\n",
       "    </tr>\n",
       "    <tr>\n",
       "      <th>19</th>\n",
       "      <td>20170715</td>\n",
       "      <td>Selbstanzeigen unter Flüchtlingen „wegen Terro...</td>\n",
       "      <td>selbstanzeigen unter flüchtlingen „wegen terro...</td>\n",
       "    </tr>\n",
       "  </tbody>\n",
       "</table>\n",
       "</div>"
      ],
      "text/plain": [
       "           2                                                  3  \\\n",
       "0   20160107  FDP-Chef Lindner: Merkels Flüchtlingspolitik f...   \n",
       "1   20150210  Experte: Rund 1,3 Millionen wehrpflichtige Ukr...   \n",
       "2   20181117  So präzisiert Nahles ihre Idee für Hartz IV-Al...   \n",
       "3   20181109  Trump beschränkt drastisch Asylgewährung für i...   \n",
       "4   20160306  Österreich drängt auf deutsches Flüchtlingskon...   \n",
       "5   20151016  Migrationskrise: Warschau wehrt sich gegen Mer...   \n",
       "6   20151020       Flüchtlingskrise: Ist Abriegeln eine Lösung?   \n",
       "7   20140106    Großbritannien will EU-Freizügigkeit verhindern   \n",
       "8   20180813  Rückkehr von Flüchtlingen: Syrischer Minister ...   \n",
       "9   20170219                         USA verschärfen Asyl-Recht   \n",
       "10  20151228     Dänemark will die Flüchtlingskonvention ändern   \n",
       "11  20160614  Glaube darf nicht über Gesetz stehen: Bundesju...   \n",
       "12  20181210           Gibt es ein Menschenrecht auf Migration?   \n",
       "13  20151102  Kabul nimmt abgelehnte Asylbewerber aus Deutsc...   \n",
       "14  20170307  EuGH-Urteil: Keine \\humanitären Visa\\\" in EU-A...   \n",
       "15  20170207  Kalifornien und Trump erklären einander den Kr...   \n",
       "16  20180619  Kinder von Eltern zu trennen ist skrupellos – ...   \n",
       "17  20180914  EU will Ungarn „Recht auf Kontrolle eigener Gr...   \n",
       "18  20131106    Festung Europa - von Migranten und Flüchtlingen   \n",
       "19  20170715  Selbstanzeigen unter Flüchtlingen „wegen Terro...   \n",
       "\n",
       "                                           lowercased  \n",
       "0   fdp-chef lindner: merkels flüchtlingspolitik f...  \n",
       "1   experte: rund 1,3 millionen wehrpflichtige ukr...  \n",
       "2   so präzisiert nahles ihre idee für hartz iv-al...  \n",
       "3   trump beschränkt drastisch asylgewährung für i...  \n",
       "4   österreich drängt auf deutsches flüchtlingskon...  \n",
       "5   migrationskrise: warschau wehrt sich gegen mer...  \n",
       "6        flüchtlingskrise: ist abriegeln eine lösung?  \n",
       "7     großbritannien will eu-freizügigkeit verhindern  \n",
       "8   rückkehr von flüchtlingen: syrischer minister ...  \n",
       "9                          usa verschärfen asyl-recht  \n",
       "10     dänemark will die flüchtlingskonvention ändern  \n",
       "11  glaube darf nicht über gesetz stehen: bundesju...  \n",
       "12           gibt es ein menschenrecht auf migration?  \n",
       "13  kabul nimmt abgelehnte asylbewerber aus deutsc...  \n",
       "14  eugh-urteil: keine \\humanitären visa\\\" in eu-a...  \n",
       "15  kalifornien und trump erklären einander den kr...  \n",
       "16  kinder von eltern zu trennen ist skrupellos – ...  \n",
       "17  eu will ungarn „recht auf kontrolle eigener gr...  \n",
       "18    festung europa - von migranten und flüchtlingen  \n",
       "19  selbstanzeigen unter flüchtlingen „wegen terro...  "
      ]
     },
     "execution_count": 19,
     "metadata": {},
     "output_type": "execute_result"
    }
   ],
   "source": [
    "#lowercase\n",
    "sputnikdata2[\"lowercased\"]=sputnikdata2[3].str.lower()\n",
    "sputnikdata2"
   ]
  },
  {
   "cell_type": "code",
   "execution_count": 20,
   "metadata": {
    "collapsed": true
   },
   "outputs": [],
   "source": [
    "## remove punctuation\n",
    "sputnikdata2[\"nopunct\"] = sputnikdata2['lowercased'].str.replace('[^\\w\\s]','')\n"
   ]
  },
  {
   "cell_type": "code",
   "execution_count": 21,
   "metadata": {},
   "outputs": [
    {
     "data": {
      "text/html": [
       "<div>\n",
       "<style scoped>\n",
       "    .dataframe tbody tr th:only-of-type {\n",
       "        vertical-align: middle;\n",
       "    }\n",
       "\n",
       "    .dataframe tbody tr th {\n",
       "        vertical-align: top;\n",
       "    }\n",
       "\n",
       "    .dataframe thead th {\n",
       "        text-align: right;\n",
       "    }\n",
       "</style>\n",
       "<table border=\"1\" class=\"dataframe\">\n",
       "  <thead>\n",
       "    <tr style=\"text-align: right;\">\n",
       "      <th></th>\n",
       "      <th>2</th>\n",
       "      <th>3</th>\n",
       "      <th>lowercased</th>\n",
       "      <th>nopunct</th>\n",
       "    </tr>\n",
       "  </thead>\n",
       "  <tbody>\n",
       "    <tr>\n",
       "      <th>0</th>\n",
       "      <td>20160107</td>\n",
       "      <td>FDP-Chef Lindner: Merkels Flüchtlingspolitik f...</td>\n",
       "      <td>fdp-chef lindner: merkels flüchtlingspolitik f...</td>\n",
       "      <td>fdpchef lindner merkels flüchtlingspolitik füh...</td>\n",
       "    </tr>\n",
       "    <tr>\n",
       "      <th>1</th>\n",
       "      <td>20150210</td>\n",
       "      <td>Experte: Rund 1,3 Millionen wehrpflichtige Ukr...</td>\n",
       "      <td>experte: rund 1,3 millionen wehrpflichtige ukr...</td>\n",
       "      <td>experte rund 13 millionen wehrpflichtige ukrai...</td>\n",
       "    </tr>\n",
       "    <tr>\n",
       "      <th>2</th>\n",
       "      <td>20181117</td>\n",
       "      <td>So präzisiert Nahles ihre Idee für Hartz IV-Al...</td>\n",
       "      <td>so präzisiert nahles ihre idee für hartz iv-al...</td>\n",
       "      <td>so präzisiert nahles ihre idee für hartz ivalt...</td>\n",
       "    </tr>\n",
       "    <tr>\n",
       "      <th>3</th>\n",
       "      <td>20181109</td>\n",
       "      <td>Trump beschränkt drastisch Asylgewährung für i...</td>\n",
       "      <td>trump beschränkt drastisch asylgewährung für i...</td>\n",
       "      <td>trump beschränkt drastisch asylgewährung für i...</td>\n",
       "    </tr>\n",
       "    <tr>\n",
       "      <th>4</th>\n",
       "      <td>20160306</td>\n",
       "      <td>Österreich drängt auf deutsches Flüchtlingskon...</td>\n",
       "      <td>österreich drängt auf deutsches flüchtlingskon...</td>\n",
       "      <td>österreich drängt auf deutsches flüchtlingskon...</td>\n",
       "    </tr>\n",
       "  </tbody>\n",
       "</table>\n",
       "</div>"
      ],
      "text/plain": [
       "          2                                                  3  \\\n",
       "0  20160107  FDP-Chef Lindner: Merkels Flüchtlingspolitik f...   \n",
       "1  20150210  Experte: Rund 1,3 Millionen wehrpflichtige Ukr...   \n",
       "2  20181117  So präzisiert Nahles ihre Idee für Hartz IV-Al...   \n",
       "3  20181109  Trump beschränkt drastisch Asylgewährung für i...   \n",
       "4  20160306  Österreich drängt auf deutsches Flüchtlingskon...   \n",
       "\n",
       "                                          lowercased  \\\n",
       "0  fdp-chef lindner: merkels flüchtlingspolitik f...   \n",
       "1  experte: rund 1,3 millionen wehrpflichtige ukr...   \n",
       "2  so präzisiert nahles ihre idee für hartz iv-al...   \n",
       "3  trump beschränkt drastisch asylgewährung für i...   \n",
       "4  österreich drängt auf deutsches flüchtlingskon...   \n",
       "\n",
       "                                             nopunct  \n",
       "0  fdpchef lindner merkels flüchtlingspolitik füh...  \n",
       "1  experte rund 13 millionen wehrpflichtige ukrai...  \n",
       "2  so präzisiert nahles ihre idee für hartz ivalt...  \n",
       "3  trump beschränkt drastisch asylgewährung für i...  \n",
       "4  österreich drängt auf deutsches flüchtlingskon...  "
      ]
     },
     "execution_count": 21,
     "metadata": {},
     "output_type": "execute_result"
    }
   ],
   "source": [
    "sputnikdata2.head()"
   ]
  },
  {
   "cell_type": "code",
   "execution_count": 22,
   "metadata": {
    "collapsed": true
   },
   "outputs": [],
   "source": [
    "#remove numbers\n",
    "\n",
    "sputnikdata2['nonumb'] = sputnikdata2['nopunct'].str.replace('\\d+', '')\n"
   ]
  },
  {
   "cell_type": "code",
   "execution_count": 23,
   "metadata": {},
   "outputs": [
    {
     "data": {
      "text/html": [
       "<div>\n",
       "<style scoped>\n",
       "    .dataframe tbody tr th:only-of-type {\n",
       "        vertical-align: middle;\n",
       "    }\n",
       "\n",
       "    .dataframe tbody tr th {\n",
       "        vertical-align: top;\n",
       "    }\n",
       "\n",
       "    .dataframe thead th {\n",
       "        text-align: right;\n",
       "    }\n",
       "</style>\n",
       "<table border=\"1\" class=\"dataframe\">\n",
       "  <thead>\n",
       "    <tr style=\"text-align: right;\">\n",
       "      <th></th>\n",
       "      <th>2</th>\n",
       "      <th>3</th>\n",
       "      <th>lowercased</th>\n",
       "      <th>nopunct</th>\n",
       "      <th>nonumb</th>\n",
       "    </tr>\n",
       "  </thead>\n",
       "  <tbody>\n",
       "    <tr>\n",
       "      <th>0</th>\n",
       "      <td>20160107</td>\n",
       "      <td>FDP-Chef Lindner: Merkels Flüchtlingspolitik f...</td>\n",
       "      <td>fdp-chef lindner: merkels flüchtlingspolitik f...</td>\n",
       "      <td>fdpchef lindner merkels flüchtlingspolitik füh...</td>\n",
       "      <td>fdpchef lindner merkels flüchtlingspolitik füh...</td>\n",
       "    </tr>\n",
       "    <tr>\n",
       "      <th>1</th>\n",
       "      <td>20150210</td>\n",
       "      <td>Experte: Rund 1,3 Millionen wehrpflichtige Ukr...</td>\n",
       "      <td>experte: rund 1,3 millionen wehrpflichtige ukr...</td>\n",
       "      <td>experte rund 13 millionen wehrpflichtige ukrai...</td>\n",
       "      <td>experte rund  millionen wehrpflichtige ukraine...</td>\n",
       "    </tr>\n",
       "    <tr>\n",
       "      <th>2</th>\n",
       "      <td>20181117</td>\n",
       "      <td>So präzisiert Nahles ihre Idee für Hartz IV-Al...</td>\n",
       "      <td>so präzisiert nahles ihre idee für hartz iv-al...</td>\n",
       "      <td>so präzisiert nahles ihre idee für hartz ivalt...</td>\n",
       "      <td>so präzisiert nahles ihre idee für hartz ivalt...</td>\n",
       "    </tr>\n",
       "    <tr>\n",
       "      <th>3</th>\n",
       "      <td>20181109</td>\n",
       "      <td>Trump beschränkt drastisch Asylgewährung für i...</td>\n",
       "      <td>trump beschränkt drastisch asylgewährung für i...</td>\n",
       "      <td>trump beschränkt drastisch asylgewährung für i...</td>\n",
       "      <td>trump beschränkt drastisch asylgewährung für i...</td>\n",
       "    </tr>\n",
       "    <tr>\n",
       "      <th>4</th>\n",
       "      <td>20160306</td>\n",
       "      <td>Österreich drängt auf deutsches Flüchtlingskon...</td>\n",
       "      <td>österreich drängt auf deutsches flüchtlingskon...</td>\n",
       "      <td>österreich drängt auf deutsches flüchtlingskon...</td>\n",
       "      <td>österreich drängt auf deutsches flüchtlingskon...</td>\n",
       "    </tr>\n",
       "  </tbody>\n",
       "</table>\n",
       "</div>"
      ],
      "text/plain": [
       "          2                                                  3  \\\n",
       "0  20160107  FDP-Chef Lindner: Merkels Flüchtlingspolitik f...   \n",
       "1  20150210  Experte: Rund 1,3 Millionen wehrpflichtige Ukr...   \n",
       "2  20181117  So präzisiert Nahles ihre Idee für Hartz IV-Al...   \n",
       "3  20181109  Trump beschränkt drastisch Asylgewährung für i...   \n",
       "4  20160306  Österreich drängt auf deutsches Flüchtlingskon...   \n",
       "\n",
       "                                          lowercased  \\\n",
       "0  fdp-chef lindner: merkels flüchtlingspolitik f...   \n",
       "1  experte: rund 1,3 millionen wehrpflichtige ukr...   \n",
       "2  so präzisiert nahles ihre idee für hartz iv-al...   \n",
       "3  trump beschränkt drastisch asylgewährung für i...   \n",
       "4  österreich drängt auf deutsches flüchtlingskon...   \n",
       "\n",
       "                                             nopunct  \\\n",
       "0  fdpchef lindner merkels flüchtlingspolitik füh...   \n",
       "1  experte rund 13 millionen wehrpflichtige ukrai...   \n",
       "2  so präzisiert nahles ihre idee für hartz ivalt...   \n",
       "3  trump beschränkt drastisch asylgewährung für i...   \n",
       "4  österreich drängt auf deutsches flüchtlingskon...   \n",
       "\n",
       "                                              nonumb  \n",
       "0  fdpchef lindner merkels flüchtlingspolitik füh...  \n",
       "1  experte rund  millionen wehrpflichtige ukraine...  \n",
       "2  so präzisiert nahles ihre idee für hartz ivalt...  \n",
       "3  trump beschränkt drastisch asylgewährung für i...  \n",
       "4  österreich drängt auf deutsches flüchtlingskon...  "
      ]
     },
     "execution_count": 23,
     "metadata": {},
     "output_type": "execute_result"
    }
   ],
   "source": [
    "sputnikdata2.head()"
   ]
  },
  {
   "cell_type": "code",
   "execution_count": 25,
   "metadata": {
    "collapsed": true
   },
   "outputs": [],
   "source": [
    "#remove stopwords\n",
    "from nltk.corpus import stopwords\n",
    "stop_words = stopwords.words('german')"
   ]
  },
  {
   "cell_type": "code",
   "execution_count": 26,
   "metadata": {},
   "outputs": [
    {
     "data": {
      "text/html": [
       "<div>\n",
       "<style scoped>\n",
       "    .dataframe tbody tr th:only-of-type {\n",
       "        vertical-align: middle;\n",
       "    }\n",
       "\n",
       "    .dataframe tbody tr th {\n",
       "        vertical-align: top;\n",
       "    }\n",
       "\n",
       "    .dataframe thead th {\n",
       "        text-align: right;\n",
       "    }\n",
       "</style>\n",
       "<table border=\"1\" class=\"dataframe\">\n",
       "  <thead>\n",
       "    <tr style=\"text-align: right;\">\n",
       "      <th></th>\n",
       "      <th>2</th>\n",
       "      <th>3</th>\n",
       "      <th>lowercased</th>\n",
       "      <th>nopunct</th>\n",
       "      <th>nonumb</th>\n",
       "      <th>without_stopwords</th>\n",
       "    </tr>\n",
       "  </thead>\n",
       "  <tbody>\n",
       "    <tr>\n",
       "      <th>0</th>\n",
       "      <td>20160107</td>\n",
       "      <td>FDP-Chef Lindner: Merkels Flüchtlingspolitik f...</td>\n",
       "      <td>fdp-chef lindner: merkels flüchtlingspolitik f...</td>\n",
       "      <td>fdpchef lindner merkels flüchtlingspolitik füh...</td>\n",
       "      <td>fdpchef lindner merkels flüchtlingspolitik füh...</td>\n",
       "      <td>fdpchef lindner merkels flüchtlingspolitik füh...</td>\n",
       "    </tr>\n",
       "    <tr>\n",
       "      <th>1</th>\n",
       "      <td>20150210</td>\n",
       "      <td>Experte: Rund 1,3 Millionen wehrpflichtige Ukr...</td>\n",
       "      <td>experte: rund 1,3 millionen wehrpflichtige ukr...</td>\n",
       "      <td>experte rund 13 millionen wehrpflichtige ukrai...</td>\n",
       "      <td>experte rund  millionen wehrpflichtige ukraine...</td>\n",
       "      <td>experte rund millionen wehrpflichtige ukrainer...</td>\n",
       "    </tr>\n",
       "    <tr>\n",
       "      <th>2</th>\n",
       "      <td>20181117</td>\n",
       "      <td>So präzisiert Nahles ihre Idee für Hartz IV-Al...</td>\n",
       "      <td>so präzisiert nahles ihre idee für hartz iv-al...</td>\n",
       "      <td>so präzisiert nahles ihre idee für hartz ivalt...</td>\n",
       "      <td>so präzisiert nahles ihre idee für hartz ivalt...</td>\n",
       "      <td>präzisiert nahles idee hartz ivalternative</td>\n",
       "    </tr>\n",
       "    <tr>\n",
       "      <th>3</th>\n",
       "      <td>20181109</td>\n",
       "      <td>Trump beschränkt drastisch Asylgewährung für i...</td>\n",
       "      <td>trump beschränkt drastisch asylgewährung für i...</td>\n",
       "      <td>trump beschränkt drastisch asylgewährung für i...</td>\n",
       "      <td>trump beschränkt drastisch asylgewährung für i...</td>\n",
       "      <td>trump beschränkt drastisch asylgewährung illeg...</td>\n",
       "    </tr>\n",
       "    <tr>\n",
       "      <th>4</th>\n",
       "      <td>20160306</td>\n",
       "      <td>Österreich drängt auf deutsches Flüchtlingskon...</td>\n",
       "      <td>österreich drängt auf deutsches flüchtlingskon...</td>\n",
       "      <td>österreich drängt auf deutsches flüchtlingskon...</td>\n",
       "      <td>österreich drängt auf deutsches flüchtlingskon...</td>\n",
       "      <td>österreich drängt deutsches flüchtlingskontingent</td>\n",
       "    </tr>\n",
       "    <tr>\n",
       "      <th>5</th>\n",
       "      <td>20151016</td>\n",
       "      <td>Migrationskrise: Warschau wehrt sich gegen Mer...</td>\n",
       "      <td>migrationskrise: warschau wehrt sich gegen mer...</td>\n",
       "      <td>migrationskrise warschau wehrt sich gegen merk...</td>\n",
       "      <td>migrationskrise warschau wehrt sich gegen merk...</td>\n",
       "      <td>migrationskrise warschau wehrt merkels flüchtl...</td>\n",
       "    </tr>\n",
       "    <tr>\n",
       "      <th>6</th>\n",
       "      <td>20151020</td>\n",
       "      <td>Flüchtlingskrise: Ist Abriegeln eine Lösung?</td>\n",
       "      <td>flüchtlingskrise: ist abriegeln eine lösung?</td>\n",
       "      <td>flüchtlingskrise ist abriegeln eine lösung</td>\n",
       "      <td>flüchtlingskrise ist abriegeln eine lösung</td>\n",
       "      <td>flüchtlingskrise abriegeln lösung</td>\n",
       "    </tr>\n",
       "    <tr>\n",
       "      <th>7</th>\n",
       "      <td>20140106</td>\n",
       "      <td>Großbritannien will EU-Freizügigkeit verhindern</td>\n",
       "      <td>großbritannien will eu-freizügigkeit verhindern</td>\n",
       "      <td>großbritannien will eufreizügigkeit verhindern</td>\n",
       "      <td>großbritannien will eufreizügigkeit verhindern</td>\n",
       "      <td>großbritannien eufreizügigkeit verhindern</td>\n",
       "    </tr>\n",
       "    <tr>\n",
       "      <th>8</th>\n",
       "      <td>20180813</td>\n",
       "      <td>Rückkehr von Flüchtlingen: Syrischer Minister ...</td>\n",
       "      <td>rückkehr von flüchtlingen: syrischer minister ...</td>\n",
       "      <td>rückkehr von flüchtlingen syrischer minister a...</td>\n",
       "      <td>rückkehr von flüchtlingen syrischer minister a...</td>\n",
       "      <td>rückkehr flüchtlingen syrischer minister appel...</td>\n",
       "    </tr>\n",
       "    <tr>\n",
       "      <th>9</th>\n",
       "      <td>20170219</td>\n",
       "      <td>USA verschärfen Asyl-Recht</td>\n",
       "      <td>usa verschärfen asyl-recht</td>\n",
       "      <td>usa verschärfen asylrecht</td>\n",
       "      <td>usa verschärfen asylrecht</td>\n",
       "      <td>usa verschärfen asylrecht</td>\n",
       "    </tr>\n",
       "    <tr>\n",
       "      <th>10</th>\n",
       "      <td>20151228</td>\n",
       "      <td>Dänemark will die Flüchtlingskonvention ändern</td>\n",
       "      <td>dänemark will die flüchtlingskonvention ändern</td>\n",
       "      <td>dänemark will die flüchtlingskonvention ändern</td>\n",
       "      <td>dänemark will die flüchtlingskonvention ändern</td>\n",
       "      <td>dänemark flüchtlingskonvention ändern</td>\n",
       "    </tr>\n",
       "    <tr>\n",
       "      <th>11</th>\n",
       "      <td>20160614</td>\n",
       "      <td>Glaube darf nicht über Gesetz stehen: Bundesju...</td>\n",
       "      <td>glaube darf nicht über gesetz stehen: bundesju...</td>\n",
       "      <td>glaube darf nicht über gesetz stehen bundesjus...</td>\n",
       "      <td>glaube darf nicht über gesetz stehen bundesjus...</td>\n",
       "      <td>glaube darf gesetz stehen bundesjustizminister...</td>\n",
       "    </tr>\n",
       "    <tr>\n",
       "      <th>12</th>\n",
       "      <td>20181210</td>\n",
       "      <td>Gibt es ein Menschenrecht auf Migration?</td>\n",
       "      <td>gibt es ein menschenrecht auf migration?</td>\n",
       "      <td>gibt es ein menschenrecht auf migration</td>\n",
       "      <td>gibt es ein menschenrecht auf migration</td>\n",
       "      <td>gibt menschenrecht migration</td>\n",
       "    </tr>\n",
       "    <tr>\n",
       "      <th>13</th>\n",
       "      <td>20151102</td>\n",
       "      <td>Kabul nimmt abgelehnte Asylbewerber aus Deutsc...</td>\n",
       "      <td>kabul nimmt abgelehnte asylbewerber aus deutsc...</td>\n",
       "      <td>kabul nimmt abgelehnte asylbewerber aus deutsc...</td>\n",
       "      <td>kabul nimmt abgelehnte asylbewerber aus deutsc...</td>\n",
       "      <td>kabul nimmt abgelehnte asylbewerber deutschland</td>\n",
       "    </tr>\n",
       "    <tr>\n",
       "      <th>14</th>\n",
       "      <td>20170307</td>\n",
       "      <td>EuGH-Urteil: Keine \\humanitären Visa\\\" in EU-A...</td>\n",
       "      <td>eugh-urteil: keine \\humanitären visa\\\" in eu-a...</td>\n",
       "      <td>eughurteil keine humanitären visa in euausland...</td>\n",
       "      <td>eughurteil keine humanitären visa in euausland...</td>\n",
       "      <td>eughurteil humanitären visa euauslandsbotschaften</td>\n",
       "    </tr>\n",
       "    <tr>\n",
       "      <th>15</th>\n",
       "      <td>20170207</td>\n",
       "      <td>Kalifornien und Trump erklären einander den Kr...</td>\n",
       "      <td>kalifornien und trump erklären einander den kr...</td>\n",
       "      <td>kalifornien und trump erklären einander den kr...</td>\n",
       "      <td>kalifornien und trump erklären einander den kr...</td>\n",
       "      <td>kalifornien trump erklären einander krieg wp</td>\n",
       "    </tr>\n",
       "    <tr>\n",
       "      <th>16</th>\n",
       "      <td>20180619</td>\n",
       "      <td>Kinder von Eltern zu trennen ist skrupellos – ...</td>\n",
       "      <td>kinder von eltern zu trennen ist skrupellos – ...</td>\n",
       "      <td>kinder von eltern zu trennen ist skrupellos  u...</td>\n",
       "      <td>kinder von eltern zu trennen ist skrupellos  u...</td>\n",
       "      <td>kinder eltern trennen skrupellos unmenschenrec...</td>\n",
       "    </tr>\n",
       "    <tr>\n",
       "      <th>17</th>\n",
       "      <td>20180914</td>\n",
       "      <td>EU will Ungarn „Recht auf Kontrolle eigener Gr...</td>\n",
       "      <td>eu will ungarn „recht auf kontrolle eigener gr...</td>\n",
       "      <td>eu will ungarn recht auf kontrolle eigener gre...</td>\n",
       "      <td>eu will ungarn recht auf kontrolle eigener gre...</td>\n",
       "      <td>eu ungarn recht kontrolle eigener grenzen entz...</td>\n",
       "    </tr>\n",
       "    <tr>\n",
       "      <th>18</th>\n",
       "      <td>20131106</td>\n",
       "      <td>Festung Europa - von Migranten und Flüchtlingen</td>\n",
       "      <td>festung europa - von migranten und flüchtlingen</td>\n",
       "      <td>festung europa  von migranten und flüchtlingen</td>\n",
       "      <td>festung europa  von migranten und flüchtlingen</td>\n",
       "      <td>festung europa migranten flüchtlingen</td>\n",
       "    </tr>\n",
       "    <tr>\n",
       "      <th>19</th>\n",
       "      <td>20170715</td>\n",
       "      <td>Selbstanzeigen unter Flüchtlingen „wegen Terro...</td>\n",
       "      <td>selbstanzeigen unter flüchtlingen „wegen terro...</td>\n",
       "      <td>selbstanzeigen unter flüchtlingen wegen terror...</td>\n",
       "      <td>selbstanzeigen unter flüchtlingen wegen terror...</td>\n",
       "      <td>selbstanzeigen flüchtlingen wegen terrors wuch...</td>\n",
       "    </tr>\n",
       "  </tbody>\n",
       "</table>\n",
       "</div>"
      ],
      "text/plain": [
       "           2                                                  3  \\\n",
       "0   20160107  FDP-Chef Lindner: Merkels Flüchtlingspolitik f...   \n",
       "1   20150210  Experte: Rund 1,3 Millionen wehrpflichtige Ukr...   \n",
       "2   20181117  So präzisiert Nahles ihre Idee für Hartz IV-Al...   \n",
       "3   20181109  Trump beschränkt drastisch Asylgewährung für i...   \n",
       "4   20160306  Österreich drängt auf deutsches Flüchtlingskon...   \n",
       "5   20151016  Migrationskrise: Warschau wehrt sich gegen Mer...   \n",
       "6   20151020       Flüchtlingskrise: Ist Abriegeln eine Lösung?   \n",
       "7   20140106    Großbritannien will EU-Freizügigkeit verhindern   \n",
       "8   20180813  Rückkehr von Flüchtlingen: Syrischer Minister ...   \n",
       "9   20170219                         USA verschärfen Asyl-Recht   \n",
       "10  20151228     Dänemark will die Flüchtlingskonvention ändern   \n",
       "11  20160614  Glaube darf nicht über Gesetz stehen: Bundesju...   \n",
       "12  20181210           Gibt es ein Menschenrecht auf Migration?   \n",
       "13  20151102  Kabul nimmt abgelehnte Asylbewerber aus Deutsc...   \n",
       "14  20170307  EuGH-Urteil: Keine \\humanitären Visa\\\" in EU-A...   \n",
       "15  20170207  Kalifornien und Trump erklären einander den Kr...   \n",
       "16  20180619  Kinder von Eltern zu trennen ist skrupellos – ...   \n",
       "17  20180914  EU will Ungarn „Recht auf Kontrolle eigener Gr...   \n",
       "18  20131106    Festung Europa - von Migranten und Flüchtlingen   \n",
       "19  20170715  Selbstanzeigen unter Flüchtlingen „wegen Terro...   \n",
       "\n",
       "                                           lowercased  \\\n",
       "0   fdp-chef lindner: merkels flüchtlingspolitik f...   \n",
       "1   experte: rund 1,3 millionen wehrpflichtige ukr...   \n",
       "2   so präzisiert nahles ihre idee für hartz iv-al...   \n",
       "3   trump beschränkt drastisch asylgewährung für i...   \n",
       "4   österreich drängt auf deutsches flüchtlingskon...   \n",
       "5   migrationskrise: warschau wehrt sich gegen mer...   \n",
       "6        flüchtlingskrise: ist abriegeln eine lösung?   \n",
       "7     großbritannien will eu-freizügigkeit verhindern   \n",
       "8   rückkehr von flüchtlingen: syrischer minister ...   \n",
       "9                          usa verschärfen asyl-recht   \n",
       "10     dänemark will die flüchtlingskonvention ändern   \n",
       "11  glaube darf nicht über gesetz stehen: bundesju...   \n",
       "12           gibt es ein menschenrecht auf migration?   \n",
       "13  kabul nimmt abgelehnte asylbewerber aus deutsc...   \n",
       "14  eugh-urteil: keine \\humanitären visa\\\" in eu-a...   \n",
       "15  kalifornien und trump erklären einander den kr...   \n",
       "16  kinder von eltern zu trennen ist skrupellos – ...   \n",
       "17  eu will ungarn „recht auf kontrolle eigener gr...   \n",
       "18    festung europa - von migranten und flüchtlingen   \n",
       "19  selbstanzeigen unter flüchtlingen „wegen terro...   \n",
       "\n",
       "                                              nopunct  \\\n",
       "0   fdpchef lindner merkels flüchtlingspolitik füh...   \n",
       "1   experte rund 13 millionen wehrpflichtige ukrai...   \n",
       "2   so präzisiert nahles ihre idee für hartz ivalt...   \n",
       "3   trump beschränkt drastisch asylgewährung für i...   \n",
       "4   österreich drängt auf deutsches flüchtlingskon...   \n",
       "5   migrationskrise warschau wehrt sich gegen merk...   \n",
       "6          flüchtlingskrise ist abriegeln eine lösung   \n",
       "7      großbritannien will eufreizügigkeit verhindern   \n",
       "8   rückkehr von flüchtlingen syrischer minister a...   \n",
       "9                           usa verschärfen asylrecht   \n",
       "10     dänemark will die flüchtlingskonvention ändern   \n",
       "11  glaube darf nicht über gesetz stehen bundesjus...   \n",
       "12            gibt es ein menschenrecht auf migration   \n",
       "13  kabul nimmt abgelehnte asylbewerber aus deutsc...   \n",
       "14  eughurteil keine humanitären visa in euausland...   \n",
       "15  kalifornien und trump erklären einander den kr...   \n",
       "16  kinder von eltern zu trennen ist skrupellos  u...   \n",
       "17  eu will ungarn recht auf kontrolle eigener gre...   \n",
       "18     festung europa  von migranten und flüchtlingen   \n",
       "19  selbstanzeigen unter flüchtlingen wegen terror...   \n",
       "\n",
       "                                               nonumb  \\\n",
       "0   fdpchef lindner merkels flüchtlingspolitik füh...   \n",
       "1   experte rund  millionen wehrpflichtige ukraine...   \n",
       "2   so präzisiert nahles ihre idee für hartz ivalt...   \n",
       "3   trump beschränkt drastisch asylgewährung für i...   \n",
       "4   österreich drängt auf deutsches flüchtlingskon...   \n",
       "5   migrationskrise warschau wehrt sich gegen merk...   \n",
       "6          flüchtlingskrise ist abriegeln eine lösung   \n",
       "7      großbritannien will eufreizügigkeit verhindern   \n",
       "8   rückkehr von flüchtlingen syrischer minister a...   \n",
       "9                           usa verschärfen asylrecht   \n",
       "10     dänemark will die flüchtlingskonvention ändern   \n",
       "11  glaube darf nicht über gesetz stehen bundesjus...   \n",
       "12            gibt es ein menschenrecht auf migration   \n",
       "13  kabul nimmt abgelehnte asylbewerber aus deutsc...   \n",
       "14  eughurteil keine humanitären visa in euausland...   \n",
       "15  kalifornien und trump erklären einander den kr...   \n",
       "16  kinder von eltern zu trennen ist skrupellos  u...   \n",
       "17  eu will ungarn recht auf kontrolle eigener gre...   \n",
       "18     festung europa  von migranten und flüchtlingen   \n",
       "19  selbstanzeigen unter flüchtlingen wegen terror...   \n",
       "\n",
       "                                    without_stopwords  \n",
       "0   fdpchef lindner merkels flüchtlingspolitik füh...  \n",
       "1   experte rund millionen wehrpflichtige ukrainer...  \n",
       "2          präzisiert nahles idee hartz ivalternative  \n",
       "3   trump beschränkt drastisch asylgewährung illeg...  \n",
       "4   österreich drängt deutsches flüchtlingskontingent  \n",
       "5   migrationskrise warschau wehrt merkels flüchtl...  \n",
       "6                   flüchtlingskrise abriegeln lösung  \n",
       "7           großbritannien eufreizügigkeit verhindern  \n",
       "8   rückkehr flüchtlingen syrischer minister appel...  \n",
       "9                           usa verschärfen asylrecht  \n",
       "10              dänemark flüchtlingskonvention ändern  \n",
       "11  glaube darf gesetz stehen bundesjustizminister...  \n",
       "12                       gibt menschenrecht migration  \n",
       "13    kabul nimmt abgelehnte asylbewerber deutschland  \n",
       "14  eughurteil humanitären visa euauslandsbotschaften  \n",
       "15       kalifornien trump erklären einander krieg wp  \n",
       "16  kinder eltern trennen skrupellos unmenschenrec...  \n",
       "17  eu ungarn recht kontrolle eigener grenzen entz...  \n",
       "18              festung europa migranten flüchtlingen  \n",
       "19  selbstanzeigen flüchtlingen wegen terrors wuch...  "
      ]
     },
     "execution_count": 26,
     "metadata": {},
     "output_type": "execute_result"
    }
   ],
   "source": [
    "sputnikdata2['without_stopwords'] = sputnikdata2['nonumb'].apply(lambda x: ' '.join([word for word in x.split() if word not in (stop_words)]))\n",
    "sputnikdata2"
   ]
  },
  {
   "cell_type": "code",
   "execution_count": null,
   "metadata": {
    "collapsed": true
   },
   "outputs": [],
   "source": []
  },
  {
   "cell_type": "code",
   "execution_count": 27,
   "metadata": {},
   "outputs": [
    {
     "data": {
      "text/plain": [
       "[('flüchtlingen', 3),\n",
       " ('merkels', 2),\n",
       " ('europa', 2),\n",
       " ('trump', 2),\n",
       " ('migranten', 2),\n",
       " ('deutschland', 2),\n",
       " ('usa', 2),\n",
       " ('fdpchef', 1),\n",
       " ('lindner', 1),\n",
       " ('flüchtlingspolitik', 1)]"
      ]
     },
     "execution_count": 27,
     "metadata": {},
     "output_type": "execute_result"
    }
   ],
   "source": [
    "from collections import Counter\n",
    "counts= Counter(\" \".join(sputnikdata2[\"without_stopwords\"]).split()).most_common(10)\n",
    "counts"
   ]
  },
  {
   "cell_type": "code",
   "execution_count": 28,
   "metadata": {},
   "outputs": [
    {
     "data": {
      "image/png": "[encoded data removed]",
      "text/plain": [
       "<Figure size 432x288 with 1 Axes>"
      ]
     },
     "metadata": {},
     "output_type": "display_data"
    }
   ],
   "source": [
    "import matplotlib.pyplot as plt\n",
    "%matplotlib inline\n",
    "\n",
    "pd.DataFrame(counts, columns=['lbl','val']).set_index('lbl').plot(kind='bar');\n"
   ]
  },
  {
   "cell_type": "code",
   "execution_count": 29,
   "metadata": {},
   "outputs": [
    {
     "data": {
      "text/plain": [
       "auf            4\n",
       "–              4\n",
       "will           4\n",
       "von            3\n",
       "migranten      2\n",
       "europa         2\n",
       "deutschland    2\n",
       "usa            2\n",
       "und            2\n",
       "-              2\n",
       "dtype: int64"
      ]
     },
     "execution_count": 29,
     "metadata": {},
     "output_type": "execute_result"
    }
   ],
   "source": [
    "pd.Series(' '.join(sputnikdata2[3]).lower().split()).value_counts()[:10]\n",
    "#what happened here"
   ]
  },
  {
   "cell_type": "markdown",
   "metadata": {},
   "source": [
    "## Exporting data\n"
   ]
  },
  {
   "cell_type": "code",
   "execution_count": null,
   "metadata": {
    "collapsed": true
   },
   "outputs": [],
   "source": [
    "sputnikdata2.to_csv(\"mydata.csv\", sep='\\t', encoding='utf-8')"
   ]
  },
  {
   "cell_type": "markdown",
   "metadata": {},
   "source": [
    "# Numpy\n",
    "\n",
    "This library provides you with an array data structure that holds some benefits over Python lists, such as: \n",
    "- being more compact, \n",
    "- faster access in reading and writing items, \n",
    "- being more convenient and more efficient.\n",
    "- core library for scientific computing\n",
    "\n",
    "Learning numpy is going to become very useful when we deal with word-embeddinge next week!\n",
    "\n",
    "\n",
    "### create numpy arrays\n",
    "\n",
    "- we can create them from lists, tuples, etc\n",
    "- from data that we read in\n",
    "- using functions\n"
   ]
  },
  {
   "cell_type": "markdown",
   "metadata": {},
   "source": [
    "## Create Numpy Arrays\n"
   ]
  },
  {
   "cell_type": "markdown",
   "metadata": {},
   "source": [
    "### import from list"
   ]
  },
  {
   "cell_type": "code",
   "execution_count": 30,
   "metadata": {},
   "outputs": [
    {
     "data": {
      "text/plain": [
       "array([1, 2, 3, 4])"
      ]
     },
     "execution_count": 30,
     "metadata": {},
     "output_type": "execute_result"
    }
   ],
   "source": [
    "vector = array([1,2,3,4])\n",
    "vector"
   ]
  },
  {
   "cell_type": "code",
   "execution_count": 31,
   "metadata": {},
   "outputs": [
    {
     "name": "stdout",
     "output_type": "stream",
     "text": [
      "<class 'numpy.ndarray'>\n"
     ]
    }
   ],
   "source": [
    "print(type(vector))"
   ]
  },
  {
   "cell_type": "markdown",
   "metadata": {},
   "source": [
    "### matrix"
   ]
  },
  {
   "cell_type": "code",
   "execution_count": 32,
   "metadata": {},
   "outputs": [
    {
     "data": {
      "text/plain": [
       "array([[1, 2],\n",
       "       [3, 4]])"
      ]
     },
     "execution_count": 32,
     "metadata": {},
     "output_type": "execute_result"
    }
   ],
   "source": [
    "matrix = array([[1, 2], [3, 4]])\n",
    "matrix\n"
   ]
  },
  {
   "cell_type": "code",
   "execution_count": 33,
   "metadata": {},
   "outputs": [
    {
     "name": "stdout",
     "output_type": "stream",
     "text": [
      "<class 'numpy.ndarray'>\n"
     ]
    }
   ],
   "source": [
    "print(type(matrix))"
   ]
  },
  {
   "cell_type": "markdown",
   "metadata": {},
   "source": [
    "### checking their shape"
   ]
  },
  {
   "cell_type": "code",
   "execution_count": 34,
   "metadata": {},
   "outputs": [
    {
     "name": "stdout",
     "output_type": "stream",
     "text": [
      "(2, 2)\n",
      "(4,)\n"
     ]
    }
   ],
   "source": [
    "print(matrix.shape)\n",
    "print(vector.shape)\n",
    "\n",
    "#columns, rows"
   ]
  },
  {
   "cell_type": "markdown",
   "metadata": {
    "collapsed": true
   },
   "source": [
    "### checking size, how many elements?"
   ]
  },
  {
   "cell_type": "code",
   "execution_count": 35,
   "metadata": {},
   "outputs": [
    {
     "name": "stdout",
     "output_type": "stream",
     "text": [
      "4\n",
      "4\n"
     ]
    }
   ],
   "source": [
    "print(matrix.size)\n",
    "print(matrix.size)"
   ]
  },
  {
   "cell_type": "markdown",
   "metadata": {},
   "source": [
    "### we can not assign strings to numpy arrays"
   ]
  },
  {
   "cell_type": "code",
   "execution_count": 36,
   "metadata": {},
   "outputs": [
    {
     "ename": "ValueError",
     "evalue": "invalid literal for int() with base 10: 'newvalue'",
     "output_type": "error",
     "traceback": [
      "\u001b[0;31m---------------------------------------------------------------------------\u001b[0m",
      "\u001b[0;31mValueError\u001b[0m                                Traceback (most recent call last)",
      "\u001b[0;32m<ipython-input-36-8f38706f3118>\u001b[0m in \u001b[0;36m<module>\u001b[0;34m()\u001b[0m\n\u001b[0;32m----> 1\u001b[0;31m \u001b[0mmatrix\u001b[0m\u001b[0;34m[\u001b[0m\u001b[0;36m0\u001b[0m\u001b[0;34m,\u001b[0m\u001b[0;36m0\u001b[0m\u001b[0;34m]\u001b[0m \u001b[0;34m=\u001b[0m \u001b[0;34m\"newvalue\"\u001b[0m\u001b[0;34m\u001b[0m\u001b[0;34m\u001b[0m\u001b[0m\n\u001b[0m",
      "\u001b[0;31mValueError\u001b[0m: invalid literal for int() with base 10: 'newvalue'"
     ]
    }
   ],
   "source": [
    "matrix[0,0] = \"newvalue\""
   ]
  },
  {
   "cell_type": "markdown",
   "metadata": {},
   "source": [
    "### Employing array functions"
   ]
  },
  {
   "cell_type": "code",
   "execution_count": 37,
   "metadata": {},
   "outputs": [
    {
     "data": {
      "text/plain": [
       "array([0, 1, 2, 3, 4, 5, 6, 7, 8, 9])"
      ]
     },
     "execution_count": 37,
     "metadata": {},
     "output_type": "execute_result"
    }
   ],
   "source": [
    "# create a range\n",
    "\n",
    "x = arange(0, 10, 1) # arguments: start, stop, step\n",
    "\n",
    "x"
   ]
  },
  {
   "cell_type": "code",
   "execution_count": 38,
   "metadata": {},
   "outputs": [
    {
     "data": {
      "text/plain": [
       "array([[0.63864856, 0.59089421, 0.15632693, 0.5351408 , 0.09440788],\n",
       "       [0.60104482, 0.60870018, 0.88146028, 0.97405032, 0.88479094],\n",
       "       [0.09347289, 0.3797731 , 0.36684452, 0.56662495, 0.04797569],\n",
       "       [0.67514501, 0.75688953, 0.15891747, 0.65640645, 0.05657412],\n",
       "       [0.82893748, 0.82067302, 0.87837655, 0.27669047, 0.95883573]])"
      ]
     },
     "execution_count": 38,
     "metadata": {},
     "output_type": "execute_result"
    }
   ],
   "source": [
    "#lets create a matrix with 5*5 random data\n",
    "random.rand(5,5)"
   ]
  },
  {
   "cell_type": "code",
   "execution_count": 39,
   "metadata": {},
   "outputs": [
    {
     "data": {
      "text/plain": [
       "array([[ 0.15893342, -1.46218821, -0.48149857, -0.62729046,  0.4201284 ],\n",
       "       [ 2.4489779 , -0.73270806, -1.24887009, -2.04339958,  0.87147145],\n",
       "       [ 0.14359937, -1.15722358,  1.62525574,  0.66783408, -0.1936124 ],\n",
       "       [ 1.05595642, -1.167382  , -1.05430594,  1.37905317,  0.93814251],\n",
       "       [ 0.06102939,  1.16951171, -1.16934506, -0.54406284, -0.30826701]])"
      ]
     },
     "execution_count": 39,
     "metadata": {},
     "output_type": "execute_result"
    }
   ],
   "source": [
    "# standard normal distributed random numbers\n",
    "random.randn(5,5)"
   ]
  },
  {
   "cell_type": "code",
   "execution_count": 40,
   "metadata": {},
   "outputs": [
    {
     "data": {
      "text/plain": [
       "array([[0., 0., 0.],\n",
       "       [0., 0., 0.],\n",
       "       [0., 0., 0.]])"
      ]
     },
     "execution_count": 40,
     "metadata": {},
     "output_type": "execute_result"
    }
   ],
   "source": [
    "zeros((3,3))"
   ]
  },
  {
   "cell_type": "markdown",
   "metadata": {},
   "source": [
    "### Indexing"
   ]
  },
  {
   "cell_type": "code",
   "execution_count": 41,
   "metadata": {},
   "outputs": [
    {
     "data": {
      "text/plain": [
       "1"
      ]
     },
     "execution_count": 41,
     "metadata": {},
     "output_type": "execute_result"
    }
   ],
   "source": [
    "vector = array([1,2,3,4])\n",
    "vector[0]"
   ]
  },
  {
   "cell_type": "code",
   "execution_count": 42,
   "metadata": {},
   "outputs": [
    {
     "data": {
      "text/plain": [
       "array([[1, 2],\n",
       "       [3, 4]])"
      ]
     },
     "execution_count": 42,
     "metadata": {},
     "output_type": "execute_result"
    }
   ],
   "source": [
    "matrix\n"
   ]
  },
  {
   "cell_type": "code",
   "execution_count": 43,
   "metadata": {},
   "outputs": [
    {
     "data": {
      "text/plain": [
       "4"
      ]
     },
     "execution_count": 43,
     "metadata": {},
     "output_type": "execute_result"
    }
   ],
   "source": [
    "matrix[1,1]"
   ]
  },
  {
   "cell_type": "code",
   "execution_count": 44,
   "metadata": {},
   "outputs": [
    {
     "data": {
      "text/plain": [
       "array([3, 4])"
      ]
     },
     "execution_count": 44,
     "metadata": {},
     "output_type": "execute_result"
    }
   ],
   "source": [
    "matrix[1,:] # row 1"
   ]
  },
  {
   "cell_type": "code",
   "execution_count": 45,
   "metadata": {},
   "outputs": [
    {
     "data": {
      "text/plain": [
       "array([2, 4])"
      ]
     },
     "execution_count": 45,
     "metadata": {},
     "output_type": "execute_result"
    }
   ],
   "source": [
    "matrix[:,1] # column 1"
   ]
  },
  {
   "cell_type": "code",
   "execution_count": 46,
   "metadata": {},
   "outputs": [
    {
     "data": {
      "text/plain": [
       "array([[1, 0],\n",
       "       [3, 4]])"
      ]
     },
     "execution_count": 46,
     "metadata": {},
     "output_type": "execute_result"
    }
   ],
   "source": [
    "##asign values\n",
    "\n",
    "matrix[0,1] = 0 #rows, columns\n",
    "matrix"
   ]
  },
  {
   "cell_type": "code",
   "execution_count": null,
   "metadata": {
    "collapsed": true
   },
   "outputs": [],
   "source": [
    "### read data from numpys"
   ]
  },
  {
   "cell_type": "code",
   "execution_count": 47,
   "metadata": {},
   "outputs": [
    {
     "data": {
      "text/plain": [
       "array([[6.11882430e+02, 9.08956010e+03, 5.13300000e+03, 8.64075140e+02,\n",
       "        1.71537476e+03, 7.65227770e+02, 1.29111196e+12],\n",
       "       [6.11882430e+02, 9.08956010e+03, 5.13300000e+03, 8.64075140e+02,\n",
       "        1.71537476e+03, 7.65227770e+02, 1.29111311e+12],\n",
       "       [6.11882430e+02, 9.08956010e+03, 5.13300000e+03, 8.64075140e+02,\n",
       "        1.71537476e+03, 7.65227770e+02, 1.29112065e+12]])"
      ]
     },
     "execution_count": 47,
     "metadata": {},
     "output_type": "execute_result"
    }
   ],
   "source": [
    "data= np.loadtxt(open(\"/Users/Ashrakat/Dropbox/University/Oxford/Jobs/Teaching/Text Analysis/code/Basics-of-Text-Analysis-for-Political-Science/Data/numpydata.csv\", \"rb\"),\\\n",
    "              delimiter=\",\", skiprows=1)\n",
    "data"
   ]
  },
  {
   "cell_type": "code",
   "execution_count": 48,
   "metadata": {},
   "outputs": [
    {
     "data": {
      "text/plain": [
       "array([611.88243, 611.88243, 611.88243])"
      ]
     },
     "execution_count": 48,
     "metadata": {},
     "output_type": "execute_result"
    }
   ],
   "source": [
    "#if we want to take a look at the first column\n",
    "data[:,0]"
   ]
  },
  {
   "cell_type": "code",
   "execution_count": null,
   "metadata": {
    "collapsed": true
   },
   "outputs": [],
   "source": [
    "data.shape"
   ]
  },
  {
   "cell_type": "code",
   "execution_count": null,
   "metadata": {
    "collapsed": true
   },
   "outputs": [],
   "source": []
  },
  {
   "cell_type": "code",
   "execution_count": 49,
   "metadata": {},
   "outputs": [
    {
     "data": {
      "text/plain": [
       "765.22777"
      ]
     },
     "execution_count": 49,
     "metadata": {},
     "output_type": "execute_result"
    }
   ],
   "source": [
    "data[:,5].mean() #column 5 mean"
   ]
  },
  {
   "cell_type": "code",
   "execution_count": null,
   "metadata": {
    "collapsed": true
   },
   "outputs": [],
   "source": [
    "### store data"
   ]
  },
  {
   "cell_type": "code",
   "execution_count": 50,
   "metadata": {
    "collapsed": true
   },
   "outputs": [],
   "source": [
    "M = random.rand(3,3)\n",
    "savetxt(\"random-matrix.csv\", M)"
   ]
  },
  {
   "cell_type": "markdown",
   "metadata": {
    "collapsed": true
   },
   "source": [
    "\n",
    "![pandas2](https://media.giphy.com/media/EatwJZRUIv41G/giphy.gif)\n"
   ]
  },
  {
   "cell_type": "markdown",
   "metadata": {},
   "source": [
    "# Excercises:"
   ]
  },
  {
   "cell_type": "markdown",
   "metadata": {},
   "source": [
    "**Excercise 1**\n",
    "\n",
    "In Pandas\n",
    "\n",
    "- a) use sputnikgerman20 data\n",
    "- b) check the length of the dataframe\n",
    "- c) take a random sample of 5 rows\n",
    "- d) remove all columns, but keep columns 2, 3 and 4 (remeber python starts counting at 0)\n",
    "- e) rename those columns date, title, and content (old 2 is date 3 is title, old 4 is content)\n",
    "- f) merge title and content in a new column (while keeping the old columns) - title_content\n",
    "- g) write a datacleaning function, that will do the main steps we discussed\n",
    "- h) clean column title_content\n",
    "- i) in the data variable/column keep only the year (remove months and day)"
   ]
  },
  {
   "cell_type": "markdown",
   "metadata": {},
   "source": [
    "**Excercise 2**\n",
    "\n",
    "This data set is about congressional sanctions. Each document of the congress that issues sanctions has a different id, saved in the column id-snippet\n",
    "\n",
    "1. Load data - sascat_excerpt.tsv in a pandas dataframe\n",
    "2. Rename the last variable = content\n",
    "3. get the averages a) of the number of words, b) number of sentences\n",
    "3. keep only these columns id-snippet and content\n",
    "5. count number of words in content column, create a new column and paste the total count there\n",
    "6. export data as tsv\n"
   ]
  },
  {
   "cell_type": "markdown",
   "metadata": {},
   "source": [
    "**Excercise 3**\n",
    "\n",
    "Use the data from excercise 2 (column content) to:\n",
    "\n",
    "- Identify mentions of countries in each sanctions documents\n",
    "- You will need to identify the total number of country mentions\n",
    "- You will also need to identify which countries  are mentioned\n",
    "- You need two new columns: a) mentions of countries 2) column that saves the names of each country mentioned\n",
    "\n",
    "The dictionary of countries is saved below.\n",
    "\n",
    "You can choose to do this in pandas or in any other way (check what we have learned in class)."
   ]
  },
  {
   "cell_type": "code",
   "execution_count": null,
   "metadata": {
    "collapsed": true
   },
   "outputs": [],
   "source": [
    "countries = ['United States of America', 'Canada', 'Bahamas', 'Cuba', 'Haiti', 'Dominican Republic', 'Jamaica', 'Trinidad and Tobago', 'Barbados', 'Mexico', 'Belize', 'Guatemala', 'Honduras', 'El Salvador', 'Nicaragua', 'Costa Rica', 'Panama', 'Colombia', 'Venezuela', 'Guyana', 'Surinam', 'Ecuador', 'Peru', 'Brazil', 'Bolivia', 'Paraguay', 'Chile', 'Argentina', 'Uruguay', 'United Kingdom', 'Ireland', 'Netherlands', 'Belgium', 'Luxembourg', 'France', 'Switzerland', 'Spain', 'Portugal', 'German Federal Republic', 'German Democratic Republic', 'Poland', 'Austria', 'Hungary', 'Czechoslovakia', 'Czech Republic', 'Slovakia', 'Italy/Sardinia', 'Malta', 'Albania', 'Montenegro', 'Macedonia (Former Yugoslav Republic of)', 'Croatia', 'Serbia', 'Yugoslavia', 'Bosnia-Herzegovina', 'Kosovo', 'Slovenia', 'Greece', 'Cyprus', 'Bulgaria', 'Moldova', 'Rumania', 'Russia (Soviet Union)', 'Estonia', 'Latvia', 'Lithuania', 'Ukraine', 'Belarus (Byelorussia)', 'Armenia', 'Georgia', 'Azerbaijan', 'Finland', 'Sweden', 'Norway', 'Denmark', 'Iceland', 'Cape Verde', 'Guinea-Bissau', 'Equatorial Guinea', 'Gambia', 'Mali', 'Senegal', 'Benin', 'Mauritania', 'Niger', 'Cote D\\x92Ivoire', 'Guinea', 'Burkina Faso (Upper Volta)', 'Liberia', 'Sierra Leone', 'Ghana', 'Togo', 'Cameroon', 'Nigeria', 'Gabon', 'Central African Republic', 'Chad', 'Congo', 'Congo, Democratic Republic of (Zaire)', 'Uganda', 'Kenya', 'Tanzania/Tanganyika', 'Zanzibar', 'Burundi', 'Rwanda', 'Somalia', 'Djibouti', 'Ethiopia', 'Eritrea', 'Angola', 'Mozambique', 'Zambia', 'Zimbabwe (Rhodesia)', 'Malawi', 'South Africa', 'Namibia', 'Lesotho', 'Botswana', 'Swaziland', 'Madagascar', 'Comoros', 'Mauritius', 'Morocco', 'Algeria', 'Tunisia', 'Libya', 'Sudan', 'South Sudan', 'Iran (Persia)', 'Turkey (Ottoman Empire)', 'Iraq', 'Egypt', 'Syria', 'Lebanon', 'Jordan', 'Israel', 'Saudi Arabia', 'Yemen (Arab Republic of Yemen)', \"Yemen, People's Republic of\", 'Kuwait', 'Bahrain', 'Qatar', 'United Arab Emirates', 'Oman', 'Afghanistan', 'Turkmenistan', 'Tajikistan', 'Kyrgyz Republic', 'Uzbekistan', 'Kazakhstan', 'China', 'Tibet', 'Mongolia', 'Taiwan', \"Korea, People's Republic of\", 'Korea, Republic of', 'Japan', 'India', 'Bhutan', 'Pakistan', 'Bangladesh', 'Myanmar (Burma)', 'Sri Lanka (Ceylon)', 'Maldives', 'Nepal', 'Thailand', 'Cambodia (Kampuchea)', 'Laos', 'Vietnam, Democratic Republic of', 'Vietnam, Republic of', 'Malaysia', 'Singapore', 'Brunei', 'Philippines', 'Indonesia', 'East Timor', 'Australia', 'Papua New Guinea', 'New Zealand', 'Solomon Islands', 'Fiji']\n"
   ]
  },
  {
   "cell_type": "markdown",
   "metadata": {},
   "source": [
    "**Excercise 4**\n",
    "\n",
    "Create an array of the following list:\n",
    "list1=[1,2,3,4,5,6]"
   ]
  },
  {
   "cell_type": "markdown",
   "metadata": {},
   "source": [
    "**Excercise 5**\n",
    "\n",
    "Create a matrix that hosts the numbers from 0-20. It should have 4 rows and 5 columns\n"
   ]
  },
  {
   "cell_type": "markdown",
   "metadata": {},
   "source": [
    "**Excercise 6**\n",
    "\n",
    "Create a numpy array of 1's. In a 3*4 matrix."
   ]
  },
  {
   "cell_type": "markdown",
   "metadata": {},
   "source": [
    "**Excercise 7**\n",
    "\n",
    "\n",
    "Create a numpy array of random numbers in 10*3 matrix"
   ]
  },
  {
   "cell_type": "markdown",
   "metadata": {},
   "source": [
    "**Excercise 8**\n",
    "\n",
    "1. Write code to check what the first 4 items of this array are\n",
    "2. Change the first two items to -1 and -2\n",
    "\n",
    "a_array = array([6,7,20,300,1,3,4])\n"
   ]
  },
  {
   "cell_type": "markdown",
   "metadata": {},
   "source": [
    "**Excercise 9**\n",
    "\n",
    "1. multiply the following array with itself\n",
    "\n",
    "a_array = array([6,7,20,300,1,3,4])\n"
   ]
  },
  {
   "cell_type": "markdown",
   "metadata": {},
   "source": [
    "** Excercise 10**\n",
    "\n",
    "1. check the shape of the matrix\n",
    "2. Add the numbers in positions as an extra column in position 0\n",
    "\n"
   ]
  },
  {
   "cell_type": "code",
   "execution_count": null,
   "metadata": {
    "collapsed": true
   },
   "outputs": [],
   "source": [
    "matrix = [[0.1, 0.3], [0.7, 0.8], [0.8, 0.8]]\n",
    "\n",
    "positions = [10, 20, 30]\n"
   ]
  },
  {
   "cell_type": "markdown",
   "metadata": {},
   "source": [
    "**Excercise 11**\n",
    "\n",
    "*Practicing Loops*:\n",
    "\n",
    "Print First 10 natural numbers using while loop\n",
    "\n"
   ]
  },
  {
   "cell_type": "markdown",
   "metadata": {},
   "source": [
    "** Excercise 12**\n",
    "\n",
    "*Practicing Loops*:\n",
    "\n",
    "Print -10 to -1 using for loop\n"
   ]
  },
  {
   "cell_type": "markdown",
   "metadata": {},
   "source": [
    "**Excercise 13**\n",
    "\n",
    "*Practicing Manipulating Data in Pandas*:\n",
    "\n",
    "\n",
    "- Use pandas to create two dataframes from the dictionaries below\n",
    "- Merge both dataframes, so that the second data frame is a new column to the first data frame.\n"
   ]
  },
  {
   "cell_type": "code",
   "execution_count": null,
   "metadata": {
    "collapsed": true
   },
   "outputs": [],
   "source": [
    "itemsavailable = {'Product': ['Nivea', 'Clinique', 'Dior', 'La_Mer'], 'Quantity': [344535335, 176666995, 199935925 , 71499900]}\n",
    "prices = {'Product': ['Nivea', 'Clinique', 'Dior', 'La_Mer'], 'price': [141, 80, 182 , 160]}"
   ]
  },
  {
   "cell_type": "code",
   "execution_count": null,
   "metadata": {
    "collapsed": true
   },
   "outputs": [],
   "source": []
  }
 ],
 "metadata": {
  "kernelspec": {
   "display_name": "Python 3",
   "language": "python",
   "name": "python3"
  },
  "language_info": {
   "codemirror_mode": {
    "name": "ipython",
    "version": 3
   },
   "file_extension": ".py",
   "mimetype": "text/x-python",
   "name": "python",
   "nbconvert_exporter": "python",
   "pygments_lexer": "ipython3",
   "version": "3.6.8"
  }
 },
 "nbformat": 4,
 "nbformat_minor": 2
}
